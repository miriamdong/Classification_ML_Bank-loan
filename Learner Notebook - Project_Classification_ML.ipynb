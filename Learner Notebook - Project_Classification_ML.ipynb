{
 "cells": [
  {
   "cell_type": "markdown",
   "id": "cea8023d",
   "metadata": {},
   "source": [
    "# Project: Classification - Hotel Booking Cancellation Prediction\n",
    "Welcome to the project on classification. We will use the INN Hotels dataset for this problem."
   ]
  },
  {
   "cell_type": "markdown",
   "id": "6fb5e8e9",
   "metadata": {
    "id": "dense-medicaid"
   },
   "source": [
    "## Context\n",
    "\n",
    "A significant number of hotel bookings are called off due to cancellations or no-shows. The typical reasons for cancellations include change of plans, scheduling conflicts, etc. This is often made easier by the option to do so free of charge or preferably at a low cost which is beneficial to hotel guests but it is a less desirable and possibly revenue-diminishing factor for hotels to deal with. Such losses are particularly high on last-minute cancellations.\n",
    "\n",
    "The new technologies involving online booking channels have dramatically changed customers' booking possibilities and behavior. This adds a further dimension to the challenge of how hotels handle cancellations, which are no longer limited to traditional booking and guest characteristics.\n",
    "\n",
    "The cancellation of bookings impact a hotel on various fronts:\n",
    "1. Loss of resources (revenue) when the hotel cannot resell the room.\n",
    "2. Additional costs of distribution channels by increasing commissions or paying for publicity to help sell these rooms.\n",
    "3. Lowering prices last minute, so the hotel can resell a room, resulting in reducing the profit margin.\n",
    "4. Human resources to make arrangements for the guests.\n",
    "\n",
    "## Objective\n",
    "\n",
    "The increasing number of cancellations calls for a Machine Learning based solution that can help in predicting which booking is likely to be canceled. INN Hotels Group has a chain of hotels in Portugal, they are facing problems with the high number of booking cancellations and have reached out to your firm for data-driven solutions. You as a data scientist have to analyze the data provided to find which factors have a high influence on booking cancellations, build a predictive model that can predict which booking is going to be canceled in advance, and help in formulating profitable policies for cancellations and refunds.\n",
    "\n",
    "\n",
   
  {
   "cell_type": "markdown",
   "id": "58b2b8e0",
   "metadata": {},
   "source": [
    "## Importing necessary libraries and overview of the dataset"
   ]
  },
  {
   "cell_type": "code",
   "execution_count": 1,
   "id": "dd9094a5",
   "metadata": {},
   "outputs": [],
   "source": [
    "import warnings\n",
    "warnings.filterwarnings(\"ignore\")\n",
    "\n",
    "import pandas as pd\n",
    "import numpy as np\n",
    "import matplotlib.pyplot as plt\n",
    "import seaborn as sns\n",
    "\n",
    "#To scale the data using z-score \n",
    "from sklearn.preprocessing import StandardScaler\n",
    "\n",
    "from sklearn.model_selection import train_test_split\n",
    "\n",
    "#Algorithms to use\n",
    "from sklearn.linear_model import LogisticRegression\n",
    "from sklearn.neighbors import KNeighborsClassifier\n",
    "\n",
    "#To tune the model\n",
    "from sklearn.model_selection import GridSearchCV\n",
    "\n",
    "#Metrics to evaluate the model\n",
    "from sklearn.metrics import confusion_matrix, classification_report, precision_recall_curve"
   ]
  },
  {
   "cell_type": "markdown",
   "id": "009910ad",
   "metadata": {
    "id": "fantastic-rebel"
   },
   "source": [
    "#### Loading data"
   ]
  },
  {
   "cell_type": "code",
   "execution_count": 2,
   "id": "de1d05fe",
   "metadata": {
    "id": "precious-leonard",
    "outputId": "0c8093b8-d38f-4732-b1eb-40c406b1e540"
   },
   "outputs": [],
   "source": [
    "hotel = pd.read_csv(\"INNHotelsGroup.csv\")"
   ]
  },
  {
   "cell_type": "code",
   "execution_count": 3,
   "id": "5b0cc64c",
   "metadata": {
    "id": "geographic-gender",
    "outputId": "e8974753-2ac4-4e98-89e4-be262d4eb21e"
   },
   "outputs": [],
   "source": [
    "# copying data to another variable to avoid any changes to original data\n",
    "data = hotel.copy()"
   ]
  },
  {
   "cell_type": "markdown",
   "id": "0db4ca66",
   "metadata": {
    "id": "convinced-blackberry"
   },
   "source": [
    "#### View the first and last 5 rows of the dataset"
   ]
  },
  {
   "cell_type": "code",
   "execution_count": 4,
   "id": "b0b7eeb5",
   "metadata": {
    "id": "tested-adjustment",
    "outputId": "5a49f79c-b530-49ec-aee1-b540342ffa6a"
   },
   "outputs": [
    {
     "data": {
      "text/html": [
       "<div>\n",
       "<style scoped>\n",
       "    .dataframe tbody tr th:only-of-type {\n",
       "        vertical-align: middle;\n",
       "    }\n",
       "\n",
       "    .dataframe tbody tr th {\n",
       "        vertical-align: top;\n",
       "    }\n",
       "\n",
       "    .dataframe thead th {\n",
       "        text-align: right;\n",
       "    }\n",
       "</style>\n",
       "<table border=\"1\" class=\"dataframe\">\n",
       "  <thead>\n",
       "    <tr style=\"text-align: right;\">\n",
       "      <th></th>\n",
       "      <th>Booking_ID</th>\n",
       "      <th>no_of_adults</th>\n",
       "      <th>no_of_children</th>\n",
       "      <th>no_of_weekend_nights</th>\n",
       "      <th>no_of_week_nights</th>\n",
       "      <th>type_of_meal_plan</th>\n",
       "      <th>required_car_parking_space</th>\n",
       "      <th>room_type_reserved</th>\n",
       "      <th>lead_time</th>\n",
       "      <th>arrival_year</th>\n",
       "      <th>arrival_month</th>\n",
       "      <th>arrival_date</th>\n",
       "      <th>market_segment_type</th>\n",
       "      <th>repeated_guest</th>\n",
       "      <th>no_of_previous_cancellations</th>\n",
       "      <th>no_of_previous_bookings_not_canceled</th>\n",
       "      <th>avg_price_per_room</th>\n",
       "      <th>no_of_special_requests</th>\n",
       "      <th>booking_status</th>\n",
       "    </tr>\n",
       "  </thead>\n",
       "  <tbody>\n",
       "    <tr>\n",
       "      <th>0</th>\n",
       "      <td>INN00001</td>\n",
       "      <td>2</td>\n",
       "      <td>0</td>\n",
       "      <td>1</td>\n",
       "      <td>2</td>\n",
       "      <td>Meal Plan 1</td>\n",
       "      <td>0</td>\n",
       "      <td>Room_Type 1</td>\n",
       "      <td>224</td>\n",
       "      <td>2017</td>\n",
       "      <td>10</td>\n",
       "      <td>2</td>\n",
       "      <td>Offline</td>\n",
       "      <td>0</td>\n",
       "      <td>0</td>\n",
       "      <td>0</td>\n",
       "      <td>65.00</td>\n",
       "      <td>0</td>\n",
       "      <td>Not_Canceled</td>\n",
       "    </tr>\n",
       "    <tr>\n",
       "      <th>1</th>\n",
       "      <td>INN00002</td>\n",
       "      <td>2</td>\n",
       "      <td>0</td>\n",
       "      <td>2</td>\n",
       "      <td>3</td>\n",
       "      <td>Not Selected</td>\n",
       "      <td>0</td>\n",
       "      <td>Room_Type 1</td>\n",
       "      <td>5</td>\n",
       "      <td>2018</td>\n",
       "      <td>11</td>\n",
       "      <td>6</td>\n",
       "      <td>Online</td>\n",
       "      <td>0</td>\n",
       "      <td>0</td>\n",
       "      <td>0</td>\n",
       "      <td>106.68</td>\n",
       "      <td>1</td>\n",
       "      <td>Not_Canceled</td>\n",
       "    </tr>\n",
       "    <tr>\n",
       "      <th>2</th>\n",
       "      <td>INN00003</td>\n",
       "      <td>1</td>\n",
       "      <td>0</td>\n",
       "      <td>2</td>\n",
       "      <td>1</td>\n",
       "      <td>Meal Plan 1</td>\n",
       "      <td>0</td>\n",
       "      <td>Room_Type 1</td>\n",
       "      <td>1</td>\n",
       "      <td>2018</td>\n",
       "      <td>2</td>\n",
       "      <td>28</td>\n",
       "      <td>Online</td>\n",
       "      <td>0</td>\n",
       "      <td>0</td>\n",
       "      <td>0</td>\n",
       "      <td>60.00</td>\n",
       "      <td>0</td>\n",
       "      <td>Canceled</td>\n",
       "    </tr>\n",
       "    <tr>\n",
       "      <th>3</th>\n",
       "      <td>INN00004</td>\n",
       "      <td>2</td>\n",
       "      <td>0</td>\n",
       "      <td>0</td>\n",
       "      <td>2</td>\n",
       "      <td>Meal Plan 1</td>\n",
       "      <td>0</td>\n",
       "      <td>Room_Type 1</td>\n",
       "      <td>211</td>\n",
       "      <td>2018</td>\n",
       "      <td>5</td>\n",
       "      <td>20</td>\n",
       "      <td>Online</td>\n",
       "      <td>0</td>\n",
       "      <td>0</td>\n",
       "      <td>0</td>\n",
       "      <td>100.00</td>\n",
       "      <td>0</td>\n",
       "      <td>Canceled</td>\n",
       "    </tr>\n",
       "    <tr>\n",
       "      <th>4</th>\n",
       "      <td>INN00005</td>\n",
       "      <td>2</td>\n",
       "      <td>0</td>\n",
       "      <td>1</td>\n",
       "      <td>1</td>\n",
       "      <td>Not Selected</td>\n",
       "      <td>0</td>\n",
       "      <td>Room_Type 1</td>\n",
       "      <td>48</td>\n",
       "      <td>2018</td>\n",
       "      <td>4</td>\n",
       "      <td>11</td>\n",
       "      <td>Online</td>\n",
       "      <td>0</td>\n",
       "      <td>0</td>\n",
       "      <td>0</td>\n",
       "      <td>94.50</td>\n",
       "      <td>0</td>\n",
       "      <td>Canceled</td>\n",
       "    </tr>\n",
       "  </tbody>\n",
       "</table>\n",
       "</div>"
      ],
      "text/plain": [
       "  Booking_ID  no_of_adults  no_of_children  no_of_weekend_nights  \\\n",
       "0   INN00001             2               0                     1   \n",
       "1   INN00002             2               0                     2   \n",
       "2   INN00003             1               0                     2   \n",
       "3   INN00004             2               0                     0   \n",
       "4   INN00005             2               0                     1   \n",
       "\n",
       "   no_of_week_nights type_of_meal_plan  required_car_parking_space  \\\n",
       "0                  2       Meal Plan 1                           0   \n",
       "1                  3      Not Selected                           0   \n",
       "2                  1       Meal Plan 1                           0   \n",
       "3                  2       Meal Plan 1                           0   \n",
       "4                  1      Not Selected                           0   \n",
       "\n",
       "  room_type_reserved  lead_time  arrival_year  arrival_month  arrival_date  \\\n",
       "0        Room_Type 1        224          2017             10             2   \n",
       "1        Room_Type 1          5          2018             11             6   \n",
       "2        Room_Type 1          1          2018              2            28   \n",
       "3        Room_Type 1        211          2018              5            20   \n",
       "4        Room_Type 1         48          2018              4            11   \n",
       "\n",
       "  market_segment_type  repeated_guest  no_of_previous_cancellations  \\\n",
       "0             Offline               0                             0   \n",
       "1              Online               0                             0   \n",
       "2              Online               0                             0   \n",
       "3              Online               0                             0   \n",
       "4              Online               0                             0   \n",
       "\n",
       "   no_of_previous_bookings_not_canceled  avg_price_per_room  \\\n",
       "0                                     0               65.00   \n",
       "1                                     0              106.68   \n",
       "2                                     0               60.00   \n",
       "3                                     0              100.00   \n",
       "4                                     0               94.50   \n",
       "\n",
       "   no_of_special_requests booking_status  \n",
       "0                       0   Not_Canceled  \n",
       "1                       1   Not_Canceled  \n",
       "2                       0       Canceled  \n",
       "3                       0       Canceled  \n",
       "4                       0       Canceled  "
      ]
     },
     "execution_count": 4,
     "metadata": {},
     "output_type": "execute_result"
    }
   ],
   "source": [
    "data.head()"
   ]
  },
  {
   "cell_type": "code",
   "execution_count": 5,
   "id": "b9d99b0c",
   "metadata": {
    "id": "demonstrated-charger",
    "outputId": "0771f554-108a-4473-c622-8135ad412e3f"
   },
   "outputs": [
    {
     "data": {
      "text/html": [
       "<div>\n",
       "<style scoped>\n",
       "    .dataframe tbody tr th:only-of-type {\n",
       "        vertical-align: middle;\n",
       "    }\n",
       "\n",
       "    .dataframe tbody tr th {\n",
       "        vertical-align: top;\n",
       "    }\n",
       "\n",
       "    .dataframe thead th {\n",
       "        text-align: right;\n",
       "    }\n",
       "</style>\n",
       "<table border=\"1\" class=\"dataframe\">\n",
       "  <thead>\n",
       "    <tr style=\"text-align: right;\">\n",
       "      <th></th>\n",
       "      <th>Booking_ID</th>\n",
       "      <th>no_of_adults</th>\n",
       "      <th>no_of_children</th>\n",
       "      <th>no_of_weekend_nights</th>\n",
       "      <th>no_of_week_nights</th>\n",
       "      <th>type_of_meal_plan</th>\n",
       "      <th>required_car_parking_space</th>\n",
       "      <th>room_type_reserved</th>\n",
       "      <th>lead_time</th>\n",
       "      <th>arrival_year</th>\n",
       "      <th>arrival_month</th>\n",
       "      <th>arrival_date</th>\n",
       "      <th>market_segment_type</th>\n",
       "      <th>repeated_guest</th>\n",
       "      <th>no_of_previous_cancellations</th>\n",
       "      <th>no_of_previous_bookings_not_canceled</th>\n",
       "      <th>avg_price_per_room</th>\n",
       "      <th>no_of_special_requests</th>\n",
       "      <th>booking_status</th>\n",
       "    </tr>\n",
       "  </thead>\n",
       "  <tbody>\n",
       "    <tr>\n",
       "      <th>36270</th>\n",
       "      <td>INN36271</td>\n",
       "      <td>3</td>\n",
       "      <td>0</td>\n",
       "      <td>2</td>\n",
       "      <td>6</td>\n",
       "      <td>Meal Plan 1</td>\n",
       "      <td>0</td>\n",
       "      <td>Room_Type 4</td>\n",
       "      <td>85</td>\n",
       "      <td>2018</td>\n",
       "      <td>8</td>\n",
       "      <td>3</td>\n",
       "      <td>Online</td>\n",
       "      <td>0</td>\n",
       "      <td>0</td>\n",
       "      <td>0</td>\n",
       "      <td>167.80</td>\n",
       "      <td>1</td>\n",
       "      <td>Not_Canceled</td>\n",
       "    </tr>\n",
       "    <tr>\n",
       "      <th>36271</th>\n",
       "      <td>INN36272</td>\n",
       "      <td>2</td>\n",
       "      <td>0</td>\n",
       "      <td>1</td>\n",
       "      <td>3</td>\n",
       "      <td>Meal Plan 1</td>\n",
       "      <td>0</td>\n",
       "      <td>Room_Type 1</td>\n",
       "      <td>228</td>\n",
       "      <td>2018</td>\n",
       "      <td>10</td>\n",
       "      <td>17</td>\n",
       "      <td>Online</td>\n",
       "      <td>0</td>\n",
       "      <td>0</td>\n",
       "      <td>0</td>\n",
       "      <td>90.95</td>\n",
       "      <td>2</td>\n",
       "      <td>Canceled</td>\n",
       "    </tr>\n",
       "    <tr>\n",
       "      <th>36272</th>\n",
       "      <td>INN36273</td>\n",
       "      <td>2</td>\n",
       "      <td>0</td>\n",
       "      <td>2</td>\n",
       "      <td>6</td>\n",
       "      <td>Meal Plan 1</td>\n",
       "      <td>0</td>\n",
       "      <td>Room_Type 1</td>\n",
       "      <td>148</td>\n",
       "      <td>2018</td>\n",
       "      <td>7</td>\n",
       "      <td>1</td>\n",
       "      <td>Online</td>\n",
       "      <td>0</td>\n",
       "      <td>0</td>\n",
       "      <td>0</td>\n",
       "      <td>98.39</td>\n",
       "      <td>2</td>\n",
       "      <td>Not_Canceled</td>\n",
       "    </tr>\n",
       "    <tr>\n",
       "      <th>36273</th>\n",
       "      <td>INN36274</td>\n",
       "      <td>2</td>\n",
       "      <td>0</td>\n",
       "      <td>0</td>\n",
       "      <td>3</td>\n",
       "      <td>Not Selected</td>\n",
       "      <td>0</td>\n",
       "      <td>Room_Type 1</td>\n",
       "      <td>63</td>\n",
       "      <td>2018</td>\n",
       "      <td>4</td>\n",
       "      <td>21</td>\n",
       "      <td>Online</td>\n",
       "      <td>0</td>\n",
       "      <td>0</td>\n",
       "      <td>0</td>\n",
       "      <td>94.50</td>\n",
       "      <td>0</td>\n",
       "      <td>Canceled</td>\n",
       "    </tr>\n",
       "    <tr>\n",
       "      <th>36274</th>\n",
       "      <td>INN36275</td>\n",
       "      <td>2</td>\n",
       "      <td>0</td>\n",
       "      <td>1</td>\n",
       "      <td>2</td>\n",
       "      <td>Meal Plan 1</td>\n",
       "      <td>0</td>\n",
       "      <td>Room_Type 1</td>\n",
       "      <td>207</td>\n",
       "      <td>2018</td>\n",
       "      <td>12</td>\n",
       "      <td>30</td>\n",
       "      <td>Offline</td>\n",
       "      <td>0</td>\n",
       "      <td>0</td>\n",
       "      <td>0</td>\n",
       "      <td>161.67</td>\n",
       "      <td>0</td>\n",
       "      <td>Not_Canceled</td>\n",
       "    </tr>\n",
       "  </tbody>\n",
       "</table>\n",
       "</div>"
      ],
      "text/plain": [
       "      Booking_ID  no_of_adults  no_of_children  no_of_weekend_nights  \\\n",
       "36270   INN36271             3               0                     2   \n",
       "36271   INN36272             2               0                     1   \n",
       "36272   INN36273             2               0                     2   \n",
       "36273   INN36274             2               0                     0   \n",
       "36274   INN36275             2               0                     1   \n",
       "\n",
       "       no_of_week_nights type_of_meal_plan  required_car_parking_space  \\\n",
       "36270                  6       Meal Plan 1                           0   \n",
       "36271                  3       Meal Plan 1                           0   \n",
       "36272                  6       Meal Plan 1                           0   \n",
       "36273                  3      Not Selected                           0   \n",
       "36274                  2       Meal Plan 1                           0   \n",
       "\n",
       "      room_type_reserved  lead_time  arrival_year  arrival_month  \\\n",
       "36270        Room_Type 4         85          2018              8   \n",
       "36271        Room_Type 1        228          2018             10   \n",
       "36272        Room_Type 1        148          2018              7   \n",
       "36273        Room_Type 1         63          2018              4   \n",
       "36274        Room_Type 1        207          2018             12   \n",
       "\n",
       "       arrival_date market_segment_type  repeated_guest  \\\n",
       "36270             3              Online               0   \n",
       "36271            17              Online               0   \n",
       "36272             1              Online               0   \n",
       "36273            21              Online               0   \n",
       "36274            30             Offline               0   \n",
       "\n",
       "       no_of_previous_cancellations  no_of_previous_bookings_not_canceled  \\\n",
       "36270                             0                                     0   \n",
       "36271                             0                                     0   \n",
       "36272                             0                                     0   \n",
       "36273                             0                                     0   \n",
       "36274                             0                                     0   \n",
       "\n",
       "       avg_price_per_room  no_of_special_requests booking_status  \n",
       "36270              167.80                       1   Not_Canceled  \n",
       "36271               90.95                       2       Canceled  \n",
       "36272               98.39                       2   Not_Canceled  \n",
       "36273               94.50                       0       Canceled  \n",
       "36274              161.67                       0   Not_Canceled  "
      ]
     },
     "execution_count": 5,
     "metadata": {},
     "output_type": "execute_result"
    }
   ],
   "source": [
    "data.tail()"
   ]
  },
  {
   "cell_type": "markdown",
   "id": "f3378752",
   "metadata": {
    "id": "creative-warner"
   },
   "source": [
    "#### Check the info of the data"
   ]
  },
  {
   "cell_type": "code",
   "execution_count": 6,
   "id": "9cfc1d5d",
   "metadata": {
    "id": "expanded-technique",
    "outputId": "a96250c8-79f8-4a28-d671-5849b398180a"
   },
   "outputs": [
    {
     "name": "stdout",
     "output_type": "stream",
     "text": [
      "<class 'pandas.core.frame.DataFrame'>\n",
      "RangeIndex: 36275 entries, 0 to 36274\n",
      "Data columns (total 19 columns):\n",
      " #   Column                                Non-Null Count  Dtype  \n",
      "---  ------                                --------------  -----  \n",
      " 0   Booking_ID                            36275 non-null  object \n",
      " 1   no_of_adults                          36275 non-null  int64  \n",
      " 2   no_of_children                        36275 non-null  int64  \n",
      " 3   no_of_weekend_nights                  36275 non-null  int64  \n",
      " 4   no_of_week_nights                     36275 non-null  int64  \n",
      " 5   type_of_meal_plan                     36275 non-null  object \n",
      " 6   required_car_parking_space            36275 non-null  int64  \n",
      " 7   room_type_reserved                    36275 non-null  object \n",
      " 8   lead_time                             36275 non-null  int64  \n",
      " 9   arrival_year                          36275 non-null  int64  \n",
      " 10  arrival_month                         36275 non-null  int64  \n",
      " 11  arrival_date                          36275 non-null  int64  \n",
      " 12  market_segment_type                   36275 non-null  object \n",
      " 13  repeated_guest                        36275 non-null  int64  \n",
      " 14  no_of_previous_cancellations          36275 non-null  int64  \n",
      " 15  no_of_previous_bookings_not_canceled  36275 non-null  int64  \n",
      " 16  avg_price_per_room                    36275 non-null  float64\n",
      " 17  no_of_special_requests                36275 non-null  int64  \n",
      " 18  booking_status                        36275 non-null  object \n",
      "dtypes: float64(1), int64(13), object(5)\n",
      "memory usage: 5.3+ MB\n"
     ]
    }
   ],
   "source": [
    "data.info()"
   ]
  },
  {
   "cell_type": "markdown",
   "id": "2d334b40",
   "metadata": {
    "id": "august-hopkins"
   },
   "source": [
    "* The dataset has **36,275 rows and 19 columns**. \n",
    "\n",
    "* `Booking_ID`, `type_of_meal_plan`, `room_type_reserved`, `market_segment_type`, and `booking_status` are of **object type** while rest columns are numeric in nature.\n",
    "\n",
    "* There are **no null values** in the dataset.\n",
    "\n",
    "* **Booking_ID column is an identifier**. Let's check if each entry of the column is unique."
   ]
  },
  {
   "cell_type": "code",
   "execution_count": 7,
   "id": "effed120",
   "metadata": {},
   "outputs": [
    {
     "data": {
      "text/plain": [
       "36275"
      ]
     },
     "execution_count": 7,
     "metadata": {},
     "output_type": "execute_result"
    }
   ],
   "source": [
    "data.Booking_ID.nunique()"
   ]
  },
  {
   "cell_type": "markdown",
   "id": "092903d1",
   "metadata": {},
   "source": [
    "**Observations:**\n",
    "- We can see that **all the entries of this column are unique**. Hence, this column would not add any value to our analysis. \n",
    "- Let's drop this column."
   ]
  },
  {
   "cell_type": "markdown",
   "id": "c226bd34",
   "metadata": {},
   "source": [
    "#### Dropping the Booking_ID column"
   ]
  },
  {
   "cell_type": "code",
   "execution_count": 8,
   "id": "61452519",
   "metadata": {
    "id": "referenced-architect",
    "outputId": "eb67111f-ebae-433c-fc96-f7aeba9c1826"
   },
   "outputs": [],
   "source": [
    "data = data.drop([\"Booking_ID\"], axis=1)"
   ]
  },
  {
   "cell_type": "code",
   "execution_count": 9,
   "id": "d36be3df",
   "metadata": {},
   "outputs": [
    {
     "data": {
      "text/html": [
       "<div>\n",
       "<style scoped>\n",
       "    .dataframe tbody tr th:only-of-type {\n",
       "        vertical-align: middle;\n",
       "    }\n",
       "\n",
       "    .dataframe tbody tr th {\n",
       "        vertical-align: top;\n",
       "    }\n",
       "\n",
       "    .dataframe thead th {\n",
       "        text-align: right;\n",
       "    }\n",
       "</style>\n",
       "<table border=\"1\" class=\"dataframe\">\n",
       "  <thead>\n",
       "    <tr style=\"text-align: right;\">\n",
       "      <th></th>\n",
       "      <th>no_of_adults</th>\n",
       "      <th>no_of_children</th>\n",
       "      <th>no_of_weekend_nights</th>\n",
       "      <th>no_of_week_nights</th>\n",
       "      <th>type_of_meal_plan</th>\n",
       "      <th>required_car_parking_space</th>\n",
       "      <th>room_type_reserved</th>\n",
       "      <th>lead_time</th>\n",
       "      <th>arrival_year</th>\n",
       "      <th>arrival_month</th>\n",
       "      <th>arrival_date</th>\n",
       "      <th>market_segment_type</th>\n",
       "      <th>repeated_guest</th>\n",
       "      <th>no_of_previous_cancellations</th>\n",
       "      <th>no_of_previous_bookings_not_canceled</th>\n",
       "      <th>avg_price_per_room</th>\n",
       "      <th>no_of_special_requests</th>\n",
       "      <th>booking_status</th>\n",
       "    </tr>\n",
       "  </thead>\n",
       "  <tbody>\n",
       "    <tr>\n",
       "      <th>0</th>\n",
       "      <td>2</td>\n",
       "      <td>0</td>\n",
       "      <td>1</td>\n",
       "      <td>2</td>\n",
       "      <td>Meal Plan 1</td>\n",
       "      <td>0</td>\n",
       "      <td>Room_Type 1</td>\n",
       "      <td>224</td>\n",
       "      <td>2017</td>\n",
       "      <td>10</td>\n",
       "      <td>2</td>\n",
       "      <td>Offline</td>\n",
       "      <td>0</td>\n",
       "      <td>0</td>\n",
       "      <td>0</td>\n",
       "      <td>65.00</td>\n",
       "      <td>0</td>\n",
       "      <td>Not_Canceled</td>\n",
       "    </tr>\n",
       "    <tr>\n",
       "      <th>1</th>\n",
       "      <td>2</td>\n",
       "      <td>0</td>\n",
       "      <td>2</td>\n",
       "      <td>3</td>\n",
       "      <td>Not Selected</td>\n",
       "      <td>0</td>\n",
       "      <td>Room_Type 1</td>\n",
       "      <td>5</td>\n",
       "      <td>2018</td>\n",
       "      <td>11</td>\n",
       "      <td>6</td>\n",
       "      <td>Online</td>\n",
       "      <td>0</td>\n",
       "      <td>0</td>\n",
       "      <td>0</td>\n",
       "      <td>106.68</td>\n",
       "      <td>1</td>\n",
       "      <td>Not_Canceled</td>\n",
       "    </tr>\n",
       "    <tr>\n",
       "      <th>2</th>\n",
       "      <td>1</td>\n",
       "      <td>0</td>\n",
       "      <td>2</td>\n",
       "      <td>1</td>\n",
       "      <td>Meal Plan 1</td>\n",
       "      <td>0</td>\n",
       "      <td>Room_Type 1</td>\n",
       "      <td>1</td>\n",
       "      <td>2018</td>\n",
       "      <td>2</td>\n",
       "      <td>28</td>\n",
       "      <td>Online</td>\n",
       "      <td>0</td>\n",
       "      <td>0</td>\n",
       "      <td>0</td>\n",
       "      <td>60.00</td>\n",
       "      <td>0</td>\n",
       "      <td>Canceled</td>\n",
       "    </tr>\n",
       "    <tr>\n",
       "      <th>3</th>\n",
       "      <td>2</td>\n",
       "      <td>0</td>\n",
       "      <td>0</td>\n",
       "      <td>2</td>\n",
       "      <td>Meal Plan 1</td>\n",
       "      <td>0</td>\n",
       "      <td>Room_Type 1</td>\n",
       "      <td>211</td>\n",
       "      <td>2018</td>\n",
       "      <td>5</td>\n",
       "      <td>20</td>\n",
       "      <td>Online</td>\n",
       "      <td>0</td>\n",
       "      <td>0</td>\n",
       "      <td>0</td>\n",
       "      <td>100.00</td>\n",
       "      <td>0</td>\n",
       "      <td>Canceled</td>\n",
       "    </tr>\n",
       "    <tr>\n",
       "      <th>4</th>\n",
       "      <td>2</td>\n",
       "      <td>0</td>\n",
       "      <td>1</td>\n",
       "      <td>1</td>\n",
       "      <td>Not Selected</td>\n",
       "      <td>0</td>\n",
       "      <td>Room_Type 1</td>\n",
       "      <td>48</td>\n",
       "      <td>2018</td>\n",
       "      <td>4</td>\n",
       "      <td>11</td>\n",
       "      <td>Online</td>\n",
       "      <td>0</td>\n",
       "      <td>0</td>\n",
       "      <td>0</td>\n",
       "      <td>94.50</td>\n",
       "      <td>0</td>\n",
       "      <td>Canceled</td>\n",
       "    </tr>\n",
       "  </tbody>\n",
       "</table>\n",
       "</div>"
      ],
      "text/plain": [
       "   no_of_adults  no_of_children  no_of_weekend_nights  no_of_week_nights  \\\n",
       "0             2               0                     1                  2   \n",
       "1             2               0                     2                  3   \n",
       "2             1               0                     2                  1   \n",
       "3             2               0                     0                  2   \n",
       "4             2               0                     1                  1   \n",
       "\n",
       "  type_of_meal_plan  required_car_parking_space room_type_reserved  lead_time  \\\n",
       "0       Meal Plan 1                           0        Room_Type 1        224   \n",
       "1      Not Selected                           0        Room_Type 1          5   \n",
       "2       Meal Plan 1                           0        Room_Type 1          1   \n",
       "3       Meal Plan 1                           0        Room_Type 1        211   \n",
       "4      Not Selected                           0        Room_Type 1         48   \n",
       "\n",
       "   arrival_year  arrival_month  arrival_date market_segment_type  \\\n",
       "0          2017             10             2             Offline   \n",
       "1          2018             11             6              Online   \n",
       "2          2018              2            28              Online   \n",
       "3          2018              5            20              Online   \n",
       "4          2018              4            11              Online   \n",
       "\n",
       "   repeated_guest  no_of_previous_cancellations  \\\n",
       "0               0                             0   \n",
       "1               0                             0   \n",
       "2               0                             0   \n",
       "3               0                             0   \n",
       "4               0                             0   \n",
       "\n",
       "   no_of_previous_bookings_not_canceled  avg_price_per_room  \\\n",
       "0                                     0               65.00   \n",
       "1                                     0              106.68   \n",
       "2                                     0               60.00   \n",
       "3                                     0              100.00   \n",
       "4                                     0               94.50   \n",
       "\n",
       "   no_of_special_requests booking_status  \n",
       "0                       0   Not_Canceled  \n",
       "1                       1   Not_Canceled  \n",
       "2                       0       Canceled  \n",
       "3                       0       Canceled  \n",
       "4                       0       Canceled  "
      ]
     },
     "execution_count": 9,
     "metadata": {},
     "output_type": "execute_result"
    }
   ],
   "source": [
    "data.head()"
   ]
  },
  {
   "cell_type": "markdown",
   "id": "930da7ea",
   "metadata": {
    "id": "realistic-mortgage"
   },
   "source": [
    "## Exploratory Data Analysis"
   ]
  },
  {
   "cell_type": "markdown",
   "id": "0e1ccf91",
   "metadata": {
    "id": "seeing-newman"
   },
   "source": [
    "#### Summary Statistics for numerical columns"
   ]
  },
  {
   "cell_type": "markdown",
   "id": "f2311426",
   "metadata": {},
   "source": [
    "#### Question 1: Write the observations from the below summary statistics (2 Marks)"
   ]
  },
  {
   "cell_type": "code",
   "execution_count": 10,
   "id": "5cfa19c3",
   "metadata": {},
   "outputs": [
    {
     "data": {
      "text/html": [
       "<div>\n",
       "<style scoped>\n",
       "    .dataframe tbody tr th:only-of-type {\n",
       "        vertical-align: middle;\n",
       "    }\n",
       "\n",
       "    .dataframe tbody tr th {\n",
       "        vertical-align: top;\n",
       "    }\n",
       "\n",
       "    .dataframe thead th {\n",
       "        text-align: right;\n",
       "    }\n",
       "</style>\n",
       "<table border=\"1\" class=\"dataframe\">\n",
       "  <thead>\n",
       "    <tr style=\"text-align: right;\">\n",
       "      <th></th>\n",
       "      <th>count</th>\n",
       "      <th>mean</th>\n",
       "      <th>std</th>\n",
       "      <th>min</th>\n",
       "      <th>25%</th>\n",
       "      <th>50%</th>\n",
       "      <th>75%</th>\n",
       "      <th>max</th>\n",
       "    </tr>\n",
       "  </thead>\n",
       "  <tbody>\n",
       "    <tr>\n",
       "      <th>no_of_adults</th>\n",
       "      <td>36275.0</td>\n",
       "      <td>1.844962</td>\n",
       "      <td>0.518715</td>\n",
       "      <td>0.0</td>\n",
       "      <td>2.0</td>\n",
       "      <td>2.00</td>\n",
       "      <td>2.0</td>\n",
       "      <td>4.0</td>\n",
       "    </tr>\n",
       "    <tr>\n",
       "      <th>no_of_children</th>\n",
       "      <td>36275.0</td>\n",
       "      <td>0.105279</td>\n",
       "      <td>0.402648</td>\n",
       "      <td>0.0</td>\n",
       "      <td>0.0</td>\n",
       "      <td>0.00</td>\n",
       "      <td>0.0</td>\n",
       "      <td>10.0</td>\n",
       "    </tr>\n",
       "    <tr>\n",
       "      <th>no_of_weekend_nights</th>\n",
       "      <td>36275.0</td>\n",
       "      <td>0.810724</td>\n",
       "      <td>0.870644</td>\n",
       "      <td>0.0</td>\n",
       "      <td>0.0</td>\n",
       "      <td>1.00</td>\n",
       "      <td>2.0</td>\n",
       "      <td>7.0</td>\n",
       "    </tr>\n",
       "    <tr>\n",
       "      <th>no_of_week_nights</th>\n",
       "      <td>36275.0</td>\n",
       "      <td>2.204300</td>\n",
       "      <td>1.410905</td>\n",
       "      <td>0.0</td>\n",
       "      <td>1.0</td>\n",
       "      <td>2.00</td>\n",
       "      <td>3.0</td>\n",
       "      <td>17.0</td>\n",
       "    </tr>\n",
       "    <tr>\n",
       "      <th>required_car_parking_space</th>\n",
       "      <td>36275.0</td>\n",
       "      <td>0.030986</td>\n",
       "      <td>0.173281</td>\n",
       "      <td>0.0</td>\n",
       "      <td>0.0</td>\n",
       "      <td>0.00</td>\n",
       "      <td>0.0</td>\n",
       "      <td>1.0</td>\n",
       "    </tr>\n",
       "    <tr>\n",
       "      <th>lead_time</th>\n",
       "      <td>36275.0</td>\n",
       "      <td>85.232557</td>\n",
       "      <td>85.930817</td>\n",
       "      <td>0.0</td>\n",
       "      <td>17.0</td>\n",
       "      <td>57.00</td>\n",
       "      <td>126.0</td>\n",
       "      <td>443.0</td>\n",
       "    </tr>\n",
       "    <tr>\n",
       "      <th>arrival_year</th>\n",
       "      <td>36275.0</td>\n",
       "      <td>2017.820427</td>\n",
       "      <td>0.383836</td>\n",
       "      <td>2017.0</td>\n",
       "      <td>2018.0</td>\n",
       "      <td>2018.00</td>\n",
       "      <td>2018.0</td>\n",
       "      <td>2018.0</td>\n",
       "    </tr>\n",
       "    <tr>\n",
       "      <th>arrival_month</th>\n",
       "      <td>36275.0</td>\n",
       "      <td>7.423653</td>\n",
       "      <td>3.069894</td>\n",
       "      <td>1.0</td>\n",
       "      <td>5.0</td>\n",
       "      <td>8.00</td>\n",
       "      <td>10.0</td>\n",
       "      <td>12.0</td>\n",
       "    </tr>\n",
       "    <tr>\n",
       "      <th>arrival_date</th>\n",
       "      <td>36275.0</td>\n",
       "      <td>15.596995</td>\n",
       "      <td>8.740447</td>\n",
       "      <td>1.0</td>\n",
       "      <td>8.0</td>\n",
       "      <td>16.00</td>\n",
       "      <td>23.0</td>\n",
       "      <td>31.0</td>\n",
       "    </tr>\n",
       "    <tr>\n",
       "      <th>repeated_guest</th>\n",
       "      <td>36275.0</td>\n",
       "      <td>0.025637</td>\n",
       "      <td>0.158053</td>\n",
       "      <td>0.0</td>\n",
       "      <td>0.0</td>\n",
       "      <td>0.00</td>\n",
       "      <td>0.0</td>\n",
       "      <td>1.0</td>\n",
       "    </tr>\n",
       "    <tr>\n",
       "      <th>no_of_previous_cancellations</th>\n",
       "      <td>36275.0</td>\n",
       "      <td>0.023349</td>\n",
       "      <td>0.368331</td>\n",
       "      <td>0.0</td>\n",
       "      <td>0.0</td>\n",
       "      <td>0.00</td>\n",
       "      <td>0.0</td>\n",
       "      <td>13.0</td>\n",
       "    </tr>\n",
       "    <tr>\n",
       "      <th>no_of_previous_bookings_not_canceled</th>\n",
       "      <td>36275.0</td>\n",
       "      <td>0.153411</td>\n",
       "      <td>1.754171</td>\n",
       "      <td>0.0</td>\n",
       "      <td>0.0</td>\n",
       "      <td>0.00</td>\n",
       "      <td>0.0</td>\n",
       "      <td>58.0</td>\n",
       "    </tr>\n",
       "    <tr>\n",
       "      <th>avg_price_per_room</th>\n",
       "      <td>36275.0</td>\n",
       "      <td>103.423539</td>\n",
       "      <td>35.089424</td>\n",
       "      <td>0.0</td>\n",
       "      <td>80.3</td>\n",
       "      <td>99.45</td>\n",
       "      <td>120.0</td>\n",
       "      <td>540.0</td>\n",
       "    </tr>\n",
       "    <tr>\n",
       "      <th>no_of_special_requests</th>\n",
       "      <td>36275.0</td>\n",
       "      <td>0.619655</td>\n",
       "      <td>0.786236</td>\n",
       "      <td>0.0</td>\n",
       "      <td>0.0</td>\n",
       "      <td>0.00</td>\n",
       "      <td>1.0</td>\n",
       "      <td>5.0</td>\n",
       "    </tr>\n",
       "  </tbody>\n",
       "</table>\n",
       "</div>"
      ],
      "text/plain": [
       "                                        count         mean        std     min  \\\n",
       "no_of_adults                          36275.0     1.844962   0.518715     0.0   \n",
       "no_of_children                        36275.0     0.105279   0.402648     0.0   \n",
       "no_of_weekend_nights                  36275.0     0.810724   0.870644     0.0   \n",
       "no_of_week_nights                     36275.0     2.204300   1.410905     0.0   \n",
       "required_car_parking_space            36275.0     0.030986   0.173281     0.0   \n",
       "lead_time                             36275.0    85.232557  85.930817     0.0   \n",
       "arrival_year                          36275.0  2017.820427   0.383836  2017.0   \n",
       "arrival_month                         36275.0     7.423653   3.069894     1.0   \n",
       "arrival_date                          36275.0    15.596995   8.740447     1.0   \n",
       "repeated_guest                        36275.0     0.025637   0.158053     0.0   \n",
       "no_of_previous_cancellations          36275.0     0.023349   0.368331     0.0   \n",
       "no_of_previous_bookings_not_canceled  36275.0     0.153411   1.754171     0.0   \n",
       "avg_price_per_room                    36275.0   103.423539  35.089424     0.0   \n",
       "no_of_special_requests                36275.0     0.619655   0.786236     0.0   \n",
       "\n",
       "                                         25%      50%     75%     max  \n",
       "no_of_adults                             2.0     2.00     2.0     4.0  \n",
       "no_of_children                           0.0     0.00     0.0    10.0  \n",
       "no_of_weekend_nights                     0.0     1.00     2.0     7.0  \n",
       "no_of_week_nights                        1.0     2.00     3.0    17.0  \n",
       "required_car_parking_space               0.0     0.00     0.0     1.0  \n",
       "lead_time                               17.0    57.00   126.0   443.0  \n",
       "arrival_year                          2018.0  2018.00  2018.0  2018.0  \n",
       "arrival_month                            5.0     8.00    10.0    12.0  \n",
       "arrival_date                             8.0    16.00    23.0    31.0  \n",
       "repeated_guest                           0.0     0.00     0.0     1.0  \n",
       "no_of_previous_cancellations             0.0     0.00     0.0    13.0  \n",
       "no_of_previous_bookings_not_canceled     0.0     0.00     0.0    58.0  \n",
       "avg_price_per_room                      80.3    99.45   120.0   540.0  \n",
       "no_of_special_requests                   0.0     0.00     1.0     5.0  "
      ]
     },
     "execution_count": 10,
     "metadata": {},
     "output_type": "execute_result"
    }
   ],
   "source": [
    "#Selecting numerical columns and checking summary statistics\n",
    "num_cols = data.select_dtypes('number').columns\n",
    "\n",
    "data[num_cols].describe().T"
   ]
  },
  {
   "cell_type": "markdown",
   "id": "f7f21619",
   "metadata": {},
   "source": [
    "**Observations:\n",
    "\n",
    "1. Average number of adults is around 2 and average number of children is 1. There is a big difference between the 3rd quartile value of number of children (0) and the maximum value of 10, means they are outliners. \n",
    "\n",
    "2. The average required car parking space is ~0.03, so most customers don't require parking space.\n",
    "\n",
    "3. There are very few repeated guest; as a result, number of previous cancellations and number of previous bookings not canceled are concentrated in the top 25%.\n",
    "\n",
    "4. Average previous bookings not canceled is ~0.15 and average number of previous cancellations is ~0.02. \n",
    "\n",
    "5. The average lead time is ~85 days indicates with the maximum of 443 days means there are outliers.\n",
    "\n",
    "6. The average number of special requests related to additional interest in the booking which is less than one. \n",
    "\n",
    "7. The average price per room is ~103 which minimum of 0, means some rooms are complimentary. \n",
    "\n",
    "8. There is a big difference between the 3rd quartile value of number of week nights (3) and the maximum value of 17, and average price per room form 120 to 540.\n",
    "\n",
    "9. On average, the number of weekend nights is ~0.87\n",
    "\n",
    "**"
   ]
  },
  {
   "cell_type": "code",
   "execution_count": 11,
   "id": "1934fea7",
   "metadata": {},
   "outputs": [
    {
     "data": {
      "text/html": [
       "<div>\n",
       "<style scoped>\n",
       "    .dataframe tbody tr th:only-of-type {\n",
       "        vertical-align: middle;\n",
       "    }\n",
       "\n",
       "    .dataframe tbody tr th {\n",
       "        vertical-align: top;\n",
       "    }\n",
       "\n",
       "    .dataframe thead th {\n",
       "        text-align: right;\n",
       "    }\n",
       "</style>\n",
       "<table border=\"1\" class=\"dataframe\">\n",
       "  <thead>\n",
       "    <tr style=\"text-align: right;\">\n",
       "      <th></th>\n",
       "      <th>no_of_adults</th>\n",
       "      <th>no_of_children</th>\n",
       "      <th>no_of_weekend_nights</th>\n",
       "      <th>no_of_week_nights</th>\n",
       "      <th>type_of_meal_plan</th>\n",
       "      <th>required_car_parking_space</th>\n",
       "      <th>room_type_reserved</th>\n",
       "      <th>lead_time</th>\n",
       "      <th>arrival_year</th>\n",
       "      <th>arrival_month</th>\n",
       "      <th>arrival_date</th>\n",
       "      <th>market_segment_type</th>\n",
       "      <th>repeated_guest</th>\n",
       "      <th>no_of_previous_cancellations</th>\n",
       "      <th>no_of_previous_bookings_not_canceled</th>\n",
       "      <th>avg_price_per_room</th>\n",
       "      <th>no_of_special_requests</th>\n",
       "      <th>booking_status</th>\n",
       "    </tr>\n",
       "  </thead>\n",
       "  <tbody>\n",
       "    <tr>\n",
       "      <th>63</th>\n",
       "      <td>1</td>\n",
       "      <td>0</td>\n",
       "      <td>0</td>\n",
       "      <td>1</td>\n",
       "      <td>Meal Plan 1</td>\n",
       "      <td>0</td>\n",
       "      <td>Room_Type 1</td>\n",
       "      <td>2</td>\n",
       "      <td>2017</td>\n",
       "      <td>9</td>\n",
       "      <td>10</td>\n",
       "      <td>Complementary</td>\n",
       "      <td>0</td>\n",
       "      <td>0</td>\n",
       "      <td>0</td>\n",
       "      <td>0.0</td>\n",
       "      <td>1</td>\n",
       "      <td>Not_Canceled</td>\n",
       "    </tr>\n",
       "    <tr>\n",
       "      <th>145</th>\n",
       "      <td>1</td>\n",
       "      <td>0</td>\n",
       "      <td>0</td>\n",
       "      <td>2</td>\n",
       "      <td>Meal Plan 1</td>\n",
       "      <td>0</td>\n",
       "      <td>Room_Type 1</td>\n",
       "      <td>13</td>\n",
       "      <td>2018</td>\n",
       "      <td>6</td>\n",
       "      <td>1</td>\n",
       "      <td>Complementary</td>\n",
       "      <td>1</td>\n",
       "      <td>3</td>\n",
       "      <td>5</td>\n",
       "      <td>0.0</td>\n",
       "      <td>1</td>\n",
       "      <td>Not_Canceled</td>\n",
       "    </tr>\n",
       "    <tr>\n",
       "      <th>209</th>\n",
       "      <td>1</td>\n",
       "      <td>0</td>\n",
       "      <td>0</td>\n",
       "      <td>0</td>\n",
       "      <td>Meal Plan 1</td>\n",
       "      <td>0</td>\n",
       "      <td>Room_Type 1</td>\n",
       "      <td>4</td>\n",
       "      <td>2018</td>\n",
       "      <td>2</td>\n",
       "      <td>27</td>\n",
       "      <td>Complementary</td>\n",
       "      <td>0</td>\n",
       "      <td>0</td>\n",
       "      <td>0</td>\n",
       "      <td>0.0</td>\n",
       "      <td>1</td>\n",
       "      <td>Not_Canceled</td>\n",
       "    </tr>\n",
       "    <tr>\n",
       "      <th>266</th>\n",
       "      <td>1</td>\n",
       "      <td>0</td>\n",
       "      <td>0</td>\n",
       "      <td>2</td>\n",
       "      <td>Meal Plan 1</td>\n",
       "      <td>0</td>\n",
       "      <td>Room_Type 1</td>\n",
       "      <td>1</td>\n",
       "      <td>2017</td>\n",
       "      <td>8</td>\n",
       "      <td>12</td>\n",
       "      <td>Complementary</td>\n",
       "      <td>1</td>\n",
       "      <td>0</td>\n",
       "      <td>1</td>\n",
       "      <td>0.0</td>\n",
       "      <td>1</td>\n",
       "      <td>Not_Canceled</td>\n",
       "    </tr>\n",
       "    <tr>\n",
       "      <th>267</th>\n",
       "      <td>1</td>\n",
       "      <td>0</td>\n",
       "      <td>2</td>\n",
       "      <td>1</td>\n",
       "      <td>Meal Plan 1</td>\n",
       "      <td>0</td>\n",
       "      <td>Room_Type 1</td>\n",
       "      <td>4</td>\n",
       "      <td>2017</td>\n",
       "      <td>8</td>\n",
       "      <td>23</td>\n",
       "      <td>Complementary</td>\n",
       "      <td>0</td>\n",
       "      <td>0</td>\n",
       "      <td>0</td>\n",
       "      <td>0.0</td>\n",
       "      <td>1</td>\n",
       "      <td>Not_Canceled</td>\n",
       "    </tr>\n",
       "    <tr>\n",
       "      <th>...</th>\n",
       "      <td>...</td>\n",
       "      <td>...</td>\n",
       "      <td>...</td>\n",
       "      <td>...</td>\n",
       "      <td>...</td>\n",
       "      <td>...</td>\n",
       "      <td>...</td>\n",
       "      <td>...</td>\n",
       "      <td>...</td>\n",
       "      <td>...</td>\n",
       "      <td>...</td>\n",
       "      <td>...</td>\n",
       "      <td>...</td>\n",
       "      <td>...</td>\n",
       "      <td>...</td>\n",
       "      <td>...</td>\n",
       "      <td>...</td>\n",
       "      <td>...</td>\n",
       "    </tr>\n",
       "    <tr>\n",
       "      <th>35983</th>\n",
       "      <td>1</td>\n",
       "      <td>0</td>\n",
       "      <td>0</td>\n",
       "      <td>1</td>\n",
       "      <td>Meal Plan 1</td>\n",
       "      <td>0</td>\n",
       "      <td>Room_Type 7</td>\n",
       "      <td>0</td>\n",
       "      <td>2018</td>\n",
       "      <td>6</td>\n",
       "      <td>7</td>\n",
       "      <td>Complementary</td>\n",
       "      <td>1</td>\n",
       "      <td>4</td>\n",
       "      <td>17</td>\n",
       "      <td>0.0</td>\n",
       "      <td>1</td>\n",
       "      <td>Not_Canceled</td>\n",
       "    </tr>\n",
       "    <tr>\n",
       "      <th>36080</th>\n",
       "      <td>1</td>\n",
       "      <td>0</td>\n",
       "      <td>1</td>\n",
       "      <td>1</td>\n",
       "      <td>Meal Plan 1</td>\n",
       "      <td>0</td>\n",
       "      <td>Room_Type 7</td>\n",
       "      <td>0</td>\n",
       "      <td>2018</td>\n",
       "      <td>3</td>\n",
       "      <td>21</td>\n",
       "      <td>Complementary</td>\n",
       "      <td>1</td>\n",
       "      <td>3</td>\n",
       "      <td>15</td>\n",
       "      <td>0.0</td>\n",
       "      <td>1</td>\n",
       "      <td>Not_Canceled</td>\n",
       "    </tr>\n",
       "    <tr>\n",
       "      <th>36114</th>\n",
       "      <td>1</td>\n",
       "      <td>0</td>\n",
       "      <td>0</td>\n",
       "      <td>1</td>\n",
       "      <td>Meal Plan 1</td>\n",
       "      <td>0</td>\n",
       "      <td>Room_Type 1</td>\n",
       "      <td>1</td>\n",
       "      <td>2018</td>\n",
       "      <td>3</td>\n",
       "      <td>2</td>\n",
       "      <td>Online</td>\n",
       "      <td>0</td>\n",
       "      <td>0</td>\n",
       "      <td>0</td>\n",
       "      <td>0.0</td>\n",
       "      <td>0</td>\n",
       "      <td>Not_Canceled</td>\n",
       "    </tr>\n",
       "    <tr>\n",
       "      <th>36217</th>\n",
       "      <td>2</td>\n",
       "      <td>0</td>\n",
       "      <td>2</td>\n",
       "      <td>1</td>\n",
       "      <td>Meal Plan 1</td>\n",
       "      <td>0</td>\n",
       "      <td>Room_Type 2</td>\n",
       "      <td>3</td>\n",
       "      <td>2017</td>\n",
       "      <td>8</td>\n",
       "      <td>9</td>\n",
       "      <td>Online</td>\n",
       "      <td>0</td>\n",
       "      <td>0</td>\n",
       "      <td>0</td>\n",
       "      <td>0.0</td>\n",
       "      <td>2</td>\n",
       "      <td>Not_Canceled</td>\n",
       "    </tr>\n",
       "    <tr>\n",
       "      <th>36250</th>\n",
       "      <td>1</td>\n",
       "      <td>0</td>\n",
       "      <td>0</td>\n",
       "      <td>2</td>\n",
       "      <td>Meal Plan 2</td>\n",
       "      <td>0</td>\n",
       "      <td>Room_Type 1</td>\n",
       "      <td>6</td>\n",
       "      <td>2017</td>\n",
       "      <td>12</td>\n",
       "      <td>10</td>\n",
       "      <td>Online</td>\n",
       "      <td>0</td>\n",
       "      <td>0</td>\n",
       "      <td>0</td>\n",
       "      <td>0.0</td>\n",
       "      <td>0</td>\n",
       "      <td>Not_Canceled</td>\n",
       "    </tr>\n",
       "  </tbody>\n",
       "</table>\n",
       "<p>545 rows × 18 columns</p>\n",
       "</div>"
      ],
      "text/plain": [
       "       no_of_adults  no_of_children  no_of_weekend_nights  no_of_week_nights  \\\n",
       "63                1               0                     0                  1   \n",
       "145               1               0                     0                  2   \n",
       "209               1               0                     0                  0   \n",
       "266               1               0                     0                  2   \n",
       "267               1               0                     2                  1   \n",
       "...             ...             ...                   ...                ...   \n",
       "35983             1               0                     0                  1   \n",
       "36080             1               0                     1                  1   \n",
       "36114             1               0                     0                  1   \n",
       "36217             2               0                     2                  1   \n",
       "36250             1               0                     0                  2   \n",
       "\n",
       "      type_of_meal_plan  required_car_parking_space room_type_reserved  \\\n",
       "63          Meal Plan 1                           0        Room_Type 1   \n",
       "145         Meal Plan 1                           0        Room_Type 1   \n",
       "209         Meal Plan 1                           0        Room_Type 1   \n",
       "266         Meal Plan 1                           0        Room_Type 1   \n",
       "267         Meal Plan 1                           0        Room_Type 1   \n",
       "...                 ...                         ...                ...   \n",
       "35983       Meal Plan 1                           0        Room_Type 7   \n",
       "36080       Meal Plan 1                           0        Room_Type 7   \n",
       "36114       Meal Plan 1                           0        Room_Type 1   \n",
       "36217       Meal Plan 1                           0        Room_Type 2   \n",
       "36250       Meal Plan 2                           0        Room_Type 1   \n",
       "\n",
       "       lead_time  arrival_year  arrival_month  arrival_date  \\\n",
       "63             2          2017              9            10   \n",
       "145           13          2018              6             1   \n",
       "209            4          2018              2            27   \n",
       "266            1          2017              8            12   \n",
       "267            4          2017              8            23   \n",
       "...          ...           ...            ...           ...   \n",
       "35983          0          2018              6             7   \n",
       "36080          0          2018              3            21   \n",
       "36114          1          2018              3             2   \n",
       "36217          3          2017              8             9   \n",
       "36250          6          2017             12            10   \n",
       "\n",
       "      market_segment_type  repeated_guest  no_of_previous_cancellations  \\\n",
       "63          Complementary               0                             0   \n",
       "145         Complementary               1                             3   \n",
       "209         Complementary               0                             0   \n",
       "266         Complementary               1                             0   \n",
       "267         Complementary               0                             0   \n",
       "...                   ...             ...                           ...   \n",
       "35983       Complementary               1                             4   \n",
       "36080       Complementary               1                             3   \n",
       "36114              Online               0                             0   \n",
       "36217              Online               0                             0   \n",
       "36250              Online               0                             0   \n",
       "\n",
       "       no_of_previous_bookings_not_canceled  avg_price_per_room  \\\n",
       "63                                        0                 0.0   \n",
       "145                                       5                 0.0   \n",
       "209                                       0                 0.0   \n",
       "266                                       1                 0.0   \n",
       "267                                       0                 0.0   \n",
       "...                                     ...                 ...   \n",
       "35983                                    17                 0.0   \n",
       "36080                                    15                 0.0   \n",
       "36114                                     0                 0.0   \n",
       "36217                                     0                 0.0   \n",
       "36250                                     0                 0.0   \n",
       "\n",
       "       no_of_special_requests booking_status  \n",
       "63                          1   Not_Canceled  \n",
       "145                         1   Not_Canceled  \n",
       "209                         1   Not_Canceled  \n",
       "266                         1   Not_Canceled  \n",
       "267                         1   Not_Canceled  \n",
       "...                       ...            ...  \n",
       "35983                       1   Not_Canceled  \n",
       "36080                       1   Not_Canceled  \n",
       "36114                       0   Not_Canceled  \n",
       "36217                       2   Not_Canceled  \n",
       "36250                       0   Not_Canceled  \n",
       "\n",
       "[545 rows x 18 columns]"
      ]
     },
     "execution_count": 11,
     "metadata": {},
     "output_type": "execute_result"
    }
   ],
   "source": [
    "#Checking the rows where avg_price_per_room is 0\n",
    "data[data[\"avg_price_per_room\"] == 0]"
   ]
  },
  {
   "cell_type": "markdown",
   "id": "4317b15e",
   "metadata": {},
   "source": [
    "- In the market segment column, it looks like **many values are complementary**. Let's check the market segment where the room prices are equal to 0."
   ]
  },
  {
   "cell_type": "code",
   "execution_count": 12,
   "id": "20cad9e8",
   "metadata": {},
   "outputs": [
    {
     "data": {
      "text/plain": [
       "Complementary    354\n",
       "Online           191\n",
       "Name: market_segment_type, dtype: int64"
      ]
     },
     "execution_count": 12,
     "metadata": {},
     "output_type": "execute_result"
    }
   ],
   "source": [
    "data.loc[data[\"avg_price_per_room\"] == 0, \"market_segment_type\"].value_counts()"
   ]
  },
  {
   "cell_type": "markdown",
   "id": "06174aa3",
   "metadata": {},
   "source": [
    "* It makes sense that most values with room prices equal to 0 are the rooms given as complimentary service given by the hotel.\n",
    "* The rooms booked online might be a part of some promotional campaign done by the hotel. We will not treat these rows as we don't have the data to test this claim."
   ]
  },
  {
   "cell_type": "markdown",
   "id": "545870e0",
   "metadata": {},
   "source": [
    "#### Check the distribution and outliers for some columns in the data"
   ]
  },
  {
   "cell_type": "code",
   "execution_count": 13,
   "id": "5a50d843",
   "metadata": {
    "scrolled": false
   },
   "outputs": [
    {
     "name": "stdout",
     "output_type": "stream",
     "text": [
      "lead_time\n",
      "Skew : 1.29\n"
     ]
    },
    {
     "data": {
      "image/png": "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\n",
      "text/plain": [
       "<Figure size 1080x288 with 2 Axes>"
      ]
     },
     "metadata": {
      "needs_background": "light"
     },
     "output_type": "display_data"
    },
    {
     "name": "stdout",
     "output_type": "stream",
     "text": [
      "no_of_previous_cancellations\n",
      "Skew : 25.2\n"
     ]
    },
    {
     "data": {
      "image/png": "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\n",
      "text/plain": [
       "<Figure size 1080x288 with 2 Axes>"
      ]
     },
     "metadata": {
      "needs_background": "light"
     },
     "output_type": "display_data"
    },
    {
     "name": "stdout",
     "output_type": "stream",
     "text": [
      "no_of_previous_bookings_not_canceled\n",
      "Skew : 19.25\n"
     ]
    },
    {
     "data": {
      "image/png": "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\n",
      "text/plain": [
       "<Figure size 1080x288 with 2 Axes>"
      ]
     },
     "metadata": {
      "needs_background": "light"
     },
     "output_type": "display_data"
    },
    {
     "name": "stdout",
     "output_type": "stream",
     "text": [
      "avg_price_per_room\n",
      "Skew : 0.67\n"
     ]
    },
    {
     "data": {
      "image/png": "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\n",
      "text/plain": [
       "<Figure size 1080x288 with 2 Axes>"
      ]
     },
     "metadata": {
      "needs_background": "light"
     },
     "output_type": "display_data"
    }
   ],
   "source": [
    "for col in ['lead_time', 'no_of_previous_cancellations', 'no_of_previous_bookings_not_canceled', 'avg_price_per_room']:\n",
    "    print(col)\n",
    "    print('Skew :',round(data[col].skew(),2))\n",
    "    plt.figure(figsize=(15,4))\n",
    "    plt.subplot(1,2,1)\n",
    "    data[col].hist(bins=10, grid=False)\n",
    "    plt.ylabel('count')\n",
    "    plt.subplot(1,2,2)\n",
    "    sns.boxplot(x=data[col])\n",
    "    plt.show()"
   ]
  },
  {
   "cell_type": "markdown",
   "id": "7a2bec4f",
   "metadata": {},
   "source": [
    "- The distribution of **lead time is right-skewed**. Many customers have made the booking on the same day of arrival as well. There are many outliers, **some customers made booking more than 400 days in advance**. \n",
    "- **Very few customers have more than one cancellation**. Some customers canceled more than 12 times.\n",
    "- **Very few customers have more than 1 booking not canceled previously**. Some customers have not canceled their bookings around 60 times.\n",
    "- **The distribution of average price per room is skewed to right**. There are outliers on both sides. The median price of a room is around ~100 euros. There is 1 observation where the average price of the room is more than 500 euros. This observation is quite far away from the rest of the values. We can treat this by clipping the value to the upper whisker (Q3 + 1.5 * IQR)."
   ]
  },
  {
   "cell_type": "code",
   "execution_count": 14,
   "id": "e6e06ecd",
   "metadata": {},
   "outputs": [
    {
     "data": {
      "text/plain": [
       "179.55"
      ]
     },
     "execution_count": 14,
     "metadata": {},
     "output_type": "execute_result"
    }
   ],
   "source": [
    "# Calculating the 25th quantile\n",
    "Q1 = data[\"avg_price_per_room\"].quantile(0.25)\n",
    "\n",
    "# Calculating the 75th quantile\n",
    "Q3 = data[\"avg_price_per_room\"].quantile(0.75)\n",
    "\n",
    "# Calculating IQR\n",
    "IQR = Q3 - Q1\n",
    "\n",
    "# Calculating value of upper whisker\n",
    "Upper_Whisker = Q3 + 1.5 * IQR\n",
    "Upper_Whisker"
   ]
  },
  {
   "cell_type": "code",
   "execution_count": 15,
   "id": "fd73d9d1",
   "metadata": {},
   "outputs": [],
   "source": [
    "# assigning the outliers the value of upper whisker\n",
    "data.loc[data[\"avg_price_per_room\"] >= 500, \"avg_price_per_room\"] = Upper_Whisker"
   ]
  },
  {
   "cell_type": "markdown",
   "id": "a5fa6829",
   "metadata": {},
   "source": [
    "#### Now, let's check percentage of each category for some variables"
   ]
  },
  {
   "cell_type": "markdown",
   "id": "563555b2",
   "metadata": {},
   "source": [
    "#### Question 2: \n",
    "\n",
    "- **Write the code to check the percentage of each category for columns mentioned below (cat_cols) (2 Marks)**\n",
    "- **Write your observations (2 Marks)**"
   ]
  },
  {
   "cell_type": "code",
   "execution_count": 16,
   "id": "349b799b",
   "metadata": {},
   "outputs": [
    {
     "name": "stdout",
     "output_type": "stream",
     "text": [
      "2    0.719724\n",
      "1    0.212130\n",
      "3    0.063873\n",
      "0    0.003832\n",
      "4    0.000441\n",
      "Name: no_of_adults, dtype: float64\n",
      "****************************************\n",
      "0     0.925624\n",
      "1     0.044604\n",
      "2     0.029166\n",
      "3     0.000524\n",
      "9     0.000055\n",
      "10    0.000028\n",
      "Name: no_of_children, dtype: float64\n",
      "****************************************\n",
      "2     0.315479\n",
      "1     0.261558\n",
      "3     0.216099\n",
      "4     0.082426\n",
      "0     0.065803\n",
      "5     0.044493\n",
      "6     0.005210\n",
      "7     0.003115\n",
      "10    0.001709\n",
      "8     0.001709\n",
      "9     0.000937\n",
      "11    0.000469\n",
      "15    0.000276\n",
      "12    0.000248\n",
      "14    0.000193\n",
      "13    0.000138\n",
      "17    0.000083\n",
      "16    0.000055\n",
      "Name: no_of_week_nights, dtype: float64\n",
      "****************************************\n",
      "0    0.465114\n",
      "1    0.275534\n",
      "2    0.250062\n",
      "3    0.004218\n",
      "4    0.003556\n",
      "5    0.000937\n",
      "6    0.000551\n",
      "7    0.000028\n",
      "Name: no_of_weekend_nights, dtype: float64\n",
      "****************************************\n",
      "0    0.969014\n",
      "1    0.030986\n",
      "Name: required_car_parking_space, dtype: float64\n",
      "****************************************\n",
      "Meal Plan 1     0.767333\n",
      "Not Selected    0.141420\n",
      "Meal Plan 2     0.091110\n",
      "Meal Plan 3     0.000138\n",
      "Name: type_of_meal_plan, dtype: float64\n",
      "****************************************\n",
      "Room_Type 1    0.775465\n",
      "Room_Type 4    0.166975\n",
      "Room_Type 6    0.026630\n",
      "Room_Type 2    0.019076\n",
      "Room_Type 5    0.007305\n",
      "Room_Type 7    0.004356\n",
      "Room_Type 3    0.000193\n",
      "Name: room_type_reserved, dtype: float64\n",
      "****************************************\n",
      "10    0.146575\n",
      "9     0.127112\n",
      "8     0.105114\n",
      "6     0.088298\n",
      "12    0.083280\n",
      "11    0.082150\n",
      "7     0.080496\n",
      "4     0.075424\n",
      "5     0.071620\n",
      "3     0.065003\n",
      "2     0.046975\n",
      "1     0.027953\n",
      "Name: arrival_month, dtype: float64\n",
      "****************************************\n",
      "Online           0.639945\n",
      "Offline          0.290227\n",
      "Corporate        0.055603\n",
      "Complementary    0.010779\n",
      "Aviation         0.003446\n",
      "Name: market_segment_type, dtype: float64\n",
      "****************************************\n",
      "0    0.545196\n",
      "1    0.313522\n",
      "2    0.120303\n",
      "3    0.018608\n",
      "4    0.002150\n",
      "5    0.000221\n",
      "Name: no_of_special_requests, dtype: float64\n",
      "****************************************\n",
      "Not_Canceled    0.672364\n",
      "Canceled        0.327636\n",
      "Name: booking_status, dtype: float64\n",
      "****************************************\n"
     ]
    },
    {
     "data": {
      "image/png": "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\n",
      "text/plain": [
       "<Figure size 576x288 with 1 Axes>"
      ]
     },
     "metadata": {
      "needs_background": "light"
     },
     "output_type": "display_data"
    },
    {
     "data": {
      "image/png": "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\n",
      "text/plain": [
       "<Figure size 576x288 with 1 Axes>"
      ]
     },
     "metadata": {
      "needs_background": "light"
     },
     "output_type": "display_data"
    },
    {
     "data": {
      "image/png": "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\n",
      "text/plain": [
       "<Figure size 576x288 with 1 Axes>"
      ]
     },
     "metadata": {
      "needs_background": "light"
     },
     "output_type": "display_data"
    },
    {
     "data": {
      "image/png": "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\n",
      "text/plain": [
       "<Figure size 576x288 with 1 Axes>"
      ]
     },
     "metadata": {
      "needs_background": "light"
     },
     "output_type": "display_data"
    },
    {
     "data": {
      "image/png": "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\n",
      "text/plain": [
       "<Figure size 576x288 with 1 Axes>"
      ]
     },
     "metadata": {
      "needs_background": "light"
     },
     "output_type": "display_data"
    },
    {
     "data": {
      "image/png": "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\n",
      "text/plain": [
       "<Figure size 576x288 with 1 Axes>"
      ]
     },
     "metadata": {
      "needs_background": "light"
     },
     "output_type": "display_data"
    },
    {
     "data": {
      "image/png": "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\n",
      "text/plain": [
       "<Figure size 576x288 with 1 Axes>"
      ]
     },
     "metadata": {
      "needs_background": "light"
     },
     "output_type": "display_data"
    },
    {
     "data": {
      "image/png": "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\n",
      "text/plain": [
       "<Figure size 576x288 with 1 Axes>"
      ]
     },
     "metadata": {
      "needs_background": "light"
     },
     "output_type": "display_data"
    },
    {
     "data": {
      "image/png": "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\n",
      "text/plain": [
       "<Figure size 576x288 with 1 Axes>"
      ]
     },
     "metadata": {
      "needs_background": "light"
     },
     "output_type": "display_data"
    },
    {
     "data": {
      "image/png": "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\n",
      "text/plain": [
       "<Figure size 576x288 with 1 Axes>"
      ]
     },
     "metadata": {
      "needs_background": "light"
     },
     "output_type": "display_data"
    }
   ],
   "source": [
    "cat_cols = ['no_of_adults', 'no_of_children', 'no_of_week_nights', 'no_of_weekend_nights', 'required_car_parking_space', \n",
    "        'type_of_meal_plan', 'room_type_reserved', 'arrival_month', 'market_segment_type', 'no_of_special_requests', \n",
    "        'booking_status']\n",
    "\n",
    "#Write your code here\n",
    "for i in cat_cols:\n",
    "    print(data[i].value_counts(normalize=True))\n",
    "    print('*'*40)\n",
    "    \n",
    "for i in cat_cols:\n",
    "    if i!='booking_status':\n",
    "        (pd.crosstab(data[i],data['booking_status'],normalize='index')*100).plot(kind='bar',figsize=(8,4),stacked=True)\n",
    "        plt.ylabel('Percentage booking_status %')"
   ]
  },
  {
   "cell_type": "markdown",
   "id": "dd055f2f",
   "metadata": {},
   "source": [
    "**Observations:\n",
    "\n",
    "1. Around 67% of the bookings are not canceled and ~33% are canceled.\n",
    "2. Over 71% of bookings are two adults. \n",
    "3. OVer 92% of bookings has no children. \n",
    "4. over 31% of bookings, the guest stayed or booked to stay at the hotel for 2 week nights.\n",
    "5. Over 96% clients don't required car parking space\n",
    "6. over 76% clients selected Meal Plan 1 \n",
    "7. Room Type 1 is the most popular room type with over 77% bookings\n",
    "8. Busiest month for the hotel is October\n",
    "9. Over 63% of the bookings are made online\n",
    "10. Over 54% books has no special requests\n",
    "\n",
    "**"
   ]
  },
  {
   "cell_type": "markdown",
   "id": "0ec7e33d",
   "metadata": {},
   "source": [
    "**Replacing values 9 and 10 for the number of children with 3 and encoding the target variable**"
   ]
  },
  {
   "cell_type": "code",
   "execution_count": 17,
   "id": "dcc3685b",
   "metadata": {},
   "outputs": [],
   "source": [
    "# replacing 9, and 10 children with 3\n",
    "data[\"no_of_children\"] = data[\"no_of_children\"].replace([9, 10], 3)"
   ]
  },
  {
   "cell_type": "code",
   "execution_count": 18,
   "id": "2e2c1bbe",
   "metadata": {},
   "outputs": [
    {
     "data": {
      "text/plain": [
       "0        0\n",
       "1        0\n",
       "2        1\n",
       "3        1\n",
       "4        1\n",
       "        ..\n",
       "36270    0\n",
       "36271    1\n",
       "36272    0\n",
       "36273    1\n",
       "36274    0\n",
       "Name: booking_status, Length: 36275, dtype: int64"
      ]
     },
     "execution_count": 18,
     "metadata": {},
     "output_type": "execute_result"
    }
   ],
   "source": [
    "data[\"booking_status\"] = data[\"booking_status\"].apply(lambda x: 1 if x == \"Canceled\" else 0)\n",
    "data[\"booking_status\"]"
   ]
  },
  {
   "cell_type": "markdown",
   "id": "f754e840",
   "metadata": {},
   "source": [
    "**We are done with univariate analysis and data preprocessing. Let's explore the data a bit more with bivariate analysis.**\n",
    "\n",
    "Let's check the relationship of market segment type with the average price per room."
   ]
  },
  {
   "cell_type": "code",
   "execution_count": 19,
   "id": "6b3572ce",
   "metadata": {},
   "outputs": [
    {
     "data": {
      "image/png": "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\n",
      "text/plain": [
       "<Figure size 720x432 with 1 Axes>"
      ]
     },
     "metadata": {
      "needs_background": "light"
     },
     "output_type": "display_data"
    }
   ],
   "source": [
    "plt.figure(figsize=(10, 6))\n",
    "sns.boxplot(data=data, x=\"market_segment_type\", y=\"avg_price_per_room\")\n",
    "plt.show()"
   ]
  },
  {
   "cell_type": "markdown",
   "id": "4a27441f",
   "metadata": {},
   "source": [
    "* **Rooms booked online have the highest variations in prices.**\n",
    "* The distribution for offline and corporate room prices are almost similar except for some outliers.\n",
    "* Complementary market segment gets the rooms at very low prices, which makes sense."
   ]
  },
  {
   "cell_type": "markdown",
   "id": "b7b7c44c",
   "metadata": {},
   "source": [
    "**Let's see how booking status varies across different market segments. Also, how lead time impacts booking status**"
   ]
  },
  {
   "cell_type": "code",
   "execution_count": 20,
   "id": "7fc03422",
   "metadata": {},
   "outputs": [
    {
     "data": {
      "image/png": "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\n",
      "text/plain": [
       "<Figure size 720x432 with 1 Axes>"
      ]
     },
     "metadata": {
      "needs_background": "light"
     },
     "output_type": "display_data"
    }
   ],
   "source": [
    "plt.figure(figsize=(10, 6))\n",
    "sns.countplot(x='market_segment_type', hue='booking_status', data=data)\n",
    "plt.show()"
   ]
  },
  {
   "cell_type": "markdown",
   "id": "2023f389",
   "metadata": {},
   "source": [
    "* **Online bookings have the highest number of cancellations.**\n",
    "* Bookings made offline are less prone to cancellations.\n",
    "* Corporate and complementary segment shows very low cancellations."
   ]
  },
  {
   "cell_type": "code",
   "execution_count": 21,
   "id": "831e37d4",
   "metadata": {},
   "outputs": [
    {
     "data": {
      "image/png": "iVBORw0KGgoAAAANSUhEUgAAAmUAAAF0CAYAAABi7U6EAAAAOXRFWHRTb2Z0d2FyZQBNYXRwbG90bGliIHZlcnNpb24zLjMuNCwgaHR0cHM6Ly9tYXRwbG90bGliLm9yZy8QVMy6AAAACXBIWXMAAAsTAAALEwEAmpwYAAAZJElEQVR4nO3dcbBmZX0f8O+PRQGjKBsWShfMYhd1MG2IsyWmSRrEZkSbZtUMZo11SMZA05JlTUqa3UyMaWZA23GSbrZxFBKVjDR0jUmhjolFDDUaiVmQqCjWW4mwC4ENGkBBDPD0j3vW3rvcZe/d3XfPs/f9fGbuvO953nPe93vd4fqd5zznvNVaCwAA4zpq7AAAAChlAABdUMoAADqglAEAdEApAwDogFIGANCBo8cOcLBOPPHEtmbNmrFjAADs18033/y3rbVVC712xJeyNWvWZMeOHWPHAADYr6r6yr5ec/oSAKADShkAQAeUMgCADihlAAAdUMoAADqglAEAdEApAwDogFIGANABpQwAoANH/B39AWBM69evzwMPPJATTjghf/RHfzR2HI5gZsoA4CA88MADSZKvfe1rIyfhSKeUAcABWr9+/bztV7/61SMlYTlQygDgAO2ZJdvDbBkHQykDAOiAUgYA0AGlDAAO0LOf/ex52yeccMJISVgOlDIAOEDXXnvtvG23xOBgKGUAcIB+/Md/fN72a1/72pGSsBwoZQBwgO6///552/fdd99ISVgOlDIAgA4oZQAAHVDKAOAAfed3fue87ZNOOmmkJCwHShkAHKAPfOAD87a3b98+UhKWA6UMAA7Cntkys2QcrKPHDgAAR7K9Z8vgQJkpAwDogFIGANABpQwAoAPWlAEwUdu2bcvMzMzYMSZm165dSZLVq1ePnGRy1q5dm40bN44dY9lTygDgIDzyyCNjR2CZUMoAmKjlPsOyadOmJMnWrVtHTsKRzpoyAIAOKGUAAB1QygAAOqCUAQB0QCkDAOiAUgYA0AGlDACgA4ellFXViqr6dFV9cNheWVXXV9WXhscT5uy7papmquqLVfXyw5EPAGBsh2umbFOSL8zZ3pzkhtbaGUluGLZTVWcm2ZDkRUnOS/KOqlpxmDICAIxm4qWsqk5N8i+T/M6c4fVJrhqeX5XkVXPGr2mtPdpauyPJTJKzJ50RAGBsh2Om7L8k+Q9JnpgzdnJr7Z4kGR5PGsZXJ7lrzn47h7F5quqiqtpRVTt27949kdAAAIfTREtZVf1okvtaazcv9pAFxtqTBlq7orW2rrW2btWqVQeVEQCgB5P+QvIfSPJjVfXKJMcmOb6q3pfk3qo6pbV2T1WdkuS+Yf+dSU6bc/ypSe6ecEYAgNFNdKastbaltXZqa21NZhfwf7S19q+TXJfkgmG3C5JcOzy/LsmGqjqmqk5PckaST00yIwBADyY9U7Yvb0uyvaremOTOJOcnSWvttqranuTzSR5LcnFr7fGRMgIAHDaHrZS11m5McuPw/P4kL9vHfpcluexw5QIA6IE7+jM1rr766pxzzjm55pprxo4CAE+ilDE1rrzyyiTJO9/5zpGTAMCTKWVMhauvvnrettkyAHqjlDEV9syS7WG2DIDeKGUAAB1QygAAOqCUMRUuvPDCeds/+7M/O1ISAFiYUsZUeP3rXz9ve8OGDSMlAYCFKWVMBVdfAtA7pYyp4OpLAHqnlAEAdEApAwDogFLGVHD1JQC9U8qYCq6+BKB3ShlTY89smVkyAHp09NgB4HB5/etf/6QZMwDohZkyAIAOKGUAAB1Qypgal156ac4555xs3rx57CgA8CRKGVNjx44dSZKbbrpp5CQA8GRKGVPh0ksvnbdttgyA3ihlTIU9s2R7mC0DoDdKGQBAB5QyAIAOKGVMhXXr1s3bfslLXjJSEgBYmFLGVNiyZcu87V/8xV8cKQkALEwpYypcfvnl87bf+ta3jpQEABamlDEVbr755nnbe1+NCQBjU8oAADqglAEAdEApAwDogFIGANABpYyp8JrXvGbe9vnnnz9SEgBYmFLGVLjkkkvmbV988cUjJQGAhSllTIVLL7103vbmzZtHSgIAC1PKmAp735fspptuGikJACxMKQMA6IBSBgDQAaUMAKADShkAQAeUMgCADihlAAAdUMoAADqglAEAdEApAwDogFIGANABpQwAoANKGQBAB5QyAIAOKGUAAB1QygAAOqCUAQB0QCkDAOiAUsZUqqqxIwDAPEoZU6m1NnYEAJhHKQMA6IBSBgDQAaUMAKADEy1lVXVsVX2qqv6qqm6rqv84jK+squur6kvD4wlzjtlSVTNV9cWqevkk8wEA9GLSM2WPJjm3tfY9Sc5Kcl5VvSTJ5iQ3tNbOSHLDsJ2qOjPJhiQvSnJekndU1YoJZwQAGN1ES1mb9fVh82nDT0uyPslVw/hVSV41PF+f5JrW2qOttTuSzCQ5e5IZAQB6MPE1ZVW1oqpuTXJfkutba3+R5OTW2j1JMjyeNOy+Osldcw7fOYzt/Z4XVdWOqtqxe/fuieYHADgcJl7KWmuPt9bOSnJqkrOr6rufYveF7uj5pBtKtdauaK2ta62tW7Vq1SFKCgAwnsN29WVr7e+S3JjZtWL3VtUpSTI83jfstjPJaXMOOzXJ3YcrIwDAWCZ99eWqqnrO8Py4JP8iye1JrktywbDbBUmuHZ5fl2RDVR1TVacnOSPJpyaZEQCgB0dP+P1PSXLVcAXlUUm2t9Y+WFWfTLK9qt6Y5M4k5ydJa+22qtqe5PNJHktycWvt8QlnBAAY3URLWWvtM0m+d4Hx+5O8bB/HXJbksknmAgDojTv6AwB0QCkDAOiAUgYA0AGlDACgA0oZAEAHlDIAgA4oZQAAHVDKAAA6oJQBAHRAKQMA6IBSBgDQAaUMAKADShkAQAeUMgCADihlAAAdUMoAADqglAEAdEApAwDogFIGANABpQwAoANKGQBAB5QyAIAOKGUAAB1QygAAOqCUAQB0YEmlrKp+sKp+eni+qqpOn0wsAIDpsuhSVlVvSfJLSbYMQ09L8r5JhAIAmDZLmSl7dZIfS/KNJGmt3Z3kWZMIBQAwbZZSyr7VWmtJWpJU1XdMJhIAwPRZSinbXlXvSvKcqrowyUeSXDmZWAAA0+Xoxe7YWnt7Vf1IkgeTvCDJr7bWrp9YMgCAKbLoUpYkrbXrq+ov9hxXVStba1+dSDIAgCmy6FJWVf8mya8neSTJE0kqs+vLnjeZaAAA02MpM2WXJnlRa+1vJxUGAGBaLWWh//9N8vCkggAATLOlzJRtSfLnw5qyR/cMttYuOeSpAACmzFJK2buSfDTJZzO7pgwAgENkKaXssdbaL0wsCQDAFFvKmrI/raqLquqUqlq552diyQAApshSZsp+cnjcMmfMLTEAAA6BpdzR//RJBgEAmGb7LWVVdW5r7aNV9ZqFXm+t/eGhjwUAMF0WM1P2w5m96vJfLfBaS6KUAQAcpP2WstbaW4anv95au2Pua1XllCYAwCGwlKsvP7DA2B8cqiAAANNsMWvKXpjkRUmevde6suOTHDupYAAA02Qxa8pekORHkzwn89eVPZTkwglkAgCYOotZU3Ztkmur6vtba5/c135VtaW19tZDmg4AYEosek3ZUxWywfkHmQUAYGotZaH//tQhfC8AgKlyKEtZO4TvBQAwVcyUAQB04FCWsvcfwvcCAJgqi7lP2bY8xanJ1tolw+PlhzAXAMBUWcxM2Y4kN2f2RrEvTvKl4eesJI9PLBkAwBRZzH3KrkqSqvqpJC9trf39sP3OJP9roukAAKbEUtaU/cMkz5qz/cxhDACAg7SYr1na421JPl1Vfzps/3CSXzvkiQCmzLZt2zIzMzN2DA7Qnn+7TZs2jZyEA7F27dps3Lhx7BhJllDKWmvvqao/TvJ9w9Dm1trfPNUxVXVakt9L8g+SPJHkitba1qpameS/J1mT5K+TvLa19rXhmC1J3pjZ9WqXtNY+vKTfCOAIMzMzky/d9uk895mW6R6Jnv73syedHv3KjpGTsFR3fn3F2BHmWcpMWZI8muSezC76f35VPb+19rGn2P+xJP++tXZLVT0ryc1VdX2Sn0pyQ2vtbVW1OcnmJL9UVWcm2ZDkRZk9NfqR4TP8pQKWtec+8/H88osfHDsGTJXLbzl+7AjzLLqUVdXPJNmU5NQktyZ5SZJPJjl3X8e01u7JbIlLa+2hqvpCktVJ1ic5Z9jtqiQ3JvmlYfya1tqjSe6oqpkkZw+fw4RN2ymU5XiqoadpeACWZikL/Tcl+adJvtJae2mS702ye7EHV9Wa4Zi/SHLyUNj2FLeTht1WJ7lrzmE7h7G93+uiqtpRVTt27150BACAbi3l9OU3W2vfrKpU1TGttdur6gWLObCqnpnkA0ne1Fp7sGqf38i00AtPunFta+2KJFckybp163zn5iGynGdYzj333DzxxBPf3j7qqKOydevWERMBwHxLmSnbWVXPSfI/klxfVdcmuXt/B1XV0zJbyK5urf3hMHxvVZ0yvH5Kkvv2fEaS0+YcfupiPgP251d+5Vfmbb/5zW8eKQkALGzRpay19urW2t+11n4tyZuT/G6SVz3VMTU7Jfa7Sb7QWvuNOS9dl+SC4fkFSa6dM76hqo6pqtOTnJHkU4vNCPty7rn/f+njUUcdlZe+9KUjpgGAJ1vS1ZdV9YNJzhhuj7Eqs+u97niKQ34gyRuSfLaqbh3Gfjmz9zzbXlVvTHJnkvOTpLV2W1VtT/L5zF65ebErLzlUTjvttNx1111myQDo0lKuvnxLknVJXpDkPUmeluR9mS1eC2qtfTwLrxNLkpft45jLkly22FywWCtXrszKlSvNkgHQpaWsKXt1kh9L8o0kaa3dnflfuwQAwAFaSin7VmutZbgasqq+YzKRAACmz1JK2faqeleS51TVhUk+kuTKycQCAJguS/nuy7dX1Y8keTCz68p+tbV2/cSSAQBMkSVdfTmUMEUMAOAQ228pq6qHssBd9TN7VWVrrfX1bZ4AAEeg/Zay1porLAEAJmwpC/0BAJgQpQwAoANKGQBAB5QyAIAOKGUAAB1QygAAOqCUAQB0QCkDAOiAUgYA0AGlDACgA0oZAEAHlDIAgA4oZQAAHVDKAAA6oJQBAHRAKQMA6IBSBgDQAaUMAKADShkAQAeUMgCADihlAAAdUMoAADqglAEAdEApAwDogFIGANABpQwAoANKGQBAB5QyAIAOKGUAAB1QygAAOqCUAQB0QCkDAOiAUgYA0AGlDACgA0oZAEAHlDIAgA4oZQAAHVDKAAA6cPTYAQCm3a5du/KNh1bk8luOHzsKTJWvPLQi37Fr19gxvs1MGQBAB8yUAYxs9erVefSxe/LLL35w7CgwVS6/5fgcs3r12DG+zUwZAEAHlDIAgA4oZQAAHVDKAAA6oJQBAHRAKQMA6IBSBgDQAaUMAKADShkAQAeUMgCADky0lFXVu6vqvqr63JyxlVV1fVV9aXg8Yc5rW6pqpqq+WFUvn2Q2AICeTHqm7L1JzttrbHOSG1prZyS5YdhOVZ2ZZEOSFw3HvKOqVkw4HwBAFyZaylprH0vy1b2G1ye5anh+VZJXzRm/prX2aGvtjiQzSc6eZD4AgF6Msabs5NbaPUkyPJ40jK9Octec/XYOY09SVRdV1Y6q2rF79+6JhgUAOBx6WuhfC4y1hXZsrV3RWlvXWlu3atWqCccCAJi8MUrZvVV1SpIMj/cN4zuTnDZnv1OT3H2YswEAjGKMUnZdkguG5xckuXbO+IaqOqaqTk9yRpJPjZAPAOCwO3qSb15Vv5/knCQnVtXOJG9J8rYk26vqjUnuTHJ+krTWbquq7Uk+n+SxJBe31h6fZD4AgF5MtJS11l63j5deto/9L0ty2eQSAQD0qaeF/gAAU0spAwDogFIGANCBia4pW262bduWmZmZsWNwgPb8223atGnkJByItWvXZuPGjWPHAJgYpWwJZmZmcuvnvpDHn7Fy7CgcgKO+NXsv4pu/fO/ISViqFQ/v/W1tAMuPUrZEjz9jZR554SvHjgFT5bjbPzR2BICJs6YMAKADShkAQAeUMgCADihlAAAdUMoAADqglAEAdEApAwDogFIGANABpQwAoANKGQBAB5QyAIAOKGUAAB1QygAAOqCUAQB0QCkDAOiAUgYA0AGlDACgA0ePHQCA5M6vr8jltxw/dgwOwL0Pz85vnPyMJ0ZOwlLd+fUVOWPsEHMoZQAjW7t27dgROAjfmplJkhzzXf4djzRnpK///pQygJFt3Lhx7AgchE2bNiVJtm7dOnISjnTWlAEAdEApAwDogFIGANABpQwAoANKGQBAB5QyAIAOKGUAAB1QygAAOuDmsUuwa9eurHj4gRx3+4fGjgJTZcXD92fXrsfGjgEwUWbKAAA6YKZsCVavXp2/efToPPLCV44dBabKcbd/KKtXnzx2DICJMlMGANABpQwAoANKGQBAB5QyAIAOKGUAAB1QygAAOqCUAQB0QCkDAOiAUgYA0AGlDACgA0oZAEAHlDIAgA4oZQAAHVDKAAA6oJQBAHRAKQMA6MDRYwc40qx4+Ks57vYPjR2DA3DUNx9Mkjxx7PEjJ2GpVjz81SQnjx0DYKKUsiVYu3bt2BE4CDMzDyVJ1j7P/7kfeU723x+w7CllS7Bx48axI3AQNm3alCTZunXryEkA4MmsKQMA6IBSBgDQge5KWVWdV1VfrKqZqto8dh4AgMOhq1JWVSuS/HaSVyQ5M8nrqurMcVMBAExebwv9z04y01r7cpJU1TVJ1if5/KippsS2bdsyMzMzdoyJ2fO77VnwvxytXbvWBSl0x9+WI5+/LYdHb6VsdZK75mzvTPJ9e+9UVRcluShJnvvc5x6eZBzxjjvuuLEjAMuQvy0cKtVaGzvDt1XV+Ule3lr7mWH7DUnObq3ts56vW7eu7dix43BFBAA4YFV1c2tt3UKvdbWmLLMzY6fN2T41yd0jZQEAOGx6K2V/meSMqjq9qp6eZEOS60bOBAAwcV2tKWutPVZVP5fkw0lWJHl3a+22kWMBAExcV6UsSVprH0riG78BgKnS2+lLAICppJQBAHRAKQMA6IBSBgDQAaUMAKADShkAQAeUMgCADihlAAAdUMoAADpQrbWxMxyUqtqd5Ctj5+CIcWKSvx07BLDs+NvCYn1Xa23VQi8c8aUMlqKqdrTW1o2dA1he/G3hUHD6EgCgA0oZAEAHlDKmzRVjBwCWJX9bOGjWlAEAdMBMGQBAB5QypkJVnVdVX6yqmaraPHYeYHmoqndX1X1V9bmxs3DkU8pY9qpqRZLfTvKKJGcmeV1VnTluKmCZeG+S88YOwfKglDENzk4y01r7cmvtW0muSbJ+5EzAMtBa+1iSr46dg+VBKWMarE5y15ztncMYAHRDKWMa1AJjLjsGoCtKGdNgZ5LT5myfmuTukbIAwIKUMqbBXyY5o6pOr6qnJ9mQ5LqRMwHAPEoZy15r7bEkP5fkw0m+kGR7a+22cVMBy0FV/X6STyZ5QVXtrKo3jp2JI5c7+gMAdMBMGQBAB5QyAIAOKGUAAB1QygAAOqCUAQB0QCkDAOiAUgaMrqrWVNXnDsH7/HVVnbjA+J8f7Hsv4rPXVNVPHqr9gOmjlAHLXmvtnx2Gj1mTZDFla7H7AVNGKQN6cXRVXVVVn6mqP6iqZ1TVy6rq01X12ap6d1UdkyT7Gt+jqo6rqj+pqguH7a8Pj+dU1Y3D+99eVVdXVQ2vvXIY+3hV/VZVfXBfQavqh6vq1uHn01X1rCRvS/JDw9jPDzNif1ZVtww/e4rh3vv9VFX91znv/cEh54qqem9VfW74PX/+UP6PDfRHKQN68YIkV7TW/kmSB5P8QpL3JvmJ1to/TnJ0kn9bVccuND7nfZ6Z5H8m+W+ttSsX+JzvTfKmJGcmeV6SHxje811JXtFa+8Ekq/aT9dIkF7fWzkryQ0keSbI5yZ+11s5qrf1mkvuS/Ehr7cVJfiLJbw3H7r3fvpyVZHVr7buH3/M9+8kEHOGUMqAXd7XWPjE8f1+SlyW5o7X2f4axq5L888yWt4XG97g2yXtaa7+3j8/5VGttZ2vtiSS3ZvZ04guTfLm1dsewz+/vJ+snkvxGVV2S5DnD96vu7WlJrqyqzyZ5f2ZL4FJ8OcnzqmpbVZ2X2aIKLGNKGdCLxX4Rb+3n9U8kecWe05ILeHTO88czO9O2v/ecp7X2tiQ/k+S4JDdV1QsX2O3nk9yb5HuSrEvy9H283WOZ/7f42OEzvjYce2OSi5P8zlIyAkcepQzoxXOr6vuH569L8pEka6pq7TD2hiT/O8nt+xjf41eT3J/kHUv47NszOyu1Ztj+iafauar+UWvts621/5RkR2Zn2h5K8qw5uz07yT3DjNwbkqwYxvfe76+TnFVVR1XVaUnOHj7jxCRHtdY+kOTNSV68hN8HOAIpZUAvvpDkgqr6TJKVSX4zyU8nef9wCvCJJO9srX1zofG93utNSY6tqv+8mA9urT2S5N8l+ZOq+nhmZ7geeIpD3jQswP+rzK4n++Mkn0nyWFX91bAo/x3D73NTkucn+cZw7N77fSLJHUk+m+TtSW4Z9lud5MaqujWza+i2LOZ3AY5c1dpizxgALF9V9czW2teH056/neRL+1mID3BImSkDmHXhMCt1W2ZPPb5r3DjAtDFTBrAPVfXTSTbtNfyJ1trFY+QBljelDACgA05fAgB0QCkDAOiAUgYA0AGlDACgA0oZAEAH/h8DB2Sm+7I4+AAAAABJRU5ErkJggg==\n",
      "text/plain": [
       "<Figure size 720x432 with 1 Axes>"
      ]
     },
     "metadata": {
      "needs_background": "light"
     },
     "output_type": "display_data"
    }
   ],
   "source": [
    "plt.figure(figsize=(10, 6))\n",
    "sns.boxplot(data=data, x=\"booking_status\", y=\"lead_time\")\n",
    "plt.show()"
   ]
  },
  {
   "cell_type": "markdown",
   "id": "c29ab0f6",
   "metadata": {},
   "source": [
    "* There's a big difference in the median value of lead time for bookings that were canceled and bookings that were not canceled. **The higher the lead time higher is the chances of a booking being canceled.**"
   ]
  },
  {
   "cell_type": "markdown",
   "id": "b5797bb0",
   "metadata": {},
   "source": [
    "**Now, let's check how the arrival month impacts the booking status**"
   ]
  },
  {
   "cell_type": "code",
   "execution_count": 22,
   "id": "1d03dbb6",
   "metadata": {},
   "outputs": [
    {
     "data": {
      "image/png": "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\n",
      "text/plain": [
       "<Figure size 720x432 with 1 Axes>"
      ]
     },
     "metadata": {
      "needs_background": "light"
     },
     "output_type": "display_data"
    }
   ],
   "source": [
    "plt.figure(figsize=(10, 6))\n",
    "sns.countplot(x='arrival_month', hue='booking_status', data=data)\n",
    "plt.show()"
   ]
  },
  {
   "cell_type": "markdown",
   "id": "e76ba1c8",
   "metadata": {},
   "source": [
    "- We observed earlier that the month of October has the highest number of bookings but the above plot shows that **October has the highest number of cancellations** as well.\n",
    "- Bookings made for **December and January are less prone to cancellations**."
   ]
  },
  {
   "cell_type": "markdown",
   "id": "9d5fca45",
   "metadata": {},
   "source": [
    "**Repeating guests are the guests who stay in the hotel often and are important to brand equity. Let's see what percentage of repeating guests cancel?**"
   ]
  },
  {
   "cell_type": "code",
   "execution_count": 23,
   "id": "5019e50b",
   "metadata": {},
   "outputs": [
    {
     "data": {
      "image/png": "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\n",
      "text/plain": [
       "<Figure size 720x432 with 1 Axes>"
      ]
     },
     "metadata": {
      "needs_background": "light"
     },
     "output_type": "display_data"
    }
   ],
   "source": [
    "plt.figure(figsize=(10, 6))\n",
    "sns.countplot(x='repeated_guest', hue='booking_status', data=data)\n",
    "plt.show()"
   ]
  },
  {
   "cell_type": "markdown",
   "id": "42076897",
   "metadata": {},
   "source": [
    "* There are **very few repeat customers but the cancellation among them is very less**. This is a good indication as repeat customers are important for the hospitality industry as they can help in spreading the word of mouth."
   ]
  },
  {
   "cell_type": "markdown",
   "id": "e414f4dc",
   "metadata": {
    "id": "arranged-courtesy"
   },
   "source": [
    "**We have explored different combinations of variables. Now, let's see the pairwise correlations between all the variables.**"
   ]
  },
  {
   "cell_type": "code",
   "execution_count": 24,
   "id": "a0ba18b4",
   "metadata": {
    "id": "official-wyoming",
    "outputId": "81a9c889-9e29-4178-924c-ff99a2b6acab"
   },
   "outputs": [
    {
     "data": {
      "image/png": "iVBORw0KGgoAAAANSUhEUgAAA0QAAAJZCAYAAACJJvXfAAAAOXRFWHRTb2Z0d2FyZQBNYXRwbG90bGliIHZlcnNpb24zLjMuNCwgaHR0cHM6Ly9tYXRwbG90bGliLm9yZy8QVMy6AAAACXBIWXMAAAsTAAALEwEAmpwYAAEAAElEQVR4nOydd3gVRduH7zmhkx7SEASk94QAUhQSmhAFUVSw0FFRRAmE0BSQIohIlyqKIC+C4qugiCC9hB5KAkgJHRJCCqmknMz3x9mEk5MTSM4JJN/L3NfFxcnuMzu/nZ1ndp+dskJKiUKhUCgUCoVCoVA8ieiKWoBCoVAoFAqFQqFQFBUqIFIoFAqFQqFQKBRPLCogUigUCoVCoVAoFE8sKiBSKBQKhUKhUCgUTywqIFIoFAqFQqFQKBRPLCogUigUCoVCoVAoFE8sKiBSKBQKhUKhUCgURY4Q4jshxG0hRGge+4UQYp4Q4oIQ4qQQoklh5KsCIoVCoVAoFAqFQlEcWAF0fsD+LkBN7d97wKLCyFQFRAqFQqFQKBQKhaLIkVLuBmIeYPIysFIaOAA4CiE8rc1XBUQKhUKhUCgUCoXi/wNPAdeM/r6ubbOKEtYeQKFQQPqdcFnUGrIY4BNY1BJyUIuyRS0hB8XpLdBVkVbUEnLwlCxV1BJykCqKjVsRS0ZRSyjW7Eq5UtQSclC3jHtRS8jmjj65qCXkYFKGU1FLyEG4TemilpBNeMni0+ZkMenyalHUGgrzGaeUa/X3MQx1y2KplHJpAQ5hrjys1qcCIoVCoVAoFAqFQvHI0YKfggRAplwHKhv9XQm4aZUoitfLUoVCoVAoFAqFQlGcyNQX3j/r2QD00VabawHclVLesvagqodIoVAoFAqFQqFQmEdmPrashBBrAF+gghDiOjABKAkgpVwMbAL8gQtAMtC/MPJVAZFCoVAoFAqFQqEwT+bjC4iklG8+ZL8EhhR2vmrInEKhUCgUCoVCoXhiUT1ECoVCoVAoFAqFwizyMQ6ZKypUQKRQKBQKhUKhUCjM8xiHzBUVKiBSKB4Dn34xi937DuHs5MhvPy7OtV9KybQ5i9kTfJgyZUozddwI6tWuAcDeA0eYPmcx+sxMenTtzKDebxSKpt4TB9LYrwmpKaksDVzAldDwXDauld0YMn845R1tuRx6icUBc9GnZ9CqexteHNwdgNTke6wYt5SrZy5brKV620a8MKE3wkZHyE872b9oY479LtU96TbzfTzqV2XHzHUcWLop32kLyjNtG9FJO97xn3YSbEbLS5qWnTPXcdBIy0tfvUuNdt4kRcezrNNoq3RkUb+tF2+M74/ORsfetdv4e9FvuWx6TuhPA78mpKWksiLwG66FXQKgz4wPaNjOh4Tou0x6YUSh6Mkqb51W3vvMlM/LRtcq2My1yiutJdRs24gXx/dBZ6PjyNod7DZzzBcn9KG2nxfpKWmsD1zMzbDLALQa2IWmPf1ASiL+vcavI5eQkZpusZZ6bRvz+vj+CBsd+9duY8ui33PZvD6hP/X9vElPSWVl4EKuhV3CydOFvrOGYO/qSGamZN+af9jx/V8W67BWT4nSJRm+9nNKlC6BzsaGkL8O8Ofsn63WAzBm6nDatG9FSso9xn08mTOn/s1l89aA1+j9Xi+erlaZ1nU7ERdzFwB7Bzsmz/mUylWfIi01jU+HTeHC2dztVn4ZMPFdvP2akpaSyoLAOVwy0wa6VXYnYH4gto52hIdeZH7AbDLSM6jfogFBy8Zx+1okAAc3B/PLvLUWawEYOmkILdo1515KKtMDZnA+9EIum1f6vcxrg17lqapP8XLDV7kbGw9Ah1fa8eaHvQBISUph9pi5XDxjedk4+XlRfbKh7kSs3sa1Bb/l2O/yQlOqjOoFmRKp13PxsxXEHzqbr7QF5SnfRjSf1Buh03F+zU5OfZPTxx2qe9J69nu4NKjKsS9/JmzJ/Tan7sAXqPWWLwjB+f/s4PS3f1ulBaBG20b4jzfcI46t3ckeM22O/4Q+1PRrTHpKGv8NXMItrc1p0f8FfHr5IYTg6E87CP5us9V6FIWDmkOkUDwGuvt3ZPGsKXnu3xN8mKvXb7Jp7XImBn3M5JkLANDr9Uz5+hsWfT2ZDauXsOmfnVy8ZP0HEBv7NcG9mieBbYfw3ZjF9J/ynlm7nqN7s3n5Rkb6fkTS3UR8e7YHIOpaJFPf+IxxnYfz27yfGTBtsMVahE7QeXI//tN3Bos6BNGgW0sq1Mz50emUuCQ2T1jJgWV/FjitJVp+6juDJR2CqJ+Hli0TVnLQRAvAiZ/38FPfGRbnn1uPjjcnDWR+v6lM7BhAs26t8axRKYdNA19v3Kp58pnvUH4cu4S3p76bvS/4l53M6zu1EPUIumjlvfAB5bN5wkqCzVyrh6W1RE/XSf35od8M5nYcSaNurXCtkfOYtXy9qFDNg1m+w/lt7Ld0mzoAAHt3J1r2e4GFXccx74VR6HQ6GnZtaZWWnpMGsqDfF0zuGEDTbq3xMNFS39cbt2oeTPT9mNVjl9Jr6iAA9Bl61k9ZxaQOw/nqlXG06f1CrrSPU09Gajpz3/qcL7oE8YV/EPXaelHVu6ZVegCeb9+KKtUq06XFa0wMnM74GUFm7Y4dOsnA14dy42rOT4u8+0k/zoae41W/dxjz0eeMmTLcYi3efj54VqvI0Lbvs3jMN7w35QOzdu+M7ssfyzcw1HcwSXcTadezY/a+s4dPM9J/GCP9h1kdDD3brjmVqj3F28/15etRswmY9olZu1OHwxjRK4iIaxE5tt+6GsEnrw1nYMf3WDn3R0bMCLBcjE5HjWkDCX1rKkfaBOD6SmvK1crZ7sTuCeVYu0COdRjJuWELqfX14HynLQhCJ3h2al+2vjOD3/yCqNa9BQ41K+awSY1L4uBnqwg1CoQAHGtXotZbvvzx4gQ2dBxLpQ7e2FWz7oO9Qid4aVI/VvWbwYKOQTTs1jJXm1PTtzEu1TyY6zuCDWOX03WqYRE0t1qV8Onlx9KXx7OwyxhqtfPGuWrx+YDwA5GZhfevmKICIkWxQghRRwhxXAgRIoSobsVx+gkhFjzEpqoQIlT77SWE8Lc0v4fR1KshDvZ2ee7fsfcA3Tq3RwhB4wZ1SUhIJOpODKfOnOPpShWp/JQnJUuWpEv7tmzfc8BqPU06Nmfv+p0AXAw5Rzn78ji45f56eb1WDTm0KRiAvet30KRTcwDOH/2X5PgkAC4cO4eTp4vFWip6VSf2ciRx16LITNcTtvEAtTv65LBJjo7n1slw9On6AqctqJYYo+Od3niAWvnUAnDt0FlS4hItzt+Ual41uH0lgjvXbqNPz+DIxn007tQ0h03jTs048OsuAC6FnKesXXnsXR0BOH/oDMl3C0/PU/m8VjdPhpNpUj75SVtQKnnVIOZKJLHXbqNP13NyYzB1O+U8Zt1OPoT8ugeAayEXKGNXDjutfHQ2NpQsUwqdjY6SZUuREBlrsZaqXjWIuhJBtKbl6Mb9NO7ULIdNo05NOfjrbgAuh5ynnHat4qPisnv1UpPuEXHxBo4ezhZrsVYPQGpyKgA2JWywKWED0voP1bfr3IYNPxt6vk4eDcXO3o4KbrnbjrOh57h5LfdnRarXqsbBPUcAuHThChUre+Lialk5Nev4LDvX7wDgfMi/lLMvj6OZNrBBq0YEb9oHwM7122ne6VmL8nsYrTu14u9ftgJw+tgZbO1tcXbLfW4Xwi4QcT0y1/awo6dJ1Hz99LEzuHq6WqzFzrsGKZciuHf1NjI9g6jf9uHyQs52JzP5XvZvXbky2fUjP2kLQgXv6iRcjiTxqqHduPT7AZ5+IaeP34uOJ/pEONKkzXGoWZGoYxfR30tD6jOJOHCWKp0t1wJQyau61uZEoU/Xc2rjAeqYtDl1OvlwXGtzrmttjq2rI641KnI95ALp99LI1Gdy+eAZ6r3QzFw2xY/i9R2iR4IKiBTFje7A71JKbynlxceYrxeGde2LhMioaDzcKmT/7e5WgcioO9yOuoOHm2uO7bejoq3Oz8nDmZibd7L/jomIxtk9583X1smO5PgkMvWGNzoxt6Jx9sj98OLbqwMnd4ZYrMXew5n4W/fPKf5WDHYeuR9MCjutOew8nEkoxONZi6O7M7E37+uJvRWDo7tLLpsYI5u4iGicrHyYzgs7D2fuWlg+1qTNC3t3J+7ezHlMB5N6bLCJuW8TEYO9hxPxkbHsXfYnI/fPZ/ShhdxLSOHCnlMWa8l9raJzaTHY3Pe72IjoXIGPcyVXKterxuXjuYdLPU49QicYs2kGXx79lrN7T1mtB8DN05WIG/cf5iNv3ca9AA/u/54+T4cXfQFo6F2PipU8cPd0s0iLi4cL0Tejsv+OiYjGxcS37JzsSDJqA6NN2sBaTWoz86+5jPthApVqVrZIRxauHhWIMtITdSsKV48KD0iRNy/26sKhHYcs1lLa05lUo7qTeiuGUmZeerl0aU7TPXNo8OMY/g1YVKC0+aWchxNJRv6bdCuGcvlsN+LOXse9RW1KO9liU6YUldo1pnxFy7UA2Lk752pz7N1z6rE3tdHanMh/r1OleR3KOtpSskwpavl5Ye/5aNpqRcFRAZGiwGg9K2eEEMuEEGFCiC1CiLJaL8sBIcRJIcR/hRB5tlrmbLUemmHAICHEjgek/U0IcVTL+z2j7f2FEOeEELuA1kbbVwghXjP6O9HkeKWASUBPrXeqpxCirfY7q7cqV/eOEOI9IcQRIcSRb1euyV/h5YE08/ZVCGH2pawQVmWVfeyHaciPTd2WDWjTsz1rp620XtQD8nlcaR/H8QqEuWudr+v0iPSYw5rMrBRqeT2GMvblqdvRh5nPf8L0Z4dQqlxpGndvncu2AGJybyugT5UuV5r3Fo3gl0kruJeYYrmWQtAjMyXT/IMY13IwVRtXx7OWdQ/8AMJMhS5IFfh23krsHexZv20Vbw18g7OnzqHPsPCNs9niyX/5hIde5INWgwjs8gmbVvzBqGXjLNNxP7OH6skPXq0a49+rM0umfmuFFjPbzGiJ/usQR54fxun+M6g6qmeB0uZfi7kLlb+kdy/cJPSbP+i0ZjQdVwcRe/oqmXrreijMu5VpvTFvc+fiTfYu3kjfH0fT+4dRRJy5mh1sF3uegCFzalEFhaXUBN6UUr4rhFgH9ACCgKFSyl1CiEkYvi48LI/0K01tpZTDhBCLgUQp5cwH5D1AShkjhCgLHBZCrAdKAZ8DPsBdYAeQr24LKWWaEGI80FRK+RGAEGIjMERKuU8IYQvcM5NuKbAUIP1OuFVPdh5uFYi4ff9NbeTtO7hVcCE9I4OI21E5trtWsOwNV4c+nfHtZRj/Hn7yAs4V7799dPZwIfZ2zuFCCTHxlLMvj85GR6Y+E2dPF2Ij77+pq1ynCgO//JCZfSeTaMUwsfiIGOyN3iDaezqTGBn3yNOaIyEiBrtCPJ61xEXE4GT0RtPJ05m42zE5bGIjonGu6EJWd6qjhwtxkTltCouEiBgcTMonIZ/lY03avLgbEYNDxZzHjDepxwab+29h7T2cSYiMpcZzDYi9dpvkmAQAwjYfpopPLU78ts8iLXER0SbXyoW7JlpiI6JxqlgBMCwk4OThwl1tmJ6uhA3vLh7Bod/2cPxvy9/uF5aeLFLikzl34DT123px69y1Aut4s/9rvPbOywCEHj+Nx1P350y4e7pxOyIqr6S5SEpM4tNhk7P/3nL4v1w3mWf0IDr38ad9r04AXDx5HpeKrsAZwNAGxpj4VnxMPOWN2kAXozYwxShgDdlxFJvJg7FzsiMhNiHferr37cZLbxkGJpw9cQ7Xivd7y1w9XbkTWbDRAM/UrcbIGSMY1XsM8XHxBUprTOrNGEob1Z3Sns6kReTdptw9cIayVT0o4WxX4LQPI/lWDOWN/Le8pzPJBRjaev6nXZz/yTCkuMnoN0i6ZV3bGG+mzUm4HZfDJle75HG/rTu2bhfH1hn0dBj5Bnet1PPYeAJWmVM9RApLuSSlPK79PgpUBxyllLu0bT8AbcwlFEI45Nc2Dz4WQpwADgCVMQRnzwI7pZRRUso0wLoZrrAPmCWE+FjTmmHl8R6I73Mt2LB5G1JKToSewda2PK4VnGlQpxZXr9/k+s0I0tPT+WvbLvyea2FRHv+s3Myn/iP41H8ER7cc4rkevgBU965FckJyroclgDPBoTT3N0w0f66HH8e2HgbApWIFPlkSxJKAuURcyj3WvyDcPBGOczUPHCu7oitpQ/2uLTi39egjT/ug4zlox6tn5fGs5fKJC7hV9cSlkhs2JUvQtGtrTmw9ksPmxNYjtHi1LQDVvGuSkpBMfFTcI9Fzw4rytiZt3se8iEtVD5wquWJT0oZGXVty1uSYZ7cexfvV5wGo7F2D1IQUEqLiiLt5h8reNSlZphQA1VvX5/aFGxZruXLionatDFp8urbipMm1OrX1CM++amjqqppcq95fDibiwg22L8+9WMfj1mPrbEdZ+3IAlCxdkjqtGxJx0bKyWfP9L/Ro35se7Xuz7a/ddHu9CwCNfBqQmJDIndv5f+i3s7elZEnDe9zX3nmZIweOk5SYlO/0m1duyl4E4dCWg/j28AOgpndtkhOSiTPTBoYFn6Klv6Hn0LdHOw5vPQiAozbXCqBG45oIna5AwRDAbz9sYNALgxn0wmD2bt7HC68ZXljVa1KXpISkXAHag3Cr6MbkZRP54pPpXL9keT0GSDh+gbLPeFLmaTdEyRK4dm9N9JacdadMVY/s37YNqyFKliAjJiFfaQvCnePh2FfzwFZrN6q93IJrW47lO30ZF3sAyld0oUqXplz6bb/FWkBrx6p64Kj5VcOuLXK1Of9uPYaX1uZU8q7BvYQUEjU/L6/pcajoQt3OzTi1wTo9isJD9RApLCXV6LcecHwcmQohfIEOQEspZbIQYidQRtudVy9NBlrwLwxjIEo9LB8p5XQhxJ8Y5hUdEEJ0kFKetVT3yAnTORxykri4eNp3f4cPB/YmI8MQY/V85UXatGzGnuDDdHljAGXLlGHyWMMKQSVK2DA24APeH/4per2eV17qRI1nqlgqI5sT24/i5deEmbsXkpaSyrLA++tPBK4Yx7dBC4m7HctP01YxZMFwXgt8iythl9i19h8Aun/yBrZOdvSdbBixqNfrmdDV/IpRD0PqM9k8fgVvrRyFsNFxYt0uos7foMnbhhXtjq3eRnlXBwZtnEJp27LIzEyeHdCFRR2CSEtMMZvWUqQ+k7/Hr+DNlaPQace7Y0bLACMtzQd0YYmmpfu8IVRpWZeyTnYMPTCf3bN/4cTaXQ/JNW8y9Zn8NH45n6wch85Gx751O7h1/jpt3jY8OO1evZXQHcdo6OfNlF3zSUtJ44eR32SnHzjvE2q3qI+tkx3TgxezcfY69q3bblX5/DV+BW9r5X1cK28frXyOauXzrsm1WqiVj7m01pCpz2Tj+BX0WznasATuup3cPn+D5pqeQ6u38e+O49Ty82L4rtmkp6Ty68glAFw/fpGwvw4y5M8vyMzQczPsMofXWF42mfpM1o7/jo+0axWsXavntWu1Z/VWQneEUN+vCZ/vmkdaShqrRi4EoHrT2jzboy03zlxhzCbDKoUbZqwhzIq5edbocXBzos/XQ9DpdAid4OifwYRuz/9DaF7s/mcfbdq34q+D67mXco9PP7nf27No9WzGD59KVOQd3h70BgOG9KaCmzP/3bGa3dv2M2H4FzxTqyrT5k9Er9dz8dwlxgdYvoLise1HaOLnw4LdS0hNSWVh4LzsfWNXjGdR0AJib8ewatoKAhaMpFfgO1wOC2fbWsPCBy38W/PCO13QZ+hJu5fGnKFfWV4wwIHtB3m2XXNW711J6r1Uvhx+/3jTV07lq5GziI6M5tUB3Xnzg544uzqzfOtSDu44xFcjZ9E34B3sHe0J+OJjwLBy4fsvDrFMjD6TC2OX02DNOMPS2Wt2kPzvdTz7GOrOrZVbqfDSs7i/3haZrifzXhpn3p/9wLSWIvWZHPj0Bzr+Jwih03Fh7S7izt2gdu92APy7ajtlXR146a/JlLQtC5mZ1Hu3M7/5jiI9MQW/ZZ9Q2smWzIwMDoz7gbS7yRZrAYNf/Tl+BX20e8QxrR1rqrU5R1Zv49yO49T082LYrlmGZbe1Ngeg16JPKOtkR2ZGBn9+toJ78dbpeVw8CR9mFUU6Pl7x/xIhRFXgDyllA+3vQMAWeAX4SEq5RwgxEXCQUppd+1Pr4cllq/3Oc8icEOJlYJCUsqsQog5wHOiMYczHAaAJEA9sB05IKT8SQnwK2EkpRwkhugP/lVIK4/MQQvQAukkp+2r5VM9a1EEI8RuwQkr5W15lYu2QucJkgE9gUUvIQS3KFrWEHBSnbvGrIq2oJeTgKfnQdwWPlVRRbNyKWB5pJ/H/e3alWP85gMKkbpnis5zxHX3xeuidlFF0C8WYI9ymdFFLyCa8ZPFpc7KYdHl1Icwcto7U8/sLrWBK12xV5OdjDtVDpChM+gKLhRDlgHCgfyHZGrMZGCyEOMn9IAgp5S0tmAoGbgHHABstzTLgdyHEIWAbYG6MxQ5gtBDiODANeE4I4Yeh9+s0YP1XEhUKhUKhUCgUxQ4VECkKjJTyMtDA6G/j3px8TXDR5h/lspVSTnxIulSgSx77vge+N7M90iSvMdr2y2jnIaWMAYw/CGDtHCSFQqFQKBSK//88AUPmVECkUCgUCoVCoVAozFOMP6haWKiASPFIEUJ8g9E3gTTmar05D0rngmF4myntpZTWf5lUoVAoFAqFQqFABUSKR4yU0qJlbrSgx6tw1SgUCoVCoVAoCoQaMqdQKBQKhUKhUCieWNSHWRUKhUKhUCgUCoXifxfVQ6RQFALF6ds/3x01+wmnIiOg6ZiilpCDzDy/3/v4KV3M3kmdJKGoJeTgacoVtYRs7lG83pCWKWZ1p0EZz6KWkINSxah8KtnYF7WEHNjbpD7c6DFyRxaf7xDFqe+NmUcNmVMoFAqFQqFQKBRPLGrInEKhUCgUCoVCoVD876J6iBQKhUKhUCgUCoVZpFTfIVIoFAqFQqFQKBRPKk/AHCI1ZE6hUCgUCoVCoVA8sageIoVCoVAoFAqFQmGeJ2BRBRUQKRQKhUKhUCgUCvOoIXMKhUKhUCgUCoVC8b+L6iFSKB4TvScOpLFfE1JTUlkauIAroeG5bFwruzFk/nDKO9pyOfQSiwPmok/PoFX3Nrw4uDsAqcn3WDFuKVfPXLZIx6dfzGL3vkM4Ozny24+Lc+2XUjJtzmL2BB+mTJnSTB03gnq1awCw98ARps9ZjD4zkx5dOzOo9xsWaTClbtvGvDa+HzobHfvXbmfrot9z2bw2oR/1/bxJS0llVeAiroddokTpkgxbO5ESpUtiY6Mj5K+DbJr9s1Va6rVtzOvj+yNsdOxfu40tZrS8PqE/9f28SU9JZWXgQq6FXcLJ04W+s4Zg7+pIZqZk35p/2PH9X1ZpAUPZvKqVTfDa7fxjRk+PCf2op5XNaq1sshA6wciN04iLiGHpwBlW6wEYMPFdvP2akpaSyoLAOVwyU5fdKrsTMD8QW0c7wkMvMj9gNhnpGdRv0YCgZeO4fS0SgIObg/ll3lqLtdRp25ju4/uis9FxYO12ti/akMvmlQl9qauVz5rARdwIuwzAp3vnk5qYQmZmJpkZemZ3G2exjizemjCAhn7epKWksTxwAVeNrkUWFSq5MXhBAOUdbLkSFs6ygPno0zPynT6/WFqXS5QuyfC1n1OidAl0NjaE/HWAP630qyz6TRyEt58PqSmpLAqcZ7buuFZ245P5gdg62nIpNJwFAXOyywegeqMaTPntS+Z8NJODm4It1lJc2mRjPV5Gei4/QI+tpmeRkZ6XND33CkGPXdsmPDVhEMLGhuiftnB70foc++07PovniLchMxOp13Pj829JOnIGgHp7l6FPSgG9Yd+5riMs1gFQtW0j2k3sjbDRceqnnRxauDHHfufqnnSe+R5uDaqy96ufObJ0EwA2pUvS6+dPsSlVAl0JG85tOsT+Wb9apQUsb5NLlC7JJ9r9Smej4/hfB/mrkPzqkZP5v7/KnOohUigeA439muBezZPAtkP4bsxi+k95z6xdz9G92bx8IyN9PyLpbiK+PdsDEHUtkqlvfMa4zsP5bd7PDJg22GIt3f07snjWlDz37wk+zNXrN9m0djkTgz5m8swFAOj1eqZ8/Q2Lvp7MhtVL2PTPTi5eumKxjiyETvDGpAEs7DeNKR2H49OtNR41nsphU8/XC9dqHnzu+wlrxi6j19SBAGSkpjPvrUlM7xLENP9R1GvbmKreNa3S0nPSQBb0+4LJHQNoakZLfV9v3Kp5MNH3Y1aPXUqvqYMA0GfoWT9lFZM6DOerV8bRpvcLudJaouf1SQNY3G8aXzykbCb7fsLasct4QyubLHz7+xNx4YZVOozx9vPBs1pFhrZ9n8VjvuG9KR+YtXtndF/+WL6Bob6DSbqbSLueHbP3nT18mpH+wxjpP8yqYEjoBK9OGsDSftP5suMImnRrjbtJ+dT19aJCNU++8B3Gz2OX8Zp2vbJY+OZkvvYfXSjBUENfb9yreTLGdyg/jF1Mn6nm/fz10e+wZfkfjPEbStLdJJ7v2a5A6fODNXU5IzWduW99zhddgvjCP4h6bb2s8qssvPx88KjmySdtP2DZmIUMnGK+HXt7dF82Ld/AMN8PtbrTwei8dLw1pg8ndh+3SktxapOz9HhU82RE2yEsH7OYfnno6aXpCTSjZ8obnzG2MPTodFSa/D7hfT/nbIchOHVrQ+malXOYJO47wb+dP+Zf/2FcHTmfyl8OzbH/Qq9x/Os/zOpgSOgEHab0ZX3fGXzfPog63VrgUrNiDpt7cUlsn7AqOxDKQp+azrpeX7Cy8zhWdh5HtbaN8PSubrUeS9vkjNR05r81iS+7BPGl/yjqWnm/eqzIzML7V0xRAZHisSCEqCOEOC6ECBFC5LtFEkKsEEK8ZmZ7RSHEL9pvXyHEH3mkvyyEqGC58sKhScfm7F2/E4CLIecoZ18eBzenXHb1WjXkkPbGc+/6HTTp1ByA80f/JTk+CYALx87h5OlisZamXg1xsLfLc/+OvQfo1rk9QggaN6hLQkIiUXdiOHXmHE9XqkjlpzwpWbIkXdq3ZfueAxbryKKqVw3uXIkk+tpt9Ol6jm3cT6NOzXLYNOrUjEO/7gbgcsh5ytqVx97VEYC05FQAbErYYFOiBFJKq7REXYnI1nJ0434a59LSlINGWsppWuKj4rimvc1PTbpHxMUbOHo4W6wFoIpXDaJMyqahiZ6GDygbRw9n6rXzJvin7VbpMKZZx2fZuX4HAOdD/qWcfXkczdTlBq0aEbxpHwA712+neadnC01DFk971eDOlQhitPIJ2bifBp2a5tTRqSlHtPK5EnKBsnblsNPKp7Dx7tSM/b/uBCA85Dzl7MrhYCavOq0acETz8/3rd2b7eX7T5wdr6jJAag6/sgEr/CqLZh2bs1trB8+HnKN8HnWnfquGHNi0H4Bd63fQzKjudOn3Igf/CubunbtWaSlObTKAj4mevMrGWM+e9TvwyUOPsxV6ynnVJPXyLdKuRSLTM4jduAeHjjn9NzP5XvZvXbnSgPX1wxweXtWJvRzJ3atRZKbrObvxANU7+eSwSY6OJ+JkOJkZuXsx0rV6rCthg65ECaursbVtcmHerxSFiwqIFI+L7sDvUkpvKeVFaw8mpbwppcwVKOUHYeCx1n0nD2dibt7J/jsmIhpn95wPy7ZOdiTHJ5GpN7xBibkVjbNH7puab68OnNwZ8si0RkZF4+F2P4Z0d6tAZNQdbkfdwcPNNcf221HRVufn4O5M7M37x4m9FY2De84HAUd3pxw2cRHR2cGG0AlGb/qS6UeXcXbvSa4cv2CxFkezWpzN2Ny/lrFGWrJwruRK5XrVuGyFlqy84ozP20zZOLg75bSJiMZB0/Pq+L5smLa6UG+6Lh4uRN+Myv47JiIaF/ec9dTOyY4ko7ocbVKXazWpzcy/5jLuhwlUMnnzXBAccpVPTK7rZW9qExGTXT5SSt5fNZaAjV/Q4s32FuvIwsndhRijvGIiYnAy8WFzfu6oac5P+vxibV0WOsGYTTP48ui3nN17yuq6DIZ2MNoov2gz7aCd2XYwq3ycafbCs2z98e9C0VKc2mTTsomJiMYpH3rM1Q9r9ZT0cCH91n0t6bfuUNJMPg4vtKDOtoU88/14ro6cl71dAtV/nEStP2bh8uYLFusAsPNwIuFmTPbfibdisHPPHSjmhdAJ+vw1lQ9DFnJl7ykijlv3+GFtmyx0gqBNX/LF0WX8a+X96rGSmVl4/4opKiBSZCOEqCqEOCOEWCaECBNCbBFClBVCeAkhDgghTgoh/iuEyLM1MmcrhPAHhgGDhBA7HpC2j5buhBBildGuNkKI/UKI8KzeIk1rqJljuGi6Q4QQSwBhcm4LgWNAZSHESCHEYS3Pzx9UBhYUp6muXNtMH1LzY1O3ZQPa9GzP2mkrrZWUJ+YenoUQZt+smZFcYMydd66XjQ8oG5kpme4/ik9bfkCVxjXwrGX5A7bZEyrgdSpdrjTvLRrBL5NWcC8xxXIteegxvQ7my09Sv10TEqLjuRZq+RwU85rMZZf/MgoPvcgHrQYR2OUTNq34g1HLLB+qZv7UTbWYSajZzO8xgVkvjWFZv+k816cTzzSvY7EWQ2b50fOAOpaP9PnXYl1dlpmSaf5BjGs5mKqNq1vnVw/ML5dRnjb9JgzkP9NXIgvhoaq4tcmW6jEtwLotG9C2Z3t+skrPw/MBuPv3Ac62/5BL735hmE+kcf7VUZx7MYDwvp9ToY8/5ZvXt0JKPurMA5CZkpVdxrHk2Y/xaFydCrUqWa4ln3oedJ1kpmSG/yjGF8b96nHyBAyZU4sqKEypCbwppXxXCLEO6AEEAUOllLuEEJOACRgCHHOsNLWVUg4TQiwGEqWUM80lEkLUB8YBraWUd4QQxq/GPIHngDrABuCXB+ifAOyVUk4SQrwIGA/Erg30l1J+KITopJ1rcwyt/wYhRBvgah5l8KMZze9lHf9ZZy9q2lbLsb9Dn8749jLMmwg/eQHnivd7XZw9XIi9HZvDPiEmnnL25dHZ6MjUZ+Ls6UJs5P03Y5XrVGHglx8ys+9kEuMSH1AE1uHhVoGI2/ffDkbevoNbBRfSMzKIuB2VY7trBeuGiYDh7ZlTxfvHcfJ04a5J2cRFxOSwcfRw4W5kTpuU+GTOHzhNvbaNuXXu2iPTEhsRjVPFCsC/BhsjLboSNry7eASHftvD8b8PWaTBVI+j8Xl7uhBvpmwczZSNl38LGnbwoZ6fFyVLl6KMbVl6z/6IVQELCqyjcx9/2vfqBMDFk+dxqegKGCZQO3u4EHM7Jod9fEw85Y3qsotRXU4xChJDdhzFZvJg7JzsSIhNKLCuXOfu6ZyrfO7mKh/n7OuVZZsYHc+pvw/zdOMahB86WyAN7Xp3po3Wu3TpxEWcjfJy9nAmLjJn2Zjz8zhNR2xE9EPT5xdr63IWKfHJnDtwmvptvSzyq059upjUnfvtoIuHC7G3H14+WXXnmUY1+Hh+IAD2znZ4+zVBn5HJkS0H86WluLXJHfp0xs9Ij4uJnjgL9Az68kO+svIekR5xh5Ke97WU9KxA+gPqYdKhMEpV8cTGyQ59bAIZ2jXNiL7L3b8PUM6rJkmHwizSknArBruK9x8HbD2dSTQpl/yQGp/MtQNnqOrbiDvnrlukBaxrk43Jul/VteJ+pShcVA+RwpRLUsrj2u+jQHXAUUq5S9v2A9DGXEIhhEN+bc3QDvhFSnkHQEpp3Pr+JqXMlFKeBtwfcpw2aMGLlPJPwLgVuiKlzJr00kn7F4Khx6gOhkAIcpdBVXMZSSmXSimbSimbmgZDAP+s3Myn/iP41H8ER7cc4rkevgBU965FckJyrocTgDPBoTT3bwnAcz38OLb1MAAuFSvwyZIglgTMJeLSrYcUgXX4PteCDZu3IaXkROgZbG3L41rBmQZ1anH1+k2u34wgPT2dv7btwu+5Flbnd+XERVyreuBSyRWbkjY06dqKk1uP5LA5tfUIzV81VKWq3jVJSUgmPioOW2c7ytqXA6Bk6ZLUbt2AyIs3rdLiVtUzW4tPHlqeNaMFoPeXg4m4cIPty/+0WIMxV7WycTYqm1MPKZt7mp6NM9YwvuWHfP7cUFYMncu5/aEWBUMAm1duyl4E4dCWg/j28AOgpndtkhOScz24AYQFn6Klf2sAfHu04/BWw0Oro9GcmBqNayJ0OouCIYBrJuXj3bUVoVuP5rAJ3XqUplr5VPGuwb2EZBKi4ihVtjSly5cBoFTZ0tR6vhERFjyYbF+1mYn+I5noP5KQLYdo9aovAM941zT4uVY3jDkbHEZTzc9b9fAlZIvBz49vPZKv9PnBmrps6ld1Wjck4qJlC3NsWfkXo/wDGOUfwOEtB2mjtYM1vWuRnJBktu6cDj5FC/9WALTt4ceRrYaXC0Ofe5+hz73H0Ofe48CmYJZ/tiTfwRAUvzb5n5WbGec/gnF56DFfNvf1PG+iZ9iSIBYXwj0i+cR5SlerSKnK7oiSJXDq+jzxW3OWc6kqntm/yzZ4BlGyBPrYBHRlS6MrbxhUoStbGrs2Xtz796rFWiJOhONUzQOHyq7oStpQp2sLLm49lq+0ZZ3tKK3V4xKlS1LluQbEWHF/AOva5MK+Xz1WnoAhc6qHSGFKqtFvPeD4mPIV5D0rM9XE7mHkdZwkk+NMk1IuySFCiKrkLgOrh8yd2H4UL78mzNy9kLSUVJYF3n8wDVwxjm+DFhJ3O5afpq1iyILhvBb4FlfCLrFr7T8AdP/kDWyd7Og72dDhpdfrmdA1yCItIydM53DISeLi4mnf/R0+HNibjAzDkrY9X3mRNi2bsSf4MF3eGEDZMmWYPDYAgBIlbBgb8AHvD/8UvV7PKy91osYzVawpFgAy9ZmsG/8dQ1aORdjoOLBuJxHnr/Pc24aVpfau/oewHSHU9/Nmwq65pKek8ePIRQDYuznR++sP0el0CJ2OY38GE7o9fzfLvLSsHf8dH60cZ1hSdd0Obp2/zvNvG97i7lm9ldAdIdT3a8Lnu+aRlpLGqpELAajetDbP9mjLjTNXGLPJsLz1hhlrCLNiLH+mPpNfxn/HhyvHGpaV1sqmtVY2+1b/w2mtbMbvmktaShqrtbJ5VBzbfoQmfj4s2L2E1JRUFgbenzswdsV4FgUtIPZ2DKumrSBgwUh6Bb7D5bBwtq3dCkAL/9a88E4X9Bl60u6lMWfoVxZrydRn8uv473lPK59D63YQef46LbXyCV79D2d2hFDXz4uxu+aSnpLKmpGGpeZtKzgwYKlhBSydjY5jv+/j7K4TFmsBOLnjGI38mjB91wLSUlL5TqsbAMO+H8uKUYuIux3LL9NX8f78AF4Z0YurYZfZs27bQ9MXFGvqsoObE32+HqL5leColX6VRcj2o3j7+TB392LStGW3sxi94jOWBC0g9nYsq6et5JMFI+gZ+DaXw8LZrtWdwqQ4tckAx7cfpbFfE77W9Cx9gJ6PFgzn9cC3uBx2iZ2anlc0Pf2M9Iy3VI8+k+vjl/DMyokIGx0x6/7h3vlruLzdGYDo1Ztx7NISpx7tID2DzNQ0rgwxtHklKjhSbelYw3FK2BD3+y4Sdlled6Q+k22f/UCPVUHobHScWruL6HM3aPyOYWXGEz9up5yrA73/mEwp27LIzEx8Bnbm+/ajKO/mSJdZ76OzMdTjf/84SPi24xZrAevaZHs3J975+kOEdr86/mcwYYXgV4+FYhzIFBZCrXChyEILBv6QUjbQ/g4EbIFXgI+klHuEEBMBByllQB7HOGHOVvv9sCFz/wVaSimjhRDOUsoYIcQKTVPWinKJUkpbY61CCF8gUEr5khBiHnBbSjlFCNEF2AS4audhfG6dgMlAeyllohDiKSAdKGeuDKSUEx9Udr2rvFpsHOm7o2aLuMgIaDqmqCXkIPMRrYZkCSXyFd8/Pm5KK+c8FTJPi3JFLSGbODIebvQYKVPMBnhEy7SilpCDUsWofIpPi2MgsJjV5X+kfVFLyOaqLr2oJeRi3uW1RX6juLdnVaFV4zLP9y7y8zGH6iFS5Ie+wGIhRDkgHOhfSLbZSCnDhBBTgV1CCD2GoWz9LND6ObBGCHEM2IVhTpC5/LYIIeoCwdoEyETgHQw9QgqFQqFQKBQKQMr//UcjFRApspFSXgYaGP1t3NWQr8ki2tybXLYP62HRbH7AMO/IeFs/k79tTbVKKXcCO7Xf0RjmBmWR1ZN1B6Nz02znAnPNSMmrDBQKhUKhUCieLJ6AIXPFp09ZoVAoFAqFQqFQKB4zqodIYRFCiG+A1iab50opv39IOhdgm5ld7bXeHYVCoVAoFApFcaEYfz+osFABkcIipJRDLEwXDXgVrhqFQqFQKBQKxSNBDZlTKBQKhUKhUCgUiv9dVA+RQqFQKBQKhUKhMI8aMqdQKBQKhUKhUCieWJ6AIXMqIFIoCoFalC1qCdkUtw+hzj4yragl5GCl1/iilpDNPzaJRS0hB5WL0YdQAXTF6MO1sph9XrM4lQ3APVm8PvZZUpQqagnZFKePQQPMK0ZlA1BBFJ9v3BS3Dx4rHh8qIFIoFAqFQqFQKBTmUUPmFAqFQqFQKBQKxRPLEzBkTvUNKhQKhUKhUCgUimKBEKKzEOJfIcQFIcRoM/sdhBAbhRAnhBBhQoj+1uapeogUCoVCoVAoFAqFeR5jD5EQwgb4BugIXAcOCyE2SClPG5kNAU5LKbsKIVyBf4UQq6WUaZbmqwIihUKhUCgUCoVCYZ7HO4eoOXBBShkOIIT4CXgZMA6IJGAnhBCALRADWLWyixoyp1AoFAqFQqFQKB45Qoj3hBBHjP69Z2LyFHDN6O/r2jZjFgB1gZvAKeATKa2L2lQPkUKhUCgUCoVCoTBPIQ6Zk1IuBZY+wMTcNwVM165/ATgOtAOqA1uFEHuklPGW6lI9RAqFQqFQKBQKhcI8MrPw/j2c60Blo78rYegJMqY/8Ks0cAG4BNSx5hRVD5FC8Rio3rYRL0zojbDREfLTTvYv2phjv0t1T7rNfB+P+lXZMXMdB5ZuyndaS6jbtjGvje+HzkbH/rXb2bro91w2r03oR30/b9JSUlkVuIjrYZcoUbokw9ZOpETpktjY6Aj56yCbZv9slZZPv5jF7n2HcHZy5LcfF+faL6Vk2pzF7Ak+TJkypZk6bgT1atcAYO+BI0yfsxh9ZiY9unZmUO83rNIC8JRvI1p83hudjY5/1+zk5Dc5y9uhuidtZr2HS4OqHJnxM6FL7l+r+oM6U/tNX5CSmLPX2TNiKfrUdKs19Z04CC8/H9JSUlkUOI/LoeG5bFwru/Hx/EDKO9pyOTScbwLmoE/PwKdjc94Y8RaZmZJMvZ6Vny/n3yNnLNZSp21jXhnfF2Gj4+Da7WxbtCGXzSsT+lLXz5v0lFTWBC7iethlAD7bO597iSnIzEwyM/TM6jbOYh1Z1G7bmJfH90Fno+Pg2h3sMKPn5Ql9qevnRVpKGmsDF3FD01PGvhxvTH8Pj9qVkBLWBS3hyrHzVul5a8IAGvk1IS0ljeWB87kSdimXTYVKbgxeEICtgx1XwsJZGjAPfXoGHtWfYuBXQ6hS/xl+nfkfNi/LfS4FoTj5eRbvfv4ePn5NSU1JZe6IOYSHXsxl41bZnZELgrB1tCM89AKzh80iIz2DV95/lTbdfQGwKWFDpRqV6OP1Nol3LfvAce+JA/Hya0JqSipLAxfk6VdD5g/H1tGWy6GXWBQwF316Bq26t+Glwd0BuJd8jxXjlnL1zGWLdGTRZ+LAbD9fHDg/Tz1D54/A1tGWS6HhLNT0+HRszusj3sz281Wff2eVn4OhLjf089bq8gKuPqAul3ew5UpYOMsC5qNPz8h3+vxQS/NxYaPj0Nod7DTj490m9KWOnxfpKWmsM/Hx14x8/OegJVy10seLm57HwuNddvswUFMIUQ24AfQC3jKxuQq0B/YIIdyB2kBuhykAqodIoXjECJ2g8+R+/KfvDBZ1CKJBt5ZUqJlzOGxKXBKbJ6zkwLI/C5zWEj1vTBrAwn7TmNJxOD7dWuNRI+cx6/l64VrNg899P2HN2GX0mjoQgIzUdOa9NYnpXYKY5j+Kem0bU9W7plV6uvt3ZPGsKXnu3xN8mKvXb7Jp7XImBn3M5JkLANDr9Uz5+hsWfT2ZDauXsOmfnVy8dMUqLUInaDWlL1t6z2C9XxDPvNwCx5oVc9ikxiURPH4Vp4wCIYByHk7UH9CJ31/8jF87jEHY6HimWwur9AB4+fngUc2TgLYfsGzMQgZOGWzW7q3Rfdm0fAPDfT8k6W4ifj07ABC67ySjOg9jjH8AS0bO590vh1isRegEPSYNYGm/6XzZcQTe3VrjblJ36vp64VrNky98h7Fu7DJemzoox/6Fb05mpv/oQgmGhE7wyqT+fNvvS77qGIh3t1a59NTR6vJ03wB+GbuMHlpdBug+oS9nd51gRvtAZnUZReSFG1bpaeTbBPdqnoz2/YgVYxfRe6rp0HgDr4/uzZblfzDa7yOS7ibSpmd7AJLiEvjPxOVWB0JQ/PwcwMevKZ5VKzK4zXt8M3oBH0z90Kxd3zH92PDt73zQ9j0S7ybRoWdHAP675FcCunxMQJePWfXlD4QdCLU4GGrs1wSPap6MaDuE5WMW02+K+WvVa3RvNi/fSKCv4Vr5atcq6lokU974jLGdh/PbvJ8ZMM28X+YXL78meFSryPC2H/LtmEUMmPK+Wbs3R/fhr+UbGe47hKS7SfhpekL3nWR05wDG+g9nycgFvPul+bLNLw19vXGv5skY36H8MHYxffKsy++wZfkfjPEbStLdJJ7v2a5A6R9Glo8v7/clX3cMxKtbK9zM+HiFah7M8A1g/dhlvGLk490m9OXcrhPMbB/InC6juG2ljxc3Pf+LSCkzgI+Av4EzwDopZZgQYrAQIsvRJgOthBCngG3AKCnlHWvyVQHR/whCiDpCiONCiBAhRPXHlOdOIUTTQj6mrxDiDwvT7s+HzWUhRIU88m1lSb4Po6JXdWIvRxJ3LYrMdD1hGw9Qu6NPDpvk6HhunQxHn64vcNqCUtWrBneuRBJ97Tb6dD3HNu6nUadmOWwadWrGoV93A3A55Dxl7cpj7+oIQFpyKmB4Q2tTogRSmg7tLRhNvRriYG+X5/4dew/QrXN7hBA0blCXhIREou7EcOrMOZ6uVJHKT3lSsmRJurRvy/Y9B6zS4upVnfjLkSRcNZR3+O8HeLpTzvK+Fx3PnRPhZGboc6UXJWywKVMKYaOjRNlSJEfGWqUHwKdjc/as3wnAhZBzlLMvj6ObUy67+q0acnCTwQV2r99B007PApCafC/bpnS5MuQeip1/nvaqwZ0rEdl1J2Tjfhp0ytkENOjUlMNa3bkScoGyduWy605h87RXDaKvRBCj6Tm+MZj6Jnrqd/LhyK97ALgacoEyduWwc3WktG1Znmleh0NrdwCgT9dzLz7ZKj3enZqx/9ddAISHnKecXXkczJx73VYNOLIpGIB963fSpFNzABKi47l08iL6DKsWSwKKn58DNO/0LDvWbwfgXMi/lLcvj5OZutyoVSP2bdoLwPZfttHihZa5bJ7v1obdG3ZbrMWnY3P2an51MeQc5fPwq3qtGnJIu1Z71u/AR7tW54/+S3J8EgAXjp3D2dPFYi1ZevasN9TF/Pr5njz8vEy5MlZ4uQFDXd4JZNXlcmbrch2jurzfqC7nN/3DqKy1OVk+fsKMj9fr5MMxIx8v+wh9vLjpeWw83iFzSCk3SSlrSSmrSymnatsWSykXa79vSik7SSkbSikbSCl/tPYU1ZC5/x26A79LKScUtZCiQkppTUDjCyQCDw2qCoq9hzPxt6Kz/46/FcNT3vmLWa1JmxcO7s7E3rx/zNhb0VT1qpHDxtHdKYdNXEQ0jh7OxEfFIXSCUX9Mx7WKB7tX/c2V4xes0vMwIqOi8XC7H8O6u1UgMuoOt6Pu4OHmmmP7qbB/rcqrnKcTSbdisv9OjojBNZ/lnRwRS+iSTfQ6OJeMe2nc2H2KG7tDrdID4OzhTPTN+y++YiKicXZ3Ju72/WDLzsmOpPgkMvWGm030rWicPZyz9zd94Vl6BfXGoYIDM/rn3Rv3MBzdnYkzqhd3b8XwtEndcTCxiYuIwUGrO1JKBq8ai5SS4P9sI3jNNou1GPJyypnXrWiqPETPXU1Ppl5PYnQ8PWcOpmLdKlw/Fc7vn68kLSXVYj2O7s7EGF2r2IhonDxcuBsVl73N1smOZKNrFXsrGkd3Z9NDWU1x9HMXDxfu3LpfPncionHxcCE2R122N6nLd3D2yBlslCpTmia+Piz9LPcQ2/ziZMavnEz8yvRaxdwyXE9TfHt14OTOEIu1GPS4EGN0Lczpye3nd3LoMfj5O9hXcOCr/lOt0+NuqifmoXU5xqgu5yd9fnBwd+JujjYnmsr5bHP0mo+/MXMwnnWrcEPz8XQrfLy46XlsPN4hc0WC6iF6jAghqgohzgghlmlf1t0ihCgrhPASQhwQQpwUQvxXCJH7tdD9Y+SyFUL4A8OAQUKIHXmkCxJCfKz9ni2E2K79bi+E+FH73UkIESyEOCaE+FkIYatt9xFC7BJCHBVC/C2E8DQ5tk4I8YMQYooQwkYI8ZUQ4rCm8X3NxlfrUfpFCHFWCLFaWz8+64vEZ4UQe4FXH1KGE4UQ32nHCs86J21fopGehVoZ/yGE2CSEeM3oMEO1czyl9axVBQYDAVov2/NCiNeFEKHaV5DNvoY0XjrySGLBHhasedtq7ZtardhNDprLKM98ZaZkuv8oPm35AVUa18CzVuVctoWJufMVQmCuGMydWsEwd975S1nKoRxPd2rCupYBrPEZSsmypan+amtrBZm9Xrk0PcTmyN8HCWz/EV+/O43XR5gOxS6IGDPbTMSYrV6azbweE/j6pTEs7Ted1n068Uxzq+bAPvS8DSbm67LOxoanGlQj+MetzH5xDGkpqfh90M1KOXn7zYNs8l3JrNRS1H4uzPpX/utPFs07NufMkTMWD5cz5FM416puywa07dmen6attFiLIS8zG3NXZjMm920Mfj6UWe9O5/URb1qlx5yvF6h88pE+fzosr8c2Rj4+t5B8vNjpURQaqofo8VMTeFNK+a4QYh3QAwgChkopdwkhJgETMAQ45lhpaiulHCaEWAwkSiln5pFuNzACmAc0BUoLIUoCz2GYlFYB+BToIKVMEkKMAoYLIaYB84GXpZRRQoiewFRggHbcEsBqIFRKOVVbT/6ulLKZEKI0sE8IsUWz9QbqY1gtZB/QWghxBFiGYenEC8DafJRhHcAPsMPwdeJFUkrjmeuvAlWBhoAbhjGo3xntvyOlbCKE+BAIlFIOMi0/bVzqC1LKG0IIR3MijJeOnFzl7Txb+viIGOyNhlPYezqTGBmXj9O0Lm1exEVE41Tx/jGdPF24a/QW0mATk8PG0cOFuybDv1Likzl/4DT12jbm1rlrPCo83CoQcfv+m9zI23dwq+BCekYGEbejcmx3rWDdsJXkWzGU97z/tr6chzPJEfkb9lbxuQYkXIviXkwCAJf/OoK7T00u/rqvwDo69ulCu16dAAg/eR6Xivd7yJw9XIi9HZPDPiEmnvL25dHZ6MjUZ+Li6UJsZE4bgLOHTuNexQM7JzsSYhMKrCsuIgZHo3rh4Olstu445qg7zsRrdSdes02MjufU34d5unENwg+dLbCOLO6a5uXpkp3HfT3ROTVn65HcjYjh6nHDpP6Tmw7S7oOXC6yhXe/OtH3TMF/r0okLOBtdKycPF+Iic1+rckbXysnTJUcvQGFRXPzcv8+LdHzzBQAunDxPBc/75VPBw4UYk/KJz1WXK+Sqy893bcOe33cVWEuHPp3x62WYjxR+8kIuvzK9DqbXytnEryrXqcKgLz/kq76TSYwreHDWsU+XHHqcja6Fs0nPWZYe07IxrV9g8HM3C/y8Xe/OtHnTMCfp0omLJnqcH1qXnY3qcmxE9EPT54e7ETE45Ghzcvv4XRMfz2pzpObj14x83M8CHy/Oeh4bqodI8Qi4JKU8rv0+imH9dEcpZVbr/gPQxlxCIYRDfm3NcBTwEULYAalAMIbA6HlgD9ACqIchgDkO9AWqYFi5owGGNd6PYwiaKhkddwlaMKT93Qnoo9keBFwwBIEAh6SU17WPZx3HELTU0crkvDS8PsrPONA/pZSp2gS624C7yf7ngJ+llJlSygjAtNfsV6MyqZpHHvuAFUKIdwGbfGjKk5snwnGu5oFjZVd0JW2o37UF57YefeRp8+LKiYu4VvXApZIrNiVtaNK1FSe3Hslhc2rrEZq/aqhaVb1rkpKQTHxUHLbOdpS1LwdAydIlqd26AZEXTVfDLFx8n2vBhs3bkFJyIvQMtrblca3gTIM6tbh6/SbXb0aQnp7OX9t24fecdYsYRJ0Ix76aB7ZaeT/zcguubj2Wr7RJN6Nx866BTZlSAFR8rj5xFk6Y3bryL8b4BzDGP4AjWw7yfA9fAGp41yI5IcnsA3RY8Cme9TeMGm3Tw4+jWw8B4F7FI9umaoNnKFGyhEXBEMA1re44a3XHu2srwkzqY9jWozTT6k4V7xrZdadU2dKULl8GgFJlS1P7+UZEWBlIXztxkQpGery6tsyl5/TWYzR99XkAnvauwb2EZBKi4kiIukvczWhcnzF0eNds3YDI89cLrGH7qs1M8A9kgn8gx7YcotWrbQF4RvMbc0OEzgaH0tTfMC+mdQ9fjm05VOB8H0Zx8fNNK//MXgjhwN/B+PUwTLqv5V2bpITkXA/9AKeCT9Ha/zkA2r3WnoNb7s8NLGdXjvotGuTYll/+WbmZcf4jGOc/gqNbDvGc5lfVvWuRnJBs1q9OB4fSXLtWz/fw49jWwwC4VKzAsCVBLA6YS8SlWwXWAgY/H+s/nLH+wzU/9wMMfp7yAD1Zfv58Dz+OFKKfb1+1mYn+I5noP5KQLYdo9aovYKjLyXnW5bDsutyqhy8hWwzlc3zrkXylfxjXNR930upx464tOW3Gx5sY+XiK5uOJUXe5a+Ljty3w8eKs57EhZeH9K6aoHqLHj/FgUT3g+DgylVKmCyEuY1i7fT9wEkMvS3UMPSjVga1Syhz97EKIhkCYlDL3rFYD+wE/IcTXUsp7GDrKh0op/zY5ji+5zz2r/hXUQ/I6TnZ2+UxvLq1BkJSDhRDPAi8Cx4UQXlLKaHO2D0PqM9k8fgVvrRyFsNFxYt0uos7foMnbhjdxx1Zvo7yrA4M2TqG0bVlkZibPDujCog5BpCWmmE1rDZn6TNaN/44hK8cibHQcWLeTiPPXee5tw1vuvav/IWxHCPX9vJmway7pKWn8OHIRAPZuTvT++kN0Oh1Cp+PYn8GEbs9fwJAXIydM53DISeLi4mnf/R0+HNibDG1Sec9XXqRNy2bsCT5MlzcGULZMGSaPDQCgRAkbxgZ8wPvDP0Wv1/PKS52o8UwVq7RIfSbBn/1A59VBCJ2Oc2t3EXfuBnXeMTzEnf1xO2VdHXh502RKateqwaDOrPcbRVTIRS5tOkT3zVOQGXqiw65wdrXZEawFImT7Ubz8fJizezGpKaksCZyXvS9oxWcsC1pA7O1Y1kxbydAFI3gj8G0uh4WzY+1WAJp3aUmbHn5kpOtJS01l3pC8OpEfTqY+k/Xjv+f9lWMNy1yv20HE+eu00urO/tX/cHpHCHX9vBi3ay5pKan8NNIwz8OuggP9l44AwMZGx9Hf93F21wmLtWTp+e/4Fby70rCq3+F1O4k8f52Wmp7g1f9wZkcIdfy8GL1rDukpqawduSQ7/W8TV/DWnI+wKVmCmGuRrA1ckldW+eLkjmM08mvCl7u+IS0lleUjv8neF/D9OL4ftZC427H8PP1HBs8P4NURb3I17BJ71hnmUtm7OjJhwwzK2pZFSknHAS8xruMn3EtMsahsipOfAxzdfoSmfk1ZvGcZqSmpzA+ck73vsxUT+WbUPGIiY/hh2vcELhjF2yPfITwsnK1rt2TbtXihJcd3h5Bq5byL49uP0tivCV/vXkiatux2FoErxvFtkOFa/TRtFR8tGM7rgW9xOewSO9f+A8Arn7yBrZMd/SYbVk/T6/WM7xpklR4vPx9m716k+fn87H1BKz5ladA3xBn5+euBb3HFSE/zLi15vocvGel60lPTmD/ka4u1wP26PH3XAtJSUvlu5MLsfcO+H8uKUYuIux3LL9NX8f78AF4Z0YurYZez6/KD0heETH0mv49fwaCVY9AZ+XgLrR4fWP0PZzUfH7VrDmkpqfxs4uNvaj4efS2Sn6308eKmR1F4iMJYOUaRP7S5Kn9IKRtofwcCtsArwEdSyj1CiImAg5QyII9jnDBnq/1+0JA5NJsB2r9TGNZ6PyqlfEUI4Yqhx6SdlPKCEKIchp6gy8BpoLeUMlgbZldLWwJxJxCIoZfKTzuPAYA/8LoWhNXCsI58MwzD017StCwAjgA/AecAPynlRSHEGsAuyy6PczAe2hYKvCSlvCyESJRS2gohXsfQw9UNcMUQ8L0npfxFCwqbSinvCMMKeTOllL5CiBGAfdaiFEKI6lLKi9rvEKC/Uc9eLh40ZO5xEymsX6GqMJl9ZFpRS8jBSq/xRS0hm39sLJ8D8SjwEGWKWkIObB76buPxEU1aUUvIQfli9j7zWmZSUUvIgZ0oVdQSssm0es23wqWMsGrQQ6FTgZJFLaFYM+PymiJvCFPWTCi0Slz2zc+L/HzMUbxa1CeXvsBiLQgJx9CLUxi2puwBxgHB2jyhe9o2tPlB/YA12twfgE+llOe0BQnmaUP2SgBzgLCsg0opZ2n7VgFvYxiGdkxbNCEKwwp4ZpFS3tPmHf0phLgD7MUwRM8a1mP4YFcohmDrIHD3IWk2Ar8IIV4GhmJYYKEmht6mbYB1r7IVCoVCoVAo/j/yBMwhUj1Eiv9JhBC2UspEIYQLcAhorc0neiSoHqK8UT1EeaN6iB6M6iHKG9VD9GBUD1HeqB6i/18Uix6i1Z8VXg/R25OL/HzMUbxaVIWi8PhDWx2uFDD5UQZDCoVCoVAoFP+z5PODqv+fUQFRMUUI8Q1g+hGTuVLK7x+SzgXDEC9T2lu6KEBRIIToD3xisnmflHJIftJLKX0LXZRCoVAoFArFk8YTMGROBUTFlPw++JtJFw14Fa6ax48W+D0w+FMoFAqFQqFQKKxFBUQKhUKhUCgUCoXCPE/AegMqIFIoFAqFQqFQKBTmUUPmFApFftAVtQAjituKRsVpVTeAPscnFbWEbP7yGVbUEnLwjL543RLO26QXtYRs7IvZSljxFJ+yAUiSxUtPeVF8rlca+qKWkAPHYlaX04vRPctBFq8V+BSPj+J191MoFAqFQqFQKBTFB9VDpFAoFAqFQqFQKJ5YnoBlt4vTSB+FQqFQKBQKhUKheKyoHiKFQqFQKBQKhUJhFplZfOZ5PSpUQKRQKBQKhUKhUCjM8wTMIVJD5hQKhUKhUCgUCsUTi+ohUigUCoVCoVAoFOZ5AhZVUAGRQqFQKBQKhUKhMI+aQ6RQKAqDZ9o2otOE3ggbHcd/2knwoo059rtU9+Slme/jUb8qO2eu4+DSTdn7XvrqXWq08yYpOp5lnUYXip56bRvz+vj+CBsd+9duY8ui33PZvD6hP/X9vElPSWVl4EKuhV3CydOFvrOGYO/qSGamZN+af9jx/V9W63nKtxEtPu+NzkbHv2t2cvKbnOXjUN2TNrPew6VBVY7M+JnQJffLp/6gztR+0xekJObsdfaMWIo+1fKPRH76xSx27zuEs5Mjv/24ONd+KSXT5ixmT/BhypQpzdRxI6hXuwYAew8cYfqcxegzM+nRtTODer9hsQ5jBkx8F2+/pqSlpLIgcA6XQsNz2bhVdidgfiC2jnaEh15kfsBsMtIzqN+iAUHLxnH7WiQABzcH88u8tRZredq3EW0mGury6TU7Obow57Vyqu5J+6/fw61BVYK/+pkQo2vVd/9s0pLuIfWZZOr1rHvR+o/21m3bmFfH90NnoyN47Xb+MVOXe0zoRz0/b9JSUlkduIjrYZcoUbokn6ydSInSJdHZ6Dj+10H+mv2zVVrqtG3Mq+P7orPRcWDtdv5ZtCGXzasT+lJP8yuDlsvZ+4ROELjxC+5GxLJ04AyrtGTx1oQBNPJrQlpKGssD53Ml7FIumwqV3Bi8IABbBzuuhIWzNGAe+vQMPKo/xcCvhlCl/jP8OvM/bF6W+3wKypDPP6B5u+akptxjxvCvuRB6IZfNy3278eqgV3iqakVebfQ68bHxBUqfX/pMHIiXnw9pKaksDpzPZTN+5VrZjaHzR2DraMul0HAWBsxFn56BT8fmvD7iTTIzJZl6Pas+/45/j5yxWAsULz8vTveIOm0b88r4vggbHQfXbmebGb96ZUJf6mpa1hj51Wd753MvMQWZmUlmhp5Z3cZZpQWgRttGdJ5guF8d+2kne03u5wBdJvahpl9j0lPS+C1wCbdCDXqe7f8CPm/6gRAcW7ODA99ttlqPonBQc4gUikeM0Ak6T+7HT31nsKRDEPW7taRCzady2KTEJbFlwkoOLvszV/oTP+/hp76F83CUpafnpIEs6PcFkzsG0LRbazxq5NRT39cbt2oeTPT9mNVjl9Jr6iAA9Bl61k9ZxaQOw/nqlXG06f1CrrSW6Gk1pS9bes9gvV8Qz7zcAseaFXPYpMYlETx+FaeMHq4Bynk4UX9AJ35/8TN+7TAGYaPjmW4trNLT3b8ji2dNyXP/nuDDXL1+k01rlzMx6GMmz1wAgF6vZ8rX37Do68lsWL2ETf/s5OKlK1ZpAfD288GzWkWGtn2fxWO+4b0pH5i1e2d0X/5YvoGhvoNJuptIu54ds/edPXyakf7DGOk/zKqHJKET+E7py4Y+M1jdLohaL7fAyeRa3YtLYveEVRxbusnsMf77xlR+6jyuUIIhoRO8PmkAi/tN44uOw/ExU5fr+XrhWs2Dyb6fsHbsMt6YOhCAjNR05r81iS+7BPGl/yjqtm1MVe+aVmtZ0m860zqOoEm31rib1eLJFN9h/DR2Ga9rfpVF2/5diLxw02INpjTybYJ7NU9G+37EirGL6D31PbN2r4/uzZblfzDa7yOS7ibSpmd7AJLiEvjPxOWFEggBNPdrxlPVnqLv8/2ZPWoun3wx1Kxd2JEwgt4cTcS1CIvS5wcvvyZ4VKvI8LYf8u2YRQyY8r5ZuzdH9+Gv5RsZ7juEpLtJ+GllE7rvJKM7BzDWfzhLRi7g3S8/tFgLFD8/Ly73CKET9Jg0gKX9pvNlxxF4m/GruppffeE7jHVjl/GaiV8tfHMyM/1HF0owJHQC/8n9WN13Bt90CKJBt5a4mtzPa/o1xrmaB/PajmDjmOW8OKU/AG61KuHzph/Luo1ncecx1GrvjXNVd6s1PRYyMwvvXzFFBUSKXAgh6gghjgshQoQQ1R9TnjuFEE2tPMZgIUSfh9j0E0IsyGPfWGvyz4uKXtWJuRxJ3LUoMtP1nN54gFodfXLYJEfHc+tkOPp0fa701w6dJSUusdD0VPWqQdSVCKKv3Uafrufoxv007tQsh02jTk05+OtuAC6HnKecXXnsXR2Jj4rjmvaGOTXpHhEXb+Do4WyVHlev6sRfjiThqqF8wn8/wNOdcpbPveh47pwIJzMjd/mIEjbYlCmFsNFRomwpkiNjrdLT1KshDvZ2ee7fsfcA3Tq3RwhB4wZ1SUhIJOpODKfOnOPpShWp/JQnJUuWpEv7tmzfc8AqLQDNOj7LzvU7ADgf8i/l7Mvj6OaUy65Bq0YEb9oHwM7122ne6Vmr8zbF3as6cZcjideu1bkNB3jG5FqlRMdz+0Q4mWbqcmFTxasGUVcis+vysY37aWhSlxt2asYho7pcVqvLAGnJqQDYlLDBpkQJpLR8WEgVE78yaMnZpDXo1JTDmpYrIRcoa1cuW4uDhzP12zUh+KftFmswxbtTM/b/uguAcM2PHbT8jKnbqgFHNgUDsG/9Tpp0ag5AQnQ8l05eRJ+RUSh6WnVqydb1/wBwJuQstvblcXbL3X5cCLtI5PVIi9PnB5+Ozdmj+dWFkHN5+lX9Vg05uGk/AHvW76Cp5lepyfeybcqUK4O1A4qKk58Xp3vE0141uGOkJWTjfhoUwK8Km6e0+3nstSj06XpCNx6gtsn9vHZHH06s3wPA9ZALlLEvh62bIxVqVOR6yAXS76WRqc/k8sEz1H2hmblsih8qIFI8oXQHfpdSekspLxa1mPwipVwspVxpxSEeSUBk5+FMwq3o7L/jb8Vg55H7Rve4cHR3JvbmfT2xt6JxcHc2Y3Pnvk1EdK6bmnMlVyrXq8bl45YPWQEo5+lE0q2Y7L+TI2Io75m/8kmOiCV0ySZ6HZzLm8cWkJaQzI3doVbpeRiRUdF4uFXI/tvdrQKRUXe4HXUHDzfXHNtvR0WbO0SBcPFwIfpmVPbfMRHRuLi75LCxc7IjKT6JTL3hZhN9Kxpnj/s2tZrUZuZfcxn3wwQq1axssZbyHk4k3rx/rRJvxWBbgLospeTl1aPp+edk6r/lZ7GOLBzdnYkzqstxt6JxcM+px8HdKadNRDQOWl0WOkHQpi/54ugy/t17kitW1GWHXFpizPqVsc3diJhsLa+O78vv01ZbFZSZ4ujuTIyJHzt55Kw7tk52JBvVndhb0Ti6W/eSIy8qeFQgyqguR926QwUTPY8yvTFOHi7EGF2LmIhonEzOO7df3clRfk1feJaZ2+Yz8vtxLB1p9j1bvilOfl6c7hG5fMaMX+XyPSO/klIyeNVYhm/8gpZvtrdYRxb2Hs7Em9zP7U3aQHsPZ+KN9MRHxGDv7sTtc9ep0rwOZR1tKVmmFDX9vLCv+Gh8TVFw1Byi/6cIIaoCfwF7gVbADeBloDawGCgHXAQGSCnNvjIXQniZ2gItgWGAXgjRRkqZ66lFCBEE3JNSzhNCzAYaSynbCSHaA/2llO8IIToBnwOltWP3l1ImCiF8gFmALXAH6CelvGV0bB3wPXBNSvlpHroTgbnAS0AK8LKUMlIIMRFIlFLOFEI0A5YDSVoZdZFSNtAOUVEIsRmoDvxXShkkhJgOlBVCHAfCgPeAdUAlwAaYLKXMMQZBCPGeZsfLzs1pZlvDnFyzFOZDT4ERIvc2Ez3CjI2x5tLlSvPeohH8MmkF9xJTrBX0MDl5UsqhHE93asK6lgGkxifTfvFQqr/amou/7rNSU96Yu3ZCCLOazRV1gTF7ufJ/vcJDL/JBq0HcS76Ht58Po5aNY6jvYMukmM0n/+nXvzqJpMg4yrrY0/0/o4i9eJObB/+1SIsm6KF6zGnOMpKZkhn+oyhrX45BSwLxrFWZW+euFZYUM2LMmUjqt2tCYvRdrodeokaLehblb17Tg/04L5sCXdQC6TGXVf7zsjb9w45lpvI8ML8jfx/kyN8HqdO8Hq+PeJMv3p5okRZDXubkFI2fF6t7RD6u04PqxbweE4i/HYutiz2DfxxH5MUbhB86a7kes3Ly5+d3Ltxk7+KN9Fk9mrSkVCJPXyUzo/j2mOSgKJ9ZHhOqh+j/NzWBb6SU9YE4oAewEhglpWwEnAImPCB9Llsp5SYMQdJsc8GQxm7gee13U8BWCFESeA7YI4SoAHwKdJBSNgGOAMM1m/nAa1JKH+A7YKrRcUsAq4FzeQVDGuWBA1LKxpqWd83YfA8MllK2BEzH7ngBPYGGQE8hRGUp5WggRUrpJaV8G+gM3JRSNtYCqVwzH6WUS6WUTaWUTR8UDCVExGDnef8tnr2nM4mRcQ84vUdLXEQ0ThXv63HydOHu7Zwxc2xENE4V7/eCOHm4cFcbiqYrYcO7i0dw6Lc9HP/7kNV6km/FUN7z/luych7OJEfkb9hbxecakHAtinsxCcgMPZf/OoK7j+XzQPKDh1sFIm7ffzMaefsObhVccHerQMTtqBzbXStY9va6cx9/vto0h682zSE2MgaXivd7npw9XIi5HZPDPj4mnvL25dHZGJp0F08XYiMNNimJKdzThveE7DiKTQkb7JzyHhL4IBJvxWBr9EbT1tOZpAIMUUzS6n1KdDwXNx/F3cu6EblxEdE4GtVlR08X4k3qclxETE4bo7qcRUp8MucPnKZu28ZWaDHJx9M5l1+Z2jh4OBMfGUu1prVo0MGH8Xvn03f+x9RsVZ/es4dYpKNd7858vmkmn2+aSVxkDM4mfhwXmbPuJMTEU86o7jh5uhB3O//X9GF069uVxZsXsnjzQqIjY3A1qsuunhWINtHzIKJu3bEqfcc+Xfhi0yy+2DSL2MhYnI2uhbOHC7Em552Qy68q5Co/gLOHTuNWxaPAflVc/bw43SNy+Uw+/MpR8ysguz1IjI7n1N+Hebpx/l9cmiM+IgZ7k/t5gsn9PP5WDPZGeuw9nEm4bbAJWbuLJS9+yvdvTCYlLpGYyznnyRVb1JA5RTHnkpTyuPb7KIYeD0cp5S5t2w9AG3MJhRAO+bU1w1HARwhhB6QCwRgCo+eBPUALoB6wT+tx6QtUwdB71QDYqm3/FEMPTBZLgFAppXGQZI404A8jLVVNzs0RsJNS7tc2/cck/TYp5V0p5T3gtKbNlFNAByHEl0KI56WUdx+iKU9ungjHuZoHDpVd0ZW0oV7XFpzbetTSw1nNlRMXcavqiUslV2xK2uDTtRUntx7JYXNq6xGefdVQHap61yQlIZn4qDgAen85mIgLN9i+PPcCEJYQdSIc+2oe2Grl88zLLbi69Vi+0ibdjMbNuwY2ZUoBUPG5+sRduFEouvLC97kWbNi8DSklJ0LPYGtbHtcKzjSoU4ur129y/WYE6enp/LVtF37PWbbAw+aVm7InRx/achDfHoZ3EzW9a5OckGz2gTUs+BQt/VsbNPZox+GtBwFwNBpLX6NxTYROR0JsgkW6Ik+E41jVA3vtWtXq1oJL+bxWJcqWpmT5Mtm/n27TgOh/r1ukI4urJy7iWtUDZ60uN+nailNm6nJzo7p8T6vLts52lLUvB0DJ0iWp3boBkRctX9DAnJZQEz8P3XqUZpqWKt41srX8MeMnJrQcwqTnhvLD0Hmc3x/GqoBvLNKxfdVmJvgHMsE/kGNbDtHq1bYAPKP58V3Nj405GxxKU/+WALTu4cuxLda/6Mhiww8bGdz5QwZ3/pB9f++nY48OANT1rkNSQnKuh/4HEbz1gFXpt678i7H+wxnrP5wjWw7yvOZXNbxrkZKHX50ODuVZ/1YAPN/DjyNbDWXjXsUj26Zqg2coUbJEgf2quPp5cbpHXDPxK++urQgz8aswE7/K0lKqbGlKa21OqbKlqf18IyIs7AHO4uaJcFyqeeBY2aCnQdcW/Gui599/jtG4h+GdcSXvGqQmpJCoBUTlXewBcKjoQt3OzTj1+34UxQM1ZO7/N6lGv/WA4+PIVEqZLoS4DPQH9gMnAT8MAdkZ7f+tUso3jdMJIRoCYVqvjTn2A35CiK+1YCUv0uX9Pmo9uevxwwYqmZZbLj+QUp7Thvf5A9OEEFuklJMeclyzSH0mf49fwZsrR6Gz0XFi3S7unL9Bk7cN45mPrd5GeVcHBmycQmnbssjMTJoP6MKSDkGkJabQfd4QqrSsS1knO4YemM/u2b9wYu2uh+SaN5n6TNaO/46PVo4zLFW8bge3zl/n+bcNqxXtWb2V0B0h1Pdrwue75pGWksaqkQsBqN60Ns/2aMuNM1cYs8mw8t2GGWsI2xlisR6pzyT4sx/ovDoIodNxbu0u4s7doM477QA4++N2yro68PKmyZTUyqfBoM6s9xtFVMhFLm06RPfNU5AZeqLDrnB29Q6LtQCMnDCdwyEniYuLp333d/hwYG8ytEnlPV95kTYtm7En+DBd3hhA2TJlmDw2AIASJWwYG/AB7w//FL1ezysvdaLGM+Zi7YJxbPsRmvj5sGD3ElJTUlkYOC9739gV41kUtIDY2zGsmraCgAUj6RX4DpfDwtm2disALfxb88I7XdBn6Em7l8acoV9ZrEXqM9n12Q90+zEInY2O02t3EXPuBg20axX643bKuTrQ88/JlNKuldfAzvzYbhRlnW15cdkwAISNDed+38/VnSctLxgMdfmX8d/x4cqxhqWu1+0k4vx1Wr9teGjet/ofTu8Iob6fN+N3zSUtJY3VIxcBYO/mxDtff4jQ6RA6Hcf/DCZse/6Cu7y0rB//PR9ka9lhVks9Py8+2zWXtJRU/jMy97LuhcnJHcdo5NeEL3d9Q1pKKstH3g+yAr4fx/ejFhJ3O5afp//I4PkBvDriTa6GXWLPum0A2Ls6MmHDDMralkVKSccBLzGu4ycWD4E6uP0Qzds1Y+Xe70lNSeWrEV9n75v6w2RmBc0mOjKG7v1fpucHr+Ps6szSrYs5tP0Qs4LmPDB9QTm+/Shefj7M3r2I1JRUlgTOz94XtOJTlgZ9Q9ztWNZMW8nQBSN4PfAtroRdYudaw6IOzbu05PkevmSk60lPTWP+EMu1QPHy8+J0j8jyq/c1vzqo+VUrza/2a35V18+LcZpf/aT5lV0FB/ovHQGAjY2Oo7/v4+yuExaXS5aeTeNX0HvlKISNjpB1u4g6f4Om2v38yOptnN9+nJp+Xny8exbpKWn8HrgkO/0biz+hnJMd+vQM/hy/gnvxyVbpeWw8Ad8hEkU6l0FhMdocoj+y5sUIIQIxzMt5BfhISrlHm1PjIKUMyOMYJ8zZGs/FeUD+EzHMORqAoTflMHBUSvmKEMIVQ89NOynlBSFEOQw9QZcx9Mj0llIGa0Poakkpw4QQO4FADL1UfsArUkqzSxsJIRKllLba79eAl6SU/UzmEIUCg6SUB4QQXwDdpJQNhBD9gKZSyo+09H8AM6WUO4UQsYCbFvBVBGKklPeEEN0xzHXqnld5TK3ydrFxpBvC8m/wPAp8MkoVtYQc9DluUVz7SHjTZ1hRS8hB20z7opaQg/M2xacui4e+Z3m8xFN8ygbgmr7wVsIsDNx05YpaQjZpuUZtFy1uokxRS8hB6WI0WMlB2hS1hFxMvLK6yBuf5K8GFNozTrmR3xX5+ZhD9RD979EXWKwFIeEYenEKw9aUPcA4IFhKmSSEuKdtQ0oZpQUea4QQpTX7T7Vel9eAedqQvRLAHAyLGKClnaXtWyWEeFtKaemA04HAMiFEErATyM+Qt6XASSHEMQzzq74SQmQC6YD5j0IoFAqFQqFQKP5fo3qIFP+TCCFspZSJ2u/RgKeU8pNHlZ/qIcob1UOUN6qH6MGoHqK8UT1ED0b1EOWN6iHKG9VDZJ7kL/sXXg/RqO+L/HzMoXqIFP+rvCiEGIOhjl8B+hWtHIVCoVAoFIr/f8hivDpcYaECoicAIcQ3QGuTzXOllN8/JJ0LsM3MrvZSSuu/OPkQhBAHMXzHyJjeUspTD0urfTNo7cPsFAqFQqFQKBRPNiogegKQUlr0QQst6PEqXDUFyv/ZospboVAoFAqFQsETscqcCogUCoVCoVAoFAqFeSxe3+r/D8VnJptCoVAoFAqFQqFQPGZUD5FCoVAoFAqFQqEwjxoyp1Ao8sNVkVbUErIpTkuYAvxjU7yW4/2rGC11vebonKKWkIPXmnxc1BJy4EHZopaQTbIsXksnlxTFy8/b61yLWkIOitPnB8oXsza5uD3alilG5XMwM6aoJRRPnoBV5opPLVQoFAqFQqFQKBSKx4zqIVIoFAqFQqFQKBTmUUPmFAqFQqFQKBQKxROLWmVOoVAoFAqFQqFQKP53UT1ECoVCoVAoFAqFwjxqyJxCoVAoFAqFQqF4UpFqlTmFQqFQKBQKhUKh+N9F9RApFI+B+m29eGN8f3Q2Ovau3cbfi37LZdNzQn8a+DUhLSWVFYHfcC3sEgB9ZnxAw3Y+JETfZdILIwpFT922jXl1fD90NjqC127nn0W/57LpMaEf9fy8SUtJZXXgIq5regCETjBy4zTiImJYOnBGoWjqO3EQXn4+pKWksihwHpdDw3PZuFZ24+P5gZR3tOVyaDjfBMxBn56BT8fmvDHiLTIzJZl6PSs/X86/R85YrGXAxHfx9mtKWkoqCwLncMmMFrfK7gTMD8TW0Y7w0IvMD5hNRnoG9Vs0IGjZOG5fiwTg4OZgfpm31mItn34xi937DuHs5MhvPy7OtV9KybQ5i9kTfJgyZUozddwI6tWuAcDeA0eYPmcx+sxMenTtzKDeb1isw5h3P38PH7+mpKakMnfEHMJDL+aycavszsgFQVr5XGD2sFlkpGfwyvuv0qa7LwA2JWyoVKMSfbzeJvGuZd+rstS3nDxd6D/rI+xdHZGZkj1r/mH795ss0mBM74kDaezXhNSUVJYGLuBKHvV4yPzhWj2+xOKAuejTM2jVvQ0vDu4OQGryPVaMW8rVM5et0vPWhAE09PMmLSWN5YELuGrkx1lUqOTG4AUBlHew5UpYOMsC5qNPz8h3+vzyTNtGdJjQG52NjuM/7eTAoo059jtX9+Slme/hXr8qu2b+zKGl96+H/1fvUqOdF8nR8XzbaYzFGrKo27Yxr2lt4P6129lqpg18bUI/6mtt4CqtDSxRuiTD1k6kROmS2NjoCPnrIJtm/2y1nlptG9NtfB+EjY7Da3ewc9GGXDbdJvSltp8X6SlprAtcxM2wywCUsS/Ha9Pfw712JZDwc9ASrh47b7WelzU9hx6gp46RnhsmejxqV0IWgp4abRvhP743wkbHsbU72WNSbwD8J/Shpl9j0lPS+G/gEm5pWlr0fwGfXn4IITj60w6Cv9tssQ5jBn8+mGbtmpGaksrXw7/mopk20L2yO6O/GY2dox0XQi8w85OZZKRnYOtgS8DMADyreJKWmsbswNlc+fdKoeh6ZDwBQ+ZUD5FC8YgROh1vThrI/H5TmdgxgGbdWuNZo1IOmwa+3rhV8+Qz36H8OHYJb099N3tf8C87mdd3aiHqEbw+aQCL+03ji47D8enWGo8aT+WwqefrhWs1Dyb7fsLasct4Y+rAHPt9+/sTceFGoWny8vPBo5onAW0/YNmYhQycMtis3Vuj+7Jp+QaG+35I0t1E/Hp2ACB030lGdR7GGP8Aloycz7tfDrFYi7efD57VKjK07fssHvMN7035wKzdO6P78sfyDQz1HUzS3UTa9eyYve/s4dOM9B/GSP9hVgVDAN39O7J41pQ89+8JPszV6zfZtHY5E4M+ZvLMBQDo9XqmfP0Ni76ezIbVS9j0z04uXrL+puvj1xTPqhUZ3OY9vhm9gA+mfmjWru+Yfmz49nc+aPseiXeT6KCVz3+X/EpAl48J6PIxq778gbADoRYHQ9b4lj5Dz89TVjKxQwDTXxmLb+8XcqUtKI39muBezZPAtkP4bsxi+k95z6xdz9G92bx8IyN9PyLpbiK+PdsDEHUtkqlvfMa4zsP5bd7PDJhm3g/yS0Nfb9yreTLGdyg/jF1Mn6nm9bw++h22LP+DMX5DSbqbxPM92xUofX4QOkGnyX1Z13cGSzsEUa9bC1xqVsxhcy8uia0TVnFwWe7A9NTPu1nb9yuL8zfV8sakASzsN40pD2kDP/f9hDVjl9FLawMzUtOZ99YkpncJYpr/KOq1bUxV75pW6+k+qT/f9fuSWR0DadytFW4memr7elGhmgdf+Qbw69hlvGLUJneb0Jd/d53g6/aBzOkyittWts1CJ3hlUn+W9/uSrzsG4mVGTx1NzwzfANab0XNu1wlmFoIeoRO8NKkfq/rNYEHHIBp2a4mriZaavo1xqebBXN8RbBi7nK5T+wPgVqsSPr38WPryeBZ2GUOtdt44V3W3WEsWzfyaUbFaRQY+P5B5o+bx0RcfmbUbMGYAv337G4PaDCIxLpEXer0AQM+PenIx7CIfdvqQmcNmMniidX7+WMiUhfcvHwghOgsh/hVCXBBCjM7DxlcIcVwIESaE2GXtKaqA6BEhhGgqhJhn5TEuCyEqFJamx0FemoUQ+4tCT3GgmlcNbl+J4M612+jTMziycR+NOzXNYdO4UzMO/Grw50sh5ylrVx57V0cAzh86Q7KFD4zmqOJVg6grkURfu40+Xc+xjftp2KlZDpuGnZpx6NfdAFw20ePo4Uy9dt4E/7S90DT5dGzOnvU7AbgQco5y9uVxdHPKZVe/VUMObjJUpd3rd9C007OA4W16FqXLlcGab7E36/gsO9fvAOB8yL95amnQqhHBm/YBsHP9dpprWgqbpl4NcbC3y3P/jr0H6Na5PUIIGjeoS0JCIlF3Yjh15hxPV6pI5ac8KVmyJF3at2X7ngNW62ne6Vl2rDdc+3Mh/1LevjxOZsqnUatG7Nu0F4Dtv2yjxQstc9k8360NuzfstliLNb4VHxWX3QubmnSPWxdv4OjhbLEWgCYdm7NXq8cXtXrsYKZs6rVqyKFNwQDsXb+DJp2aA3D+6L8kxycBcOHYOZw8XazS492pGft/NegJDzlPObtyOGh+bEydVg04ounZv35ntp78ps8PFb2qE3s5krhrUWSm6zmz8QC1OvrksEmOjufWyXAy0/W50l879C/34gqnHazqVYM7Jm1gI5M2sNED2sC05FTA0MNpU6IEUlr39ryyVw2ir0QQo+k5sTGYeib1uH4nH47+ugeAqyEXKGtXDjtXR0rblqVa8zocXmtos/Tpeu7FJ1ut546Jnvomeup18uFYHnqeaV6HQ4Wkp5JXdWKuRBJ7LQp9up5TGw9Qp1POelOnkw/HNS3XQy5Qxq4ctq6OuNaoyPWQC6TfSyNTn8nlg2eo90Izc9kUiBadWrBt/TYAzoacxdbe1mwb2Lh1Y/b8adD1zy//0FJrA5+u+TQn9p0w6L14HffK7jhWcLRa1/8KQggb4BugC1APeFMIUc/ExhFYCHSTUtYHXrc2XxUQGSEMFEqZSCmPSCk/NpNHkQ9TfFQatEpsFillq0eR5/8HHN2dib0Znf137K0YHN1dctnEGNnERUTjZOXD2YP0xBnndSsaB/ecjbmDu1NOm4hoHDQ9r47vy4Zpq61+CDDG2cOZ6Jt3sv+OiYjG2T3n+ds52ZEUn0Sm3jC5M/pWNM5GZdT0hWeZuW0BQd9/ypKRCyzW4uLhQvTNqBxaXEyul3kt921qNanNzL/mMu6HCVSqWdliLfkhMioaD7f77yDc3SoQGXWH21F38HBzzbH9dlS0uUMUCBcPF+7cun+t7kRE4+JhWj72JuVzJ0f5AJQqU5omvj7ZQaUlFJZvuVRy5el61bh03LphRk4ezsQ8pB7bOtmRbFQ2MSZ1JwvfXh04uTPEOj3uLjnOPSYiBieTvMzpcdQ05yd9frH1cCL+Vkz23wm3YrDzyP0Q+ThwyFVvcreBju5OOWziIqKzA2ahE4ze9CXTjy7j7N6TXDl+wUo9Odvbu2b02Ls7c9fYJiIGew9nnJ92Iyk6ntdnDubjP6fRY/q7lCxb2mo9d0302Oe6R5jcRyJicND0JEbH88bMwXzy5zRes1KPncl5x9+KyaXFtGziI2Kw93Ai8t/rVGleh7KOtpQsU4pafl7Ye1p/X3XxcOGOkZ/fuXWHCh453wPbm7SBd27dyW4nw8+E06qL4ZGollct3J5yo4JnMX/3LTML79/DaQ5ckFKGSynTgJ+Al01s3gJ+lVJeBZBS3rb2FJ/4gEgIUVUIcUYIsRA4BnwmhDgshDgphPjcyG6c1n33jxBijRAiUNu+UwjRVPtdQQhxWfvtK4T4Q/s9UQixVAixBVgphHAVQqzX8jkshGit2bkIIbYIIUKEEEsA8RDtfTSdJ4QQq7RtXYUQB7Vj/COEcDenIY/j9RNC/C6E2Kyd6wSjfb8JIY5qXZPvGW1PFEJMEkIcBFoabS+rHefdLDujctkphPhFCHFWCLFaCCG0ff7atr1CiHlZ5ZeH1rZaV+lx7VzttGPvFkL8VwhxWgixOCvAFUIsEkIc0fQbX9dmQoj9Whke0o5jI4T4yqgevP+g6/BQzF1Fk2BCK4IHmRQe+cjLnB6kpH67JiREx3Mt1PJ5BOYl5eP8H2Jz5O+DBLb/iK/fncbrI96yQkzuTabBn3m9Bpvw0It80GoQgV0+YdOKPxi1bJzlWvKBucBUCGG2/pi7rAVFmCmg3OWTO52pTfOOzTlz5IzFw+U0MeYyMtHy4HpTulwZ3l8UyLpJ33MvMcVyLXnmlf+6k0Xdlg1o07M9a6eZbaoLICj3pvzoyS6gfKTPv5TH2MY9BPPnnMsot4kmWGZKpvuP4tOWH1ClcQ08a1n50sPC9g8p0dnYULFBNQ78uJV5L44hLSUVvw+6Fbqe/JaPjY0NTzWoRvCPW5lbCHry05bkZXPn4k32Lt5I3x9H0/uHUUScuZodoFiDtX7+8zc/Y+tgy4LNC+jWrxsXwy6iz8jdK1qsKMQhc0KI97Tnsax/pmNxnwKuGf19XdtmTC3ASXuePCqE6GPtKRZ5b0UxoTbQH/gNeA1DdCqADUKINkAS0AvwxlBmx4CjBczDB3hOSpkihPgPMFtKuVcI8TTwN1AXmADslVJOEkK8COQ5YFsIUR8YB7SWUt4RQmS99tgLtJBSSiHEICAIyJqJn63hATqbAw2AZOCwEOJPKeURYICUMkYIUVbbvl5KGQ2UB0KllOM1XQC2GCL6lVJKc3d0b6A+cBPYB7QWQhwBlgBtpJSXhBBrHqARIBAYIqXcJ4SwBbLGTDXH0MV6BdgMvAr8AozT9NsA24QQjYCzwFqgp5TysBDCHkgBBgJ3pZTNhBClgX1CiC1SyhxRgObE7wE879yEunbPmBUaFxGDU8X7b1WdPJ2Jux2TwyY2Ihrnii5kTct09HAhLjKnTWERFxGNo5EeR08X4m/H5tKcw8bDhbuRsXj5t6BhBx/q+XlRsnQpytiWpffsj1gVUPAemY59utCuVycAwk+ex6Xi/Tdkzh4uxJqUUUJMPOXty6Oz0ZGpz8TF04VYM2V09tBp3Kt4YOdkR0JsQr60dO7jT3tNy8WT53Gp6AqcydYSY6Il/gFaUoweqkN2HMVm8uACaSkoHm4ViLh9/21l5O07uFVwIT0jg4jbUTm2u1aw7O2+f58X6fimYfz7hZPnc7zNrODhQkzkw8qnQq5r9XzXNuz53bph39b6lq6EDe8vHsGh3/YQ8vchizR06NMZ316G+VHhJy/gnKse5/SthJh4yhmVjbNJPa5cpwoDv/yQmX0nk2jBELF2vTvT5k3DnKRLJy7ibFQ+zh7OudoVc3riNM1ZZfeg9PklISImx9t5O09nEiNjH5Di0REXEW1Sb1y4a6YNdDLTBhqTEp/M+QOnqde2MbfOXcNS7pq0tw5m2uT4iGgcjG08nImPjEUiuRsRw7Xjhhp+atNBfD8wfZlecD0OD9Fz1/Q+koeek5sO4meFnngTLfaeziTcjnugXnsPZxIiDTbH1u3i2DpDO9Nh5BvcvWVZ/X2p70t0frMzAOdOnKOCkZ9X8KxAdGTO3ve7MXdztIEVPCtkt5PJicnMHjE723bF/hVEaovwFFdkIS6qIKVcCix9gInZV10mf5fA8EzbHigLBAshDkgpz1mq64nvIdK4IqU8AHTS/oVgCHrqADWB54H/SimTpZTxQO7lVh7OBqNApAOwQAhxXDuWvRDCDmgD/AggpfwTeNDdoh3wi5Tyjmaf5eWVgL+FEKeAkRgCD3Ma8mKrlDJas/sVeE7b/rEQ4gRwAKiMoVwA9MB6k2P8DnyfRzAEcEhKeV1KmQkcB6piKOtwo6DjYQHRPmCWEOJjwFFKmWF07HAppV47Rpb+N4QQxzBc2/oYgqbawC0p5WEAKWW8dpxOQB/t+hwEXIzONxsp5VIpZVMpZdO8giGAyycu4FbVE5dKbtiULEHTrq05sfVIDpsTW4/Q4tW2AFTzrklKQjLxUXEPKQLLuHriIq5VPXCu5IpNSRuadG3FKRM9p7YeofmrbQCo6l2Te5qejTPWML7lh3z+3FBWDJ3Luf2hFgVDAFtX/sUY/wDG+AdwZMtBnu/hC0AN71okJyRlP5QZExZ8imf9DUMN2vTw4+hWw0OsexWPbJuqDZ6hRMkSBQpANq/clL0IwqEtB/Ht4QdATe/aJCck56mlpX9rAHx7tOPw1oMAOBrNsajRuCZCp3tkwRCA73Mt2LB5G1JKToSewda2PK4VnGlQpxZXr9/k+s0I0tPT+WvbLvyea2FRHptW/pm9EMKBv4Px62GYdF/LuzZJCcm5HvoBTgWforW/wf3avdaeg1vuz18qZ1eO+i0a5NhmCdb6Vp8vPyDiwg3+WZ5nZ/RD+WflZj71H8Gn/iM4uuUQz2n1uLp3LZITknM9aAOcCQ6lub+hQ/25Hn4c23oYAJeKFfhkSRBLAuYScemWRXq2r9rMRP+RTPQfSciWQ7R61aDnGe+aBj1m2pWzwWE01fS06uFLyBaDnuNbj+QrfX64eSIcp2oeOFR2RVfShrpdW3B+6zGLjmUtV7Q20MWoDTz5kDYwq97YOttR1r4cACVLl6R26wZEXrxplZ7rJy7iUtUDJ01P464tObM15zvX01uP4fPq8wA87V2DewnJJETFkRh1l7s3o6nwjCcANVo34Pb561brqWCi57QZPU2M9KSY6HHV9NS0Us+NE+E4V/XAUdPSsGsLzppo+XfrMbw0LZW8a3AvIYVErZ6Wd7EHwKGiC3U7N+PUBsumM//xwx981PkjPur8EcF/B9O+h+GlQx3vOiQlJJltA0/uP8nzLxp0dXitA8FbDPP0ytuXp0RJQ39E5zc7c+rgKZITrZv39T/GdQzPmVlUwvAC3dRms5QySXsO3g00tiZT1UNkIEn7XwDTpJRLjHcKIYaR9yztDO4HlmXykQeafUvT4ETrXclvGC7ysJ0PzJJSbhBC+AIT89CQF6bHlNpxOmDQnCyE2Mn9c72nBR/G7AO6CCH+I82Pr0g1+q3HUA8LNJhHSjldCPEn4A8cEEJ0eID+ahh6lJpJKWOFECs0/XmVoQCGSin/LoimvMjUZ/LT+OV8snIcOhsd+9bt4Nb567R52/BWeffqrYTuOEZDP2+m7JpPWkoaP4z8Jjv9wHmfULtFfWyd7JgevJiNs9exb53lCxpk6jP5Zfx3fLhyLDobHQfW7STi/HVav20own2r/+H0jhDq+3kzftdc0lLSWD1ykXWF8BBCth/Fy8+HObsXk5qSypLA++uRBK34jGVBC4i9HcuaaSsZumAEbwS+zeWwcHas3QpA8y4tadPDj4x0PWmpqcwbMtNiLce2H6GJnw8Ldi8hNSWVhUZaxq4Yz6KgBcTejmHVtBUELBhJr8B3uBwWzjZNSwv/1rzwThf0GXrS7qUxZ6h1K2ONnDCdwyEniYuLp333d/hwYG8yMgzxf89XXqRNy2bsCT5MlzcGULZMGSaPDQCgRAkbxgZ8wPvDP0Wv1/PKS52o8UwVq7QAHN1+hKZ+TVm8ZxmpKanMD5yTve+zFRP5ZtQ8YiJj+GHa9wQuGMXbI98hPCycrWu3ZNu1eKElx3eHkJqSaiaH/GONb1VvWoeWPdpy/cwVPt1kuEa/zfgPoVbM2zmx/Shefk2YuXshaSmpLAu8/7IgcMU4vg1aSNztWH6atoohC4bzWuBbXAm7xK61/wDQ/ZM3sHWyo+9kw+AAvV7PhK5BFus5ueMYjfyaMH3XAtJSUvlu5MLsfcO+H8uKUYuIux3LL9NX8f78AF4Z0YurYZfZs27bQ9MXFKnPZOv4H+i1Mghho+Pkul3cOX8D77cNwXXI6u2Ud3Wg38bJlLYti8zMpNmAzizrMIq0xBRenjeEp1vWpayTLUMOzGPP7PWcXGtZD2OmPpN1479jyMqxCKM28DmtDdy7+h/CtDZwwq65pKek8aPWBtq7OdH76w/R6XQInY5jfwYTut26wC5Tn8nv41cwcOUYdDY6Dq/bSeT56zyr6Tm4+h/O7gihtp8XQbvmkJaSys8j7z+m/D5xBW/O+QibkiWIuRbJz4FL8sqqQHoGmehpoek5oOmp4+fFKDN6fjPSE22lnkx9Jn+OX0GflaPQ2eg4tm4XUedv0PRtQ0ByZPU2zu04Tk0/L4btmmVYdttIS69Fn1DWyY7MjAz+/GyF1QtOABzefphm7Zrx3d7vuJdyL0dvz6QfJjEnaA4xkTF8N+07Rn8zmj4j+3Ax9CJbfjK0gZVrVCZwTiCZ+kyunr/KnJFzrNb0yHm8y24fBmpqz243MIzQMh0H/zuGjoUSQCngWWA2ViAKc2L0/0eEEFWBP6SUDYQQnYDJQHspZaIQ4ikgHUN0ugJDgWcNmVsipZwphPgWOCqlXKQFTsOklFW1ICJQSvmSEGIikCilnKnl+R8gREr5lfa3l5TyuDCsSndbSjlFCNEF2AS4ZvUCmeiuD/wXQ5ASLYRw1oaEhQCDpJRHhRDfA9WklL6mGvIoi37AFxiGzKVg6B0ZgGHs5iApZVchRB0MvTqdpZQ7hRCJUkpbo2NcBpoCnwGlpJQfaNsTpZS2xuWibV8AHMEwdO0c8LyU8rIQYjXgkGVnRmt1KeVF7fdv2vWJA/7i/pC5vzB0y17AMG/KG3AFTgKjgP9gGDaXNWTOTjvvARgCrdellOlCiFrADSllngHl+1VfLzaOVLqYdfxGSeseegubdIrPF7fXHJ1T1BJy8FqTXOvAFCkeurJFLSGb5FzvfYqWkoWz/k+hUVM+6H3g4+eGSC9qCdmUL2ZtcrG5WWmUKUblc1j/aIaqW8Nf1/4qhNmf1pHwkX+hVRu7BZseej5CCH9gDmADfCelnCqEGAwgpVys2YzEMN0lE/hWSjnHGl2qh8gIKeUWIURdDGMRARKBd6SUx4QQazEEAleAPUbJZgLrhBC9gfy+tv8Y+EYIcRLDNdgNDAY+B9ZoQ7t2AVcfoDVMCDEV2CWE0GMYCtYPQ4/Qz0KIGxiGt1XLp6Ys9gKrgBrAf6SUR7Thd4M1vf9qx30Yw4DvhBAzpJQPfcWpza36ENgshLgDPGxA/zAhhB+GHqbTGIKflkAwMB1oiKFc/yulzNQCxTAgHEMPFlLKNCFET2C+NjcqBUNP2LcYhvEdE4aKEAV0z8c5KxQKhUKhUCisQEq5CUOngPG2xSZ/fwUUzsfJUD1EFpGf3pb/j2g9RE2llOa/Mvbo87fVeuYEhjXoz0sp890Fatr79DhRPUR5o3qI8kb1ED0Y1UOUN6qH6MGoHqK8KTY3Kw3VQ/RgikUP0YddCq+HaGHRn485VA+RojjxrhCiL4bxoCEYVp1TKBQKhUKhUBQVj3cOUZGgAiILkFJOfFx5CSFcgG1mdrXXlr225JgvAF+abL4kpXwFw1ycIkHrDcrRIySE6A98YmK6T0o5xEz6ncDOR6VPoVAoFAqFQvG/hwqIijla0ONVyMf8G8O3j4o9Usrvge+LWodCoVAoFArFk8iTML1GBUQKhUKhUCgUCoXCPE/AkLniM5NNoVAoFAqFQqFQKB4zqodIoVAoFAqFQqFQmOcJ6CFSAZFCUQg8JUsVtYRsTpJQ1BJyUFmUK2oJOXhGX3yaveK2zPUvx+YVtYQcLGwyvqglZFN8Fms3cFoUr+XsN2TcKGoJOahUwr6oJWSTJIvPEuAAJYvZ4KDiVD4rKhYfLcUJ+QQERMXLKxQKhUKhUCgUCoXiMVJ8XpUqFAqFQqFQKBSK4sUT0EOkAiKFQqFQKBQKhUJhnuI2ZvgRoIbMKRQKhUKhUCgUiicW1UOkUCgUCoVCoVAozPIkLKqgAiKFQqFQKBQKhUJhnicgIFJD5hQKhUKhUCgUCsUTi+ohUigUCoVCoVAoFOZ5AhZVUAGRQvEYqN62ES9M6I3ORkfITzvZt2hjjv0u1T15eeb7eNSvyo6Z6wheuinfaS1lwMR38fZrSlpKKgsC53ApNDyXjVtldwLmB2LraEd46EXmB8wmIz2D+i0aELRsHLevRQJwcHMwv8xba7GWOm0b88r4vggbHQfXbmfbog25bF6Z0Je6ft6kp6SyJnAR18MuA/DZ3vncS0xBZmaSmaFnVrdxFusAeNq3EW0m9kbY6Di9ZidHF+Ysb6fqnrT/+j3cGlQl+KufCVly/1r13T+btKR7SH0mmXo9614snA+Lvvv5e/j4NSU1JZW5I+YQHnoxl41bZXdGLgjSrtUFZg+bRUZ6Bq+8/yptuvsCYFPChko1KtHH620S7yYWWMenX8xi975DODs58tuPi3Ptl1Iybc5i9gQfpkyZ0kwdN4J6tWsAsPfAEabPWYw+M5MeXTszqPcbBc7fHFXaNqKtdr3CftrJETPXq+PM93DVrtcxI98CEDpBrz8mkxQZy4b+X1utxXeiwVdDf9rJYTNaOs001J39X/3MUTNa3vpjMomRsfxupRaA+m296DW+PzobHXvWbmPzot9y2fSa0J+Gfk1IS0nl+8BvuBp2CYC+Mz6gUTsfEqLvMvGFEVZrySJg0lBatXuWeyn3mBzwJedCz+eyea1fd3oOeo1K1Z6ic4OXuRsbn2N/3ca1WbbxGz77YBI7/txtsZb+E9+liZ8PqSmpfBM4N4820I1h80di62jLpdDw7DawXosGjFo21qgNPGBVGwjw/ufv08yvGakpqcwaMYuLZvzcvbI7oxeMxtbRlouhF5k5bCYZ6RmUsyvHyLkjca3oik0JG35d8itbf95qlR5r2h2ABi0aMnDCu5QoaUN8TDzj3hhjlZ4hn39A83bNSU25x4zhX3Mh9EIum5f7duPVQa/wVNWKvNrodeKN6k5+0ueH0i2a4Tj8I4ROR9KGTSSsXGPWrmTd2rgtX0DMp5NJ2W5UT3U63FYsQh91h+gR1t2vHhdPwhwiNWROoXjECJ2gy+R+/KfvDBZ2CKJ+t5ZUqPlUDpuUuCQ2T1hJ8LI/C5zWErz9fPCsVpGhbd9n8ZhveG/KB2bt3hndlz+Wb2Co72CS7ibSrmfH7H1nD59mpP8wRvoPs+pBQOgEPSYNYGm/6XzZcQTe3VrjXiPnOdb19fo/9s47Poqi/+PvuYSaQHqjKAjSS0JvkoQSIQoiKFUEaVIECQQQUECKoKKCdBBFkMcHFR8FpUovoXcE6Z30hIQQArnM749bkrvLJVxygeQn83697pXs7nd2PjvzndmdnbJ4lPfhk4Dh/DRuCW9M62dyfH63KcwM/sDmxpDQCQKm9mLN25+xssVoKr3WCJcXS5nY3I9PYufEFZkerB/xv87T+G+b8XnWGKobWA+fcqUY2HwA8z6Yy6Bpgy3a9RrbmzXf/M4g/wHcvZNEKy2v/rfoV0LaDiOk7TBWfPo9p/edylVjCKBDcGsWfjk1y+O7wg5y7cYt1q1ayqTRw5gycy4Aer2eqV/MY8EXU1izchHr/trOxctXc6XBmEf59Vuvz1jRcjSV2jfC1UJ+7cgmv3z7tCHuwq080dJC0/J9y9FUzkLL9okrMjWEHuHXpw2xeaDFoEdH98l9md17GhNah9CgfVN8KpYxsakR4IdneR/GBwxlxbhF9JjWP/3Y3l+2M7vXtDzR8ojGLRpStnxp3mz2FjPGfMHo6SEW7U4cPMXQriO5fT080zGdTsfg8QPYv/2gTVoMdaAPQ/0HsmjsPPpnUQf20OrAYQGDuHvnLi26tEo/dubg34wKDmFUcIjNjaF6gfUoXa40/Zr34+sPvua9ae9ZtOsztg//++Z/9Pfvz907dwnqEgTAq2+/yrXz13ivzXuM6TyGfh/1w75Q7t9521rvOJR0YOC0QUzrO4WhrYbw2aAZudYC0CCwPqXLl6bXS+/w1ZjZvP/JUIt2pw+dZnS3Dwg38x1rwz8WnQ6XUe8TPfwDwru+Q7GgFtiXf96indN7A7i//1CmQ45dOpJ65Vru4lc8MVSDSPHUEELk7iks83l6CyHmZnO8gxCimtH2ZCFEq6zsnzSlfSsQdyWC+OtRpD3Uc3rtPiq3rmticy8mgVsnLpH2UJ/jsLmhfuuGbF+9DYDzR/+heEkHnD1dMtnVaFKLsHV7ANi+eisNghraHLc5z/lWJPpqODHXI9E/1HN07V5qBNUz1RFUj4O/Gt6wXT16gWIlilPSwznPtXj5ViD+SgQJ1wzpfW7NPl4IMk3v5JgEIo9nzqsnRYOghmxbvRWAc0f/waGkAy4W8qpWk1rsWbcbgK2/bKHRy40z2bzUvjk71+T+jXo935o4lSyR5fFtu/fRvk1LhBDUrlGVxMS7REXHcvLMOZ4rU4qypX0oVKgQbVv6s3XXvlzreISXbwXuGOfXWsv5FXHiEmmpmfPL0duV8i19OfXf7TZr8dZ8546m5Z+1+6iQT1oAyvtWJOpqONHXI9E/TOXg2j34mpUr36D67Pt1BwCXjp6neAkHnLRydf7AGZJy2XDOiuYvN2X9L5sAOH3kDI5ODrh5umayO3f6AuE3Iiye480+r7P9z13ExcTbpKV+6wbsSK8Dz+GQTR24T6sDd6zeSv2gRjbFmxWNghqxZfUWAP55TDnfrZXzv375i8ZG5byYQ7H0v4nxiegt+Jm12FrvNH/Nn7D1e4m+FQXAnZg7udYC0CSoMZtX/wXAmaNncSzpgKsF37lw+iIRFnzH2vCPo3C1KqTeuIn+1m1ITSV581aKNW+Syc6x8+skb9tJWmycyX47T3eKNm1E0u+WX4oUWNLy8FdAUQ0ixb+RDkB6g0hKOUFK+Vd+iSnh7cqd2zHp2wm3YynhnfnGktdhs8PN240Y7UYFEBseg5uXm2ncLiVISkgiTW+owWJux+DqnWFTqU5lZq6fzfjvJ1LmxbK51uLs5Ur8rYxrvHM7Ficv0xuVk5lNfHgsTt4GGyklA1eMY8TaT2jcrWWudQA4eLtw91Zs+vbd27E45iC9pZS8tvIDuvw5herdA23S8gg3bzeib0enb0eHx+DmbZ5XJc3yKtokrwAKFy1CnYC66Q3cJ0FEVAzenu7p216e7kRERRMZFY23p4fJ/sioGEunyBGO3i4kmueXl/X51XzSW+z+5Mc8GQ5iq5aASW+xK4+0gKFcxRqVmbjbsTiblXEXc5vwGJy9c/6QaC0e3u5E3IpM3466HY2Ht3s2ITKH92/zEv9bkXlIbU5x9XYj5lZGuYoJj8bVQh14L1MdmJE+lepU5vP1sxj3/QSb6kAAd293om5n1MnR4dG4m6VNSbNyHn07Or0uWLtsLWUrluWHQz8wf9N8Fk1ahJS59yVb651SL5TG0cmRqaum88Wfswjs1CLXWkBLH6N7VtTtaNzN9DzJ8I+w83RHH5Hhw/rIaOw8PExsdB7uFPNvRtKvmYe3O4UM4c7cRSALcMvAAjJN5tmvoKIaRIp8QQgxSghxUAhxQgjxsdH+34QQh4UQp4UQA4z2vyOEOCeE2AE0zea8TYD2wOdCiGNCiApCiGVCiDe041eEEJ8IIcKEEIeEEHWEEBuFEBeFEAMfp88srgHaOQ4dupvDscg23KhsCvsIYem0pucVIrPRI5tLpy4yqEk/Qtu+z7plfzBmiQ1D1SxoMb9GC1LStXzdaSJfvDqWxb1n0PTtIF5oUCX3Uixes/XhV3eczKrgD1nz9ufU6tWKUg0r51pLuiYLCZQ5rzKHM7dp0LoBZw6dyfVwOWuw9AAmhLCYhpY05xgb8qt8S1+SoxOIPHklD4TYruVeXmqxLCezIBv9PcfYGN/wj4cw75NFpKXZ/jBpqaxnrneytrl86iKDm/RnVNvhrF/2J6OXjLNZU+aozPPLkpHhTx3/Olz6+xJv1XuL99q8x6DJgyjmWCzXcdta79jZ2VGhZkWm9J7EpLcm0HlYV0qVL5U5gLV6rKjjnmR4ozNZOpHJpnPIEO7MWwxmflq0aSPSYuN5eDbzvDlF/qMWVVA8dYQQQcCLQAMMtcsaIURzKeVOoI+UMlYIUQw4KIRYDRQGPgbqAneAbcBRS+eWUu4VQqwB/pBS/qLFZ252XUrZWAjxFbAMQwOrKHAaWPgYfcZxLQYWA0x+vkeWNWtieCxOPhlvokr6uJIYEZ99IuVBWHPavB1My66G8eYXT5zHrZQHcAYwvC2NjYw1sU+ITcChpAM6Ox1p+jTcfNyIizDYJN9NTrc7uu0wdlMGUsKlBIlxiTnWFR8ei3OpjGt08nHlTmRctjbO3q4kRBhsEjTbuzEJnNx4kOdqV+TSgbM51gHaW/1SGW+AHX1cSYqIyyaEKUla3iTHJHBxw2G8fCtwa/8/OdYR/PYrtO72MgAXTpzH3SfjTbG7txuxEY/LK/f0vHrES+2as+v3HTnWkhO8Pd0Jj8x4qxwRGY2nuxsPU1MJj4wy2e/hnvO3s+bcvR1LCfP8irQuv3zqVaJ86zqUC6yNXZFCFC5RjJdnDWLj8AVPXUupepV4QdNir2lpM2sQG3KpBSAuPBZXozLj4uNKvFkZjwuPMbXxduOOmd/YSqdeHWjf4xUAzhw7i1cpz/RjHj7uREdEZxU0E1VqVWbKfMPcPCdXJxq3aIg+Vc/Ojdb1er78djCtuhrmuFw4cQG3Uhnlys3b3WIdWNysDozV6gPzOrDflHdzXAe++varvKyV8/MnzuPhk9HT4O7tTkyEaS+qeTl398mwaf1ma35e8DMAt6/eJuJ6BGUrlOXc8XNW68nLeicmPJqEuARSklNISU7h9P5TlKtWnluXrZ8j175XO4K7tQXg3PFzeJTKSB8PH3dicuCrUbejbQr/CH1kFHZeGT5s5+mOPtrUhwtXrYTrlI8A0Dk7UbRJQ2SqnsI1qlK0eRO8mzREFCmMcCiOy6SxxE2anmMdT53/Xx1auUL1ECnygyDtdxQ4AlTB0AABGCaEOA7sA8pq+xsC26WUUVLKB4Bts1fh0XiLk8B+KWWilDIKuC+EcH6Mvhxz8/glXMt741zWA10hO6q3a8S5zYefeFhzNixfl74IwoFN+wnoZBjS9aJfZe4l3iPewsPb6bCTNA42dMgFdGrBwc37AXA2mr9TsfaLCJ0uV40hgOvHL+JRzhvXMh7YFbLDr10TTptd4+nNh6nfsTkAz/tVJDnxHglR8RQuVoQiDkUBKFysCJVfqkX4ueu50gEQcfwSzuW8Kamld6X2jbi8+YhVYe2LFaGQpsW+WBGea16DmH9u5ErHuuV/pi+EsG9jWPpwk0p+lUlKvEechbw6GXaSpsHNAGjxRkv2b8qYo1O8RHGqN6phsu9JENCsEWs2bEFKyfFTZ3B0dMDD3ZUaVSpx7cYtbtwK5+HDh6zfsoPAZrbPxYg4fgnn8kb51a4Rl6zMr72f/sS3DYfxXdMQ1r83jxt7/851Ywgg/PglXIy0VM6Blj2f/sQ3DYfxbdMQ1r03j+t7/7apMQRw5fgFPMv54F7GE7tC9tRv15Tjm00neB/ffIhGHf0BeMHvRZIT73EnKt6meM1Z/f1v9ArqT6+g/uzcuIe2bxheylSvU5WkhCRiIq1/KO3UuDsdG3WjY6NubPtzBzPHzbK6MQSwcfm69EUQDm7ah396HViJe4lJWdaBjbQ60D+bOlCXizrwj+V/MLTtUIa2HUrYxjBadjIM+a3sV5mkxCSL5fxE2AmaaeW81Rut2KeV6ahbUfg29TVoc3emdIXShF/LvChFduRlvbN/0z6qNaiOzk5H4aJFqORXmRvnc1Yfrvl+LQPbDGZgm8Hs2biX1p0MU4Gr+lUhKfFepgZsdoRt3mdT+Ec8OHMW+7KlsfPxBnt7irVuQfLOMBOb8Nd7EP56d8Jf707y1h3Efz6b+zv3kDD/G8LbdSH89e7EfjiFlENH/380hjCM8MurX0FF9RAp8gMBTJdSLjLZKUQA0ApoLKW8J4TYjqHnBtIHBuQJKdrfNKP/H23bZ6Uvt0h9GusnLKPH8jEIOx3HftpB1Pmb1O1huPkdXrkFBw8n+q+dShHHYsi0NBr2acv8VqN5cDfZYlhbObL1EHUC6zJ35yJSklOYH/p1+rFxyyawYPRc4iJjWTF9GSFzR9E19C2unL7EllWGZVwbBTfl5bfaok/V8+D+A2YN/TzXWtL0aaye8B3vLh+Hzk7H/p+2EX7+Bk16GG5ee1f+xd/bjlI10JfxO2bzIDmF/44yLPlcwt2JdxYblgS2s9Nx+Pc9nN1xPNdapD6NHR99T/sfRqOz0/H3qh3EnrtJjbcMDwanfthKcQ8nuvw5hcJaXvn2bcMPLcZQzNWRV5YMB0DY2XHu971c234i11oecXjrIeoF1mPhriWkJKcwJ3RW+rGPlk1i3piviY2I5fvp3xE6dww9Rr3FpdOX2LxqU7pdo5cbc2znUVKSUyzEYD2jJs7g4NETxMcn0LLDWwzu25PUVMMSu11ef4XmjeuzK+wgbTv3oVjRokwZZ1hFzN7ejnEhg3h3xIfo9XpefzWIii9YWJkph0h9Gts/+p4OK0YblknX8qumll8ntfzq+ochv3iUXy3H8MDoDX9eIPVpbP3oezpqWk6v2kHMuZvU0rSc0LR0/yPDd/z6tmH5E9AChnL1nwlLGb58PMJOx56ftnHr/A38exh6SHas3MzJbUeoGejHtB1zeJD8gGWj5qWH7//1+1RqVB1HlxJ8FraQNV/9xO6fttqkae+WfTRp0ZCf9/xASnIKU0d8mn7si+XTmT5qJtERMbzZpyNvDe6Kq4crK/5aStjW/UwfNdOmuM05svUwfoH1mLNzIQ+SU5gXOif92NhlH7Fw9DziImP5Yfr3hMwNpVtoDy6fvsTW9DqwCUFGdeBXQ23Td3DrQeoH1mfprqWkJKfwVehX6cc+XvYxs8fMJjYilu+mf8eYuWN4e9TbXDx9kY2rNgLw49c/MuKLEczfNB8EfDf9O5Mlp3OKrfXOjQs3OLr9MF9vmktammTzfzdy7VzuV5bcv/UADVrUZ/nu70hJTuHzkRnL0k/7fgpfjv6KmIhYOrzzGl0GvYmrhyuLNy/kwNYDfDl6Vrbhc4Q+jfiZc3D/+lOEzo6ktetJvXwFh9fbAZD0v7z5LIbi6SNsmXSnUOQEIcRdKaWjNiRtCtBSSnlXCFEaeAg0BvpJKdsJIaoAx4A2wD8YeozqAAnAVuC4lNLiuqRCiDnAESnld9r2MrQhdEKIK0A9KWW0EKK39v97mt0VoJ4WTyZ9UsrITJFpZDdk7mlzgtz11Dwpyori+S3BhBf0Bec90F8iPr8lmPDLka8fb/QUmV8nb5YuzwsK2ovNv3W2NW7zmlMPrR/69jQoY18yvyWkkyQf5rcEEwoVsMFBBSl9lpUqOFoeUWb/1ryYcWkTMa/459kzjtufO/L9eixRcJ4MFM8MUspNQoiqQJg2v+cu8BawARgohDhBRiMIKeVtIcQkIAy4jWEYm102UfwXWCKEGAa8kYf6smwQKRQKhUKhUPwbKchD3fIK1SBSPDWklI5G/88GZlswa5tF2O+A76yMZw9Gy24DvY2OlTP6fxmGRRUsHctKn0KhUCgUCoXiX4RqECkUCoVCoVAoFArLqB4ihaLgIoQYD7xptvtnKeW0/NCjUCgUCoVC8W9DDZlTKAowWsNHNX4UCoVCoVAoFLlGNYgUCoVCoVAoFAqFRVQPkUKhUCgUCoVCoXhmUQ0ihUJhFSmiwHyGiOcoWN/90VGwPjlw3q7gfGfCm2L5LcGEgvTdH4DBRybnt4R0ipV6Kb8lmNC/VNP8lmBCRXuX/JZgQhFRcL614yGK5LcEE+qmFs5vCSacsdfnt4R0Nt7M7ose+UPf/BbwjKAaRAqFQqFQKBQKhcIysmC92HwSqAaRQqFQKBQKhUKhsMizMGSu4PQpKxQKhUKhUCgUCsVTRvUQKRQKhUKhUCgUCovINDVkTqFQKBQKhUKhUDyjqCFzCoVCoVAoFAqFQvEvRvUQKRQKhUKhUCgUCotItcqcQqFQKBQKhUKheFZ5FobMqQaRQvEUeNG/Fq9MeBudnY5Dq7axc8HaTDavTHybyoG+PEx+wOrQhdw6fQWAJn3bUq9LIEhJ+D/X+XXUIlJTbPu4aBX/2nSY0AudnY59q7aydcGaTDavT+xF1UA/HiSn8GPoAm5qej7cPYeUu8mkpaWRlqrnq/bjbdICUNm/Nq9p6bN/1Ta2WdDz2sReVA305UHyA1YZ6SlasjidZwzAu3IZpISfRi/i6pHzudZS1b82HSf0RmenI2zVVv5a8Hsmm04Te1NNS5uVoQu4cfoy9kUK8f6qSdgXKYTOTsex9ftZ/9XPudbxiOr+vnSe8A46Ox27V21h44LfMtl0mfgONQLr8CA5hWWh87h++jIuPm688+V7lPRwRqZJdv34F1u/W2eznuf9a+E/qSfCTsfp/27n0HxTX3ap4EPrmQPwqFGOsM9/5shi0ziFTtD1jykkRcSx5p0vbNLy4SdfsnPPAVxdnPnth4WZjkspmT5rIbvCDlK0aBGmjR9JtcoVAdi97xAzZi1En5ZGp3Zt6Nezs01aHvHVl5Np26YF95KT6ds3hKPHTmWyWbxoJnXr1kYIOH/+Mn36Dicp6V768Xp1a7Nn91q69RjEr7/+mWst1fxr03nCOwg7HXtWbWGTBV/uPPEdqmu+vDx0frrv9PpySLrv7P7xL7Z9tz7XOozpOakvtQPrkJKcwuLQuVw9dSmTjUdZT4bMGYGDsyNXTl1mYchs9A9TadKhOa8M7ABAyr37LBu/mGtnruRKR3V/X7pp5WrXqi2st1Cuuk3sQ81APx4kP+Db0LlcO33Z6rA5pZp/bd7U8mpvFnn1ppZXD43yyr5IIUas+hj7Ivbo7Ow4un4ff+ZBvVM6oBaNPu6Jzk7HPz9u58Q803LuVMGH5l8OwK1GOQ599jOnFmWU8+r92lC5WwBISezZG+wauRi9DfcsW+4P43Z/bXS/SmN2HtyvClLaKPIONYdIoXjCCJ2g3eR3+L73Z8xuPYpa7ZvgUbG0iU2lAF/cy3vzZcAIfhv3De2n9QGgpJcLjXu/zPx24/n65THodDpqtmtss56Ok/uwuPcMPm09kjrtm+JlpqdqgC/u5X34JGA4P49bwhvT+pkcn99tCl8Ef5AnjSGhE7w++R2+6f0pn7cOxa99k0x6qgT44lHemxkBIfwybgmdpmV8u7vDxF6c3XGcz1qG8mXbMURcuGmTljcn92Fh7+l80noEdds3xdtMSzVNy5SA91k1bgmdNS2pKQ+Z030yn7YdzafBY6jqX5tyfi/mWotBj45uk/syp/c0JrUOoX77pvhULGNiUyPAD8/yPnwUMJQfxi2ix7T+AOhT9fw8dTmTWoUw4/VxBPR8OVPYnOsRBEztxW+9PmNFy9FUat8I1xdLmdjcj09ix8QVmRpCj/Dt04a4C7ds0vGIDsGtWfjl1CyP7wo7yLUbt1i3aimTRg9jysy5AOj1eqZ+MY8FX0xhzcpFrPtrOxcvX7VZT9s2LXixYnmqVGvGoEFjmDd3ukW7kaGTqFuvNXXqtub6tZsMGfxO+jGdTsf0T8azadN2m7QInaDr5L7M7f0JkzXfMffl6gF+eJb3ZmLAMP4zbjHdtHKuT9WzeuoKJrcawWevj8e/58uZwuaG2oF18CrvQ6j/EL4du5B3pg6waNflg55sWLqWUQHvkXTnLgFdWgIQdT2CaZ0/YnybEfz29c/0mT4wVzqETkePyf2Y1XsaH7UOoUH7ZpnKRk2tXI0LGMrycQt5a9oAq8PmXI+gi5ZXU1qHUC+bvJoUMIyV4xbTVcur1JSHzO7+MZ+0Hc0nwaOp5u+bB/WOoMnUXmzq+RmrA0fzwmuNcDYr5ynxSYRNWMHJRablvLi3C9X7BPH7Kx/xa6uxCDsdL7RvZJMWW+4PAAu6TeWr4LF50hgqSGnzNJFpIs9+BRXVIFLkC0KIb4QQ1XIZ9ooQwj2vNT0pyvhWJPZqBHHXI9E/1HNibRhVg+qa2FQNqsvRX3cBcP3oBYqWKE4JD2cAdHZ2FCpaGJ2djkLFCpMYEWeTnud8KxJ9NZxYTc/RtXupEVTPxKZGUD0O/boTgKtHL1DMSE9e85xvRWKM9BxbG0Z1Mz3Vg+pySEufa0bpU8SxGC80qMKBVdsA0D/Ucz/hXqY4rOV534pEXY0gRtNyZO1eagbVN7GpGVSfA1raXDl6nmIlHCippc2DeykA2NnbYWdvj5Qy11oAyvtWJPJqONHXI9E/TOXQ2j3UNkub2kH12ffrDgAuG+lJiIrnuvZGOyXpPrcv3sTZ29UmPV6+FbhzJYKEa1GkPdRzbu0+XjDz5eSYBCJOXCItVZ8pvKO3K+Vb+nLqv9tt0vGIer41cSpZIsvj23bvo32blgghqF2jKomJd4mKjuXkmXM8V6YUZUv7UKhQIdq29Gfrrn0262nX7mVWrPwFgP0HjuDk7IS3t2cmu8TEu+n/Fy1W1MRP3hvSh1//9yeRUTE2aSnnW5GodN/Rc2jtXmqb+XLtoHrs03z58tHzFM/Cd8LzwHcA6rRuwO7V2wG4ePQcxUs64OTpksmuWpOaHFgXBsDu1duoE9QAgPOH/+FeQhIAF46cw8XHLVc6zMvVgbV78DVLG9+g+oT9atB66eh5ipcojpOHs1Vhc8qjvHpU7xy2kFe1guqx36jeKW5U76SY1Dt2YGO94+FbgYQrESRq5fzS7/t4zqyc349JIPq45XIu7O2wK1oYYafDvlhh7tlwz7Ll/vAkKEhp8zSRMu9+BRXVIFI8cYQQdubbUsp+Usq/80tTTjG/hpxQ0suFO7cyHm4Sbsfi5OVqwSY2wyY8lpLeLiRExLF7yZ+M2juHDw7M535iMhd2ncytFACcvFyJN9ITb1GPmU14LE7aA5GUkndXjCNk7Sc06tbSJi0GPS5memJw8nIxszHVc0fT4/acJ3djEugycyAhf07nzRn9KVysSK61OGdKG0tazPSGx6SnjdAJRq/7lE8OL+Gf3Se4euxCrrU80hNnFFfc7Vicvdwy2cSa6XExe3h1K+PBc9XKc/lY7ocSAjh6u5Bo5Kd3b8fi6JX5gTYrmk96i92f/IhMezp3xYioGLw9M96deHm6ExEVTWRUNN6eHib7bW2AAJQu5c2N6xm9Xzdv3KZ0KW+Ltt8s+ZKb149RpXJF5s77FoBSpbzp8FobFi1eYbOWzL4Tg7NZOTfYRGfYhMdkavi4lvGgbLXyXLHRlwFcvF2JNYovNjwGVzNNji4luJeQRJreMGkh9nYMrt6ZGz4BXVtxYvvR3Okwv+7bMbhkShs3k3IVFx6Ls7ebVWFziqW8Mq+Ts8sroROMXfcZnx7+hrO7T9qcV8V9XEi6nVHO74XH4uBjXTm/Fx7HqUXr6Lp/Nt2OzOVB4j1u7sw8bNRabLk/ACAlA1aMZfjaaTTs1iLXOh5RkNJGkbeoBpHCZoQQvwkhDgshTgshBmj77gohJgsh9gONLWxvF0LUE0IMEkJ8ZnSu3kKIOVmd1wotU4QQ7xttTxNCDNP+HyWEOCiEOCGE+Dg7/ZauwUJcA4QQh4QQh44mZn0DEiJzF7F5z4FlGyha0oGqresy86X3mdFwCIWLF6F2h6aPSYXssRCVBT0WAmo2czpN5MtXx7Kk9wyavR3ECw2q2KTHUmTmb5GySkOdnR2la5Qn7IfNfPXKWB4kpxA4qP1T1/LISKZJPgsew4TGg3i+dkV8KpXNvRaAbPIhOz3GJkWKF+XdBaH8NPk77t9NtlHP49MnK8q39CU5OoHIk1ds05ADLPXQCSEsarbo8znEmrL+iH79R1D2+TqcOXuezm8afPbLLz5m7LhPSEuzfQazVVqy8WWAIsWL8O6Ckfw8eZntvmOlJmtsqjauQfMuLVk1fXluhVihw0I4Ka0Kmxd6rCvnGfXO9ODRjG88kHK1K9he71ioeKy9xMJOxXkuqA4/NQ7hx7pDKVSsCBU62nDPsuH+ADC30yRmvTqOb3p/StO8uF8VpLR5iqghcwqFdfSRUtYF6gHDhBBugANwSkrZUEq528L2I34BOhptdwFWZXPex7EU6AUghNABXYGVQogg4EWgAeAL1BVCNH9MPFlpBkBKuVhKWU9KWc+vRMUsBd0Jj8WpVIb0kj6uJETGWbDJeCNY0tuVxIg4KjarQdz1SO7FJpKWquf0hoM8X7eSFcmQNfHhsTgb6XHOQo+Jjbcrd7Su/Ue2d2MSOLnxIM/VzvrarSFTXD5umfTEh8eY2Dh5u5IQEced8BjuhMdy7dhFAE6s20+ZGuVzrcU8HstazNPGLT1tHpGccI/z+/6mqn/tXGt5FJeLUVwuPq7ER8aa2MSFx+Bqpic+wmCjs7fj3YUjOfDbLo5uPGCTFjD0CJUw8lNHH1eSzNInK3zqVaJ86zq8s+cr2s4dQpkm1Xh51iCbNWWHt6c74ZEZb9UjIqPxdHfDy9Od8Mgok/0e7rkbfjVoYC8OHdzEoYObuHU7nDJlM+YTlC7jw63bEVmGTUtL4+ef19Dx9VcAqFunFit/mM+Fc/vo1PEV5n79Ce3bv5wrXXHhMWa+48YdC+XKpVRGD5qLtxvxmi/r7O0YoPnOMRt8p9XbbZi67gumrvuCuIhYXI3ic/V2I85MU2JsAsVLOqCzMzyeuPq4EReR4fNlqzxP308HM6vfdO7G3yU3xJlft48b8WY6zMuVi7cr8RGxVoXNKfFW5FWmeLOod87t+5vq/r426bl3OxYHn4xyXtzblXvh1l1jqWY1SLwexf3YRGSqnivrD+FVN/dzmmy5P4Dp/erUxoOUrV0h11qgYKXN00Q1iBQK6xgmhDgO7APKYmh46IHVRjbm2wBIKaOAS0KIRlpDpDKwJ5vzZouU8goQI4TwA4KAo1LKGO3/IOAocASoYnS+rOKxqDmn3Dx+Ebdy3riU8cCukB212jXm7ObDJjZnNx/Gr+NLAJT1q0hKYjKJUfHE34qmrN+LFCpaGIAKTasTacOiAQDXj1/Eo5w3rpoev3ZNOGWm59Tmw9TraGgvPu9XkfuJ90iMiqdwsSIUcSgKQOFiRaj0Ui3Cz123WY+7kR7fdo05babn781HqKelz3NGehKj7hB/KwaPF3wAeLFpDSLO38i1lmtmaVOnXRNObj5kYnNy8yEaaGlTzu9F7ifeIyEqHkfXEhQrWRyAQkUKUblpDSIu2rZ4wJXjF/As54NbGU/sCtlTr11TjpvpOb75EI06+gNQ3u9FkjU9AG9/OojwCzf5a+kfNul4RMTxSziX96ZkWQ90heyo1K4RlzYfsSrs3k9/4tuGw/iuaQjr35vHjb1/s3H4gjzRlRUBzRqxZsMWpJQcP3UGR0cHPNxdqVGlEtdu3OLGrXAePnzI+i07CGyWu8nNCxZ+T736QdSrH8SaNRvp2eMNABo2qEPCnQTCwyMzhalQoVz6/6++0pp//jH0ML9YuTEVKzWiYqVGrP71T94bNo41azbmStfV4xc13zH4cr12TThh5jsnNh+ikebL5r7T89OBhF+4yZaluV/lDuCv5Rv4MHgkHwaP5PCmAzTrFABABb9K3Eu8l+nBH+BM2CkaBBs65Zt1CuTI5oMAuJVy5/1Fo1kUMpvwy7dzrenK8Qt4lfPBXStXDdo15bgWxyOObT5E444GrS9oaXMnKt6qsDnFPK/qWsirk5sP0dCo3knOot6p0rQm4Rdtu0dEHb9EyfLeOGrl/IXXGnHNynKedCsGT7+K2Gn3rFLNqhNvwz3LlvuD5ftV7u8PULDSRpG3qGW3FTYhhAgAWgGNpZT3hBDbgaLAfSml8YxC821jVgGdgbPA/6SUMpvzWsM3QG/AG/j2kVRgupRykZX6H6fZatL0aaydsIzeyz9A2Ok48tN2Is/fpEEPw/ybAyu38M+2Y1QK9GXEjq94mJzCr6MMMm8cu8jp9fsZ8ucnpKXquXX6Cgd/3Gqznl8nfMeA5ePQ2ek48NM2Is7foHGPVgCErfyLM9uOUjXQl3E7ZvMwOYUfRxmWNHZ0d6LP4pEA6Ox0HPl9D2d3HLdZz/8mLKP/csOqOwd/2m5RT5VAXz7YMYuHySmsGpWRjb9NWkb3We9hV8ie2OsRrApdlFVUVmn5ZcK3DNbSZt9P2wk/f4OmmpY9K//i721HqR7ox4Qds3mQ/ICVowwP9SU9XXjri8EInQ6h03HszzBOb7XuRpmdnv9OWMr7y8ejs9Ox56dt3D5/g+Y9WgOwc+VmTm07Qs1AP6bumMOD5Ad8P2oeABXqVaFxJ39unLnKh+s+B+C3z/7DqVzOuwCQ+jS2f/Q9HVaMRtjp+HvVDmLP3aTmW4ax+Sd/2EpxDye6/jGFwo7FIC0N375t+KHlGB7kwZArc0ZNnMHBoyeIj0+gZYe3GNy3J6mpqQB0ef0Vmjeuz66wg7Tt3IdiRYsyZVwIAPb2dowLGcS7Iz5Er9fz+qtBVHzheZv1rFu/hTZtWvDPmT3cS06mX78R6cfW/r6cAQNHER4eyXdLZ1GipCNCCE6c+Jsh7421OW5zDL7zLUM139mr+c5Lmu/sWrmZU9uOUiOwDpN3fM2D5AcsHzUfgAr1KtNI851x6wwjmn//7EdO2+A7AMe3HsY3sA4zd87nQXIKS0Lnph8LXTaeb0bPJz4yjv9OX8GQuSN4I7Q7V09fZseqvwDo8H5nHF1K0GuKYWSzXq9nYrvRuUqb/0z4huHLP9TK1VZunb+Bf48gAHas3MTJbUeoGViHT3bM5UFyCt9paZNVWFtI06exasK3vKflVVgWeVU9sA4fa3m1QtPj5OnC218MQafTIXSCw3+GccrGekfq0wj76HvarByN0Ok4t2oH8eduUkUr52d/2EoxDydeWzeFQo7FkGlp1OjXhtWBY4g6epHL6w7QYcNUZKqemNNXObtym01pk9v7g6O7E70XG8qgzs6Oo7/v4R8b71cFKW2eJk97MQQhRBtgNmAHfCOlnJGFXX0ML7O7SCl/sSlOm8e+Kp5phBCvAf2klO2EEFWAY0Ab4A8ppaOR3V2z7e1AqJTykBDCBTgMXAXGSCkPZHVeKeV2IcQVoJ6UMmMsjKmmwsBJoBDwopRSrw2ZmwK0lFLeFUKUBh5imBuUVTwmmrNjfLnuBaYgJVOwvqCmszgRJv94UIDSJ6UAaQGolpb7BSmeBIOPTM5vCekUK/VSfkswoX+pgjX34K5MzW8JJhQRBWcATOECNhinbmrh/JZgwhl7m9875hlVU3O9ftITo++NH/L9JnqpZlCePeO8cHJTttejLWJ1DmgN3AAOAt3MF+LS7DYD94FvbW0QqR4iha1sAAYKIU4A/2BoqecIKWWcEOJvoJqU8tFg9VyfV0r5QAixDYh/1MMjpdwkhKgKhGkTMO8Cb+WFfoVCoVAoFIp/K1I+1TZZA+CClPISgBDiv8BrgPnKxEMxTGuwbd17DdUgUtiElDIFaGvhkKOZnfl2gNn2q1aeFylluew0aYspNALeNAs3G0MXrDlZxWNV75BCoVAoFAqF4vFoq/karxy8WEq52Gi7NGA8OfkG0NDsHKWB14EWqAaRQpEZ7WOvf2CYi2TbR1cUCoVCoVAonnFkHo7u1ho/i7Mxsbjovdn2LAxTLPQWP4WRC1SDSPH/Em1Fui0WDrWUUr7wtPUoFAqFQqFQ/BtJe7pD5m5gWPH3EWUA8yVb6wH/1RpD7kCwECJVSvlbbiNVDSLF/0u0pbR981uHQqFQKBQKhSLPOAi8KIQoD9zE8D3J7sYGUsr0Dw4KIZZhWMjrN1siVQ0ihUKhUCgUCoVCYZGnuaiClDJVCPEesBHDstvfSilPCyEGascXPol4VYNIoVAoFAqFQqFQWESmPd2Vv6WU64B1ZvssNoSklL3zIs6CtTi+QqFQKBQKhUKhUDxFVA+RQpEHxFFwPkp4v4B97FNmWhwmfylJofyWkM49WXA+SAgUMM8pWB9DTb61K78lmNC9bkh+SzChhCg45QogsQB9KLaoKFgf+yxIH0IFcJMFJ3122ifnt4RM9M1vAYAsWLfxJ4JqECkUCoVCoVAoFAqLPO0hc/mBGjKnUCgUCoVCoVAonllUD5FCoVAoFAqFQqGwyFP+DlG+oBpECoVCoVAoFAqFwiJPc9nt/EINmVMoFAqFQqFQKBTPLKqHSKFQKBQKhUKhUFhErTKnUCgUCoVCoVAonlnUHCKFQpEnVPOvzZsT3kHY6di7agubFvyeyebNie9QPdCPh8kpLA+dz/XTl3HxcaPXl0Mo6eFMWppkz49/se279XmiqfvEPtQM9ONB8gOWhs7l2unLmWzcy3gycG4IDk6OXD19iSUhc9A/TLU6fE711Aqso51vDlez0ePoVIKrpy+xOORr9A9T8a5Qmr6fD+H56i/w68z/sGHJmlzrqOJfm44TeqGz07Fv1Vb+WpD5XB0n9qKallcrQxdw4/SV9GNCJwhd+wl3wuNY3PezXOswpuekvtQOrENKcgqLQ+dy9dSlTDYeZT0ZMmcEDs6OXDl1mYUhs9E/TKVJh+a8MrADACn37rNs/GKunbmSKby1PO9fi4BJPdHZ6Tj13+0cnL/W5LhLBR+CZg7As0Y59n7+M4cXm3xsHKETdP9jCncj4vj9nS9yrcOYr76cTNs2LbiXnEzfviEcPXYqk83iRTOpW7c2QsD585fp03c4SUn30o/Xq1ubPbvX0q3HIH799c9c6fjwky/ZuecAri7O/PZD5o+qSymZPmshu8IOUrRoEaaNH0m1yhUB2L3vEDNmLUSflkandm3o17NzrjSY886k/tQJrEtKcgrzQmdz2YLveJb1ZPicUTg6O3L51CXmhHxF6sOM7/hUqFWRT377jK/em8m+dXtzraWGvy/dtXpw16otrFvwWyabrOoVa8LmlN6T+uGnpc2C0K8tpo1HWU/enxOanjZzQ2al14FgSJupv33KrPdmsn9dmE16ekzsQ22tDlySTR04eG4IDloduEirA30qlKafVgeunvkf1ttQBwJU9q/NaxPeRmenY/+qbWyzUA++NrEXVQN9eZD8gFWhC7ip1YPjdn9Nyt1k0tLSSEtNY3b78TZpecG/Fq0mGuqcY//dzr4FpnWOawUfXp05AK/q5dgx82cOGNU5wZ/3p2ILX+7FJPBN0FibdBhTkPJKkTeoOUQKxRNG6ARdJvdlbu9PmNI6hHrtm+JdsbSJTfUAPzzLezMpYBgrxy2m67R+AOhT9ayeuoLJrUbw+evjad7z5Uxhc0PNAD+8yvswNmAo349byNvTBli0e/ODt9i09A/GBg4l6U4SL3VpkaPw1lIroA5e5X34IOA9lo1bQM8s9fRk09I/+CDwPZLu3KV5l5YAJMUn8p9JS21qCIEhr96c3IdFvWcwvfVI6rRvipdZelcL8MWjvA9TA4bz33FLeFPLq0f4v9OWiAu3bNJhTO1AQ9qE+g/h27ELeWeq5bTp8kFPNixdy6gAQ9oEaGkTdT2CaZ0/YnybEfz29c/0mT4w11qETtBiai9+6/UZ37ccTeX2jXB9sZSJzf34JLZPXJGpIfQIvz5tiM3D9GnbpgUvVixPlWrNGDRoDPPmTrdoNzJ0EnXrtaZO3dZcv3aTIYPfST+m0+mY/sl4Nm3abpOWDsGtWfjl1CyP7wo7yLUbt1i3aimTRg9jysy5AOj1eqZ+MY8FX0xhzcpFrPtrOxcvX7VJC4BfYF18yvsw1H8gi8bOo//UQRbtenzQiz+WrmFYwCDu3rlLiy6t0o/pdDreGtuLYzuP2qRF6HS8NbkfX/WexoetQ2jYvhmlKpYxscmqXrEmbE7xDayLd3kf3vcfxJKx8+k71XK56PFBL9YtXcPwgMEkmaWN0OnoPvZtju88ZpMWMNSB3uV9GB3wHt+NW0CvLOrALh/0ZOPSPxij1YH+Wjm/G5/ID5OW5snDtdAJXp/8Dt/0/pTPW4fi175JpnqwSoAvHuW9mREQwi/jltBpmunnQxd0m8pXwWNtbgwJnSBoSi9+6vUZi1uNplr7RrhZqHM2T1zB/iWZ65yTP+9kVa/PbdJgTkHKq6eFlCLPfgUV1SBS5ClCiG+EENVyGfaKEMI9rzU9Jk5nIcRgo+0AIcQfeRlHOd+KRF0NJ+Z6JPqHeg6v3UvtoPomNrWC6rH/150AXDl6nuIlHCjp4UxCVDzXtTdPKUn3Cb94E2dvV5s1+QXVZ++v2wG4dPQ8xUsUx8nDOZNdlSY1OKS99dy7ejt1ghrkKHzO9OwwOp+DxfNVNdKzx0hPYkwCl09cRJ9q29fpnzfLqyNr91IzqJ6JTY2gehzU8urq0QsUK1GckppWJ29XqreoQ9h/t9qkw5g6rRuwe/V2AC4ePUfxkg44ebpksqvWpCYHtLTZvXpbetqcP/wP9xKSALhw5BwuPm651uLtW4H4KxHcuRZF2kM9/6zdR4WguiY2yTEJRJy4RFqqPlN4R29Xyrf05dR/t+dagznt2r3MipW/ALD/wBGcnJ3w9vbMZJeYeDf9/6LFiiKNBsW/N6QPv/7vTyKjYmzSUs+3Jk4lS2R5fNvufbRv0xIhBLVrVCUx8S5R0bGcPHOO58qUomxpHwoVKkTblv5s3bXPJi0A9Vs3YMfqbQCcP3oOh5IOOFvwnRpNarFv3R4AdqzeSv2gRunH2vR+hX3rw0iIvmOTlhd8KxJ5NZyo65HoH6ayf+0efM3qwazqFWvC5pT6rRuwUytX2aVN9SY103vFdqzeRv2ghunH2vZ+hf3rw7hjY9oA1Amqzx6tDrz4mDrwYHo5z/s6EOA534rEXA0nVqsHj60No7pZPVg9qC6Hft0FwLWjFyhaojglbLgHZEUp3wrEXYkg/rqhzjmzdh+VWpvWOfdiErh94hJpDzPXOdcP/MP9+LuZ9ttCQcqrp4WUefcrqKgGkSLXCCHszLellP2klH/nl6Zc4AwMfpyRTRF4uRJ3K+NBK+52DE5erhZsojNswmMyNXxcy3hQtlp5rhy7YLMmFy83Yo00xYbH4uJt+qDs6FKCewlJpOnTDDa3Y3DWdFsTPic4e7kSa3b9j9MTZ6Qnr3DyciXe6Lrib8dazCtjmzvhsThpedVxQi9+n77S5GHbVly8TdMmNjwGVzNNlvLK1UJ+BHRtxYntuX/T7+jtQuKt2PTtu7djcfTK/BCZFQGT3mLXJz8i0/IufUqX8ubG9Ywep5s3blO6lLdF22+WfMnN68eoUrkic+d9C0CpUt50eK0NixavyDNNWRERFYO3Z8Y7Hy9PdyKioomMisbb08Nkv62NMwBXbzdijHwnJjwaVy9Tvyhh5jsxt2Nw1fzZ1cuVhi83YvMPG2zWkqmM347BxcyPs6pXrAmbU1y8Xc3SJnO5Mk+bWKO0cfFypf7LDdn8w0abdKTr8TLVE2tlHWhrOljCycvFrB6MwcmsnJvXlcb1IFIyYMVYhq+dRsNuLWzS4ujtQsLtjDon8XYsJbytr3OeBAUprxR5h2oQKbJECPGbEOKwEOK0EGKAtu+uEGKyEGI/0NjC9nYhRD0hxCAhxGdG5+othJiT1Xmt0FJOCHFW64E6JYRYKYRoJYTYI4Q4L4RooNm5auc/IYTYJ4Sope2fJIT4VtN3SQgxTDv1DKCCEOKYEOJRv7qjEOIXLb6VQgjb+ngtBTd7YLYUhfFDdZHiRRiwYCS/TF7G/bvJNskxRGhJ0uM1peu2InyO5Dzm+h+rJ4+wmNPmcWRx7dVb1OFuzB1unLJtLlVmTblLG3Obqo1r0LxLS1ZNX26LGAvxWBe0fEtf7kUnEHnySu7jtyjp8df+iH79R1D2+TqcOXuezm+2B+DLLz5m7LhPSEtLy1NdlrCkSwhhMQ1trHXSz21BhNU2vSf244cZ3+dJ2liVT1mUrZzksW16MhlladN7Yl/+M2M5Mq/8Jg/uE3mGFWmTnZa5nSYx69VxfNP7U5q+HcQLDarkXooFp8j3XoaClFdPiTQp8uxXUFGLKiiyo4+UMlYIUQw4KIRYDTgAp6SUEwCEEObbj8L+AoQBo7XtLsC0rM4rpbTmdWhF4E1gAHAQ6A40A9oD44AOwMfAUSllByFEC2A54KuFrwIEAiWAf4QQC4APgBpSSl9NfwDgB1QHbgF7gKbAbnMxWmNuAIC/a12qlXjBouj48BhcSmW8PXLxceNOZJyJTVx4DC6l3IF/DDbebtyJMNjo7O3ov3AkB37bxbGNBx6fSlnQomcbmnczjGG+fPwirkaaXL1diY+INbFPjE2geEkHdHY60vRpuPq4Ea/pjguPeWx4a/T4d2ul6bmAa6mMN+cu3m6P1eNipCeviA+Pxdnoupx9XDPllbmNk7crCRFx+AY3pEarulQN9KNQkUIUdSxGz6+GsCJkXo51tHq7DQFdWwNw6YRp2rh6uxFnpslSXsUZpV/ZKs/T99PBzOw1hbs2DB+5ezuWEqUy3nI6+riSZGUelKpXiRda16FcYG3sixSicIlitJk1iA3DF+RYx6CBvejbtwcAhw4do0zZjDkFpcv4cOt2RJZh09LS+PnnNYwcMYjvl/9E3Tq1WPnDfADc3V1p26YFqamprFmTN2/+jfH2dCc8MuPNckRkNJ7ubjxMTSU8Mspkv4d77npcX347mFaa71w4cQE3I99x83YnNtK0XCWY+Y6bjxuxWt1ToVZFhs8JBaCka0n8AuuiT9VzcNP+HOsy1BlGZdxC+c2qXrEvbP/YsNYQ9HZbWnYNAuDiifNmaeNGXOTj68BH5eqFWhUZlp42JfALrIM+NY1DOUiblmZ1oFspd86nX7tpGbak50nUgWDo7TGtB91IyFQPxlisB4F027sxCZzaeJCytStw6cDZXGlJDI+lpE9GnVPCx5W7EXl/zY+joObV06Igz/3JK1QPkSI7hgkhjgP7gLLAi4AeWG1kY74NgJQyCrgkhGgkhHADKmNoXGR1Xmu4LKU8KaVMA04DW6ThlctJoJxm0wxYoWnYCrgJIZy0Y39KKVOklNFAJOCVRTwHpJQ3tHiOGZ3b/BoXSynrSSnrZdUYArh6/CKe5XxwK+OBXSE76rZrwonNh0xsTm4+RMOOzQEo5/ciyYn3SIiKB6DnpwMJv3CTrUtzt/LVI7au2MCk4FFMCh7F0U0HaNIxAIAX/F7kXuI97mjxGXM27DT1ghsD0KRTAEc3HQTg2OZDVoV/nJ6JwaFMDA7lyKYDNOnon36+5Cz1nErX07RTAEc25b6BaIlrxy/iUc4bVy2v6rRrwqnNh01sTm0+TH0tr573q8h9La/++Oy/TGw8hMnNhvL90K85v/d0rhpDAH8t38CHwSP5MHgkhzcdoFmnAAAq+FUypLWFG+uZsFM00NKmWadAjmw25JVbKXfeXzSaRSGzCb98O1d6HhF+/BIu5b0pWdYDXSE7KrdrxKXNR6wKu+fTn/im4TC+bRrCuvfmcX3v37lqDAEsWPg99eoHUa9+EGvWbKRnjzcAaNigDgl3EggPj8wUpkKFcun/v/pKa/75xzD09MXKjalYqREVKzVi9a9/8t6wcU+kMQQQ0KwRazZsQUrJ8VNncHR0wMPdlRpVKnHtxi1u3Arn4cOHrN+yg8BmjR5/QgtsXL6OUcEhjAoO4eCmffh3CgTgRb9K3EtMsvhQdjrsJI2CmwLg36kFBzcbHuqHNBuQ/tu3bi/ffLQoV40hMDxEepXzwb2MJ3aF7GnYrinHNB99RFb1ijVhrWHT8vWMCQ5hTHAIBzftp7lWrrJLm7/DTtIouAkA/p0CObTZUOcMbfYuQ5sNYGizAexbF8bSjxblqDEEsGXFBiYEhzJBqwObanVghWzqwDNhp6ifXs7zvg4EuH78Iu5G9aBvu8acNqsH/958hHodXwLgOa0eTIyKp3CxIhRxKApA4WJFqPRSLcLP3ci1lltaneOk1TlV2zXivJV1Tl5SUPNKkXeoHiKFRbSeklZAYynlPSHEdqAocF9KaTxz0XzbmFVAZ+As8D8ppczmvNaQYvR/mtF2Ghm+bHHQk4XwerL2f2vtrCJNn8aqCd/y3vLx6Ox0hP20jdvnb/BSD8Nb3F0rN3Nq21GqB9bh4x1f8yD5AStGGd5YV6hXmYad/Ll55ipj1xlGIK757EdO2zAPBODEtiPUCqzDjB1zeZCcwrdafADDvxvHsjELiI+M45cZK3h3Tgivj+zKtdNX2PXTlseGt0XPpzvm8SA5haWjMhoSId+N57sx84mPjOPnGT8wcE4IHUd249rpy+l6Sno4M3HNZxRzLIaUktZ9XmV86/dzPLwwTZ/G6gnfMWj5OMOy2z9tI/z8DZr2MLwZ3LPyL/7edpRqgb58tGM2D5JT+M+ozMsr5yXHtx7GN7AOM3fO50FyCktC56YfC102nm9GG9Lmv9NXMGTuCN4I7c7V05fZseovADq83xlHlxL0mmIYnarX65nYbrTFuB6H1Kex9aPv6bhiNMJOx+lVO4g5d5NabxnmCZz4YSvFPZzo/scUCjsWQ6al4de3DctbjuFBXgz1tMC69Vto06YF/5zZw73kZPr1G5F+bO3vyxkwcBTh4ZF8t3QWJUo6IoTgxIm/GfJe3i3B+4hRE2dw8OgJ4uMTaNnhLQb37UmqNnG6y+uv0LxxfXaFHaRt5z4UK1qUKeNCALC3t2NcyCDeHfEher2e118NouILz9us58jWw/gF1mPOzoU8SE5hXuic9GNjl33EwtHziIuM5Yfp3xMyN5RuoT24fPoSW1dttjluc9L0afww4RtGLP8QnZ2O3T9t5db5GwT0MPTYbF+5Kct6JauwtnB062H8AusyW0ubBaFfpx/7YNlHLBo9l7jIOFZOX877c0fSJbQHV55Q2gAc16798x3zSElO4RujOnDEd+P5VqsDf5rxA4PnhNBpZDeunr7MTq0OdPJwZpJWB6ZJSVCfVxmbizoQDOn9vwnL6L98LMJOx8GfthNx/gaNtXowbOVfnNl2lCqBvnywYxYPk1NYNWoRAI7uTvRebCiDOjs7jv6+h392HM91ukh9GpsnfE/X5YY658RPO4g+fxO/HoY65+jKrTh4ONF77RSKaHVO/T5tWNLKUOe89vUQnmtclWIujgzZ9zW7vlrNiVU7cq0HClZePS0K8lC3vEL8fx7TqHhyCCFeA/pJKdsJIapg6ClpA/whpXQ0srtrtr0dCJVSHhJCuACHgavAGCnlgazOK6XcLoS4AtTTenDM9ZTT4q6hbS/Ttn8xPiaE+BqIklJO0RpfX0kp/YQQk4C7UsqZWvhTwKtAInBESvm8tj9A0/+qtj0XOCSlXJZdeg0u17nAFKT7PPm5EDlBUmCSBoCSFMpvCenEygf5LcGEOrJ4fkswYVT4tvyWkE7yrV35LcGE7nVD8luCCSVEwSlXAEmy4KzgVdR0/aF8x4PC+S3BBDdZcNLnrCh4jZLvr6zO99bIvlId8+xG3ujWr/l+PZZQQ+YUWbEBsBdCnACmYBjeliOklHHA38DzUspHfcU2n/cxTALqaeefAfR6jMYYYI+2UEPefqxAoVAoFAqFQlHgUUPmFBaRUqYAbS0ccjSzM98OMNt+1crzIqUsl42eK0ANo+3elo5JKWOB1yyEn2S2bXyu7mbm242OvZeVJoVCoVAoFIp/O8/CkDnVIFIoFAqFQqFQKBQWeRZWmVMNIkWBQluRbouFQy2tXJpboVAoFAqFQqGwGtUgUhQotEaPb37rUCgUCoVCoVBQwJZqejKoBpFCoVAoFAqFQqGwiLT4RZN/F2qVOYVCoVAoFAqFQvHMonqIFAqFQqFQKBQKhUXSCtbnBJ8IqkGkUPzLKFrAOn51BayrPYGH+S0hnUKiYOXV3yIlvyWY0L9U0/yWkE5B+xDqfw5/ld8STOhTNzS/JZhQkD6GalfA6sAk9PktwYQkUXD0FC5g98+CQloB8+Engcp5hUKhUCgUCoVC8cyieogUCoVCoVAoFAqFRZ6FRRVUg0ihUCgUCoVCoVBY5FlYdlsNmVMoFAqFQqFQKBTPLKqHSKFQKBQKhUKhUFhEDZlTKBQKhUKhUCgUzyxqyJxCoVAoFAqFQqFQ/ItRPUQKhUKhUCgUCoXCIs9CD5FqECkUT4Fq/rV5c8I7CDsde1dtYdOC3zPZvDnxHaoH+vEwOYXlofO5fvoy9kUKMWLVx9gXsUdnZ8fR9fv486uf/3V6qvrX5o0JvdHZ6di7aiubLeh5Y2Jvqgf68SA5hRWhC7ih6Rm+ahL2RQphZ6fj6Pr9rMsDPd0n9qFWYB0eJD9gaegcrp6+nMnGvYwnA+eG4OhUgqunL7E45Gv0D1PxrlCavp8P4fnqL/DrzP+wYcmaPNFTM9BP0zOXa9nocXBy5OrpSywJmYP+YarV4a2lur8vXSe8g85Ox65VW9iw4LdMNl0nvkPNwDo8SE7hu9B56fH1+mwQtVrUJTHmDpNeHplrDcZU869NZ82X92Thy501X35g5MsuPm70+nIIJT2ckWmS3T/+xbbv1tus551J/akTWJeU5BTmhc7m8qlLmWw8y3oyfM4oHJ0duXzqEnNCviJVyyuACrUq8slvn/HVezPZt25vrnR8+MmX7NxzAFcXZ377YWGm41JKps9ayK6wgxQtWoRp40dSrXJFAHbvO8SMWQvRp6XRqV0b+vXsnCsNlug5qS+1A+uQkpzC4tC5XLWQPh5lPRkyZwQOzo5cOXWZhSGz0T9MpUmH5rwysAMAKffus2z8Yq6duZJrLT0m9qG2Vs6XZFPOB88NwUEr54u0cu5ToTT9tHK+euZ/WP8vK+cFqVwVJC1Q8OrAp8GzMIdIDZlTKJ4wQifoMrkvc3t/wpTWIdRr3xTviqVNbKoH+OFZ3ptJAcNYOW4xXaf1AyA15SGzu3/MJ21H80nwaKr5+1LO78V/nZ7Ok/swv/d0prYeQV0LeqoF+OJR3puPA97nx3FL6Dqtb7qer7tPZkbb0UwPHkM1/9o266kVUAev8j58EPAey8YtoOe0ARbt3vygJ5uW/sEHge+RdOcuzbu0BCApPpH/TFqaJw0hgJoBfniV92FswFC+H7eQt7PU8xablv7B2MChJN1J4qUuLXIU3hqETkf3yX2Z3XsaE1qH0KB9U3wqljGxqRHgh2d5H8YHDGXFuEX0mNY//djeX7Yzu9e0XMefWY+gq+bLk1uHUD8bX54YMIz/jFtMN82X9al6Vk9dweRWI/js9fH493w5U9ic4hdYF5/yPgz1H8iisfPoP3WQRbseH/Tij6VrGBYwiLt37tKiS6v0YzqdjrfG9uLYzqM2aekQ3JqFX07N8viusINcu3GLdauWMmn0MKbMnAuAXq9n6hfzWPDFFNasXMS6v7Zz8fJVm7Q8onagoWyF+g/h27ELeWeqZV/s8kFPNixdy6gAQ9kK0MpW1PUIpnX+iPFtRvDb1z/TZ/rAXGupFVAH7/I+jA54j+/GLaBXFuWiywc92bj0D8Zo5dxf03I3PpEfJi3Nk4YQFLRyXnDKVUHSYtBTsOpARd6hGkSKfEEI8Y0Qolouw14RQrhbaTtJCBH6GJsOudViDeV8KxJ1NZyY65HoH+o5vHYvtYPqm9jUCqrH/l93AnDl6HmKl3CgpIczACn3UgCws7fDzt4OpPzX6Ym+GpGu58javdTKpKc+B4z0FDPS88BEjz3SRj1+QfXZ++sOAC5p1+6kxWVM1SY1OLQuDIA9q7dTJ6gBAIkxCVw+cRF9amqmMLnXs91IT3GLeqoY6dlrpMfa8NZQXvOd6OuR6B+mcnDtHnyD6pnY+AbVZ18W6Xf+wBmS7tzNVdyWKGeiR88hC75cO6ge+zTfuWzkywlR8VzX3tqmJN0n/OJNnL1dbdJTv3UDdqzeBsD5o+dwKOmAs6dLJrsaTWqxb90eAHas3kr9oEbpx9r0foV968NIiL5jk5Z6vjVxKlkiy+Pbdu+jfZuWCCGoXaMqiYl3iYqO5eSZczxXphRlS/tQqFAh2rb0Z+uufTZpeUSd1g3YvXo7ABePnqN4SQecLKRPtSY1OaD58u7V29J9+fzhf7iXkATAhSPncPFxy72WoPrs0fz04mPK+cF0Lc9GOS9I5aogaYGCVwc+LdJE3v0KKqpBpHjiCCHszLellP2klH/nlyYzOgBPrEHk7OVK3K2Y9O242zE4eblasInOsAmPSa+4hU4wdt1nfHr4G87uPsmVYxf+VXqcLOoxfUhy9nIxsYk30/PBuk+ZcXgJZ3ef4GoepE+s2bW7eJs+eDm6lOBeQhJp+rR0zc5ett1os8LFy41Yo2uPDY99rJ5YIz3WhLcWQ9oY51Uszl6m53IxtzHKq7zGki+b50N2vvwI1zIelK1W3mZfdvV2I8YorpjwaFzN0qeEWV7F3I7BVdPj6uVKw5cbsfmHDTbpsIaIqBi8PTPeK3l5uhMRFU1kVDTenh4m+yOjYiydIse4eJuWrdjwGFzN8suSL7ta8NeArq04sT33vWguXq4meRVrZTl3eUbKeUEpVwVJy6O4ClId+LRIQ+TZr6CiGkQKmxFC/CaEOCyEOC2EGKDtuyuEmCyE2A80trC9XQhRTwgxSAjxmdG5egsh5mR1Xiv1jBdC/COE+AuobLS/vxDioBDiuBBitRCiuBCiCdAe+FwIcUwIUUH7bdDi3iWEqJJFPAOEEIeEEIf+Tsw8Dt7IMPM+s14MYcHmUU+HTJNMDx7N+MYDKVe7Aj6Vyj4+EbKjgOmxFBfmnTyP0TMjeAwfNh7E87UrPhE95r1OljXb1jOVtSBLUeVAjxXhrZZi6V5mfi6L6Zer6KzQ8/i8epy/FylehHcXjOTnycu4fzc5z/VYU7Ye2fSe2I8fZnxPWtqTn8JsyQeEEBbzymK+54Lcli1zm6qNa9C8S0tWTV9ui5jM+3KhJc8oUOW84JSrgqQlq6jysw5U5B1qUQVFXtBHShkrhCgGHBRCrAYcgFNSygkAQgjz7UdhfwHCgNHadhdgWlbnlVJm+6pSCFEX6Ar4YfDvI8Bh7fCvUsolmt1UoK+Uco4QYg3wh5TyF+3YFmCglPK8EKIhMB9oYR6XlHIxsBhgcLnOWVZ38eExuJTKeIPk4uPGncg4E5u48BhcSrkD/xhsvN24E2Fqk5xwj3P7/qa6vy+3z13PLhmy5f+jnvjwWBMb5yz0nN/3N9X8a+dYT4uebfDvZpjHcfn4BVxLZbw5d/F2Iz4i1sQ+MTaB4iUd0NnpSNOn4eLjRryZZlto0bMNzbu11PRcxNXo2l29XR+rx9VIT1x4zGPDW0tceKzJuVx8XImPjDWzMY3P4Du5i+/xeqzxncy+HK/5js7ejgELR3Lgt10c23ggVxpefjuYVl1bA3DhxAXcjHzHzdudWLP0STDLKzcfN2I1PRVqVWT4HMMI35KuJfELrIs+Vc/BTftzpS07vD3dCY/MeKseERmNp7sbD1NTCY+MMtnv4Z77oWmt3m5DgJY+l06Yli1XbzfizPLLki/HGflP2SrP0/fTwczsNYW78TkbetTSrJy7lXLnvLEWVc7Tz5Xf5aogajHoKVh14NPiWWjPqR4iRV4wTAhxHNgHlAVeBPTAaiMb820ApJRRwCUhRCMhhBuGHp092Zz3cbwE/E9KeU9KmQAYz3itofX4nAR6ANXNAwshHIEmwM9CiGPAIsDHiniz5Orxi3iW88GtjAd2heyo264JJzYfMrE5ufkQDTs2B6Cc34skJ94jISoeR9cSFCtZHIBCRQpRpWlNwi/etEVOgdTjUc47XU+dLPQ0sEJP5aY1iLh4K8catq7YwMTgUCYGh3Jk0wGadPQH4AUtrjtR8ZnCnA07Rb3gxgA07RTAkU2232yN9UwKHsWk4FEc3XSAJh0D0vXcy1LP6XQ9TToFcHTTQQCObT5kVXhruHL8Ap7lfHAv44ldIXvqt2vKcbO8Or75EI2sSL+8wNyX61nwnRObD9FI853yRr4D0PPTgYRfuMmWpX/mWsPG5esYFRzCqOAQDm7ah3+nQABe9KvEvcQkiw/Qp8NO0ii4KQD+nVpwcLOhwTOk2YD03751e/nmo0VPpDEEENCsEWs2bEFKyfFTZ3B0dMDD3ZUaVSpx7cYtbtwK5+HDh6zfsoPAZo0ef8Is+Gv5Bj4MHsmHwSM5vOkAzToFAFDBr5LBFy2kz5mwUzTQfLlZp0CObDb4slspd95fNJpFIbMJv3w7x1q2rNjAhOBQJmjlvKnmpxWy8dMzYaeon67l2SjnBaFcFUQtUPDqwKdFWh7+CiriiXX/Kp4JhBABwFQgSEp5TwixHZiEocfF0cjurtn2diBUSnlICNEXQ+PkLFBZSjkyq/NKKbcLIa4A9aSUGa83M847HHCRUk7Utr8EbkkpZwohLgMdpJTHhRC9gQApZW8hxDJN7y9CiJLAP1LKHDWCsushAsMqOG9M6IXOTkfYT9vYMO9/vNTD8NZ018rNAHSZ3Jdq/rV5kPyAFaPmc+3kJUpXeY63vxiCTqdD6ASH/wxj/deZ2pU55mnq0VkxZrhagC9vTOiFsNOx76ftbJz3P5r1MLzJ3b3yLwA6T+5DVf/aPEx+wA+jFnDt5CVKVXmOnl8M1vToOPJnGBseoyeJx0+CfmtyP2r6G5ZwXTpqHldOXgQg5LvxfDdmPvGRcXiU9WLgnBAcnB25dvoyi0Nmk/oglZIezkxc8xnFHIshpeR+0n3Gt37f4lANYeV46rcm96OGvy8PklP4dtT8dD3DvxvHsjELND2evJuu5wpLND3ZhTfHzgo9NQL86Dqht2EJ3J+2sW7er/hrvrND853uk/tS3d+XB8kPWDZqHldPGoaU9v/6fSo1qo6jSwkSo++w5quf2P3T1izjsrdCT/UAP97UfHlvFr7c1ciXl2u+XKFeZUJ/mcKNM1fTh+D8/tmPnM5iXkq0THmsFoC+U97FV/OdeaFzuHTSMGdh7LKPWDh6HnGRsXiW9SJkbiiOziW4fPoSXw//Mj2vHjFk5jAObz2U5bLb/zn8VbY6Rk2cwcGjJ4iPT8DN1ZnBfXuSqi0A0OX1V5BSMu3L+ezed4hiRYsyZVwINapWAmDn3gN8+vVi9Ho9r78axLu9uj32uvvUzXbtmnR6TemfXraWhM7lsuaLocvG883ojLI1ZO4IHJ0duXr6MguGzyL1QSp9Px1M/baNiL5h6MHS6/VMbDfaYjw6K8b59Zzcj1r+fqQkp/CNUTkf8d14vjUq54O1cnX19GUWaeXKycOZSVo5T5OSlKT7jM2inFtTruDplfMiVrwLf1rlyhqeppZUK/pCnmYdCLDkys/5PvHmV+/uedZY6Bj+n3y/HkuoBpHCJoQQrwH9pJTttLk2x4A25KxB5IJhWNtVYIyU8kBW57WiQVQHWAY0JGPI3CKtQRSNYfGEOGAdcFNrEM0Bjkgpv9POsRf4Skr5szCM7aslpTyeXTo8rkH0LGNNg+hpYk2D6GlhbYPoaWHtg9vTwpoG0dPC2gbR0+JxDaKnjbUNoqeFNQ2ip0VBK1fWNIieVaxpED1tCkKD6BefHnmWMG/cXpnv12MJVSoUtrIBsBdCnACmYBjeliOklHHA38DzUspH4xFydV4p5RFgFYYG1Gpgl9Hhj4D9wGYMvVGP+C8wSghxVAhRAcNwur7acL3TwGs5vSaFQqFQKBSKfwMyD38FFbWogsImpJQpQFsLhxzN7My3A8y2X7XyvEgpyz1G0zQyFmYw3r8AWGBh/x4yL7vdJrs4FAqFQqFQKBT/DlSDSKFQKBQKhUKhUFikIC+GkFeoIXOK/5cIIdy07waZ/3K/PqxCoVAoFAqFwoQ0kXc/axBCtNG+J3lBCPGBheM9hBAntN9eIURtW69R9RAp/l+ifY/IN791KBQKhUKhUPybSXuKC4MIIeyAeUBr4AaG71CukVL+bWR2GfCXUsYJIdpi+CZkQ1viVT1ECoVCoVAoFAqFoiDQALggpbwkpXyAYeErk8WtpJR7tQW5wLDoVhlbI1UNIoVCoVAoFAqFQmGRp7zKXGngutH2DW1fVvQF1lt5KVmihswpFHnAjuSr+S0hnRpFc/RN2SfOfVlwvvsDkCQf5reEdFrqPPJbgglrUm/mtwQTKtq75LeEdEqIQvktwYSC9t2fbw/PzG8JJlx+aXB+S0jHs86D/JZggv+W+/ktwQTfAnTPupGamN8SCiTWzv2xBiHEAGCA0a7FUsrFxiYWgllsSwkhAjE0iJrZqks1iBQKhUKhUCgUCsUTR2v8LM7G5AZQ1mi7DHDL3EgIUQv4BmirzSu3CdUgUigUCoVCoVAoFBZ5ystuHwReFEKUB24CXYHuxgZCiOeAX4GeUspzeRGpahApFAqFQqFQKBQKi1g59ydv4pIyVQjxHrARsAO+lVKeFkIM1I4vBCYAbsB8IQRAqpSyni3xqgaRQqFQKBQKhUKhKBBIKdcB68z2LTT6vx/QLy/jVA0ihUKhUCgUCoVCYZG8XFShoKIaRAqFQqFQKBQKhcIiT3kOUb6gvkOkUCgUCoVCoVAonllUD5FCoVAoFAqFQqGwyLPQQ6QaRArFU2LstBE0b9mE5OT7jB82hTMn/8lk073PG/Qc0JXnypeladUg4mPvAFDSqQRTZn1I2XKleZDygA+HT+XC2Us26ek9qR9+gXVJSU5hQejXXD6V+XweZT15f04ojs6OXD51ibkhs9A/zPjQaoVaFZn626fMem8m+9eF2aSn/8cDqBtYj5TkFGaPnMWlUxcz2XiW9WLU3NE4Opfg0qkLfDX8S1IfpvL6ux1p3iEAADt7O8pULMPbvj24e+durrQM+XgQDVo0ICX5Pp+N+IILpy5ksnmtV3s69nud0uVK0bHWmyTEJeQovLW84F+LVhN7orPTcey/29m3YK3JcdcKPrw6cwBe1cuxY+bPHFicMQ81+PP+VGzhy72YBL4JGptrDeaETB5KkxYNuZ98nykhn3Lu1PlMNm/07kCXfm9Qpnxp2tR4jTtG6QNQtXZllqydx0eDJrPtz5026ek5qS+1A+uQkpzC4tC5XM3Cl4fMGYGDsyNXTl1mYchs9A9TadKhOa8M7ABAyr37LBu/mGtnruRKRw1/X7pPeAdhp2PXqi2sW/BbJpvuE/tQM9CPB8kPWBo6l2unL1sdNjcUlLT58JMv2bnnAK4uzvz2w8JMx6WUTJ+1kF1hBylatAjTxo+kWuWKAOzed4gZsxaiT0ujU7s29OvZOVcajCnerC6e4waBTsedXzYQ981PJscdWjTCfVgvZFoa6PVETl/E/SOnAXDu+RpOb7YFIbjz83ril/9msx77WvUp1vM90Ol4sH0dKWt/ND1etTYOI6aQFhUOwIODu0j534oMA6HDceoCZFw0STPH26wHYMzUEJq1bMz95Pt89P5Uzp7MvLpx1z6d6NG/C8+VL4N/tbbp9yzHEg58Mm8i3qW9sLe34/sFP/L7f/+0SU+PiX2oHViHB8kPWBI6h6ta2THGvYwng+eG4OBUgqunL7Eo5Gv0D1PxqVCafp8P4fnqL7B65n9Yv2SNTVqGTB5Mwxb1SUlO4bOQmZy3dI/o3Z5O/V6ndLnSvF7zjfR7RNkKZRn95Ugq1qjIt58t4+dFv9ik5Wkgn4E5RGrInELxFHipZROeL1+Wto3eYFLoDCZ8Ntqi3ZEDJ+j75lBuXjP9Bln/93tz9tQ5Oga+xdj3Pmbs1BE26fENrIt3eR/e9x/EkrHz6Tt1oEW7Hh/0Yt3SNQwPGEzSnbu06NIq/ZjQ6eg+9m2O7zxmkxaAuoH18ClXioHNBzDvg7kMmmb5K/O9xvZmzTe/M8h/AHfvJNGqS2sA/rfoV0LaDiOk7TBWfPo9p/edynVjqEFgfUqXL02vl97hqzGzef+ToRbtTh86zehuHxB+PTxX4a1B6ARBU3rxU6/PWNxqNNXaN8LtxVImNvfjk9g8cQX7l6zLFP7kzztZ1evzXMdvicYtGlK2fGnebPYWM8Z8wejpIRbtThw8xdCuI7ltlj4AOp2OweMHsH/7QZv11A6sg1d5H0L9h/Dt2IW8M3WARbsuH/Rkw9K1jAp4j6Q7dwno0hKAqOsRTOv8EePbjOC3r3+mz3TLZeFxCJ2Otyb346ve0/iwdQgN2zejVMUyJjY1A/zwKu/D2IChfD9uIW9PG2B12NxQUNIGoENwaxZ+OTXL47vCDnLtxi3WrVrKpNHDmDJzLgB6vZ6pX8xjwRdTWLNyEev+2s7Fy1dzrQMAnQ7Pj4Zwc8CHXGk3gJKvBFC4wnMmJvf2HeNqh0Fc6ziE8PFf4T1lOACFX3wepzfbcq3z+1ztMAiHgIYUer6UhUhygNBRrPf7JH32AYmj36Fw4xboSj+fySz1n5MkjhtA4rgBpo0hoEibjqTdumabDiOatWzMcy+UoV3jzkwO/ZQPPx1l0e7YgZO823kYN6/fNtnf5Z1OXDp3hc4te9G343uMnDgU+0K5fwdfK6AO3uV9GB3wHt+NW0CvaVn78salfzAm0ODL/pov341P5IdJS21uCAE0aFGfMuVL83azd/hyzCzenz7Mot3pg6cZ1TXzPSIxPpG5E+b/v2gIPUuoBpHiqSCE6CCEqJaLcLl7qs0DhBDOQgjLT+Y5pEWb5qz5eT0AJw6fokTJErh7umWyO3vqHLfMbiwAFSqVZ/+uQwBcvnCVUmV9cPNwzbWe+q0bsHP1dgDOHz2HQ0kHnD1dMtlVb1KTfev2ArBj9TbqBzVMP9a29yvsXx/Gneg7udbxiAZBDdm2eisA547+g0NJB1ws6KnVpBZ71u0GYOsvW2j0cuNMNi+1b87ONbnvcWgS1JjNq/8C4MzRsziWdMDVM3NaXzh9kYgbEbkObw2lfCsQdyWC+OtRpD3Uc2btPiq1rmticy8mgdsnLpH2UJ8p/PUD/3A/Pm+LUPOXm7L+l00AnD5yBkcnB9wsXN+50xcIt5A+AG/2eZ3tf+4iLibeZj11Wjdgt+bLF4+eo3hJB5ws+E61JjU5oPVi7l69jTpBDQA4f/gf7iUkAXDhyDlcfDKXS2t4wbcikVfDiboeif5hKvvX7sE3qL6JjV9Qffb+atB66eh5ipcojpOHs1Vhc0NBSRuAer41cSpZIsvj23bvo32blgghqF2jKomJd4mKjuXkmXM8V6YUZUv7UKhQIdq29Gfrrn251gFQtFZlHl67zcMb4fAwlYR1O3BoYVqXyHv30//XFS+KlIYvsRR+4TnuHz+LvJ8C+jSSD57EsVUTm/TYVahCWsRN0qJugz6VB/u2Uqiu9ecUru7Y+zbiwbbML0VyS+DLL7H2pw0AnDxymhIlHbO5Z2V+6SGlpLhjcQCKOxTjTnwC+tTMdZS11Amqz55fdwBw8eh5ipdwwMnDOZNd1SY1OJjuy9vTfTkxJoHLJy6iT03NFCanNA1qwqZfNgNw5kjO7xHxMfH8c/wcqTakx9MmLQ9/BRXVIFIgDDxpX+gA5LhBlM84A3nSIPL08SD8ZkbFGHE7Ei8fD6vD//P3eVq9EgBATb9qlCrjjZePZ671uHi7EnMrOn07JjwGVy/TCr2ESwnuJSSRpjdUYbG3Y3D1Nti4eLlS/+WGbP5hY641GOPm7Ub07Qw90eExuHmb3nxLuJQkyUhPzO1oXM1sChctQp2AuoSt25NrLe7e7kTdikrfjrodjbu39Q+CtoY3xtHbhYTbsenbibdjKeGd+YH2aeLh7U7Ercj07ajb0Xh4u+covH+bl/jfCtvf1ILBl2ONfDnWgi87WvTlzHkS0LUVJ7YfzZUOZy9THXG3Y3Ax0+Hi5UbsrRgjrbG4eLtZFTY3FJS0sYaIqBi8PTP8yMvTnYioaCKjovH29DDZHxkVY+kUVmPv6UZqeEYZTY2IppBX5mt2bNWEcn8uofSCyUR8+BUAD85foVi9GuicSyCKFsGheX3sva2vyy2hc3UnLSajTKXFRqNzyXxOu4rVKPHJEhxGT0dXulz6/mI9h3D/x0Ug8+5x09PHg4hbxvesKDxzcM/677ereeHF5/nr+Bp+2baCzz6ald6ozA0uXqb3rNjwGFzM/NTcl/OqHJnj7u2WZ3X8/xdUg0jxr0UIUU4IcUYIMR84AnwkhDgohDghhPjYyOasEOJ7bf8vQoji2rG6QogdQojDQoiNQggfbX9/7TzHhRCrhRDFhRBNgPbA50KIY0KICtpvgxZ+lxCiiha+vBAiTDvHlMdcg04IMV8IcVoI8YcQYp0Q4g3t2BUhhLv2fz0hxHbtfwchxLfa+Y8KIV7T9lcXQhzQ9J0QQrwIzAAqaPtsGnckyDwANyf3hm++Xk5Jp5Ks3rKC7n07c/bkOZvetmlfds5eTzY2vSf25T8zlhvG1+cBltPHVJAFOZlsGrRuwJlDZ3I9XM7aeJ5keJNz2eg3TwRrfCcbhn88hHmfLCItr3zHoh5z33m8TdXGNWjepSWrpi9/YjosZCdSSuvCPiFNTyNtrMHS9QohLPqWpTKWI6xM77t/7eXKK/25NfRj3Ia9DcCDS9eJ/eZnyiydTuklU0k5ewn0tr7pt+gYJpupV86T8H43Esf1J2XjbziMmAyAvV8j5J149Fcyz+OzTZJtPtkksCFnT52nVe32dG7Zi7GfjMBB6zHKKz3mafSkypE1WvK9XlbYjFpU4dmmMvAO8BvwBtAAQ828RgjRHLim2fSVUu4RQnwLDBZCzAbmAK9JKaOEEF2AaUAf4Fcp5RIAIcRULewcIcQa4A8p5S/asS3AQCnleSFEQ2A+0AKYDSyQUi4XQgx5jP6OQDmgJuAJnAG+fUyY8cBWKWUfIYQzcEAI8RcwEJgtpVwphCgM2AEfADWklL6WTiSEGAAMAPApUQ6XYqY9Nt3eeYM33noNgFPH/sa7tFf6MS8fTyKN3lA+jqS7SXw4PKN9uOng/7hhNs/ocQS93ZaWXYMAuHjiPG6lMt7Gunm7ERcZa2KfGJtA8ZIO6Ox0pOnTcPVxIy7CYPNCrYoMmxMKQEnXEvgF1kGfmsahTfut1hP89iu07vYyABdOnMfdJ0OPu7cbsRGmehJiE3Aw0uPm456u5xEvtWvOrt93WK3hEe17tSO4W1sAzh0/h0epjDehHj7uxJjFkx1Rt6NtCm9MYngsJX0y3nCW8HHlbkRcrs5lC516daB9j1cAOHPsLF6lMnzdw8ed6IjorIJmokqtykyZPwEAJ1cnGrdoiD5Vz86N1vfqtXq7DQFdDfPHLp24gKuRL7t6uxEXaZpG2fkyQNkqz9P308HM7DWFu7kcYhgXHmOiw8XHjXgzHQabjDfJrt6uxEfEYl/Y/rFhraUgpo01eHu6Ex6Z4UcRkdF4urvxMDWV8Mgok/0e7ra9jU+NiDbp1bH3cic1MusymnzoFIXL+qBzLklafAIJqzeSsNrQO+42vDepOfB/S6TFRqFzyyhTOld30uLNzpl8L0P/8f0Iu/cRjiWxr1SDQnWbUMi3IRQqjChWnOKDxnJvwfQc6+jyTkc69mgPwOljZ/EqZXzP8iAq3PrrfK3rK3w7xzDP6fqVm9y8dpvyLz7PqaNnrD5Hy55t8O9mmLd6+fgF3Eq586jZ5+rtlqn+N/dlW8pRpuvp1Y7g7sEA/HP8Hwt1vG29lgWdZ6G9p3qInm2uSin3AUHa7yiG3qIqwIuazXUp5aMnlR+AZhgaSTWAzUKIY8CHwKMZwDW0Hp+TQA+gunmkQghHoAnwsxZ+EeCjHW4KPFpeZ4V5WDOaAT9LKdOklOHANiuuOQj4QIt3O1AUeA4IA8YJIcYAz0spkx93IinlYillPSllPfPGEMCP3/1Cp5Y96dSyJ1vW76T9m4YH7lp1a3A38S7RkdZXoCVKOlJIm5D6xluvcWjfMZLuJlkdHmDT8vWMCQ5hTHAIBzftp3mnAABe9KvEvcQkizeOv8NO0ijYMJbdv1MghzYfAGBos3cZ2mwAQ5sNYN+6MJZ+tChHjSGAdcv/TF8IYd/GMAI7tQCgkl9lkhLvZXpwAzgZdpKmwc0AaPFGS/ZvyphLULxEcao3qmGyz1rWfL+WgW0GM7DNYPZs3EvrToabcFW/KiQl3iM2m4clc8I277MpvDG3jl/Cpbw3TmU90BWyo2q7RpzffCRX57KF1d//Rq+g/vQK6s/OjXto+4ahYV29TlWSEpKIycH1dWrcnY6NutGxUTe2/bmDmeNm5agxBPDX8g18GDySD4NHcnjTAZppvlzBrxL3Eu9xx4LvnAk7RYNgwzyRZp0CObLZsKCDWyl33l80mkUhswm/nHn+nrVcPn4Br3I+uJfxxK6QPQ3bNeXYZtNFI45tPkSTjgatL/i9aNAaFW9VWGspiGljDQHNGrFmwxaklBw/dQZHRwc83F2pUaUS127c4satcB4+fMj6LTsIbNbIprjun/yHQs+Xwr60FxSyp2SwP0nbTOuNQs/5pP9fpFpFRCF70uINq4TZuToBYO/jQYnWTUn8c7tNevSXzqLzLo3Owxvs7CncqAUPD5uu2imcMobK2r1QBYRA3k3g/qpvSBjahYTh3bk3dwqpfx/NVWMIYNV3v9KlVW+6tOrNtg07ade5DQA161TnbmJSju5Z4TfDafhSPQBc3V0oV+E5blzN2Uu8LSs2MCE4lAnBoRzZdICmHf0BqOD3Isla2THnTNgp6qf7cgBHNh3IUZxZ8fv3a3n35UG8+/Ig9mzYS9AbhpcOVetUISkxKdd1/P8X0kTe/Qoqqofo2ebRE7UApkspFxkfFEKUI/OLAanZn5ZSZp7RDsuADlLK40KI3kCABRsdEJ9Vz4uFOLMiu6KVSkaDv6hZmE5SSvM1r88IIfYDrwAbhRD9ANvWtTZi5197aN6yCev3r+Z+8n0+fD+jt2fByq+YMGIaURHR9OjXmT5DeuLu6cr/tq1k55a9TBzxCS9UKsf0OZPQ6/VcPHeZCSHTbNJzdOth/ALrMnvnQh5oy24/4oNlH7Fo9FziIuNYOX05788dSZfQHlw5fYmtqzbbFG9WHN56iHqB9Vi4awkpySnMCZ2VfuyjZZOYN+ZrYiNi+X76d4TOHUOPUW9x6fQlNq/alG7X6OXGHNt5lJTkFJu07N96gAYt6rN893ekJKfw+cgv0o9N+34KX47+ipiIWDq88xpdBr2Jq4crizcv5MDWA3w5ela24XOK1KexecL3dF0+GmGn48RPO4g+fxO/HobG49GVW3HwcKL32ikUcSyGTEujfp82LGk1hgd3k3nt6yE817gqxVwcGbLva3Z9tZoTq3Leg2bM3i37aNKiIT/v+YGU5BSmjvg0/dgXy6czfdRMoiNieLNPR94a3BVXD1dW/LWUsK37mT5qpk1xW+L41sP4BtZh5s75PEhOYUno3PRjocvG883o+cRHxvHf6SsYMncEb4R25+rpy+xYZVj4osP7nXF0KUGvKYZVq/R6PRPbWV4FMjvS9Gn8MOEbRiz/EJ2djt0/beXW+RsE9DA0Hrev3MSJbUeoFViHGTvm8iA5hW9Hzc82rK0UlLQBGDVxBgePniA+PoGWHd5icN+epGoT3Lu8/grNG9dnV9hB2nbuQ7GiRZkyzrB6ob29HeNCBvHuiA/R6/W8/moQFV/IvAJbjtCnETV1PmW+mQY6HQm/buLBhas4dTH0ANxZtQ7HoGaUfK0V8mEqMuUBt0ZkNDJ8Zn+EnXMJSNUTMWUeaQk29pylpZG8bA4OYz4FnR0Pdqwn7eYVCrdsB8CDLWsp1MCfIq3ag16PfJhC0tysV+zLC3b9tZdmLRvzx76fuZ98nwnDM+45c1fO5OMRM4iKiKZ73zfpPaQHbp6u/Lx1Obu3hPHxyBks/nIZU2Z/yC/bViCEYNbU+elLcueG41rZ+XzHPFKSU/hm1Lz0YyO+G8+3Ywy+/NOMHxg8J4ROI7tx9fRldv60BQAnD2cmrfmMYo7FSJOSoD6vMrb1+9y/+9h3n5nYv/UADVs0YMXuZdy/n8LnIzLqtU+WT+WLUV8SExHL6306pN8jlmxexIFtB/hi1Fe4eLiwYN1cijsWR6ZJOvV7nT6B/bl39142sSqeNOKJjK9UFHi0xs4fUsoaQoggYArQUkp5VwhRGngIFAcuA02klGFCiCXAWQzD5f4Gemr7CwGVpJSnhRDRGBZPiAPWATellL2FEHOAI1LK77T49wJfSSl/FoaBv7W0RtQa4Ccp5Q9CiEHA51JKxyyu4U2gF4b5SR4YhswNkFL+og2D+0JKuV4I8RXgJ6UMEEJ8ApQEhkoppRDCT0p5VAjxAnBZ2zcLuIKhh+qIlPKxd9/qXg0LTEGqUdTn8UZPkfvS9lV98pIk+TC/JaTTUmfbZOy8Zk3qzfyWYEJF+/xdQMKYQk983Zmc8TAPJ9DnBd8ezvvGri1cfilP1sPJEzzrPMhvCSb4b7n/eKOniG8BumfdSE3MbwmZ2HJjU773q3z13Ft59owTcu2HfL8eSxSsGl6RL0gpNwH/AcK0oW6/AI/WRz0D9BJCnABcMczveYBhztGnQojjwDEMQ+AAPgL2A5sxNJ4e8V9glLaQQQUMw+n6auFPA69pdu8DQ4QQBwGnx0hfDdwATmEYdrcfePQK6mNgthBiF2A843UKUAg4IYQ4pW0DdAFOaUPpqgDLpZQxwB4hxClbF1VQKBQKhUKh+P/Is7DKnBoy94wipbyCYR7Qo+3ZGBY0SEfrRUqTUmb6Gp+U8hjQ3ML+BcACC/v3kHnZ7TYW7C4DxkPxZmRzDWlCiFCtV8sNOACc1I7tAipZCJMMvGth/3Qg08BrKWX3rOJXKBQKhUKhUPz/RzWIFP/f+UNbLa4wMEVbXEGhUCgUCoVCkQcUmDkBTxDVIFJkiXkvUn4hhKhJ5hXnUqSUDaWUAfkgSaFQKBQKheKZoCCvDpdXqAaRosAjpTwJ+Oa3DoVCoVAoFArFvw/VIFIoFAqFQqFQKBQWKciLIeQVqkGkUCgUCoVCoVAoLPIszCFSy24rFAqFQqFQKBSKZxbVQ6RQ5AFVi3rlt4R0Chew9xyFROH8lmCCgyiU3xLSuSkKzkdiAcrYl8xvCSYUKUAfQ00sYB8YLirs8luCCQXpQ6gA5XfNz28J6cS++U5+SzChXGHX/JZggh0FZ8a+p13x/JZQIEl7BvqIVINIoVAoFAqFQqFQWORZmENUcF6/KRQKhUKhUCgUCsVTRvUQKRQKhUKhUCgUCov8+wfMqQaRQqFQKBQKhUKhyAI1ZE6hUCgUCoVCoVAo/sWoHiKFQqFQKBQKhUJhkbSCsxDgE0M1iBQKhUKhUCgUCoVFnoVlt9WQOYVCoVAoFAqFQvHMonqIFIqnRJ9J/fELrMeD5BTmhs7i8qlLmWw8y3oRMicUR+cSXDp1kTkhX5H6MJXqjWowesl4Iq9HALB/Qxi/fL3KJj09J/WldmAdUpJTWBw6l6sW9HiU9WTInBE4ODty5dRlFobMRv8wlSYdmvPKwA4ApNy7z7Lxi7l25orNenyN9FzJRo+jpmeBkZ5XNT3380DP25P64htYlwfJKSwMnZOllqFzRuLo7MjlU5eYr2mp27oBb47sRlqaJE2vZ8XH3/LPoTO51lLVvzZvTOiNzk7H3lVb2bzg90w2b0zsTfVAPx4kp7AidAE3Tl/Gvkghhq+ahH2RQtjZ6Ti6fj/rvvo51zqMeWdSf+oE1iUlOYV5obOz8GVPhs8ZlZ4+j3y5WqMajFkyzsiX99nky9X9fek24R10djp2rdrC+gW/ZbLpNrEPNQP9eJD8gG9D53Lt9GWrw+aU3pP64aelzYLQry2mjUdZT96fE5qeNnNDZqF/mPHh1wq1KjL1t0+Z9d5M9q8Ls0lPj4l9qB1YhwfJD1gSOoer2rUb417Gk8FzQ3BwKsHV05dYFPI1+oep+FQoTb/Ph/B89RdYPfM/rF+yxiYtxZvVxXPcINDpuPPLBuK++cnkuEOLRrgP64VMSwO9nsjpi7h/5DQAzj1fw+nNtiAEd35eT/zy32zS8uEnX7JzzwFcXZz57YeFmY5LKZk+ayG7wg5StGgRpo0fSbXKFQHYve8QM2YtRJ+WRqd2bejXs7NNWgAK129AifeGgp2O5D//5N6P/7FoZ1+5Cq7z5nNn8sek7NyBXdmyOE2YmH7czqcUSd99y73Vv9isqf/HA6gbWI+U5BRmj5zFpVMXM9l4lvVi1NzR2j3rAl8N/5JUzZdrNKpJ34n9sS9kR0JsAuM7j7VJT3ejcrzUqBwb417Gk4FzQ3BwcuTq6UssCZmTXrasCW8tvSb1S79HLAj9Ost7xLA5odr98xLztHJet3UDOo/snn6PWP7xUpvuEU+Df3//kOohyhOEEFWEEMeEEEeFEBWectzrhBDOTzPOp4UQYrsQop72/xUhhPtj7MeZbe99kvpygl9gXXzKl2Ko/7ssHDuPAVMHWbR764Ne/LF0DUMDBpJ05y4turROP3b24N+MCh7OqODhNjeGagfWwau8D6H+Q/h27ELemTrAol2XD3qyYelaRgW8R9KduwR0aQlA1PUIpnX+iPFtRvDb1z/TZ/pAm/V4l/dhpP8Qlo5dSO8s9HTV9IRa0DO180eMywM9voF18C5fihH+g/lm7AL6TH3Xol23D95m/dK1jAgYQtKdJAI1Laf2nOCDNiGMCx7BolFz6f/p4FxrETpB58l9mN97OlNbj6Bu+6Z4VyxtYlMtwBeP8t58HPA+P45bQtdpfQFITXnI190nM6PtaKYHj6Gaf23K+b2Yay2PMPiyD0P9B7Jo7Dz6Z+HLPTRfHhYwiLt37tKiS6v0Y2cO/s2o4BBGBYfY5MtCp6PH5H7M6j2Nj1qH0KB9M3wqljGxqRngh2d5H8YFDGX5uIW8NW2A1WFzim9gXbzL+/C+/yCWjJ1P36mW/bDHB71Yt3QNwwMGa+U8I22ETkf3sW9zfOcxm7QA1AowlKvRAe/x3bgF9JqWdTnfuPQPxgQaypW/5st34xP5YdJSmxtCAOh0eH40hJsDPuRKuwGUfCWAwhWeMzG5t+8YVzsM4lrHIYSP/wrvKcMBKPzi8zi92ZZrnd/naodBOAQ0pNDzpWyS0yG4NQu/nJrl8V1hB7l24xbrVi1l0uhhTJk5FwC9Xs/UL+ax4IsprFm5iHV/befi5as2aUGno8T7w4n/YDQxvXtRtGVL7J5/3rLdgHd5cPBg+i799evE9u9n+L07AJlyn/u7d9mmB6gbWA+fcqUY2HwA8z6Yy6BpluuxXmN7s+ab3xnkP4C7d5Jopd2zHEo6MHDaIKb1ncLQVkP4bNAMm/TUDPDDq7wPYwOG8v24hbydhS+/+cFbbFr6B2MDh5J0J4mXurTIUXhreFTOQx5Tzrtr5XyEVs4DtXJ+as8JxrQZztjgEBaNmkP/T4fkWsvTIi0PfwUV1SDKGzoAv0sp/aSUmV+hWIkQwi6nYaSUwVLK+NzG+S/DpEEkpWySX0LMqd+6IdtXbwPg/NF/KF7SAWdPl0x2NZrUImzdHgC2r95Kg6CGT0RPndYN2L16OwAXj56jeEkHnCzoqdakJge0N9S7V2+jTlADwzUc/od7CUkAXDhyDhcfN5v01DXT45BF+hjr2bV6G3Wz0ONqg566rRuwS8urC1raWNJSvUlN9q/bm66lnpZXKffup9sULV7Upjdr5XwrEn01gpjrkegf6jmydi+1guqb2NQKqs+BX3cCcOXoeYqVcKCkhzMAD+6lAGBnb4edvT1S2v6er37rBuxI9+Ws86pGk1rs03x5x+qt1A9qZHPc5pT3rUjk1XCir0eif5jKgbV78DVLH9+g+oT9uh2AS0fPU7xEcZw8nK0Km1Pqt27ATs2Ps0ub6k1qsk/znR2rt1HfqJy37f0K+9eHcSf6jk1aAOoE1WfPrzsAuHj0PMVLOOCk+YYxVZvU4GB6Od+eXs4TYxK4fOIi+tTUTGFyStFalXl47TYPb4TDw1QS1u3AoUVjExtpVHZ0xYum+2vhF57j/vGzyPspoE8j+eBJHFvZVr3X862JU8kSWR7ftnsf7du0RAhB7RpVSUy8S1R0LCfPnOO5MqUoW9qHQoUK0balP1t37bNJS6EqVdHfuon+9m1ITeX+1q0Uadosk13x1ztyf9cO0uLjLJ6ncJ066G/dIi0iwiY9AA2CGrJt9VYAzh39B4eSDrhY8OVaTWqxZ91uALb+soVGLxvytPlr/oSt30v0rSgA7sTY5s9+QfXZa6Ecm1OlSQ0Oab6818iXrQ1vDYZ7hOFc1t4jdmZxjyhSvCjPRv9LweeZaRAJIcoJIc4IIZYIIU4LITYJIYoJIXyFEPuEECeEEP8TQmT26oxzZLIVQgQDw4F+Qoht2cR9VgjxvRb2FyFEce3YFSHEBCHEbuBNIUSQECJMCHFECPGzEMJRCNFWCPGT0fkChBBrjcK7a/+PEEKc0n7DjeI+ZRQ2VAgxSft/mBDib03Tf7O5bkchxHdCiJOabSdt/wIhxCEtPT82sr8ihPhYu4aTQogqjzlPpmt+TF7+JoQ4rMU7QNs3Ayim9dSt1Pbd1f4KIcTnWrqcFEJ0MUrH7Vp+nBVCrBRCiEfnM0qbmdnpsQY3bzditBsDQGx4DG5epg/tJVxKkJSQRJre8A4l5nYMrt4ZNpXqVGbm+tmM/34iZV4sa5MeF29XYm9Fm+hx9XI1sXF0KcE9Iz2xZnoeEdC1FSe2H7VZT4yZHhcr9Lg8AT0u3m7E3orJVkvmvIo20VLv5YbM3DKHUd+NZ/GoubnW4uTlSpyRlrjbMTh5mVZRzl4uJjbx4TE4exv0Cp3gg3WfMuPwEs7uPsHVYxdyreURrt5uJnkVEx6NqwVfvpfJlzPSsFKdyny+fhbjvp9gky+7eLkSZ6Ql7nbmvHL2Ms3PuPBYnL3drAqbYz1mfhxjoVyZp02sUdq4eLlS/+WGbP5ho0060vV4WShXZmXGvFzlRTpYwt7TjdTwjDowNSKaQl6Zy69jqyaU+3MJpRdMJuLDrwB4cP4KxerVQOdcAlG0CA7N62Pv7ZHnGo2JiIrB2zNjUIKXpzsRUdFERkXj7elhsj8yKsbSKaxG5+5OWmRk+nZaVBR27u6ZbIq89BLJa7LurSvaoiX3t2yxScsj3LzdiL6d4TvR4TG4eZuX85KZ6sFH94hSL5TG0cmRqaum88Wfswjs1MImPS5e5vVy7GN9OfZ2DM5erlaHtxZXC/crS+U88/08w8Zwj5jL6O8+ZJEN94inRRoyz34FlWdtDtGLQDcpZX+tgdEJGA0MlVLuEEJMBiZiaOBYYrm5rZRyuBBiIXBXSpndg3NloK+Uco8Q4ltgMPDI/r6UspnWsPkVaCWlTBJCjAFGAJ8Ai4QQDlLKJKALYDLORAhRF3gHaAgIYL8QYgdg+VWSgQ+A8lLKlMcMu/sIuCOlrKnF9eiJbLyUMlbr2doihKglpTyhHYuWUtYRQgwGQoF+ls6jXfOHFq55cjZ6+mjxFgMOCiFWSyk/EEK8J6X0tWDfEfAFagPuWpid2jE/oDpwC9gDNBVC/A28DlSRUsqs0kZrjA0A8HOtxQuOFoY4pBtn3mX+tl5ri1m0uXTqIoOa9OP+vfv4BdZlzJLxDA3I/bCw7OLKiU3VxjVo3qUlUzuNy2T7NPRgQY9/l5ZMsUGPpWjM47FkZKz30Mb9HNq4nyoNqvHmyG580mNSLrVYuuZMRllqkWmSGcFjKFayOP0XheJTqSy3z13PlZbsNVmfV5dPXWRwk/7pvjx6yTiGBVgedmeFGAvRmGuxEE5Kq8LmXI6lc2YyytKm98S+/GfGcsMcmrwgl3mVFz2J1mixFM/dv/Zy96+9FKtXA7dhb3Ozz1geXLpO7Dc/U2bpdNLuJZNy9hLo9Xmv8THahBCZ85MsfCwnWFHOSwwZyt1FiyAr37C3p0iTJtxdsKZJtwAAwcJJREFUsthGMZokCzcta8rWIxs7Ozsq1KzIR93GU7hoET77bSb/HDnLrcu3civICj3Z+LsV4a2WYmM5B/N7RHc+6TExk31BouA2Y/KOZ61BdFlKeUz7/zBQAXCWUu7Q9n0PWJx1LIRwstY2C65LKfdo//8ADCOjQfSocdMIqAbs0QpcYSBMSpkqhNgAtBNC/AK8gqEhZ0wz4H9agwkhxK/AS0B2g79PACuFEL8Bv2Vj1wro+mhDSvmokdVZaxTYAz6a9kcNol+1v4cxNEgsnkcI8aqla85GC8AwIcTr2v9lMTR0s3tF1wz4UUqpByK0hmJ9IAE4IKW8ASCEOAaUA/YB94FvhBB/An9YOqmUcjGwGOCN59tnqi/avB1My65BAFw8cR63Uh6AYeKkq7cbsZGxJvYJsQk4lHRAZ6cjTZ+Gm48bcREGm+S7yel2R7cdxm7KQEq4lCAxLjGbyzal1dttCOhqGN996cQFXEtlvIF09XYjLtK07ZwYm0BxIz2uRnoAylZ5nr6fDmZmryncjb9rtQ5jPYFGetzM9MTnQk+/TwfzeS70tH67rYkW11IZbw6zShvTvHInPsI0PwHOHvgbz+e9c5xXj4gPj8HFSIuLjxt3zLTEh8ea2Dh7u3EnwtQmOeEe5/f9TTX/2rlqEL38djCttPS5YJZXbt7uFn25uJkvx2qazH2535R3c50+ceExuBhpcfHJ7Ddx4TEm+eni7Up8RCx2he0fG9Yagt5ua1bOjdPGjTiztMnOj1+oVZFhc0IBKOlaAr/AOuhT0zi0ab/Velr2bIN/N8NchcvHDXl1Xjvm6m1aZizpyW06PI7UiGiTXh17L3dSIzOXmUckHzpF4bI+6JxLkhafQMLqjSSsNvScuQ3vTWpEdJZh8wJvT3fCIzPiiIiMxtPdjYepqYRHRpns93C3bchwWlQUOk/P9G2dhwf6GNPrK1S5Mk4TJgAgnJwo0rARCXo9KXsMw9WKNGzIw3PnSYvLfd4Fv/0Krbu9DMCFE+dx98nwZXdvN2IjHnfPck/3r5jwaBLiEkhJTiElOYXT+09Rrlr5HDWIWvRsQ/Nuhvlsl49fNKuXXTPVuZbK1iNfNq8HLIXPjtZvt6WFVs4vmZVz1yzKeVb3c2POHvgbLxvuEYq845kZMqeRYvS/HnB+inGbPzAbbydpfwWwWUrpq/2qSSn7asdWAZ2BFsBBKaV5ycnqHVUqpvlc1Oj/V4B5QF3gsBAiqwayMNcvhCiPoeenpZSyFvCn2bkfpbWejIZ3pvOQ/TVnFiJEAIaGVWMpZW3gqFm8WenPCnOfsJdSpgINgNUY5odteMz5LbJh+br0RRAObNpPQKdAAF70q8y9xHsWHzpOh52kcXBTAAI6teDgZsODkLPRWOeKtV9E6HQ5rjz/Wr6BD4NH8mHwSA5vOkCzTgEAVPCrxL3Ee5ketAHOhJ2iQbBhTHizToEc2WyYzOtWyp33F41mUchswi/fzpEOYz3jg0cyPgs9ltLnbyM9L5npGb5oNAtzqWfz8vWMCx7BuOARHNq0n5e0vKroV4nkbLQ0DG6SruXQ5gMAeD3vnW5TrsYL2Beyz/WN7urxi3iU88atjAd2heyo064JJzYfMrE5ufkQDTo2N8Tn9yLJifdIiIrH0bUExUoWB6BQkUJUblqDiIu5ezu7cfm69EUQDm7ah3+6L1fiXmJSlr7cSPNl/2x8WZcLX37EleMX8Crng3sZT+wK2dOgXVOObz5oYnNs8yEadwwA4AUtfe5ExVsV1ho2LV/PmOAQxgSHcHDTfpprfpxd2vwddpJGmu/4G/nO0GbvMrTZAIY2G8C+dWEs/WhRjhpDAFtWbGBCcCgTgkM5sukATTv6A1DB6NrNORN2ivrp5TyAI5sO5ChOa7h/8h8KPV8K+9JeUMieksH+JG0znXtT6Dmf9P+LVKuIKGRPWnwCAHauTgDY+3hQonVTEv/cnucajQlo1og1G7YgpeT4qTM4Ojrg4e5KjSqVuHbjFjduhfPw4UPWb9lBYDPb5sc9PHsWu9Jl0Hl7g709RVu0IGXvHhOb6O5die5m+KXs2EHCrK/SG0OgDZfbattwuXXL/ySk7TBC2g5j38aw9GFulfwqk5R4L9OLIYCTYSdpGmyY79TijZbs32TI0/2b9lGtQXV0djoKFy1CJb/K3Dh/I0d6tq7YwKTgUUwKHsXRTQdoYlSO72Xhy2fDTlNP8+UmnQI4uslQpo9tPmRV+KzYvHw9Y4NDGBscot0jDOeq+Jg68NE9onmnQA4/gXvE0+JZWFThWeshMucOECeEeElKuQvoCeywZCilvCOEsMo2C54TQjSWUoYB3YDdFmz2AfOEEBWllBeEYZ5RGSnlOWA7sBToj9lwOY2dwDJtLo3AMOSrJxABeAoh3IC7wKvABiGEDigrpdwmDPOXugOOQLyFc28C3kMbSqgNmSuJoSF3RwjhBbTVNGaHpfNkd82WcALipJT3tLlJxneih0KIQlLKhxbS5l0hxPeAK9AcGAVUsRSBNoepuJRynRBiH2DzxIsjWw9RJ7Auc3cu+j/2zjs8iqrtw/ezCT29kYAoHaSGKk1JaAIKiihgQRAVxUYLIKiAIFJERQEpNgR5FVBfBUUFadJrqIL0TkJICAkhpGzO98dMwibZQJIN2bwf5+bai+yZ58z89pSZeeac8wxJiUl8FvZpxrZR80Yza/gMLl+MYcHEeQyeMYxeYc9w8sBxVi1aCUCzzi158JlOWFOtJF9PZtrrHzikZ8/qnQSHNmTq35+RnJjE52E35jCHzXuLL4Z/RuzFy3w/cQGvzhjC42FPcerACdYt+guARwf2wM3bnT7jjUg9VquVMV2yDlrmnt2rd1I/tCEfmnrm3kTPazOG8ETYU5w8cIK1pp5upp6+NnpG51PP7tU7CQ5txMd/zyIpMYk5YdMztg2f9zZzh88k9uJlvps4n9dnDOUJs2zStTTt1Jz7u4eQmmIlJSmZ6a9+mN9iIc2axuLRX/Hq/FGIi4Uti9cSceQsrZ42RgA2LPyLA2vCqR3agDHrPiElMZlvh80CwCPAm94fvoLFYkEsFnb9tpn9q3flW0s6u1bvpEFoY6b/PZvkxCRm2pTPyHnvMHv4TC5fjOHbid8weEYYT4Y9zYkDx1md0ZZb0MGmLX/8ev6X6KVZ0/jP6C8YNP9tLC4WNi5ezfkjZ2n9tPEkd93CFexbs4u6oQ15f90MkhOT+HrYZzfN6wjhq3fSILQRn5hlM8umn7857x3mDJ/B5YuXWThxPgNnDKVn2NOctCmbgmbPml3UC23IB+tmkpSYxBfDZmZsG/L1W3w1wuhXiyd9yyvTB9N96JOcOnCCvxcbN9ae/l6MXTqFUm6lSFOKDv0eZmT7gVy3GeXLNdY0ot77jLu+mAAWC3E/rSD56Ck8e3YG4Mqi5bh1aIXHI+1QKamopGTOD5mYkT3ok3dw8XKHVCuR42eSFpf3UWlbho2ZxPbwvcTGxtH20Wd45fnepJrBI3p2e4gHmjdh/ebtdOrRj1IlSzJ+1GAAXF1dGDV4AC8NeRur1Uq3hztQtfJNpkvnhjQr8Z9Ow3vKVLBYuP77cqwnT1KqS1cAEpfdIspfiRIUb9SYuI/yf67Jys7VO2gc2pjZ6z8nKTGJ6WHTMra9M28sM0d8SkxkDN9M/JqwGSN4etgzHD9wnJWLVgBw9uhZwtfu5NMVM0hLU6z8/k9OH85/NL69ZlueZPbjr8x+DDDo61HMGzGL2IuX+WHSAl6aPphuQ3tx+sBJ1ptt+Wb580q4eY2Y9vds8xpxo58Pn/cOn5v9PP0a0cPs52vMft60U3Me6B5KaoqV5KQkPn3V4WXKt52ivPanoJDbMle4CCIiFYFflVJ1zO9hGA7Az8BsoDRwHHjOZkpY1n0E27MVI0hBjmuIzGMvx7gxbwEcAXqbN/UngcZKqUumbRtgMlDCzP62UmqpuW0G0BcIUEpdM9My8ovIEKCfme8LpdQ00+YNjCl6J4BzwElgArAGw8EQ4FullN24mKaDkD6SZAXeVUr9JCLzMNYsHccYaVmqlJqXRVNjYKpSKuQm+7H7m0VkLRCmlNqRvk8gHqPOygP/Av7AWKXUWhGZDHQFdimlnhaRq0opNzNQwhQMp00B7ymlFpmjTWFKqYdtyncH8CfwC8bIk5j6v7FXNunYmzLnLEoVseccRaZgTIrSid1HijtbQiYi1fVbGxUinlLM2RIyiFeOR1orSErmPSjpbeWtUgm3NipEKq3P/w1vQRPzxHPOlpCJ/sdyjq7nDHwtt5rkUXgkFrF+DvDdqZ8dXaXmMEMq9iqwC+dHJ793+u+xxx3jEDmTrM6Y5v8f2iHKmSJTMCbaIcoZ7RDljHaIbo52iHJGO0Q3RztEN6coOESDC9Ah+riIOkRF685Jo9FoNBqNRqPRFBmK8tqfgkI7RHYQkZlAyyzJnyilvr5FPl/A3qrGtv8Lo0Mi8hwwMEvyRqVU0X+Nskaj0Wg0Go1Gkw+0Q2SH/DoASqlojPfd/E9iOnw3dfo0Go1Go9FoNHcOqghNNb9daIdIo9FoNBqNRqPR2EVPmdNoNBqNRqPRaDR3LEUpGNHt4k57MatGo9FoNBqNRqPRZKBHiDSaAuCS9ZqzJWRwl4uHsyVkoqg9WUrG6mwJGZQpYs+kErK909i5+EuJWxsVEkUtzLULRStybUDDZGdLyERRCnXts6RoLc2NC37J2RIyUcFSxtkSMriskpwtoUhStK7itwftEGk0Go1Go9FoNBq7FLUHm7eDovV4UqPRaDQajUaj0dyxiEhHEflXRI6KyJt2touIfGpu3ysiDR09ph4h0mg0Go1Go9FoNHYpzChzIuICzATaA2eB7SKyVCn1j41ZJ6Ca+bkPmGX+n2/0CJFGo9FoNBqNRqOxiyrAf7mgKXBUKXVcKZUMfA88ksXmEWC+MtgCeIlIkCO/UTtEGo1Go9FoNBqNpihQHjhj8/2smZZXmzyhHSKNRqPRaDQajUZjl7QC/IhIfxHZYfPpn+Vw9kJoZh1ayo1NntBriDQajUaj0Wg0Go1dcjnVLXf7UmouMPcmJmeBCjbf7wLO58MmT+gRIo1Go9FoNBqNRlMU2A5UE5FKIlIc6AUszWKzFHjWjDbXDLiilLrgyEH1CJFGU0i8Pu5VmrVpyvXEJCYNnsKR/Uez2XTr+wiPv/AY5SuW55G6j3HlchwA7bq14clXegGQmJDIxyM/4djB4w7p6T32eYJDG5KUmMTcsBmc3J99f/4VAnh1+hDcvNw4uf8EswZ/gjUllRaPPsDDLz8KwPVr15n31lxOHzzpkJ5nxz5PcGgjkhOTmB02PUc9r08fipuXGyf2H+czU0+j9k15YuiTpKUp0qxWFrz7Ff/uOJhvLf3GvkiD0MYkJyYxI2waJ+xoCahQlsHTw3Dzcuf4/mNMH/wxqSmp1G5Wh+Gfv8XFM5EAbP1jMz98uijfWqq3rk/X0c8iLha2L1rD2llZrwvQdUwfaoQGk5KYzOKwWZw/cBKAkh6leXxSf8rWuAsULBk+h9O7juRbSzovvfsSTUKbkJSYxEdDP+LY/mPZbMpWKMubM97EzcuNY/uPMXXQVFJTUintXpphnwzDv5w/Lq4u/DTnJ1YuWZlvLbVa1+eJ0c8hLhY2LVrFilm/ZLN5Ysxz1A5tQEpiEvPDPuPMgRO4lijGkEXv4lrCFYuLC+G/b+G3j5fkW0c6T4/pR/3QhiQnJvN52HROHTiRzcbvrgBemTGYMp7unDpwnDmDP8WakkpQlfK88MGr3FO7Mj9O/Q+/f569rvPKU2P6UTe0AcmJyXwZNoPTOeh5ecZgyni6cerAcT4fPB1rSmqu8+cW13pNKNX7NbBYSF67nKRl32Xefm99ygwZT1pUBADJ29eT9N8FNwzEgtt7s1CXL5Ew9a186wAo3qQp7q+9Di4WEn/7jWvf/ce+5ho18Zn5GVfGvUvS3+twqVABz9FjMra7BJUj4euvuPbjDw7pefv9j/h74zZ8vL34+dvZ2bYrpZg4bTbrN2+nZMkSTHhrKLVqVAVgw5YdTJo2G2taGt27dOSF3j0c0pLO6+Ne4T7zmjV58Ad2r1mP9n2Ex1/oZl6zuhNnXrMqVKnAiI/CqFanKl9O+ZrFc/JfPve2rs/jo/ticbGwadFqVtrp44+P6Uvt0AYkJyaxIGwWZ80+PmjRWFxLFMPFxUL471tZXgB9HOD5d/vTKLQRSYlJTB/6CcftnAMDKpRl6IxhGdeITwZ9RKrZr2o3q8PzY17EpZgr8TFxvN1jZIHoul0UZpQ5pVSqiLwG/Am4AF8ppQ6IyMvm9tnAcqAzcBS4Bjj8JmY9QqTRFAL3tWnKXZXK83SrPnw44mMGTxxo127f9gMM7TWciDMRmdIvnI5g4ONDeL59f+Z/8i1Dpwx2SE/90IYEVgpiaOtX+XLkbPq+l3UKr0GvN3vzx5fLCAt5jYQrVwnp2RaAqDORvNfjHUZ1HMLPny6h38SXHdITHNqQwErlGNL6Fb4YOYt+79l/k/qTbz7L718uY0jIqyRcSSDU1LN/417e7DiYUZ2HMGfYDF6c/Eq+tTQIbURQpXK83volZo+cSf/3Bti1e+bNPvz65VJeD3mZhCtXadOzfca2Q9v/YVjnQQzrPMghZ0gswqPjnuOrvpP5qH0Y9bu2IKBq5nWjNUKC8asUyAchg/lp1Od0m/B8xrauY/rw77o9fNg2jGmdRnDx6Ll8a0mncWhjylcszwsPvMCnb37KaxNes2vXb2Q//vvFf3mx9YtcvXKVDj07APDwsw9z+shpXuv4GiN6jOCFd17AtVj+ns2JReg57nlm9H2f8e0H07hrSwKzlE/tkAYEVApkbMgbLBw1l14TXgAgNSmFT556l/c7Def9zsOp1TqYig2q5UtHOvVCjH41POQ1vh41iz4T7Pernm/25s8vf2VEqNGvWpvt+GpsPN+O/bJAHCGAuiENKFspiJEhr/PNqNk8m4OeJ958hhVf/srI0NdJuJLA/T3b5Cl/rhALpfoOJGHKm8QPf47izdtgKX9PNrPUf/cRP6o/8aP6Z3aGgBIdHyPt/On8a0jHYsF94CBi3xxOdN8+lGzbFpd7smvBYsG9/0skb9+ekWQ9c4aYF18wPi/1RyVd5/qG9Q5LerRze2Z/9F6O29dv3s7ps+dZvuhLxg5/g/FTZxh6rFbe+3Amsz4cz9KFc1j+11qOnTjlsJ772jSlfKXyPNOqLx+OmMbgiW/Ytdu/fT9De43Ids2Kj41n+uiZDjlCYPTxHuP68VnfibzXfgiN7PTxWiHB+FcK5N2QgXw36nN6mefA1KQUPn1qHJM6DWdi5xHUal3f4T4O0DC0EeUqluOVB15i1pszeWmC/WvEsyP7suyLX3i19UskXLlKW/MaUdqjDC9NGMD7z7/HwHav8sGASQ5rut2kKVVgn9yglFqulKqulKqilJpgps02nSHM6HKvmtvrKqV2OPobneoQiUhNEdktIuEiUqWQj71cRLxu8zHGikhYAewnRER+tZPe1d4Lq5yNiFQUkaecrcMeIjJPRB7Pg31FEdnv6HFbdmjBnz8YT8H/2XUQNw83fAJ8stkdPXCUiLOR2dIP7PyHq1euZuT3D/J3SE+j9k3Z8ONaAI6FH6aMRxm8Aryz2dVqUZdtyzcDsP7HNTTq0BSAIzv/5VpcgqF512F8gnwd1rP+xzXG/sIPUzoHPbVb1GXr8k0Zehp3MF47kHTteoZNydIlHZrt3KT9faw1tRwJ/zdHLXVa1GPz8o0ArP1xNU07OPQKBLtUCK5K9KkIYs5cxJpiZc+yzdTq0DiTTe0Ojdj5k3FDdjr8KKXcS+Pu70UJt1JUalqT7YuM32JNsXI97prDmpp1aMaqH1cB8G/4v5TxKIO3nfKp16IeG5ZvAOCvH/6i+YPNM7aVKlMq4//42HisqdZ8aakYXJWoUxFEm+Wzc9km6ndokllHh8Zs/elvAE6GH6G0exk8/L0ASLqWBICLqwsuri6Qy4t1TjTs0ISNP60D4Jh5LE/zWLbc26IO281+teHHtTQ0+1V8dBwn9h7DmprqkI50GnRowqaf1gJwPPwIpd1L29VTs0Uddph6NtnoyW3+3OBSpSZpkedIi7oA1lSSt6ymWKMWuc4vPn64Bjcjec3yfB3flmI178V6/hzWCxcgNZXrq1dTomWrbHaluz3G9fXrSIu9bHc/xRs2xHr+PGmR2c/ZeaVxcF08Pdxz3L5mwxa6dmyLiFC/zr3Ex18l6lIM+w4e5u67ylGhfBDFihWjU9vWrF6/xWE9LTs0Z8UPfwFwcNdByuR4zTpGpJ1rVmx0LP/uOUyqg225YnBVLp2KzOjju5Ztol62Pt6EbTZ9vJRNH0/O1MddUQ72cYCmHZqx5sfVABy+yTmwbot6bDKvEWt+WMV9DzYD4IFHWrPl981cOh8FwJXoKw5r0jiOs0eIHgV+UUo1UEplH2/MJeZLnPKEUqqzUio2v8csCiilliqliuKjhYpAkXSInIV/oB9R5skPIOpCFP6Bfvna10O9OrFtzTaH9HgH+hB9/lLG95iIaLzLZr7YuXm7cy0ugTSrMVgecyEa78Dsjk9Ir3bsXRvuoB5fYs5H31SPu7c7CTZ6oi9cyqSn8YP3MXXVdIZ9/RZzh83ItxbfQF+ibeoqJiIa37KZf3d2LdH42Gip3rAGU3//hLe+GcNd1SqQXzzLehNrUy5XLkTjWTbzhdejrA9XbG0iYvAI9MHn7gASouN4YurLvPHbRLpPepFipUrkW0s6foF+RF24UT6XIi7hl6Ute3h7ZCqfSxcu4WuWz7J5y6hQtQLf7viWz1Z8xpyxc/J9k+JV1ofLNr/98oVoPLO0G8PmRlu/HBGNV6BhIxZh5PIpTN75BYc27OPk7uxTgvKCd1k7/SpLn8nary5fyN7WCwrvsln7Vcwt9cRciMbL1JOb/LnF4uNHWvTFjO9pMZeweGd/sONStRbu739OmeETsZSvmJFeqverXP9uDijHJ+9Y/PxIu2ijJSoKFz+/bDYl7r+fxKU5j9aVbNOW66tWOawnN0RGRRMYcENj2QA/IqMucTHqEoEB/pnSL0ZF29tFnvAL9OPi+RtldOlC9n5eGHja7eOZz4FeZb0z2cRm6eNvLp/MpJ2fc2jDXk452MfBvEZcuNHPoyMyn/8B3L09SIi7anMOjM44B5arXA43TzfGL3qfqb99TEj3UIc13W5UAX6KKrd0iMwn5AdF5HMROSAiK0SklIgEi8gWEdkrIv8Vkezu8Y19ZLMVkc7AIOAFEVlzk2MfEpFvzLw/iEhpc9tJERktIhuAJ0Skg4hsFpFdIrJERNxEpJOILLbZX4iILLPJ72f+PURE9pufQTbH3m+TN0xExpp/vyEi/5iavr9FEdYXkdUickREXjTzi4h8YB5vn4j0vFl6ljJpYo6oVRaRviIyw0yfJyKfisgmETmePgoiIhYR+cysu1/NkbH0bZNsfsfUm9RfTvvOSe8k4H5z9M/u3C4RcRGRqWa+vSLyupk+WkS2m/ucKyJipq8Vkckisk1EDovI/bfYTyMRWSciO0XkT7Hzwq6cbMz0PSKyGXj1JuWSETryfMItpiJJ9giR+bkJDG5Rn869OjJnwhd5zptZzq312LPJ+gT93uZ1aN2zLd9PnO+gHjuJWcvnFpp3/LmVsLav89GLk3hi6JMOiLEn5dZlk25zfP8xBrR4gbBOA1k+71dGfO7AWge7x7m1DUphcXGhXJ1KbPl2JZ8+NJLkxCRCB3TNv5abkK0t3yQgasPWDTn+z3GeafwMr3V8jQHjBlDKrVT+DpyLNnqzulJpiomdh/NW85epWL8KQdXz77wWhJ4CJ59tOUNzLvI7KCbT19STR4gb+CTxo14k6c+fKTNkHACuDZqhrsRiPen4+jdDij0tmb+6v/o6V+fMgbQcHDBXV0q0aEHSurUFo+kW2Ct3EbE7qGn3fJpHcnP+Lwzs68hmlN3Epo9P6jyCt5sP4J76VR3v4zmQvV/lbOPi4kLlulV4r++7vPvMGJ54oxflKpW7LboKijRUgX2KKrmduF0NeFIp9aLpYHQHhgOvK6XWicg4YAyGg2OP+VltlVKDRGQ2cFUplePNOFADeF4ptVFEvgJeAdLtryulWpmOzU9AO6VUgoiMAIYA7wNzRKSMUioB6AlkmtAvIo0wFmPdh3HG3ioi6wD7Y+QGbwKVlFJJcutpd/WAZkAZIFxEfgOaA8FAfcAP2C4ifwMtckhP19oCmA48opQ6LSIPZDlWENAKqIkRgeMH4DGMEZu6QABwEPhKRHyAbkBNpZTKxe/Iad/29L4JhCmlHr7J/voDlYAG5gK69EekM5RS48zfuwB4GFhmbnNVSjUVw5keA7Sztx8RKWZTTlGmozYB6GdTljez+Zob7fWDnH6AbejIkLvaZevlj/bpysNPdQbg0J7D+Je78RTPP8ifS5F5e4pX+d5KDJsylBG9RxIXG5envADtnu1IaC9jDvPxvUfxLXfjaZ9PoC+xFzM3+fiYOEp7lMHiYiHNmoZPkC+XI2MytleoeQ8vTH6FD/qM52rs1Tzraf9sp0x6fMrdeMLmE+jLZTt6ytjo8Q3yI9ZGTzqHtv1DwD2BuHu7E385PldaOj7bmba9jDUux/YewbecP0ZXMbTEXMx8nLhsWm6UTeLVxAy78DU7cRn/cp602HIlIgYvm3LxDPIlLku5xEVE42lrE+hDXORlFIorETGc2W0Mvu9bvpWQAVlf9p07Hn72YR588kEAjuw9kmnKpl+gH9FZ2nLW8vELumHT/on2LJllLGy+cOoCkWciqVClAof3HM6zrtiIaLxtfrt3kC9XspTP5YhovMv5Af8aNoG+XInMbJMYd43DW/6hdutgLhw+Q15o27sjrZ9sB8CJPUa/Sr9t9wnM3Gcge7/yDsre9xyhTe+OPPBkW1PPsSz9yidbn7HXz9P1XI6IvmX+3JIWE4XFNyDju8XHj7TYS5mNEm9M6UzdsxVxGYi4eeBavQ7FGrWgWPB9UKw4Uqo0pQeM5NqsifnTEhWFJcBGi78/1ujMWorVqIHn6NEAiKcnJe5rRpzVStJGYxpoifvuI+XwEdIuF1zd3YzAAD8iLt7QGHnxEgF+vqSkphJxMSpTur9f/kbxHu3TlYcyrln/ElAuADgAgF+QX56vWQVBbvp4bERMJhuvHPr4kS3/UKt1/Tz3cYBOz3amvXkOPLr3CL5BN66fvnb6uXEOdLM5B/oSY9pER0QTdzmOpMQkkhKT+GfrfirWqsT5Ew5FjdY4SG6nzJ1QSu02/94JVAG8lFLrzLRvgKw35wCIiGdubXPgjFJqo/n3txg35emkOzfNgFrARhHZDfQB7lFKpQJ/AF1ExBV4CMganqQV8F+lVIJS6iqGY3X/LTTtBRaKyDPArSbI/qKUSlRKXQLWAE3NY36nlLIqpSKBdUCTm6QD3Itx891FKZXTqtKflVJpSql/gLI2v2+JmR5hagCIA64DX4jIYxhROm5GTvvOSe+taAfMNusIpVT62SRURLaKyD6gDVDbJs9P5v87MZy8nPZTA6gDrDTbw9sYMeptsWtjp70uIJ/8/M1SXnjwZV548GU2/LGRBx83bv5rNbyXhPiEbDfZNyOgXADjPx/L+wMncfZE/hbG/zX/D97qPJS3Og9l54pttOoeAkCVBtW5Fn/N7k3ZP5v307Szsfbj/u6h7FppLC72LefHoDnDmT34EyJO5C/S5cr5vzOq8xBGdR7CjhVbud+cNlC1QXUSb6Lnvs4tMvTsWGlMHSx7T2CGTcU6lXEt5ponB+SP+cszgiBsW7E1YwpDtQY1ciybA5v30bxzSwBCurdh+8qtAHjZrLGoWr8aYrHkyxkCOLvnGL4VA/G+yx+XYi7U79Kcgyt3ZrL5Z+UuGj1mnLLublCV6/HXiI+K5WrUFa6cj8avsjE4WrVlHS4eOZsvHb/O/5XXO73O651eZ/Ofm2nb3bjhrtGgBgnxCdmcV4C9m/fSqrNxum73eDu2rDDWNUSdjyK4ZTAAXn5elK9SnojTEdny54ZTe44RUDEIX7N8GnVpwd6VmdfW7lu5g/seMy45FRtUIzH+GnFRsbj5uFPKozQAxUoUo2bLukQcy3vfWrXgD0Z3DmN05zB2rdhGy8daA1DFPNaVqNhseQ5u3k8Ts1+16h7CrhWOTYG1ZfWCPxjbeRhjOw8jfMU2WjwWAkDlBtW4loOeQ5sP0NjU06J7COErjH6+e+WOXOXPDdbjh7AElsfiHwgurhRv1oaUnZsz2YjnjYkmLpVrggjqahzXF31B3Os9iRv0FNdmjCf1n/B8O0MAKYcO4VL+LiyBgeDqSsk2bUjatDGTzaWnenHpSeOTtG4dcdM+znCGwJwut7pwpssBhLRqxtI/VqGUYs/+g7i5lcHfz4c6Natz+ux5zp6PICUlhd9XrSO0VbN8HePnb5by4oMv8+KDL7Pxj410eNxw9O/NxzWroDi15xj+FQMz+njDHPp401z08Rot6xB5LH9Ox+/zlzOk00CGdBrI1j+3ENrdCDxS3bxG2DsH7t+8lxbmNSL08bZsW2FcI7at2EKtprWxuFgoXrIE1RvU4OyRvDtphYkqwH9FldyOECXZ/G0FvApeSo5kLT3b7wnm/wKsVErZmyezCGPaUwywXSmV9c4kp8HlVDI7jCVt/n4Iw6nrCrwjIrXTb8hzqT+nY95soPuCqaEBOb98yraeJMv/mUUYoylNgbYYMd5fw3BAciLX+84lQpayEZGSwGdAY6XUGTGmKNqWe7oGKzfabrb9mGkHlFLNyRm7NuZIWYH32C2rt3Jfm6Ys3DCfpOtJTB5yY+Bp0vwJfDDsI6Ijo3ms36M8OaAnPv4+fLlyLlvXbOODYR/RZ/AzeHh5MPh9I9KPNdXKSw/lOJvvluxevZP6oQ358O/PSDbDbqcTNu8tvhj+GbEXL/P9xAW8NmMIT4Q9xckDJ1i7yFhk221gD9y83ek73og6ZbVaGd1luEN6gkMb8fHfs0hKTGJO2PSMbcPnvc3c4TOJvXiZ7ybO5/UZQ3ki7ClO2ehp2qk593cPITXFSkpSMtNf/TDfWnat3kHD0EbM+HsOSYlJfBb2aca2UfNGM2v4DC5fjGHBxHkMnjGMXmHPcPLAcVYtMoJmNOvckgef6YQ11Ury9WSmvZ7jIOMtSbOm8cvoeTw/fyQWFwvbF68l8shZ7nvauFHZuvAvDq0Jp0ZoMMPXTSM5MYklw+Zk5P9l7DyenPYaLsVciTkTyZKwOTkdKtdsX72dJqFN+HL9lyQlJvFx2McZ296d9y6fjPiEmMgYvp74NSNmjODZYc9y7MAx/lz0JwDfffodQz4cwmcrPgOBryd+nRGqN6+kWdNYNPorXpv/FhYXC5sXr+HCkbPc/7Tx8GH9wpXsXxNO7dCGvLvuU5ITk1kw7DMAPAO8efbDV7FYLIhF2PnbZvav3uVQ2exZs4t6oQ35YN1MkhKT+GLYzIxtQ75+i69GGP1q8aRveWX6YLoPfZJTB07w92LjxtrT34uxS6dQyq0UaUrRod/DjGw/kOs2o455Ya+pZ9K6GSQnJvGV+dsBBn09inkjZhF78TI/TFrAS9MH021oL04fOMl6U8/N8ueZtDQS502nzIjJYHEhed3vpJ07SfG2XQBIXrWMYk1bU6JdV7BaUSlJJMzIOeqaQ6RZif90Gt5TpoLFwvXfl2M9eZJSXYwppYnLbhHlr0QJijdqTNxH+T/PZGXYmElsD99LbGwcbR99hlee750RkKBnt4d4oHkT1m/eTqce/ShVsiTjRxmz0V1dXRg1eAAvDXkbq9VKt4c7ULWynYh5eWTL6m3c1+Y+vt3wjXnNujGRZ+L8CUy1uWb1GtAj0zVr6rCP8Pb3Zs7ymZR2K41KUzz+wmP0DX2Ba1fzFtglzZrG4tFf8er8UYiLhS2L1xJx5CytzHPghoV/cWBNOLVDGzBm3SekJCbz7bBZAHgEeNP7w1fMPm5hVwH0cYCdq3fQKLQxs9bPNcJuh32Sse3teWOYOWI6lyNjmD9xHkNnDOepYc9w4sBx/lq0AoCzR88SvnYn01ZMR6UpVn6/gtOHCyB64m2kMMNuOwu51XxgEakI/KqUqmN+DwPcMKZbvaaUWm/euHoqpXJaL7LHnq35d45T5sxjnwBaKKU2i8jnwCGl1IcichLjxvmSiPhjjBq0UUodFWOd0V1KqcNiBFw4hvGipyVKqcXmvk8CjYG7gXkYo0wCbAV6A/sxnJAawFWM0Y8/gHHA3Uqpk+a0q7NADXsBGszf9yg2U+bMv5sBL2HEUPcBdmBM2WuRQ3pNIAx4HlgBDFRKrRWRvmYZvCYi88x6+sE89lWllJuIPIExYtYVSJ8H1N/8LaWVUhfN6WpHlVJ2V/beZN+P5aC3PPCRUqq1vf2Z+3gZY3Snl82UuTSMeS0VMWLPbwF+UEqNFZG1GNPwdphTJHcopSrmsJ+rwD9Ab7PdFAOqKyOO/TzgV4xpfznZ7AVeUUptEJHJwEPp7T8n7E2ZcxZ3uXg4W0Imitqc4WTyF9HsdlBFyjhbQib2pRWtaEcVLW7OlpBBQhFqNwAuDj2PKng+aln4owc3I+l80akvnyVfO1tCJjoE23+tgbOo7Xp7gorkh3NpjkfiLGj+e3qZ0zt7z3seLbAL+aJTPzv999jDkRez9gFmm87HcW7+UqS82GblINBHROYAR4BZWQ3MNSB9ge9EJD2M0tvAYaWUVYyQ1X1NHVnz7jJvktPnLHyhlAoHMNc7bcVwyg6Z212Ab82pVQJ8fItodduA3zAcr/FKqfMi8l+MdUR7MEYjhiulIm6SXtPUGikiXYDfRaSfvYPZ4UeMUaD9wGHz91wB3IFfzFEZAfLzYpuc9EYDqaYjPE8p9bGdvF8A1YG9IpICfK6UmmE6vfuAkxhO7K3IaT+PA5+a9eQKTCN9MjSglEq+ic1zGOusrmG8GEyj0Wg0Go3mjqSoPdi8HdxyhMiZZB2d0uQPEXFTSl0VEV8MB62luZ5IU0DoEaKcKWonUj1ClDN6hChn9AjRzdEjRDmjR4hujh4hujlFYYTo8Xu6FtiF/IdTS53+e+zhyAiR5n+HX821McUxRqm0M6TRaDQajUaj0VDADpGIzARaZkn+RCl108cj5siFvXAtbf8XRodE5DlgYJbkjUqp/K96L0CUUiG5sRORt4AnsiQvUUpNyO+xReRBYHKW5BNKqW753adGo9FoNBqNpnC4E4IqFKhDlF8HQCkVjfE+m/9JTIevaI2J5wPT8cm385PDPv9Er8PRaDQajUaj+Z+kKC+vKShy+x4ijUaj0Wg0Go1Go/l/h15DpNFoNBqNRqPRaOxS1IIj3Q60Q6TRFADjUr1vbVRIeLgk3dqoEPlUijtbQia8KOZsCRkUtUtMsSI2aaBRatFqOwddi07ksqIW9a71quvOlpCJisWLTuSyuCIW1W3Fbsdf0FyQfFt/tLMlZFDNxdPZEookd8IaoqJ19dNoNBqNpghSlJwhjUaj0RQseoRIo9FoNBqNRqPR2EUVufkMBY92iDQajUaj0Wg0Go1d7oQ1RHrKnEaj0Wg0Go1Go7lj0SNEGo1Go9FoNBqNxi53wnuItEOk0Wg0Go1Go9Fo7KKjzGk0Go1Go9FoNBrN/2P0CJFGo9FoNBqNRqOxi44yp9FoCgTv0GCqjH8OcbEQsXAVZ2b8nGm774ONuWdEL0hTKKuVY+/MI27boVzlzQ/urRtSfswLiIsL0d+v4OKsHzNt92h/H0FDn4a0NJTVyrl3vyBhx0EAam34HGtCIliNbYe7DHVYD8BTY/pRN7QByYnJfBk2g9MHTmSz8bsrgJdnDKaMpxunDhzn88HTsaak5jp/bqjVuj5PjDbKe9OiVayY9Us2myfGPEft0AakJCYxP+wzzhw4gXeQL30+ehUPfy/S0hQbv/uLNV//ni8NtlRvXZ9HRj+LuFjYtmgNa2ctzWbTdUwfaoYGk5KYzOKwWZw7cBKAkh6leXxSfwJr3IVSsGT4HE7vOuKwphff7U+j0MYkJSbxydBpHN9/LJtNQIWyDJsxHDcvd47vP8rHgz4i1ayrOs3q8vyYF3Et5kJcTBxv9RiZby3lQ+rR7N3eWFws/PvdWvbOXJZpu2eVIB74qD++dSqyY8oS9s9ZnrGt9gsdqfFkCChFzKGzrB86F2tSSr611DDryuJiYeuiNayxU1ePjOnDvaHBJCcms8imrkZt+JSkq4mkpaWRlprGJ13fyreOdGq1rk8Psy1vzKEt9zDbcnIObVmlKTYUUFsGGPHeYFq1bc71xOu8M/A9Du07nM2mV7/uPP1iT+6udBeta3UiNuYKAG7uZXh/5hgCy5fF1dWFb2Z9xy/f/5ZvLUWpHQO8Pu4V7mvTlOuJSUwe/AFH9h/NZvNo30d4/IVulK9YnkfqdifuchwAFapUYMRHYVSrU5Uvp3zN4jk/5FvH2+9/xN8bt+Hj7cXP387Otl0pxcRps1m/eTslS5ZgwltDqVWjKgAbtuxg0rTZWNPS6N6lIy/07pFvHemUD6nHfeN6IxYLh79byz47fbzVx0Yf3zU5cx+v9WJHqpt9/PKhs2wY4lgfB7indT1aj+2NuFg48P1adnyWWY93lSDaT+2Pf52KbP5gCbvmLs+0XSxCr1/HkxB5maXPfeiQlsJCR5nTaDSOY7FQdeLz7H9qAjseGIx/t5aUrn5XJpPL6/ezq00Yu9oN4/Cgz6j+4cu5zpsfPXeNf4njfd7lULtX8e76ACWqVchkcnXjHv7t+Ab/dh7E6WHTqTD59Uzbj/Z6i387DyowZ6huSAPKVgpiZMjrfDNqNs9O6G/X7ok3n2HFl78yMvR1Eq4kcH/PNnnKfyvEIvQc9zwz+r7P+PaDady1JYFVy2eyqR3SgIBKgYwNeYOFo+bSa8ILAFhTrfz43gLGtRvCB93e4oHeD2bLmx893cY9x5d9J/Nh+zCCu7YgIMs+a4YE41cpkCkhg/lx1Od0m/B8xrauY/pweN0eprYNY1qnEVw8es4hPQCNQhsTVLEcLz/Qn5lvzmDAhFfs2vUZ2ZelX/zCgNb9uXolgXY92wNQxqMML08YwITnx/N6u1eZMmBSvrWIRWjxXh9W9J7Cj6HDqfxIM7yqlctkkxSbwObRC9g3J/NNSelAb2r368AvD73DT+1GIi4WKndt5pCWbuOe44u+k/mgfRgNuragrJ268q8UyKSQwfww6nO629QVwKwn3+PjziMLxBkSi9DLbMvj2g+myU3a8piQN/jPqLk8aactT+n2Fq0LoC0DtGrbnLsr30WX5j0YFzaZtycPs2u3e9s+XurxBufOXMiU3vO57hw/fJIebfvw/GOvMXTM67gWy99z3aLUjgHua9OU8pXK80yrvnw4YhqDJ75h127/9v0M7TWCiDMRmdLjY+OZPnqmQ45QOo92bs/sj97Lcfv6zds5ffY8yxd9ydjhbzB+6gwArFYr7304k1kfjmfpwjks/2stx06cckiLWIRmE/qw4pkp/Dd0OJUfbYannT6+9Z0FmRwhMPp4rX4dWNb5HX5ua/TxSo/kv4+n6wl5rw8/95nCgrbDqd61GT5Z9FyPTWDdmAXZHKF0gvt15PLR8w7p0BQ82iHS3BQRaSwinzpbx/8y7g2qkngiguunL6JSUon6eSO+DzbOZJN27XrG35bSJcGM6JKbvHmldHA1kk5eIPlMJCollcvL1uPZ/r6b6CkBt/npUIMOTdj001oAjocfobR7aTz9vbLZ1WxRhx3LNwOw6ce1NOzQNE/5b0XF4KpEnYog+sxFrClWdi7bRP0OTTLZ1OvQmK0//Q3AyfAjlHYvg4e/F3FRsZwxR6WSEq4TcewcXoE+edZgS4Xgqlw6FUGMqWfPss3U7pC5/mt1aMSun9YDcDr8KKXcS+Pu70UJt1JUblqTbYvWAGBNsXI97ppDegCadriPNT+uBuBw+L+U8SiDd4B3Nrt6LeqxcfkGAFb/sIpmDzYH4IFHWrP5901cOh8FwJXoK/nW4h9chbiTkcSfjiItxcrxX7Zwd4dGmWyuR8dxac9x0lKt2fKLqwsuJYsjLhZcSxXnWuTlfGu5O7gq0TZ1tdtOXdXu0IgdNnVV0qyr20F6W75k6tlhpy3X79CYLWZbPnGb2zJA6IP3s2zxHwDs23UAdw83/AJ8s9kd2n+Y81lu+MEYmSjtVhqA0mVKcSU2Dqudes0NRakdA7Ts0JwVP/wFwMFdBynj4YZPQPYyP3rgGJFnI7Olx0bH8u+ew6SmpjqkA6BxcF08Pdxz3L5mwxa6dmyLiFC/zr3Ex18l6lIM+w4e5u67ylGhfBDFihWjU9vWrF6/xSEtfg2qEH8ykqu2ffzBHPp4Sva2YMnaxyPy38cBygZX4crJSOJMPYeXbaFylnNOYnQckXvtn3PcAn2o1DaY/d+vdUhHYaOUKrBPUUVPmdPkiIi4KqV2ADucrQUy9Nz0bJ8bm8KmRJAPSeejM74nXYjBvWG1bHa+nZpSadRTFPPzZP8zE/OUNy8UC/Ql5cKljO8pFy5RukGNbHaeDzYjaPizuPp5cvy5cRnpCqjy7ThQiuiFfxL93Z8O6QHwLutLjM3vjImIwTvQlytRsRlpbt7uXItLIM1qxLuJuRCNV1mfXOfPDV5lfbhss5/LF6KpGFzNjs2N8rscEY1XoA9xNsfyucufCrUqcXJ39ikvecGzrDdXbPRcuRBNheCqWWx8iLWxiY2IwTPQB6vVytXoOHpMfZmge+/h3L7j/PLufFISkxzS5BvoyyWb9nMpIhrfQF8uX7xxo+Hu7UGCTV1FX7iET6Bx41uucnlcXV14b9FESrmV4tevlmbcmOaV0kHeJFyIyfh+LSIG/wZVcpX3WsRl9s9ZTq+tn5B6PZlzf+/j3N/786UDjLrKVA8XornnFnV1xayr+KhYUIr+C0aCUmz+zyq2fpe/MknHXluu5MS2DBAQ5E/k+Rs385EXoggI8ufSxeib5LrB91/9yKfzJ/PXnqWUcSvN8JdG5/sGqyi1YwC/QD8unr94Q8+FS/gF+hFzMeYmuZxDZFQ0gQF+Gd/LBvgRGXWJi1GXCAzwz5S+78C/Dh2rdKA3Cedt+viFPPbx2cvpse0TrNeTObduH+cd6OMAboHexNvouXohhsDg3OkBeGDsM2x4/zuKlSnlkI7CRk+Z0zgdEflZRHaKyAER6S8iA0Rkis32viIy3fz7HRE5JCIrReQ7EQm7yX7Xisg0EdkkIvtFpKmZPlZE5orICmC+iISIyK/mNjcR+VpE9onIXhHpbqZ3EJHNIrJLRJaIiNtNjntSRCaLyDbzU9VM9xeRH0Vku/lpaU9PDvvsax53GbBCRHzMctsrIltEpJ5pl1P6WBH5RkRWmPoeE5Ep5u/8Q0SK5aHK7Ai0k2bnIh79+zZ23D+If56bQsURPfOU12FBdvZ55c8tHGr7CidefN9YT2Ry5LERHH5oMMf7vIvfs50p07S2g3pykpRZk8hNdOcif+503Lps7OmwPVaJ0iXoP2soP4ybx/WriXnXcEs9t7ZRSuHi4kL5OpXY/O1KPnloJMmJSYQO6OqYHkDsFHb2usqeL93GxcWFKnWrMr7vWMY+M5oeb/SiXKVy2TPkUk324+QuZ3HP0tzdoSGLmw/mu0avU6xUCao81jKfOsihHrKa5Fx2M7qPZdrDo/ii72RaPtuByk1r5l/LLY5lY5Q9Y5a2/NKsoSwpiLacw/Hy0k9bhN7Hof1HaFe/Kz3a9mHk+0MoY44Y5VlKkWrHtzi/FTHs1ZmI2JVr72flBfvtOHd5i3uW5u4HG7Kk2WC+b/g6rqVLUNmRPm4IyreeSm2DSbwUx8V9Jx3ToLkt6BGiok8/pVSMiJQCtgNtgY3AcHN7T2CCiDQGugMNMOp1F7DzFvsuo5RqISIPAF8Bdcz0RkArpVSiiITY2L8DXFFK1QUQEW8R8QPeBtoppRJEZAQwBBhHzsQppZqKyLPANOBh4BPgY6XUBhG5G/gTuDernpvsszlQzyyr6UC4UupREWmD4UgFA+/mkA5QBQgFagGbge5KqeEi8l/gIeDnrAcUkf5Af4Ch7g3pWrqyXWFJ52MoUe7GtJASQT4kR+T81O/KloOUqhiIq497nvPmhpSISxQLuvF0r1iQHymROe8zYdsBit8ThIu3O9bL8aSaTyxTo69w5c8tlA6uRsK2A3nW0aZ3Rx54si0AJ/Ycw8fmd/oE+hCbRVN8TBylPcpgcbGQZk3DJ8iXWPNp7uWI6Fvmzw2xEdF42+zHO8iXKzZPjNOP5V3ODzCefHoH+nLFnGplcXXhxdlD2fbzenb/uS3Px8/KlYgYPG30eAb5EpdFz5WIaLxsbLwCfYiLvIxCcSUihjO7jYXie5dvJXTAI/nS0fnZh2j/5IMAHN17BD+b9uMX6EtMlrKOi4mjjE1d+Qb5cdm0iY64RNzlOJISk0hKTOLA1v1UrFWJ8yfyPqf+2oUYygTdmFZUOtAn11NiyrWqQ/yZKK7HxANw8vcdlG1UjWM/bcyzDjDqKlM92Kmr2Cx15WnWFZBhezU6jv1/bqdC/SocNwOr5IfLuWjLsXbacqxNW+5fAG2553OP8djThiN+YPchypYrm7GtbJA/URGXcsqajUd6PcRX0xcAcObkOc6dvkClavewP/xgrvIXtXb8aJ+uPPRUZwAO7fmXgHIBgHEu9Qvy41Jk7kbOCpvAAD8iLt6ot8iLlwjw8yUlNZWIi1GZ0v39sk+JzAsJF2IoU86mjwf55Hpqa7n76xB/Oooks4+f+n0HAY2rcTyffRyMESF3Gz1uQT4kXMydnqDG1anUviEVQ+vjUqIYxd1L8eC0Afw5aFa+9RQWd0KUOT1CVPR5Q0T2AFuACkAl4LiINBMRX6AGhoPUCvhFKZWolIoHluW4xxt8B6CU+hvwEBEvM31pDs5HO2Bm+hel1GWgGYYTsVFEdgN9gHtyc1zz/+Y2+55h7mOpqSd9EnNOemxZqZRKv5q1AhaYGlcDviLieZN0gN+VUinAPsAF+MNM3wdUtHdApdRcpVRjpVTjnJwhgPjdRylVOYiSdwcgxVzxf7Ql0Ssyz0IsWTEw42+3upWQYq6kxsTnKm9eubbnCCUqlaN4hbJIMVe8u9xP3MqtmWyK3xOU8XepOpWRYq5YL8djKVUCiznUbylVAvcHgrn+7+l86Vi94A/Gdh7G2M7DCF+xjRaPhQBQuUE1rsVfszvd7dDmAzTubDSZFt1DCF+xHYDdK3fkKv+tOLXnGAEVg/C9yx+XYi406tKCvSszl/e+lTu477EHAKjYoBqJ8dcyphj1nvwyEUfPsfrL/Ee+suXsnmP4VQzE29RTv0tz/lmZ+TnHPyt30fCx+wG4u0FVEuOvER8Vy9WoK1w5H41/ZaMuq7Wsw8UjZ/OlY/n83xjc6Q0Gd3qDLX9uJrS7EcyieoMaJMRfyzTNKJ19m/fRsnMrANo83patK4y1BFtXbKFW09pYXCwUL1mC6g1qcDafuqL2HMejUiBuFfyxFHOh8iPNOL1yV67yJpyPJqBBVVxKFgegXKvaxDoQdOKMWVc+Zl0Fd2nOATt11dimrq6bdVW8VAlKlCkJQPFSJah+fz0iDuevTNLJ2pYb22nLe1fuoJnZlivl0JZXOdiWF339Ez3b9aVnu76s+eNvuvToCEDdhrW5Gp+Q6+lyABHnIrjvfmNdlo+fNxWr3M3ZU7l3QIpaO/75m6W8+ODLvPjgy2z8YyMdHm8HwL0N7yUhPqFITpcDCGnVjKV/rEIpxZ79B3FzK4O/nw91albn9NnznD0fQUpKCr+vWkdoK8eCGFzanb2Pn1mRuz5+9Vw0/g0z9/ErRxwLLBO55zhelQLxMPVU79KM47k852yavJiv7nuDr1sO5vfXZnJ20z//E84QQJpSBfYpqugRoiKMOTrTDmiulLomImuBksAioAdwCPivUkqJ3fH2W5K1ZaZ/T8hJkp08guGMPJnP46b/bcH4nZkcH/Nn5aTHFlsbuxPNbpIOkASglEoTkRR1Y05AGo72E2saR0d9SZ3v3jJCZ3+3hmv/niXoWSNa0YX5K/F7+D7KPtEalWIl7XoyB1/6+KZ5HdVzdvQcKs8fi7hYiFn8F9ePnMH3aeNGJXrhH3h1ao539zaQkkpaUjKnXjVmabr6eVFp7ihjP64uxP6yjvh1ubsY3Iy9a3ZRL7Qhk9bNIDkxia+GfZaxbdDXo5g3YhaxFy/zw6QFvDR9MN2G9uL0gZOsX7zqlvnzQpo1jUWjv+K1+W9hcbGwefEaLhw5y/1PG3W1fuFK9q8Jp3ZoQ95d9ynJicksMI9VpXEN7uvemnMHTzFyuVFeS6d8x4G14fkulzRrGr+MnscL80dicbGwffFaIo+cpdnTxo3TloV/cWhNODVDgxmxbhrJiUksGTYnI//PY+fx5LTXcCnmSvSZSJaEzcnpULlm5+odNA5tzOz1n5OUmMT0sGkZ296ZN5aZIz4lJjKGbyZ+TdiMETw97BmOHzjOykUrADh79Czha3fy6YoZpKUpVn7/J6cP5y8SlbKmsfmdb+i4cLgRknfROmIPn6PmM8aN7qFvV1PK35NHlo+nmFspVFoadV7oyI+hI4gKP8aJ5dt49I/3UKlWog+c4tDCNfkulzRrGv8dPY8X5xvRrNLrqrlZV5sX/sVBs67eXDeNlMQkFpl15ebnSd+5QwCwuLgQ/stG/l23J99a0vV8P/orXjfb8qYc2nKd0IaMM9vyfJu23Kx7a84ePMUosy3/4mBbBlj/1yZatW3Or1uWcD3xOqMHTcjYNmPhVN4dMomoyEs89fwT9H31aXwDfFiyej4bVm3m3aGTmPvRPMZ/8jY/rFmAiDDtvc8yQnLnlaLUjgG2rN7GfW3u49sN35B0PYnJQ6ZmbJs4fwJTh31EdGQ0j/V7lF4DeuDj78OXK+eydc02pg77CG9/b+Ysn0lpt9KoNMXjLzxG39AXuHY174FUho2ZxPbwvcTGxtH20Wd45fneGcEaenZ7iAeaN2H95u106tGPUiVLMn7UYABcXV0YNXgALw15G6vVSreHO1C18q2ej94cZU1jy9vf0OE/Rh8/YvbxGr2NPv7vAqOPd/n9Rh+v9WJH/hsygkvhxzj52za6/nmjj//rQB9P17P2nW94dMFwxMXCP4vWEXP4HHXNc86+b1dT2t+TXr+Op7hbKUhLI/j5jnzbdgTJBTHtVHPbkKIc8eFOR0QeAV5QSnURkZrAbqAjsAdjOtwpYIRSapuINAHmAC0wbuB3Ap8rpabmsO+1wCGl1Msi0gqYpZSqKyJjgavp+UynLEwp9bCITAJKKqUGmdu8bY7VRil1VERKA3cppbK/XMLIcxKYrZSaJCLPAD3N3/cfjOlsH5h2wUqp3Vn15LDPvkBjpdRr5vdPgSil1HhT/8dKqQY3Sc/6m68qpdzMv295fIC/A58oMh3Jo4Rji+YLmk+luLMlZKJkERoYd8PF2RIy8W9avLMlZKJrmpezJWRw0DV/0cxuFwkULT2brjv4oKaAqVjc8ah4BUVcWtE6J6/Y7fiDkYLk2/qjnS0hg7iidUoGYODpbx1cieU495dvW2D3OOvPrXL677GHHiEq2vwBvCwiezEmeW8BY6qaiPwD1FJKbTPTtovIUgxn6RRGZLhbPTq7LCKbAA+gXy70vAfMFJH9gBV4Vyn1k+mQfCciJUy7twG7DpFJCRHZijEqlD6y9Ia5770Y7fJv4OVcaLLHWOBrc1/XMKbx3Sxdo9FoNBqNRmOHOyHKnB4h+n+EiLgppa6aozR/A/2VUnbnM5kjRGFmWO3C1HgSYzQn9ytp/wfQI0Q5o0eIckaPEN0cPUKUM3qE6OboEaKc0SNEOaNHiOzTsnybArvH2XhutdN/jz30CNH/L+aKSC2MdUbf5OQMaTQajUaj0Wg0ueFOGCHSDtH/I5RST2VNE5GZQNbA+58opUJupxYzXHWlLMkjlFIVHdjng8DkLMknlFLd8rtPjUaj0Wg0Gk3O3AmzybRD9P8cpdSrTjpugTspSqk/Md5PpNFoNBqNRqPRFAjaIdJoNBqNRqPRaDR20VPmNBqNRqPRaDQazR2LugMcoqITbkmj0Wg0Go1Go9FoChk9QqTRFADHXUrc2qiQuKSKjhYAPyla4YFTitCTrqIUAhwgQaU4W0ImilKoa19VtOLxJhSxfhVcMsjZEjLhQtGJ7FvBUsbZEjJRlMJcAzyzZ5yzJWRwd9WHnS0hGwOdLQAdVEGj0Wg0Go1Go9Hcweg1RBqNRqPRaDQajeaO5U4YISpa8zU0Go1Go9FoNBqNphDRI0QajUaj0Wg0Go3GLnrKnEaj0Wg0Go1Go7lj0WG3NRqNRqPRaDQajeb/MXqESKPRaDQajUaj0dglTQdV0Gg0Go1Go9FoNHcqqgD/OYKI+IjIShE5Yv7vbcemgoisEZGDInJARHL1Kic9QqTRFALlQ+rRdFxvxGLhyHdr2TdzWabtnlWCaPlxf3zrVGTX5CUcmLM8Y9u9zz9I9adCQIQj/1nDP1/86bCeiq3r0WZsb8TFwr7v17Lts8x6fKoE0XFqfwLqVGTDB0vYMdfQ41KiGL2WvI1LcVcsri4cXr6NTR/95LCe6q3r88joZxEXC9sWrWHtrKXZbLqO6UPN0GBSEpNZHDaLcwdOAlDSozSPT+pPYI27UAqWDJ/D6V1H8q2lZuv6dBvdB3GxsHXRalbZ0dJtTB/uDW1ASmIS34XN4qyp5Z0N07l+NRGVlkZaqpWPur6Vbx3pVG1dj86jjbratWgt62cty2bTecyzVAutT0piMv8Nm8MFU0+z5x6kUa9QRISd369h81d/OKwH4NV3B9C0TVOSEq8zZciHHN1/NJvNI3268tgL3ShfsRyP1XuCuMtxecqfW2qYbcfiYmHrojWssVNfj4zpw72hwSQnJrPIpu2M2vApSVcTSUtLIy01jU8crK/KrevRbkxvLC4Wdn+/li2zsverh6f2p2ztiqybuoRtc2/0884fvEjVNsFci47jiw4jHdKRTq3W9ekx+jnExcLGRatYMeuXbDY9xjxH7dAGJCcmMT/sM84cOIF3kC99PnoVD38vVJpiw3d/sebr3wtE09Nj+lE/tCHJicl8HjadUwdOZLPxuyuAV2YMpoynO6cOHGfO4E+xpqQSVKU8L3zwKvfUrsyPU//D759nr+u88NSYftQNbUByYjJfhs3gdA5aXp4xmDKebpw6cJzPB0/HmpKa6/y55d7W9Xl8dF8sLhY2LVrNSjt19fiYvhl1tSBsFmcPnMC1RDEGLRqLa4liuLhYCP99K8s/XpJvHemUD6nHfeY163AO16xWNtes/TbXrFovdqT6kyGgFJcPnWXDkLlYk/L/0ue33/+Ivzduw8fbi5+/nZ1tu1KKidNms37zdkqWLMGEt4ZSq0ZVADZs2cGkabOxpqXRvUtHXujdI986bBk/eRRt2z9AYmIig14Zxb49B7PZzJw7hXoNapOakkr4rn0MHzSW1NRUmrdqwryFMzh9+hwAy5et5OMpswpE1x3Am8AqpdQkEXnT/D4ii00qMFQptUtE3IGdIrJSKfXPzXasR4g0mtuMWIT7JvRh5TNT+Dl0OJUebYZntXKZbJJiE9j6zoJMFxUArxp3Uf2pEH59aAxL24/irnYNcK9U1mE97d7rw499pvB12+HU7NoM3yx6rscmsHrMggxHKB1rUgqLe73P/I5vMb/jW1RqXY+gBlUc1tNt3HN82XcyH7YPI7hrCwKqls9kUzMkGL9KgUwJGcyPoz6n24TnM7Z1HdOHw+v2MLVtGNM6jeDi0XMOaek+rh9z+05icvuhNOjakrJZtNwbEox/pSDeDxnE4lGf8/iEFzJt/+zJ8Uzt/GaBOENiER4e15cFfacwo/1w6nZtjn8WPdVC6uNbKZBPQoaydNSXdJnwHAAB1e+iUa9Q5j4yms86jaR6mwb4VHSs7QA0DW1C+Url6XP/c3w84hMGvv+6XbsDOw4w/Mk3iTgTka/8uSG97XzRdzIftA+jQdcW2eqrZkgw/pUCmRQymB9GfU53m7YDMOvJ9/i480iHnSGxCB3G92FxnynMbTecWjn0q5VjFrD18+XZ8u9b8jeL+nzgkIasenqNe54Zfd9nXPvBNOnaksAsZVM7pAEBlQIZE/IG/xk1lyfNtmxNtfLjewsY124IU7q9ReveD2bLmx/qhTQksFIQw0Ne4+tRs+gzob9du55v9ubPL39lROhrJFy5SuuebQG4GhvPt2O/dNgRAqgb0oCylYIYGfI634yazbM5aHnizWdY8eWvjAx9nYQrCdzfs02e8ucGsQg9xvXjs74Tea/9EBrZqataZjt+N2Qg3436nF5mO05NSuHTp8YxqdNwJnYeQa3W9anYoFq+taTraTahDyuemcJ/Q4dTOQ/XrNKB3tTq14Flnd/h57YjERcLlR5p5pCeRzu3Z/ZH7+W4ff3m7Zw+e57li75k7PA3GD91BgBWq5X3PpzJrA/Hs3ThHJb/tZZjJ045pAWgTfsHqFz5Hlo07MiwgWOY9OEYu3Y/LvmV+5s8RGiLRyhZsgRPPds9Y9vWzTtpf/9jtL//sf8JZyhNqQL7OMgjwDfm398Aj2Y1UEpdUErtMv+OBw4CtzyBaYfofxwRqSkiu0UkXEQcuzPN3/GXi4jXLWxOiohfIUnKNyIy6nbs169BFeJPRnL1dBRpKVZO/LKFux9slMnmenQc0XuOo1KsmdI9q5UjatcxrNeTUdY0IrYc4p6OjR3SExhchcsnI7li6jm0bAtVOmTWcy06joi9x0lLtWbLn3ItCQCLqwsWV1ccPb9VCK7KpVMRxJy5iDXFyp5lm6ndIfNvrNWhEbt+Wg/A6fCjlHIvjbu/FyXcSlG5aU22LVoDgDXFyvW4a/nWcrepJdrUEr5sE3WyaKnToTHbf/obgFOmFg9/r3wf82bcFVyFmFORXD4ThTXFyr5lW6iZpa5qdmjEbrNszoYfpaR7adz8vfCvWo6z4UdJuZ5MmjWNk1sPUuvBJg5ratGhOSt//AuAg+GHcPMog0+ATza7oweOEXk2Mt/5c8PdwVWJtmk7u+20ndodGrHDpu2UNNtOQVPO7FexZ4x+dXDZFqq3z96vLuw9TlpK9n51Ztu/XI+9WmB6KgZXJepUBJfMstmxbBP1O2Su//odGrPFbMsnwo9Q2r0MHv5exEXFcsYc7UhKuE7EsXN4Beavjmxp2KEJG39aB8Ax83ieduri3hZ12L58MwAbflxLww5NAYiPjuPE3mNYU1Md1tKgQxM2/bQWgOPhRyjtXtqulpot6rDD1LLJRktu8+eGisFVuXQqMuO8s2vZJuplqat6HZqwzayrk+FHKGXWFUCyeU52cXXBxdXV4ZdoZr1mHc/hmnVpj/22bHF1waVkccTFgmup4lyLuOyQnsbBdfH0cM9x+5oNW+jasS0iQv069xIff5WoSzHsO3iYu+8qR4XyQRQrVoxObVuzev0Wh7QAdOzchiXfGyN4u3bsxcPTnYCy2W9xVq/8O+Pv3bv2Ua5coMPHdhYFOWVORPqLyA6bT16eJpRVSl0Aw/EBAm5mLCIVgQbA1lvtWDtE//s8CvyilGqglDpW2AdXSnVWSsUWxL7EwJlt8rY4RKUDvUk4H5PxPeFCDKUDs017tUvsobOUbVaDEt5uuJQszl1t6lOmnK9DetwDvYm30XP1QgzuZXOnB4ynh8/+PoFXwj/j1IZ9ROx2rNl5lvXmyvnojO9XLkTjkUWPZ1kfYm1sYiNi8Az0wefuAK5Gx9Fj6ssM/G0ij096kWKlSuRbi1eW41y5EINn2cw3gjlpAWPqxssLRjFk2fs0f7JtvnWk417WJ1PZxF2IyVY2HlltImLwCPQm8t+z3NO0JqW83ChWsjjVQ4PxCHL8ptYv0I+o81EZ36MuXMIvMPdt0tH8tniW9c5cFxei8bxF27liU18oRf8FIxm0bAL3PdkmXxrScQv0Ju7CjX4VfyEG91z289uBV1kfLtv87ssXovHK0pYNm0s3bCKiszk+Pnf5U6FWJU7uzv+0xnS8y/oQbXO8mIhovLPUvZu3O9fiEkizpmXo9i7reLvNrsWXGJvyiYmIuaWWGJsyzE3+3OJpp66ytmOvst6ZbGJt6koswpvLJzNp5+cc2rCXUw7WVdZr1rULMZTJZVu+FnGZ/bOX02PbJ/QKn0Fy3DXO/73fIT23IjIqmsCAGw5J2QA/IqMucTHqEoEB/pnSL0ZF29tFnggMCuD8uRsj3xfORxIUlPPou6urK4/37MqaVRsy0ho1DeavDT+xcMkcqtes6rCm/yWUUnOVUo1tPnNtt4vIXyKy387nkbwcR0TcgB+BQUqpuFvZ6zVEhYDpof4ObABaAOcwhv1qALOB0sAxoJ9Syu6jFBEJzmoLNAcGAVYReUApFWonXxlgMXAX4AKMV0otEpGTwCIgPc9TSqmjIuJvHuduM32QUmqj2bCmA40BBbyrlPrR3E9jpdQlEfkZqACUBD7J2shvUTZrzN/zqIj0AHoAJYD/KqXGmLZvAc8CZ4AoYKdSaqqIrAXClFI7zJGoHUqpiiLiAkwCQsx9zVRKzRGRIPO3e2D0gQHAQ0ApEdkNHAD62yu3LNr7m3b08WxKSJkcpimIZE/L5QO8K0fPs3/mr3T47k1SEq5z+Z/TpFmzP5HLE3b05OWBokpTzO/0FiU8SvPI3EH4Vb+LS4fPFqiebOVjV7PCxcWF8nUq8cvYeZzZfYyuY54ldEBXVnyUzzn0dqRkLRy7ck2bT7uPIe7iZdx8PXj527eIPHaO49sO5U/LLY51K5tLx86zYfYy+nz7JskJSUQcPJ1xY+cIudF0O/PfamdZdyU5tB2AGd3HZtRX/29HEXXsfL7rS+w0HmcGZrrZ77Yxyp7RxqZE6RK8NGsoS8bN4/rVxIIQddPjGSa50F0Q5Kpv3URvAbZj+8fJZpTj8VSaYlLnEZTyKM2Lc8IIql6BC4fP5EtLTnpy+9OKe5bm7gcbsqTZYJLjrhE653UqP9aS4z9tzLeeW2Gv3EXErmZ7RZ1X8tpGJ334Dls27WDr5p0A7NvzD03qtuNawjXatH+ArxdOp2WjTo4Lu40UZpQ5pVS7nLaJSKSIBCmlLpj3chdzsCuG4QwtVErlaqGzdogKj2rAk0qpF0VkMdAdGA68rpRaJyLjgDEYDo495me1VUoNEpHZwFWl1NQc8nUEziulHgIQEU+bbXFKqaYi8iwwDXgY+AT4WCm1QUTuBv4E7gXeAa4opeqa+7H3uKifUipGREoB20XkR6VUbh7H1ACeU0q9IiIdzLJqinHJWSoiDwAJQC+MoU9XYBew8xb7fd7U3ERESgAbRWQF8Bjwp1Jqguk0lVZKrReR15RSwebv636TcgOMpxzAXIB55Z/J8Wxx7UIMZcrdeMJZJsiHa5G5n0Jw5Pt1HPnemGbS8M0eJNg8hc4P8RdicLfR4xbkw9WLeZ/SkBR3jTNbDlIxpJ5DDtGViBg8bUa9PIN8icui50pENF42Nl6BPsRFXkahuBIRwxlzlGrv8q2EDsjTQ6RMxEbEZDqOZ5APV7JoyWqTrgXI0H01Oo59f27n7vpVHXKI4rKUjUeQD/EXYzPZZC0/j0Af4iMNm12L17FrsdF22g3rwZV8tp2ufbrQ+Unjgn14z2H8y9146uof5Ed0ZO73G3XhkkP5bbmStS7stJ3YLG3HM4f62v/ndirUr5Lv+oqPiMk0Auce5MPVPPTzguZyRDTeNr/bO8jXTluOxrucH/CvYRPoS6yp2eLqQv/ZQ9n283p2/7kt3zra9u5I6yeN+5sTe47iW86P9JAnPoG+XM5S9/ExcZT2KIPFxUKaNQ3vIF9i83F+skeb3h15wBy5PbHnGD425eMT6EPsLbT42Gi5HBF9y/y5JTZXdRWTycYr0JcrWdpXYtw1jmz5h1qt6zvkECVkuWaVzsM1q9z9dYg/HUVSTDwAp37fQUDjarfVIQoM8CPi4o2Rx8iLlwjw8yUlNZWIi1GZ0v398jeK1/eFJ3m6zxMA7Nm1j3Llb0x/CypXlogIu/flDBnxCr5+Pgx75o2MtKvxCRl/r175N5M+fAcfHy9iYmLzpa0wKEIvZl0K9MF42N0HyBZ9RAyP9UvgoFLqo9zuWE+ZKzxOKKV2m3/vBKoAXkqpdWbaN8AD9jKaN+O5srXDPqCdiEwWkfuVUldstn1n839z8+92wAxzpGQp4GFG6WgHzEzPmMNI1hsisgfYgjFSlNuVnaeUUukTezuYn3AMp6emuZ/7MUaLrplDn7lZVdsBeNb8LVsBX3Nf24HnRGQsUNdcdJeVm5Vbnri0+zgelQJxq+CPpZgLlR5pxpkVu3Kdv6SvBwBlyvlyT6fGnPh5U36lABCx5zjelQLxNPXU7NKMYytzp6eUjzslPEoD4FqiGPe0qkPMsfMO6Tm75xh+FQPxvssfl2Iu1O/SnH9WZvZ1/1m5i4aP3Q/A3Q2qkhh/jfioWK5GXeHK+Wj8KwcBUK1lHS4eyb9zdmbPMfwrBuJjamnQpQUHsmg5sHInTR4zut89ppa4qFiKlypBiTIlASheqgQ17q9HhAM3JQDn9hzHp2IgXqaeul2acSiLnn9X7iLYLJu7GlTlenwiV6NiAShjth3Pcr7c27EJ+5bmr+0s/WYZL3d8hZc7vsLGPzfRvrtxg3tvg5okxF8j5mLubwQ3r9ziUH5bzphtJ72+grs0z1Zf/6zcRWObtnPdbDtZ66v6/fWIcMCxP5+lX93bpRlHctmvbgen9hwjoGIQvmbZNO7Sgr0rd2Sy2btyB83MtlypQbWMtgzQe/LLRBw9x6ovf3NIx6oFfzC6cxijO4exa8U2Wj7WGoAq5vGumMez5eDm/TTpbFySWnUPYdeK/Dtktqxe8AdjOw9jbOdhhK/YRovHQgCo3KAa13LQcmjzARqbWlp0DyF8xXYAdq/ckav8ueGUed5Jr6uGdupq38odNDXrqqJNXbn5uFPKPCcXK1GMGi3rEOngOTnrNatyHq5ZV89F49+wKi4liwNQrlVtrhzJf6Cb3BDSqhlL/1iFUoo9+w/i5lYGfz8f6tSszumz5zl7PoKUlBR+X7WO0Fb5C/Aw74vvMoIg/P7bKp7oZTx4a9i4HvFx8VyMvJQtz1O9uxPSpiUDng/LNILkbzO9L7hhXSxiKdLOUBFjEtBeRI4A7c3viEg5EUmP8NES6A20MdfY7xaRzrfasR4hKjySbP62Al6FcVCl1GERaQR0BiaKyAql1Lj0zbam5v8WoLlSKtP8CNPjzvERgYiEYDhNzZVS18xpbCVzKTPB5m8BJiql5mTZ/6CbHD+VG8697TEFY1QtW5xqc9TpIWCBiHyglJpvu/0W5ZYnlDWNLW9/Q/v/DEcsFo4uWkfs4XPU6G2sWfh3wWpK+Xvy8O/jKeZWCtLSqPViR34OGUHK1URCPx9ICW830lJT2fLWNyRfyX/QgHQ9q975hu4LhmNxsbBv0TqiD5+j/jOGnj3frqa0vye9fx1PcbdSqLQ0Gj3fka/bjqBMgBedPnoJi4sFsQj//rqV46t2O6QnzZrGL6Pn8cL8kVhcLGxfvJbII2dp9rRx07xl4V8cWhNOzdBgRqybRnJiEkuG3WgeP4+dx5PTXsOlmCvRZyJZEjYnp0PlSsuPo7/mpfmjjDDOi9cQceQsLUwtmxb+xT9rwrk3NJi31n1CcmIS3w8zwsC6+3ny3NyhALi4WNj5y0YOrduTby3pen4bPY9n54/A4mJh1+J1RB05R+OnjafcOxau4vCa3VQLDWbQuo+MsNs2ZdNr1kBKebuTlprKb+/McyjgRDpbV2+jaZsmzN/wNUmJSXww9MOMbRO+Gc9Hwz8mOjKGR597hJ4DnsDH34e5K2ezbfU2Pho+7ab580qaNY3/jp7Hi/ONaFbpbae5WV+bF/7FQbPtvLluGimJSSwyy8fNz5O+c4cAYHFxIfyXjfzrQH0paxorR39Dr/nDERcLexev49KRczR42uhX4QtXU8bfk77LxlPC7FdN+nXk83YjSL6ayCOfvsrdze+llLcbr275lPUf/8jeRetucdSbl833o7/i9flvGaGcF6/hwpGz3P90ewDWL1zJ/jXh1AltyLh1n5KcmMz8YZ8BUKVxDZp1b83Zg6cYtXwKAL9M+Y4Da8PzrQdgz5pd1AttyAfrZpKUmMQXwzKesTHk67f4asRnxF68zOJJ3/LK9MF0H/okpw6c4O/FqwDw9Pdi7NIplHIrRZpSdOj3MCPbD8zXdL69ppZJ62aQnJjEV+ZvBxj09SjmjZhF7MXL/DBpAS9NH0y3ob04feAk600tN8ufV9KsaSwe/RWvzh+FuFjYsngtEUfO0spsxxsW/sWBNeHUDm3AmHWfkJKYzLfDjMhkHgHe9P7wFSwWC2KxsOu3zexf7Zgjnn7N6mBes47kcM3qYl6zlHnN+m/ICC6FH+Pkb9vo+ud7qFQr0QdO8e/CNQ7pGTZmEtvD9xIbG0fbR5/hled7k2oG1ujZ7SEeaN6E9Zu306lHP0qVLMn4UYMBcHV1YdTgAbw05G2sVivdHu5A1cr3OKQFYNWKv2nb/gE2h/9B4rXrDH71RoTKbxfPZugb7xAZEcXkj8dw9sx5lq00nj2nh9d++JEO9OnXi1RrKtcTk3j5+aEOa7rdFJUXs5qzjrIt0FVKnce4X0MptQH7E+BvityWubmaTJjrZH5VStUxv4cBbkA34DVzutZYwFMpNTiHfeyxZ2v+neOUOREpB8Qopa6LyKNAX6XUo+ban9lmLPdngJ5KqS4i8h8gXCn1gZk/WCm1W0QmASWVUoPMdG+l1OX0NUQYHvkL5j5qAruBjkqptbbrjHJRNh2A8UBbpdRVESkPpGCs5ZkH3MeNKXNzzDVEX2CsJ5plOk6DzDVE/TE6yBNKqRQRqY6xfssPOKeUSjXtK5rTDy8DAaat3XKzV8Zw8ylzhc0lF2cryMxFi4NrngqYlKIz9I87RauyNlmzP+V0JsEuBb+YPr/4qqJVV6cl2dkSMnGNotXPXfJ+P3TbKF3E+nmjlGLOlpCJZ/bk61njbeHuqg87W0I2LsT+4/TGXNmvQYFdOI9fCnf677GHHiFyLn2A2SJSGjgOPFdAtrbUBT4QkTQMx2KAzbYSIrIVY3TlSTPtDWCmiOzFaB9/Ay8D75np+zFGuN4FbBeq/QG8bOb7F2PaXJ5RSq0QkXuBzebCxavAM8p4wdYiDEfrFLDeJttUYLGI9AZW26R/AVQEdpkjXFEYUflCgGEikmLu/1nTfi6wV0R2YazZyqncNBqNRqPRaDT/T9AjRHcoNxu1+V/gViNjhY0eIcoZPUKUM3qE6OboEaKc0SNEN0ePEOWMHiHKGT1CZJ9KvvUL7MJ5InqP03+PPfQIkUaj0Wg0Go1Go7FLWhF6kHi70A5REUNEZmKsx7HlE6XU17fI5wussrOprb3Q10qpivkWmQ/yqu9WKKXGOixKo9FoNBqNRnPHox2iIoZS6tV85osGggtWTcFR1PVpNBqNRqPRaLJzJyyv0Q6RRqPRaDQajUajscudMGVOv5hVo9FoNBqNRqPR3LHoESKNpgA4XqzoPD2JJdXZEjJRsog9d/EsQtHCtqbFOFtCJuaVS3G2hEz8ea7o1NXfrnl/+eftpHgR61dnU+OdLSETAS6lnS0hg8sq6dZGhUg1F09nS8hEUYrsdvror86WUCTRU+Y0Go1Go9FoNBrNHUvaHeAQFa1HTBqNRqPRaDQajUZTiOgRIo1Go9FoNBqNRmMXdQcEVdAOkUaj0Wg0Go1Go7HLnbCGSE+Z02g0Go1Go9FoNHcseoRIo9FoNBqNRqPR2OVOeA+Rdog0Go1Go9FoNBqNXfSUOY1Go9FoNBqNRqP5f4weIdJoCoGqrevReXRvxMXCrkVrWT9rWTabzmOepVpofVISk/lv2BwuHDgJQLPnHqRRr1BEhJ3fr2HzV384rOfe1vV5bHRfLC4WNi9azV+zfslm031MX2qFNiA5MYmFYbM4e+AEriWKMXDRWFxLFMPiYmH371v5/eMlDuup3ro+j4x+FnGxsG3RGtbOWprNpuuYPtQMDSYlMZnFYbM4Z5ZPSY/SPD6pP4E17kIpWDJ8Dqd3Hcm3lqqt69FxTG8sLhZ2fb+WDXbqqtPYG3X1c9gcLuw3tNz33IM0ejIURNj13Rq2FEBdAbz87ss0adOEpMQkPhzyIcf2H8tmU7ZCWd6c+SbuXu4c3X+UqQOnkpqSipunG4OnDiboniCSk5L5OOxjTv17Kt9aSjRrgteQ1xCLhYSly4mf/51du2L31iDgyxnEvD2exNV/39hgsRAwbxbWqEtED30r3zrSKR9Sj2bvGvX173dr2Tszc315VgnigY/641unIjumLGH/nOUZ22q/0JEaT4aAUsQcOsv6oXOxJjn2ctqnx/SjfmhDkhOT+TxsOqcOnMhm43dXAK/MGEwZT3dOHTjOnMGfYk1JJahKeV744FXuqV2ZH6f+h98/z94P8kLt1sH0Gv0cFhcL6xet4o9ZP2ez6TXmOeqGNiQ5MYmvw2Zy2tTbZ8oA6rVpRHz0FcY+ONQhHba8Ou4V7jPb8pTBUzmy/2g2m0f6dqX7C90oX7E83eo+TtzlOAAqVKnA8I+GUrVOVb6aMo8lc35wSEufsS8QHNqI5MQkZoV9ysn9x7PZ+FcI4I3pYZTxcuPk/uPMHDwNa0oqjdo3pcfQp0hLU6RZrcx/90v+3XHQIT3Pv9ufRqGNSEpMYvrQTzhup58HVCjL0BnDcPNy5/j+Y3wy6CNSU4yXcdduVofnx7yISzFX4mPieLvHyHxruad1PVqPNa5ZB75fy47PMvcr7ypBtJ/aH/86Fdn8wRJ2zV2eabtYhF6/jich8jJLn/sw3zpsGT95FG3bP0BiYiKDXhnFvj3Zy3vm3CnUa1Cb1JRUwnftY/igsaSmptK8VRPmLZzB6dPnAFi+bCUfT5mVLx1vv/8Rf2/cho+3Fz9/OzvbdqUUE6fNZv3m7ZQsWYIJbw2lVo2qAGzYsoNJ02ZjTUuje5eOvNC7R740FDb6PUQajcZhxCI8PK4vC/pOYUb74dTt2hz/quUz2VQLqY9vpUA+CRnK0lFf0mXCcwAEVL+LRr1CmfvIaD7rNJLqbRrgU7Gsw3qeGNeP2X0n8n77ITTq2pLALHpqhQTjXymQ8SEDWTTqc3pMeB6A1KQUpj81jsmdhjO58wjubV2fig2qOayn27jn+LLvZD5sH0Zw1xYEZNFTMyQYv0qBTAkZzI+jPqebqQcMR+nwuj1MbRvGtE4juHj0nENaOo/vy8I+U5jZbjh1ujbHv1qWugqtj0+lQD5tPZRlI7/kofds6urJUD7vOprZHUdSva3jdQXQJLQJ5SqV4/n7n+fTEZ/y2vuv2bXrN7IfP3/xMy888AJXY6/yYK8HAej5Wk+OHTjGKx1eYeqgqbw89uX8i7FY8B42kEuD3iSi13OU6tAG10r32LXzfK0/17fuyLbJredjpJ48nX8NNohFaPFeH1b0nsKPocOp/EgzvKqVy2STFJvA5tEL2Dcn8w1b6UBvavfrwC8PvcNP7UYiLhYqd23mkJ56IQ0JrBTE8JDX+HrULPpM6G/Xruebvfnzy18ZEfoaCVeu0rpnWwCuxsbz7dgvHXaEAMRi4alxz/NJ3wmMbj+Ypl1bElT1rkw2dUIaEFApiLdCXmfBqDk8PeHFjG2bfljLJ30mOKzDlqZtmnBXpfI82+o5PhoxjYET37Brd2D7AYb1epOIMxGZ0uNj45kx+jOHHSGA4NBGBFYKYnDrAXw+8jOef89+v3jqzT4s/3IpQ0JeIeHKVUJ7tgNg/8a9jOg4iJGdBzNn2HRenPyqQ3oahjaiXMVyvPLAS8x6cyYvTRhg1+7ZkX1Z9sUvvNr6JRKuXKVtz/YAlPYow0sTBvD+8+8xsN2rfDBgUr61iEUIea8PP/eZwoK2w6netRk+WfrV9dgE1o1ZkM0RSie4X0cuHz2fbw1ZadP+ASpXvocWDTsybOAYJn04xq7dj0t+5f4mDxHa4hFKlizBU892z9i2dfNO2t//GO3vfyzfzhDAo53bM/uj93Lcvn7zdk6fPc/yRV8ydvgbjJ86AwCr1cp7H85k1ofjWbpwDsv/WsuxE/l/OFWYKKUK7FNU0Q7RHY6IVBSR/QWwn5Mi4mcnfZOj+87FsSuKyFMFZVfQ3BVchZhTkVw+E4U1xcq+ZVuo2aFRJpuaHRqx+6f1AJwNP0pJ99K4+XvhX7UcZ8OPknI9mTRrGie3HqTWg00c0nNPcFWiTkUSfeYi1hQru5Ztom6HzPus26EJ234ynuqfDD9CKfcyePh7AZB8LQkAF1cXXFxdHT7BVQiuyqVTEcSYevYs20ztDo0z2dTq0IhdZvmcDj9KKffSuPt7UcKtFJWb1mTbojUAWFOsXI+7lm8t5YOrEHPyRl3tX7aFGu0z11WN9o3Y86NNXXmUxi3ACz87dXWvg3UF0KxDM1b9uAqAQ+GHcPNwwzvAO5td/Zb1Wf+boeuvH/6i+YPNAbi72t3s2bjH0HvsLGUrlMXLzytfWorXqknq2XNYz1+A1FQSV66m1AMtstm59ehG4pq/SYu5nCndJcCPki2bkfCL/ZuovOIfXIW4k5HEn44iLcXK8V+2cHeWvnU9Oo5Le46TlmrNll9cXXApWRxxseBaqjjXIi9ns8kLDTs0YeNP6wA4Fn6E0u5l8DT7jS33tqjD9uWbAdjw41oadmgKQHx0HCf2HsOamuqQDoBKwVWJOhXBpTMXsaaksn3ZRoKz9KvgDk3YYuo9nkXvkW0HSbhy1WEdtrTs0IIVP6wE4OCuQ7h5lMEnwCeb3dEDx4g8G5ktPTY6ln/3HCbVTl3mlUbtm7L+x7XG8cIPU9qjDF52+lXtFnXZuty4jP394xoad7gPgKRr1zNsSpQuCQ4uOm/aoRlrflwNwOHwfynjUcZuP6/boh6blm8EYM0Pq7jvQcOJf+CR1mz5fTOXzkcBcCX6Sr61lA2uwpWTkcSZ/erwsi1UztKvEqPjiNxrv1+5BfpQqW0w+79fm28NWenYuQ1LvjdmMuzasRcPT3cCyma75WD1yhuj0bt37aNcucAC05BO4+C6eHq457h9zYYtdO3YFhGhfp17iY+/StSlGPYdPMzdd5WjQvkgihUrRqe2rVm9fkuB69PkD+0QaW4rSqnsd0sFT0UgN45Obu0KFPeyPlw5H53xPe5CDB5lM1/oPLLaRMTgEehN5L9nuadpTUp5uVGsZHGqhwbjEZT9BiIveJX1IdbmWLEXovHMosezrHdmm4hoPAON44pFGL58Mu/v/Jx/N+zl1O7sU17ygmdZ70y//cqF6Gzl45lVc0QMnoE++NwdwNXoOHpMfZmBv03k8UkvUqxUiXxr8Qj0Ie5ClroK9M5uk7Wuynpz8XDmuqoWGoxHOcfqCsA30JdL5y9lfL904RJ+gZlvBDy8PUiISyDNmpZh4xvoC8Dxg8dp0cnohtWDqxNQPgC/oOw3ErnBJcAPa+TFjO/Wi5dw8ffPZGPx96NU61Yk/JR9qqHn4Fe5MmMOqLR8HT8rpYO8SbgQk/H9WkQMZYKy30Ta41rEZfbPWU6vrZ/w5K4ZJMdf49zfjj0b8i7rQ7RNXcVERONt1kM6bt7uXLOpq8sXovEu63g7yYpXWR9ibNrp5QsxeJXNrMU7q01ENF6BBa8lHb9AX6LMG3aAqAuX8MtSPoWFT2D2uvLJUg/u3u6Z+lX0hWh8bMqn8YP3MXXVDIZ//TZzhs1wSI9voC/RF27oiY6IxidL2bh7e5AQd9Wmn0dn9PNylcvh5unG+EXvM/W3jwnpHppvLW6B3sSfv9Gvrl6Iwa1s7voVwANjn2HD+9+h0gpuNCAwKIDz526MGF44H0lQUM4j8K6urjzesytrVm3ISGvUNJi/NvzEwiVzqF6zaoFpy0pkVDSBATfOsWUD/IiMusTFqEsEBvhnSr8YFW1vF0WONFSBfYoq2iHSALiKyDcisldEfhCR0iLSVkTCRWSfiHwlIiUAckpPR0RKicgfIvKi+f2q+X+IiKw1939IRBaKiJjbOptpG0TkUxH5NSehItJaRHabn3ARcQcmAfebaYPNkaD1IrLL/KQ7ZVnt+orIDJt9/2rqdBGReSKy3/ydg3PQ0l9EdojIjl3xOTsFxq/MTNZRlZxsLh07z4bZy+jz7Zv0/mYEEQdPZ1wM842dg2Ud5BH7goz/0hRTOo9gdPMB3FO/KkHVKxS4nmznTLuaFS4uLpSvU4nN367kk4dGkpyYROiAro7psXOczFrs21w6atTVswvf5Jn5I4j85zRpqY7f+Nuri+ztJ2ebJTOX4Obpxow/ZtC1b1eOHTiGNd9P2HNuF+l4DX6VKzPnQlrm316yZTPSYmJJOZT/9V250ZPbAcvinqW5u0NDFjcfzHeNXqdYqRJUeaylg3JuXT65qc+CwJ4UOx39liYFSmEf7ybYr4dsRje12fHnVsLavsaHL07kiaEF/6wtt9cJABcXFyrXrcJ7fd/l3WfG8MQbvShXqVz2DLnBgXqq1DaYxEtxXNx3Mn/HzlFS3vrNpA/fYcumHWzdvBOAfXv+oUnddrRr9Rhfzl3I1wunF6i+W+kSEbtlaLefFkHuhClzOqiCBqAG8LxSaqOIfAUMAV4C2iqlDovIfGCAiMwG5mVNB6aZ+3EDvgfmK6Xm2zlOA6A2cB7YCLQUkR3AHOABpdQJEbG/QvsGYcCrplY34DrwJhCmlHoYQERKA+2VUtdFpBrwHdDYjl3fHI4RDJRXStUx7bzsGSml5gJzAUZXfDrHXh4XEYNnuRtP+jyCfIi/GJvJ5kpWm0Af4iMNm12L17FrsTGtpd2wHlyxeSKeH2IjovGyOZZXkC9xFy9nsYnJbBPoy5Us04kS465xZMs/3Nu6PhcOn8m3nqy/3dOOnitZNQf6EBd5GYXiSkQMZ3Ybi4/3Lt9K6IBH8q0lLiIGj6AsdWXWQ4bNhRg8staVWZ/hi9YRvsioq7bDehAXkb+6erjPw3R8siMAh/ccxq/cjaeNfkF+REdmfqp4JeYKZTzKYHGxkGZNwy/Ij5hI49jXrl7j46EfZ9jO2zSPyDPZpyPlBuvFKFzKBmR8dwnww3rpUiab4vdWx2f8OwBYvDwp2eI+VKqV4nXupeQDLQhscR9SojhSpjTeY0dyeezEfGkBuHYhhjI2I6alA324FpG7aW/lWtUh/kwU12PiATj5+w7KNqrGsZ825klD294daf2ksa7kxJ6j+JbzI93l8wn05XJk5jYQHxNHaZu68g7yJfZi7jTnhcsRMfjYtFPvIB9iL8ZksYnObBPoy5VIx84vWXmkTxc6P9UZgH/3/It/uRtPyP3ttOXbSftnO9GmVwcAju89gq9Nv/IJ9OXyxex1ZduvfIOy1yfAoW3/UPaeQNy93Ym/HJ9rPZ2e7Uz7J421fkf3HsHXZuTW107biYuJo4yHm00/983o59ER0cRdjiMpMYmkxCT+2bqfirUqcf5E3tfxXL0Qg7vN6LZbkA8JuWyjQY2rU6l9QyqG1selRDGKu5fiwWkD+HNQ3tfs9H3hSZ7u8wQAe3bto1z5G9PfgsqVJSLiot18Q0a8gq+fD8OeubFG7Wp8Qsbfq1f+zaQP38HHx4uYmNg867oVgQF+RFy8cV6MvHiJAD9fUlJTibgYlSnd3885I6Sa7OgRIg3AGaVU+l3At0Bb4IRS6rCZ9g3wAIbjZC89nV+Ar3NwhgC2KaXOKqXSgN0YU9hqAseVUumhmG7lEG0EPhKRNwAvpZS9yfbFgM9FZB+wBKh1i31m5ThQWUSmi0hHIC6P+TNxbs9xfCoG4nWXPy7FXKjbpRmHVu7MZPPvyl0EP3Y/AHc1qMr1+ESuRsUCUMbXAwDPcr7c27EJ+5Y6tizr9J5j+FcMxMfU07BLC/atzLz4fd/KHTR9zKjaig2qcT3+GnFRsbj5uFPKozQAxUoUo0bLOkQec2zh7Nk9x/CrGIi3qad+l+b8k6V8/lm5i4Zm+dzdoCqJ8deIj4rlatQVrpyPxr9yEADVWtbh4pGz+dZyfs9xfCsF4lXB0FKnSzP+zVpXf+2ifvcbdZUUn8hV0yHKVle/5K+ufv3mV17r+BqvdXyNzX9upm13Y9F9zQY1SYhP4LKdm5O9m/Zy/0OGrnaPt2PzCmONShmPMrgWM559dXyyI/u27uPa1fyts0o+eAjXCuVxCQoEV1dKtW9D4t+bM9lEdHuaiG5PEdHtKRJXryP2g0+4/vdG4j77goguPYno9hQxb48naUe4Q84QQNSe43hUCsStgj+WYi5UfqQZp1fuylXehPPRBDSoikvJ4gCUa1Wb2HwE5Fi14A9Gdw5jdOcwdq3YRsvHWgNQpUE1EuOvccXsx7Yc3LyfJp2NNV6tuoewa8W2PB/3Vpzcc5SAikH43RWASzFXmnRpyZ4s/XzPyh00M/VWvoleR/jlm2W89OAAXnpwABv/2ESHx40gAPc2NNpyzMWCdcBuxsr5vzOy82BGdh7MjhVbub97CABVG1TnWnyCXcf0wOZ93NfZmGTwQPdQdq406qrsPTduzivWqYxrMdc8OUMAv89fzpBOAxnSaSBb/9xCaPc2AFRvUINr8dfs9vP9m/fSorMxkhn6eFu2rdgKwLYVW6jVtDYWFwvFS5ageoManD2SvwdVkXuO41UpEA+zX1Xv0ozjuexXmyYv5qv73uDrloP5/bWZnN30T76cIYB5X3yXEQTh999W8UQv42FXw8b1iI+L52LkpWx5nurdnZA2LRnwfFim0Qh/mylswQ3rYhHLbXGGAEJaNWPpH6tQSrFn/0Hc3Mrg7+dDnZrVOX32PGfPR5CSksLvq9YR2sqxQC6FRZpSBfYpqugRIg3kfjXorQZ3NwKdROQ/yv64aJLN31aM9penAWOl1CQR+Q3oDGwRkXZ2zAYDkUB9DKf/uh0bgFQyPxQoaR7jsojUBx4EXgV6AP3yotOWNGsav42ex7PzRxihnBevI+rIORo/bdzk7li4isNrdlMtNJhB6z4ywm4Pm5ORv9esgZTydictNZXf3pnnUNCAdD0/jP6KV+aPwuJiYcvitUQcOUvLp42i3LjwL/5ZE07t0AaMXvcJyYnJLBxmXNA8Arx55sNXEIsFsVjY/dtmDqzO3YXyZnp+GT2PF+aPxOJiYfvitUQeOUszU8+WhX9xaE04NUODGbFuGsmJSSyxKZ+fx87jyWmv4VLMlegzkSwJm5PToXKlZfnoefSePwJxsRBup66OrDbq6o2/jbr6xeZ4PWYPpLS3O9aUVH4b7XhdAWxfvZ0mbZrw1YavuJ54PdNoz7hvxjFt+DRiImP4auJXvDnzTZ4d9izH9h9jxfcrAKhQtQJh08JIs6Zx+shppg2bln8x1jRip07H79PJiMWFhGW/k3riJGW6dQEg4b/Z1w3dTpQ1jc3vfEPHhcMRi4XDi9YRe/gcNZ8xbiwPfbuaUv6ePLJ8PMXcSqHS0qjzQkd+DB1BVPgxTizfxqN/vIdKtRJ94BSHFq5xSM+eNbuoF9qQD9bNJCkxiS+GzczYNuTrt/hqxGfEXrzM4knf8sr0wXQf+iSnDpzg78VG0AxPfy/GLp1CKbdSpClFh34PM7L9QK5fTcyzljRrGv8Z/SWD5r+FuFjYuHgN54+cpfXThkOybuFK9q3ZRd3QBkxYN53kxGTm2eh98dOBVG9WGzdvd6Zsns3SjxezYfFqh8pn6+pt3NemKQs2zOP69SQ+GDI1Y9v789/jw2EfER0ZQ7d+j9JzwBP4+Pvw+co5bFuzjQ+HfYy3vzezls+gtFtpVJqi+wvd6Bf6Yr4c/PDVOwkObcS0v2eTlJjEnLBPM7YNn/cOnw+fweWLl/lu4nxenzGUHmFPc/LAcdYsMoJCNO3UnAe6h5KaYiU5KYlPX52a06Fyxc7VO2gU2phZ6+caYbfDPsnY9va8McwcMZ3LkTHMnziPoTOG89SwZzhx4Dh/LTL6+dmjZwlfu5NpK6aj0hQrv1/B6cP5i+aorGmsfecbHl0wHHGx8M+idcQcPkdds1/t+3Y1pf096fXreIq7lYK0NIKf78i3bUeQnI+2mhtWrfibtu0fYHP4HyReu87gV2+E7P928WyGvvEOkRFRTP54DGfPnGfZSuPZanp47Ycf6UCffr1ItaZyPTGJl5/Pfyj5YWMmsT18L7GxcbR99Bleeb43qWYglJ7dHuKB5k1Yv3k7nXr0o1TJkowfZcy6d3V1YdTgAbw05G2sVivdHu5A1cp2onQWQVQRXvtTUEhRns+nuf2ISEXgBNBCKbVZRD4HTmJMmWujlDoqIvOAcIypbYezpiulPhGRkxjT0t4BiiulBpj7v6qUchOREDJPV5sB7AAWmfu8Xyl1UkQWAp7pdnb0VlFKHTP//hljCt8Z4COlVGsz/WPgrFLqQxF5DvhKKSUi0iiLXStgCtAKKA8cALoC+4FkpVSciAQD85RSwTcrx5tNmStsYnE8QlVBUrKIDUSXVkVHz9a0wns6nhs+L5d0a6NC5M9z+VwDcRv42/X23Ojll+JFrF8dT81/VLPbQYBLaWdLyOC6cjwqXkESgqezJWRiUpxjD9UKktNHc1zC7DSK+VV2+kqjMqUrFtg9TsK1k07/PfYoWmdUjbM4CPQRkb2AD/Ax8BywxJx2lgbMVkpdt5eeZV+DgJIiMiU3B1ZKJQKvAH+IyAaMkZ2bXVkHmcEO9gCJwO/AXiBVRPaYARA+M3/PFqA6kD55OKvdRgxncB8wFUg/K5cH1orIbgyHK/9vt9NoNBqNRqP5H0ZPmdP8v0cpdRL7a2xWYQRByGqfU3pFm6/P2aS7mf+vBdbapNu+XXKNUqqmGXVuJsbIUU56X89hU9ss3+vZ/D3SzJtix+7pHPbXMCcNGo1Go9FoNHcKd8JsMj1CpCkKvGiOxhwAPDGm5mk0Go1Go9FoNLcdPUKkcTpKqY8xpullYK79GZjFdKNS6tVCE6bRaDQajUZzh3MnBFXQDpGmSKKU+hr42tk6NBqNRqPRaO5k9JQ5jUaj0Wg0Go1Go/l/jB4h0mg0Go1Go9FoNHa5E0aItEOk0Wg0Go1Go9Fo7PL/3x3SL2bVaIoUItJfKTXX2TrSKUp6ipIW0HpuRlHSAlrPrShKeoqSFtB6bkZR0gJaj8Yx9BoijaZo0d/ZArJQlPQUJS2g9dyMoqQFtJ5bUZT0FCUtoPXcjKKkBbQejQNoh0ij0Wg0Go1Go9HcsWiHSKPRaDQajUaj0dyxaIdIoylaFLX5xkVJT1HSAlrPzShKWkDruRVFSU9R0gJaz80oSlpA69E4gA6qoNFoNBqNRqPRaO5Y9AiRRqPRaDQajUajuWPRDpFGo9FoNBqNRqO5Y9EOkUaj0Wg0Go1Go7lj0Q6RRqP5n0FEvEWknrN1aIo2ImIRkRbO1qHRaDSa/w20Q6TROBkRKSMiFvPv6iLSVUSKOVFPCRF5SkRGicjo9I8T9awVEQ8R8QH2AF+LyEdO0vKEiLibf78tIj+JSENnaLHRdI+ItDP/LpWuz4l6WonIc+bf/iJSqbA1KKXSgA8L+7i3QkRamH3r2fSPE7VUF5FVIrLf/F5PRN52op7JuUkrJC1TzHNOMbOMLonIM07QsU9E9ub0KWw9piYX8xr1hogMSf84Q4upp0idk0VkoNl2RES+FJFdItLBWXo0uUc7RBqN8/kbKCki5YFVwHPAPCfq+QV4BEgFEmw+zsJTKRUHPAZ8rZRqBLRzkpZ3lFLxItIKeBD4BpjlJC2IyIvAD8AcM+ku4Gcn6hkDjABGmknFgG+dJGeFiHQXEXHS8TMhIguAqUAroIn5aexESZ9j1FMKgFJqL9DLiXra20nrVOgqDDqY55yHgbNAdWCYE3Q8DHQB/jA/T5uf5Rj93hksA/oCvoC7zcdZFKlzMtDPbDsdAH+M6/kkJ+rR5BJXZwvQaDSIUuqaiDwPTFdKTRGRcCfquUsp1dGJx8+Kq4gEAT2At5ysxWr+/xAwSyn1i4iMdaKeV4GmwFYApdQREQlwop5uQANgl6nnvBNHrIYAZYBUEbkOiCFJeThJT2Oglio677oorZTalsVfTC1sESIyAHgFqJxl1MMd2FjYekzSR+g7A98ppWKc4VcrpU4BiEhLpVRLm01vishGYFyhizKuD0Vp2nJROyenN5TOGA/w9hSVhzKam6NHiDQa5yMi0hzjyd9vZpozH1ZsEpG6Tjx+Vt4F/gSOKqW2i0hl4IiTtJwTkTkYztlyESmBc8+jSUqp5PQvIuIKOPOGO9m84VemnjLOEqKUcldKWZRSxZVSHuZ3ZzlDAPuBQCcePyuXRKQKN+rqceCCE3T8B2MUZKn5f/qnkVKq0KepmSwTkUMYTuwqEfEHrjtJC0AZcwQEMKZeYjj7zuD3IjYFrKidk3eKyAoMh+hP84FQmhP1aHKJfjGrRuNkROQBIAzYqJSabN7wD1JKveEkPf8AVYETQBI3nqw75amg+XR0463SCklLaaAjsM8cjQkC6iqlVhS2FlPPFCAWeBZ4HeNJ+z9KKaeMpIlIGFANY/rTRKAf8B+l1HQn6fE29ZRMT1NK/V3IGpZhOB3uQDCwDaNfpevpWph6bHRVBuYCLYDLGP396fRRCSfoqQKcVUoliUgIUA+Yr5SKdZIebyBOKWU1+72HUirCSVoaAV8Bnhht6QrG1KxdTtDSDWMarAVjuqVTR16L4DnZgtHPjyulYkXEFyhvTknVFGG0Q6TROBkReUIpteRWaYWo5x576U68UdqllGp4q7RC0rJAKdX7VmmFqMcCPI8xX10wRtK+cOa0LBFpb6tHKbXSSTpeAAZirKvaDTQDNiul2hSyjtY3266UWldYWmwRkUpKqRPmKJ7FXIdRSSl1wkl6dmOMyFTEaMdLgRpKqc5O0tPC1JIxWq+Umu8MLemIiAfGfdsVJ2o4DjyK4YA4/QayCJ6TH7CXXtgPYjR5RztEGo2TKUo3/DbHbwVUU0p9bU4XcSvsGyVzGmELYBDwsc0mD6CbUqp+YeoxNWWqFxFxwbgxqFXYWszjlwGuK6WsNnpKKKWuOUOPjS4PMt9IxjhBwz6MwAVblFLBIlITeFcp1bOwtZh6JiulRtwqrRD12Dvv7DSDljhNj4gMBxKVUtNFJFwp1cAJWhYAVTAc6fQ1KsqJo/ZlgfeBckqpTiJSC2iulPrSCVr+BDqZkRydThE8Jy+z+VoSY43nzsJ+EKPJOzqogkbjJESkE8Y84/Ii8qnNJg+csLg5HTNSWGOgBvA1NyKFtbxZvttAccAN4zxluzA/Dni8MIWIyEhgFFBKROLSk4FkjGlHzmIVRsS9q+b3UsAKDEey0BGRlzAWeidizJsXjCk+lZ0g57pS6rqIICIllFKHRKSGE3Sk0x4jAp8tneyk3VZMx7A24Ckij9ls8sBmaqETSBGRJzGmf3Yx05z1+oGiFgBjHsa5OH0q7GFgEVDoDhHGOrO1IvI7mad+FuqrEIrqOVkp1cX2u4hUAKY4SY4mD2iHSKNxHueBnUBX8/904oHBTlFkUCQihZlTidaJyDxnTdez0TIRmCgiE5VSI2+ZofAoqZRKd4ZQSl0159Q7izCgtlLqkhM1pHNWRLwwwpCvFJHLGH2uULlFFLVNha0H40HHw4AXNxwPMM47LzpBTzrPAS8DE8ypfJVwXsj29AAYzggyYQ8/pdRi0wlAKZUqItZbZbpNnDA/xc2PUyjC5+SsnAXqOFuE5tZoh0ijcRJKqT3AHhH5VinltBEhOyQrpZSIOD1SmEkJEZlL9vn8hT4FQSk1Uoz3Rd2TRYuz5ocniEjD9MXV5uLrRCdpATgGOHW6XjpKqW7mn2NFZA3GgvQ/nCDlP8DvGEEm3rRJj3fGVEKl1C/ALyLSXCm1ubCPnxNKqX9EZARwt/n9BM57f4sf8I+IFIkAGBj93JcbEQGbYQRWKHSUUu+aGtyNrzceyDiJX0WkjFIqQYyX5zYEPnHimtfp3Ij0mR5gYY8ztGjyhl5DpNE4CXONQ44d0IlR3YpapLA9wGyMUbSMp6JKqZ05Zrp9WiZhvLzyHzKvLXBWpLAmwPfcGPkIAno6o2xMPQ0wpvZsJfONpLPWXjh9LVwWPS5AWTI706edpKUkRkCO2mSOwtfPSXq6YLy4trhSqpKIBAPjnNG3cgqE4cQAGA2B6RgjDfsxXvj5uDMil4lIHWAB4GMmXQKeVUodKGwtpp69QH2MqIQLMKYRPqaUumkwk9uop4/N11TgpHJCRFRN3tEOkUbjJHKK5paOM55wiYhgROWqSRGIFGZqctpC76yIyL9APaVU0i2NCwkRKYYxDUqAQ0qpFCdq2QZsAPZh8+4NpdQ3TtCSsRZOKVVdRMoBS1TmF1wWpp7XgLFAJDfKRjnxwccS4BDwFMa6r6eBg0qpgU7SsxNoA6xND6QgIvuUUk55J5oZyKCJ+XWbUuqiM3TY6HHlRj//11n9XEQ2AW8ppdaY30OA95VSzlq3mB6MYzRwTin1pTODEonIQKXUJ7dK0xQ9tEOk0WgyUVQcEBFJfwL5BnAR+C+ZRx2cEbnsd+CJIjBNJAPziW0tMj/ld0p4YBHZ5Kwbo6yYYZwbALtsbrD3OtEBOQrcp5SKdsbxs5IewS29TEzH+k9nRcMSka1KqftsI8s5q75EpAfwAbAWwwG5HximlPqhkHU8drPtSqmfCktLOiKyJ2uET3tphahnHcZU2H4Y9RQF7HaiI20veqNToiVq8oZeQ6TROBkRiefG1LniGJGVEpSTXnQHbBGRJkqp7U46fjo7McpFzO/DbLYVauQym3nh14DdIrKKojElbAwQguEQLceIWrYBcNb7UtaISH9gGU52Xil6a+HO4KR1HzmQPsIQazrVERjr9JzFfhF5CnARkWoYD0KcEXQCjGhuTdJHhczpln8BheoQkTnoRVYUUOgOEXBcRN7BmJ4G8AxGkAVn0RNjlLOfUipCRO7GcGYLFTNC4lNAJRFZarPJHSgSD0E0N0c7RBqNk1FKZYrgJiKPYry7wFmEAi+JyCkgATLeRF6oT2qVUpUK83i3YIf5/06MF0YWFR7HmD8frpR6zpzm84UT9Txl/m8b9clZYbcXi8gcwEtEXsR4gvy5E3SkcxwjXPFvODFcsQ1zRcQbeAejTbsBo52kBeB1DEckCfgO4+Ws452kxZJlilw0xgL5QkUp9VxhHzMX9APexXDGBPgbI0KgUzCdoB8x1r2Csabpv06QsgkjKqEf8KFNejxQ6Gu9NHlHT5nTaIogIrJFKdXMSce2u7bJiVF77E0buYLx8j2nzut3NiKyTSnV1Fx/EYpx8d2vlKrtZGlFAhFp/3/t3Xm8XlV9/v3PFUSQKUCl9qk2CBGwiATBASRqrXWqogwqUqU4i6CittTSokBqa1Uc+GEVrIKAaJlEFAtCUQijyBACBXysAk4/7WMFkmIAgev5Y62b3Dk5UzDZa98n1/v1Oq+Tvc/Ja1/ch5x7r73W+n7pz164I8Y7P6jaFf0h6WOUTfpfqaf2BRa7XRPd3jRmHcq0CfBQ6+XD9WHH24DNbc+ts4vH2X5By1wxejJDFNHYmBv+WZSN4J0/qRjas7O062tP4c3AbsB36vGfAFcB20paYPuUif7i6jZBZcC7KTNIH2qwP+QalV47/0qZvfpf4OqOMyDpT21/e6I9D432OrwTOLXlIGhYX8oVS3rfZF9vNWNVS6Ov9HuvUXn9QyXtQ2lGLeBztlvMOgx8kZ40ZpX0VMqS3M3r8a+AA2zf1HWW6mDKiorvAtj+gaTfb5RlUBL9WOCPKUvg16HtEviYpgyIItobXif+AHA78MoGOYb37MwB7qx/3hT4MdBqCdtDwB/b/iU8/LT0s8CzKMs1OhsQUfrJPEjpLQOlBLcog6IvMvma/9XO9kH1j8dJOh/YpEUpXuB5wLcZ/7+/1V6HPwC+J+k64ATKDFGzJRFjyxXXG8kW5YoHS3S3o1RRGywB3YPy76mVvx768/rAPpTfh03YPgs4q9X1x+hTY9bjgfeNqTL3OaBVMZX7bN9fCqQ+XI2v5dKnT1PeF86gPNz8S+BJDfPENGVAFNFYX9aJD/bsSDoO+Lrtf6/HLwX+rGG0Jw4GQ9V/A9va/rWkrkvP7j6mbPONki63vbtKU8DO1VmZ+ZSbgMtosF7d9mA52IKxfX4kNRlI2z68bv5+EWWPw6clnQ58wfYPG0T6HCvfSP4rHd9IDs1UXQDsbHtpPT6SchPXhFfunXV5rSDWGUmX2Z4/ptANLN9H2eopf28aswIbDv4fBrB9ceOCJZdI+jvgMXWJ7EGUoi7N2P4vSevYfhA4sZYqj57LgCiiEa3Y0XolrSqXUaorHTiU4zxJrTY3A1wq6VyW36ztAyysb8J3dZxlI0nPsv1dAEnPpGxGhwZPsyV9hvL0cbDX4e2S/sz2wV1nqc6idIofdibQpIx7rTL3C0oFtQeAzYAzJV1o+286jtO3G8k5wP1Dx/fTsMrc0JJdKEuHd6HM8nXG9vz6eeOpvrdj76PM5M2VdDm1MWujLH2rMve3lGXVNwJvp1TbbFlY5jeSHk2pRvpRSqGF1hUuYxoyIIpoZ1C5bHdK2eTT6vGrKcvXWvmVpMOBL1EGbK+nbdnQgymDoMF6/pOBs+ryp+d3nOUtwAmSNqpZlgBvqTe2H+44C5SlajsMloJJOolyY9ApSU8GngLMHrOPaBOG+iN1nOndwAGUqlOfp/SR+a2kWcAPgK4HRH27kTwFuFrS2ZR/53sBnTfQHTK8ZPcBymvz5hZBJJ1ie/+pznXF9nWSnkcPGrOyYpU5aF9l7iHKTGvLCpLD9qcM6N8JvBf4I2DSflLRD6kyF9FY3Uz8osEbnEqDxAtsd32zP8izOXAE8Nx6aiFwVKNeMr0kaTbl9+ddjXN8FXjvoAJgrRD4z7b36zjHK4E9gVewYlnypcC/2e58yYikBZTlcStVR5T0x8AvbN/ZYZ7NKDeS81lervjILjOMk2lnSjNLgIW2rx/62mYts7WkMc01676Uxba3b5TnYEqBkLvq8WbAfrY/03GOdSh78VouoV6BpNsYvxhHi1L/SDrE9jFTnYv+yYAoojFJ36eUUP11Pd4MuMr2dm2TtdWn9fySXm/7SxNV6GpYmesSysb4QWW5ZwBXUhrIYvsVHefZzfaVk3z9MNstZtJWMvamN1bU9evTh/L6tWjB3wGPof4bovy+uZ9Sae6wif7uGs61yPZOY85db/tpDbJ8Hdjfdi+aDNe9VQPrU1ZYbG67SU+t8f7dtPpZxarJkrmI9v4ZuL7OFEFZBnVk1yEkfYPJ9zR1enPds/X8gzXgfcgyrGUjzZVMNhiqXk2bpYXjUacXk55Oudl+IkPvve644fEq6PT1oQfl9etg/cOSPtxq8DOBWZI0tDR2HUpJ5xbupRSTuZDSuBtot+d1nFYHn5J0GR3/bpS0H6Ux9VZ10DiwCW2XnMc0ZUAU0ZjtEyWdRykjDfC3tn/RIMrRDa45LfUG4HGseCP5466ub/v4+rlvTTSvAZbZfkjStsCTgfMa7i+YStc32ZPpennEqcChlD1eD3V87Uei69enN+X1bR9WZ+q3YWgPnO1WZcm/BZxeK4AaOBA4v1GWb9aPXqjLPgcGffxaPLi6glJA4bHAx4fOL6VB5c9YdVkyF9EDPXvz7RVJ76Lsafoly28k3eLJuqQtgLey8lP+N3Wdpea5lrIHZDPK0/RrgN/Yfl2LPFPp0zK1BkvCLhvMeo6CBq/PjbafOnQsynK5HbpeciTpLcAhwBOARcCuwJVu0CS25plFqaD2AspDhQuAz9eyzr0i6Szb+3R4ve8MHQ76+B1t+/tdZRiTZ0NG6yFVVJkhimhsojdfoNM3X0mn236NpBsZf5Nqq6U9hwDbjbM0ooVzgEuB/6A0aG1Ntn8j6c3AsbY/KmlR61CT6NMMUddZjpD0eeAi4L7BSdstmtZOR9evT5/K6x9C2Y93le3n1yqKzWaHayW1z9aPvuu0mEGr4kOTWAg8pz7kvIjykGpfoJcPqWK5DIgi2uvLm+8h9fPLG1x7Mj+hXRPCsTaw/f7WIYZI0m6UN9tBieJ1GuaZyhpv/Dmmn81KhqolvmBNZxnjjZSnxesyNNPJ8vLFnejx63MwpTzxoApfy/L699q+VxKS1rN9q6RmRW4k7U7ZV7ol5b5tUFimSSW1KXS67GiiQjcDDQrejPeQ6vop/1Y0lwFRRHu9ePO1/X/r55XKFDf2I+BiSd9kxSfrLSq7nSvpz23/e4Nrj+cQ4DDgbNv/KWlrlm9K74ym2WTY9j91EGe4n81KUahPsBuUkZ83vCSsoV6+PnXgc1b9WImkK23v1lGcn0raFPgacKGkO4Gfd3Tt8XyB0tPmWvoxM90nT6c8UBwUMtiDMkvzk0Z5xntIlXvtEZAfUkR7vXrzreVvPwL8PuWmqfMy12P8uH48mnaVlQYOAf5O0n3Ab2n82tR9ZguHjn8EPFztSdKxtt/VQZTeNBm2vVWX11sFV0na3vbNLUP0+PWZSmcNfm3vVf94ZN2jMpt2RQwA7rZ9XsPrr4qul1o+FtjZ9lIASUcCZ9h+S8c5BnrxkCpWXYoqRPRI7UY+Gzjf9v31XKcNEiX9F7CH7Vu6uubvosOb/ilJeort/2ydY6DBxvi+NRnuTbESSbcAc4HbKDOdg8F0s7LbfXp9ptLF/8ursJywU5L+mbIU9qusOEt+Xcc51gFOsv36Sb7nRbYv6DDTrZTZ1/vq8XrADbaf3FWGVdGn96tYUWaIInrE9iXjnL4I6LIy1y9HZTBU7d46wJBT6PZn1Td/SCl5O7hx3Kie61xfipUMeclkX2zw4KNvr08fTGs5YQODlgxPHzpnOv5Z2X5Q0haSHj14YDfO93Q2GKpOAa6WdDblNdmLsv+sr/r0fhVDMiCK6L9OliAMdYq/RtJplCV8o1ANq0/6VEWthV40Ga76UqwEmNbevK4ffPTq9ZmGNf5vq6/LCXtWSe124PLafHS4MWuLPZ3Y/sfax+859dQbbaeIQayyDIgi+q+rda17DP35N8CLxmTIgGhqfVuD3OkArUdNhqEnxUpWQdeD6VF7ffZf0xcY0+RzJV0vURsm6WXAU1hxeeOCBlF+Xj9m0aYB6ng2AJbU3z9bSNrK9m2tQ8VoyYAoIgCw/cbWGR6htX1WZjLHNLjmfZSO7esD20rattG+lF4VK5mGrgfTvXh9JC1l8gqFm9TPN3UQ5+OTfK3zJWoDko6j3PQ/H/g88Crg6hZZbB9VM21o+56pvn9Nk3QEZSnhdsCJlLL2X6K/S9PyftVTKaoQ0ch0n2I16NJ+EnCI7bvq8WbAx22/qasMq0LSG2x/sXUOAElX2d61w+t9g5VvJu+mVH073va9XWWpecbdl2K76b6U8YqV9E3XBTDGXLv56yNpAfALyp4QUcoWb2z7oy3y9ImkxbZ3HPq8EfBV2y+a8i+v/iy7UcqAb2R7jqR5wNttH9R1lppnEfA04LrB++TgdWqRZyp9er+KFWWGKKKdM4FdJF1ke7ImiF03SNxxMBgCsH2npM4GZAMT3Ow/zPYr6ucvdphpge0PDh2vA5xs+3U1S2eDoepHwBbAV+rxvsAvgW2Bf6WDZUZj9GZfiqRjgNNsXzFBsZK+6fTJcQ9fnxfbftbQ8WclfRfofEAkaQPgfcAc22+TtA2wne1zu85SLauffyPpD4H/AVrtd/oU8GJq3x/bN0h6bqMsAPfbtiRDmblqmGU6D6m+2HmomJYMiCLamVWn+7cdr9v2YJNqg1Kvs4YrXtVStC1+VxxdP+8N/AFlGQTAfpSNvS3MkXSY7Q/X8q5nAM32FQBPsz18M/INSQttP1dSi/LffdqXch1wuKRtgbMpN//XTPF3VrtVKOXc9YOPXrw+Qx6U9Drg3yg3lPvRrgnpiZSKc8+uxz+l/FtvNSA6ty5v/Bjl52bK0rkmbP9EWmH83rJZ7OmSjgc2lfRW4E2Uh0Gt9O0hVUxTBkQR7bwW2JPy77Avm1OhrKO/QtKZlDfe1wD/2HWIwVNrSf8w3k1/13mqNwKnSjqMsp7/PNufbJQFYAtJc2z/GEDSHEqjQoAWS596sS8FwPZJwEl1QLIP8JH6Wm3TcZRplXLu+sFHj16fgb+g7Hk7hvK6XF7PtTDX9r6S9gOwvUxjRgBdsv0P9Y9nSToXWN/23Y3i/ETSswFLejSlEXSTNg31Z3Ia8GRgCWUf0QdtX9giT9W3h1QxTRkQRTRi+/uUm5DF7lEXctsnS7qGsoFYwN62bx58vet+KZSb/q1t/6hefyvKE7jOjKk+dQxwPOWG7RJJOzesPvVXwGWSfkj5WW0FHFSXjZzUdRjbe9U/HllLb88Gzu86xxhPotwwPRG4efJvXf36Wsp5SNPXZ8D27cArW11/jPslPYa69EnSXIZaEHRN0sHAqbbvsn2fpA0kHWT7Mw3iHEj5Hfh44GfAt4CDG+SgLpX7mu1dgJaDoGF9e0gV05SiChGNSZoNHAEMnipdAixo+ARwUl1v/pb0EuBzlKUIUG7c3m77Wx1m+M4kX3bLogF16d6TKQOiW7supDBOnvnANoMSuJTN152XwJX0Ecpyyx8Cp1M2od/VdY4xmTYDtmHF0slNZjv79vrUpXufBR5newdJOwKvsP2hBlleCBwObA9cQKlY9gbbF3edpeZZZHunMec6LbbTV5L+Bfii7e+1zgIg6c+B4yj/rh5+SAVcDLzV9qeahYtJZUAU0Ziks4CbWP5Ef39gnu29J/5b7bR4Ix666Ydy09/saW3f1OUrT2Roxt92k07twyVwbW9bN4CfYbvzEriSDgTOtP2rrq89nr5V4Ovh63MJcChl4/mgWthNtndolOf3KD8jUYqENHudJC2mvCcMZqzWARbbfkqDLFtTZoh2pcygXQm8dzCD3yDPzZT9OXdQGsWK8pCqWZW5vj2kiunJkrmI9uba3mfo+KhaSrSvWjxF2YXlN/3zJDW56Zf0OOCfgD+0/VJJ2wO72f5C11lqnlOAuZQb7MHGZgNNBkTAXtQSuAC2fy6p0/1xkp5s+1ZKn5Y5dcnKwxoub+xFBb4evz4b2L56zFadB1oEkbQX8G3b36zHm0ra0/bXWuShLEs7XaUfkSnL1lotRf0y8C+Uf+tQ9sJ+heXNmLv20sm+2GCJN6z4frVjq/erWDUZEEW0t0zSfNuXAUjaneVlVtd6Pbvp/yKlAtXf1+P/l7Kpt8mAiDIbs/3gyXEP9KEE7vuAtzF+k81mzTXpTwW+vr4+v6p7dQb/77yK0uC3hSNsnz04sH1Xnf38WqM876f8zN5BmXW4gHZV5mT7lKHjL0l6Z6Ms2L5jim+5COhyiXef3q9iFWRAFNHegcDJdS8RwJ3AAV2H0DQbxdJ9p+0+3fQ/1vbptcocth+Q1LLk7E2UkuStbhzHal4Ct/aNmQUcbvvyLq89hV5U4Ovx63MwZa/gkyX9DLiN0py1hVnjnGt2v2T7Icq+lOPG+7qks8asMliTviPpb1leHn1f4Ju1WmGLNhFTWZvfr2IVZEAU0ZjtGyjLwDapx0uGvy7pgFoid03ra6PYPt3031P3FgyeYu9KabrXymOBmyVdzVAVLNemtV2zfXTdkN60BK7thyQdDezW9bUn0qcKfH18fSj7Pv6szirOsr20VpRs4RpJn6AsDTPwLkr59L7ausNr7Vs/v33M+TcxVEa+R7oemPTp/SpWQYoqRPRcV1XdJF1PeXr9FmCl3jqujWK7Vm8ed6LseWh601/Lbx8L7EB549sCeJXtxV1nqXmeN9551x5OazNJRwGLKdXTmr/RSTqG0vz0itZZoJevz0q/5yRdW0sqd51lQ+ADwJ+xfInah2zf03WW6ei68udkJL2wxUOQiTSoitqb96tYNZkhiui/rqb8+9oo9sjWAQZsX1cHIdtRfi7ft/3bhnl6MfCRtJTxn8QOKj5t0nEkKHtlNgQekHRv4yxQCk0cXstLn00ZHF3TKAv05PWpxSWeAsyWNFxZcxOGypN3qQ58/rbFtWeAj9CfnkDQ/ZK5Izu+XqwmmSGK6LkGT7he6h41igWQtCWlt81/SNoAWMf20gY5NqDcSG5p+62StqGUmD634xyX2Z4/zkCk9U1/L9Q9Mrv1bI8MAHWvxT6UBxBzbG/TIENvXh9Jr6Q8iHkF8PWhLy0F/q3FjFodtP41K5ezb9ZvbDJ96knUVZbBnqWJDPYySdq8h/uaoocyQxTRf10/4bqirp/vRaPYujn/bcDmlOo9j6dsLu56LxOUCnPXsnzvxU+BM4BOB0S259fPfZrJ642e7pEZeBKlR8kTgZtbBOjT62P7HOAcSbvZvrJ1nuoMyu+Yz7O8Ulgzkg6xfcwk597fINZEunrKfm291njvjw/vZepqMJSHVKMvM0QRPSfp07Y7K2vat0axtSfTM4HvennDxhttP7VBlmtsP334KaikG2zP6zpLvfabx/ZAkvTPttf65T493CPzEWBvSgf70ym57mqYp2+vz/rAmynL5x5eKmf7TQ2yNNm7NJEJ9lf1ZlZoWJ/2M0WsiswQRTRWy20fCTynnlphRqbLwVDVt0ax99m+f9CwUdKjaNMcFuB+SY8ZXL/2Tblv8r+yRr1K0r22T615PkOjfRc91Is9MkNuoyxT+1Wj64/Vt9fnFOBW4MXAAkrJ7VsaZfmGpIMoe72GN8Z3uvRK0n7AXwBbSRpeTrgx8D9dZlkFt3d9QUmbAduw4kB6Ydc5apY8pBpRGRBFtHcCZUbmNfV4f8rSrCYzMvSvUewlkv4OeEwt6XwQ8I1GWY6klEr+I0mnArsDb2iUBcr/I1+X9BClY/uvbR/UME9v2N647jNY4Uapa5KebPtWStWpOZLmDH/d9nUtcvXl9RnyJNuvlvRK2ydJ+jLwrUZZBn3gDh0616Kk9BWU8s2PZcVGuksps3udq/so/4qy/22lfZRdrySQ9BbgEOAJlGaouwJX0q7BcB5SjagsmYtoTNIi2ztNda7DPPMoXbVXaBTbsLT0LMpSmhdRnmJ/y3anzT7H5Pk9ypuugKtaPPEfs6F4Y0q59MuBD0IvmyN2boIbpSs8eY+tNZHjcy7NUL8zzpfdaqN+X16foTxX236mpIWUhx6/AK623be+Nk1IehzwjHp4te3/bpTjNMr+nb+0vUOdMb+y4fvVjZTX5SrbO9WqhUfZ3neKv7qm8jyGUhzkBJY/pHpPiyyxajJDFNFer2Zk3J9GsQNH2v4g8K/1+utIOtV2513sJZ0CLAQurU/9WxlsKB4Q8LL60cfmiC0cwvIbpecPbpS6DlEHQ7OAw/tQ1W1IL16fIZ+rS58+QLmh3Ig6wG9B0g7A9qy4DOvkRlleDRwNXEz5t36spENtn9kgzlzb+9blfNhepsF65jbutX2vJCStZ/tWSdt1HWLMQ6q3sPwh1YJUuhsNGRBFtPcO4KS6lwjqjEzDPMDKA6Ehh7C84EIX5kg6zPaHJT2aUgHq+g6vP+xEYD7lhmRrypP1hWMrQK1ptrfqU+nknurFjRL0q6rbkN68PgC2P1//eAmNB/SSjgD+hDIg+nfKk/7LKDPnLRwOPGMwKyRpC+A/gBYDor7to/yppE0pA5ALJd0J/LxBjuGqd4PPeUg1QrJkLqIxSesBr6KUlN4UuJuylGZBy1wT6bq6UX36eCpwI/B84Dzbn+zq+uPkWYfyZP35wIHAMttPbpTlStt9usnuDUlnA28E3kPZT3AnsK7tP2+Up29V3fr2+jwO+CfgD22/VNL2lAH/F6b4q2siy43APOB62/Nqts/b3qPrLIM8w1U168OQGxpV2nwhZYC2PXABdR+l7Yu7zjKWStPs2cD5tu9vnSdGSwZEEY1JOh+4i9LJ/uGeF7Y/PtHfaamrsqqShq+xLnA8ZQnCF6DNZnRJF1Eqc10JXApc1motf83Tq5vsvurDjZJKf5INgQeAPlR1e1hPXp/zKDOwf18HIY+iDEha3PQP9jNdS3nwsRS4yfZTus5S83wM2BH4Sj21L7DYdpP+Qz3ZR7mJ7SWaoEFrqyVqktalrPoY9PG7GDje9m9b5Inpy4AoojFJN9neoXWO6epqhmiCTegDTTajS/oksAtlicjllP1EV9pusuerzzfZsVyWN05N0vdsP0Mr9vhqUlymVgb7O+C1lIpq/wsssv3GrrMMZdqHMhsjyjLdsxvl2Av4tmtbiLpc7U9sf63jHOfafrmk21h5qZpbFeOQ9HnKA7zhPn4P2n5LizwxfRkQRTQm6XPAsbZvbJ1lOtRxo9g+krQRZbnRXwN/YHu9xpGi57K8cXKSLgb2AS60vbOkXYGP2H5e41xPBDZpVWWzbyaoitrpMuo+0ziNusc7F/0zq3WAiGA+cK2k70taLOlGSc3efCXNlvRJSdfUj48PFXzovFGspMdJ+kJdUoOk7SW9ucsMQ1neWcvOLgL2ZHlp1WYkbSbpmZKeO/homScmdIGkfRpX5Oqz91Gqy82VdDmlgMG7WgSRtNfgd57t24EfS9qzRZaaZ29JP5B0t6QlkpZKmqjozZo23n1jswJdwz+rerxpy58V8GAtNDHIszVDS+GjvzJDFNGYpC3HO2/7jq6zAEg6i9IodnjKf547brg3lKdPewsOpSyTu9b2A+N8fTPbd3aYZ9ymhC2WE8bksrxxavXf9naU1+b7rfZd9G0WRNJ/AXvYvqXF9cdkOYGy5/VfKEvU3gVsZvsNjfL07Wf1Asr71Y8o/x9vCbzR9mRLwKMHUnY7orFWA59JzLW9z9DxUZIWtQoDPNb26ZIOA7D9gKQmT9xsf2yKb7kIWOMFJ4b0rZdMTMD2xnUD+Dakc/1KJK1Pacg6n3Kjfamk42zf2yBOr2ZBgF/2YTBUvYvSK+o0yg3/BcDBDfP06mdl+yJJ27B8YH+r7ZZlyWOaMiCKiLF61SgWuKdWNRr0vdiVUpq8j7peDtWrXjIxsQlm864AXtAwVp+cTKnmdmw93g84BXh1gyzXSPoEK86CXNsgx3Ce0yi9dh6+ubb91a6D2L4H+NuurzuJXv2sapW5tzNUZU5SqsyNgAyIImKsvjWKHbu3YAtK36Y+6noNcl+aEsbUMps3ue3GbDz/jqQbGmUZngWBMgtyeKMsAJsAvwFeNHTOQGcDIkmfsv0eSd9gnN9ztl/RVZYx+vaz+iylytxn6vH+9VyqzPVc9hBFxArUw0axfdlbMBV11KNpgms37yUTExsqK70IeJbt+1qVle4jSV8EjrN9VT1+FnCA7YOaBhuHpGNtNyn4MB5Jh9n+8Bq+xi62r62/Z1Zi+5I1ef2pSNrI9v+2zFBzpMrciMoMUUSMdQ7LG8X+rG0UkLQBZZZoS9tvlbSNpO1sn9thhq1s3zadb13jYcZesDSwHey7uDyDod7KbN7kngX8paQf1+M5wC2SbqQ8kNmxXbSV7N46wBivBtbogKgOhtYB3mr79WvyWqtC0rOBzwMbAXMkzQPe3nAg/aCkubZ/WPOlytyIyIAoIsZ6gu2XtA4x5ETKmvBBD5efAmcAnQ2IgDOBXSRdZHuyPR+d7geR9EHKzdBg6cyJks6w/aEuc8TUbO9V/3ikStPh2cD5DSP1TZ9+54yaTh7E2H5Q0haSHt2jBy+fBF5MWVaN7Rsatx44lLLc80f1+ImUnnXRcxkQRcRYV0h6ao8axc61va+k/QBsL2vQy2WWpCOAbSW9b+wXbX+ifv51x7n2A542qMQl6Z8pM3sZEPVY6+VFfWT7DknzgW1snyjpscDG05yZXdt1uffhduBySV8H7nk4QP0d2ILtn4x5S2g5I3M5cDzLH44dD1zZLk5MVwZEETHWfOANkm6jVDQa9EtptWTlfkmPYXmVubkMVVrqyGspjVgfBWzc8bUnczulhPOgNPF6wA+bpYl4hOoDh6dT9gqeCDwa+BL9W54GDZbGTqHLPD+vH7Pox+/Cn9Rlc5b0aODdQMsS5ScDS4B/qMctqyXGKsiAKCLGemnrAGMcSVla9EeSTqXcIL2hywC2vw98RNJi2+d1ee0p3Af8p6QLKQPGFwKXSfo/ALbf3TJcxCrYC3gaZYYT2z+X1PyGW9IsYCPbS4ZOH9MqzwTO6OpCto8CkLRJOfTSrq49gQMpP4/HU/a8fou2fZH6VC0xVkGqzEVE79U+RLtSnoReZftXjXLMBo5geY+JS4AFtpv0RZI0aTl02yd1lSXidyHpatvPHFRqlLQhcGWLmWlJX6bcaD9I2b84G/jENBozr6k8H6Usg11GeTg0D3iP7S81yPJ0ygzeYLB6N/Am2y37NPXGKFVLjBVlQBQRvSbpFGAhcKntWxtnOQu4CRgMNPYH5tneu12qiUk6y/Y+rXNETKbuCfwA5Sn/CykV094EfNn2sZP93TWUZ5HtnSS9DtgFeD9wbatlw0N59qIs3X0v8J0WpZwlLQYOtn1pPZ4PfKbha7M1ZYZoV8os+ZXAe23/aNK/uPpz3Fivvy5l2eeP6/GWwM22d+gyT6y6LJmLiL47kbKv6dj65rcIWGi7xbKVuWMGGEfVvjJ9tXXrABFTsW1Je1IGHksoN5QftH1ho0jrSlqXMvj4tO3fSmr59Hjd+vnPga/Y/nX3dWUetnQwGAKwfZmklsvmvgz8C2XJJZT9nl+hlHHv0ss7vl6sZhkQRUSv2f62pEuAZwDPpyxleQpt1vEvkzTf9mUAknanLGPpqywBiFFxJXCX7UNbB6FUBrsduAFYKGlLykCtlW9IupXyu+YgSVuwvJBK166WdDxl0GFgX+Di2g8N29d1nEe2Txk6/pKkd3acAdt3dH3NWL2yZC4iek3SRcCGlBumS4HLbP93oyzzKFWEZtdTd1LWhy9ukWcqg/0YrXNETEXSzcC2wB2sWM65Fw1ZJT3K9gMNr78ZsKT2AtqQUpL8Fw1yfGeSL9v2n3YWhodbDdwF/BvLB2jrUWaNWrRCiBGVAVFE9JqkT1LW8d9H6fGwkLLZutnMTK2wxJjKU0g6oE+FDCRdb/tprXNETKXOwqykxZP32vB4vCwLus4CIGm8PYp3Aze2ejg0ka5/B9b2EBOx7SwbjmnJgCgiRoKkjSgdv/8a+APb6zWOtJIuZ2QkrQOcZPv1k3zPi2xf0EWeiJlC0l8NHa5P2R9yi+03NcrzTWA3YDA78yfAVZQZtQVjlow1lVnpGFXZQxQRvVbXgz+HMkt0B3ACZelcH3W207kundlC0qNt3z/B92QwFLGKbH98+FjS0cDXG8UBeAj4Y9u/rHkeB3yWUjhgIaXxZ190Wu1B0quB820vlXQ4sDPwD7av7zJHjL4MiCKi7x4DfIJS9nalNfySNrN9Z/exxtX1lPvtwOWSvs6K+y4+0XGOiJlsA9pWbHziYDBU/Tewba0299tWoSbQ9e/AD9g+o5b/fjFwNHAc3VeZixGXAVFE9No0miFeRHkq2Add18L9ef2YxfJGiRHxOxjqKQOwDrAF0GT/UHWppHOBM+rxPpTqdxtSCgr0Sde/Ax+sn18GfNb2OZKO7DhDzAAZEEXEqGvWkGMcl3d5MdtHdXm9iLXEcE+ZB4BftqwwBxxMGQTtTvl9dzJwlssm8Oc3zDWeTn8HAj+rZcD/DPiIpPUoD4giVkmKKkTESOu4kMFs4EjKniaASyibmu/u4vrj5NkC+BtKX6b1B+e7Ln0bMdPUEvuDf+cL+1pav2uS3jfO6bspS5oXdRwHSRsAL6FU3PuBpP8HeOpg/2TPllRHj2UUHRExfSdQGjS+pn4sAU5smOdU4FZgK+Aoyp6i7zXMEzHyJB1C+bf1+/XjVEnvaphnb0k/kHS3pCWSlkpq1Sj26ZTm2I+vH2+jVL37V0l/03UY27+x/VXbP6jH/3dMMZmLus4UoykzRBHRS5K2sj1Zj4nB93XWa0fSIts7TXWuK5Kutb2LpMWDBpaSLrH9vBZ5ImYCSYuB3WzfU483pPQ+a9IkVtJ/AXvYvqXF9cdk+Rawj+3/rccbAWcCe1FmibZvmW+s9GKL6coMUUT01ZkAkqZ6wveCDrIMLKvVjACQtDvQrEEsMKgw9X8lvUzS04AnNMwTMROI5Zv1qX9uuVfxl30YDFVzgOEy/78FtqyNsu9rE2lSeeof05KiChHRV7MkHQFsO9669UFpadu/7jDTO4CT6l4igDuBAzq8/lgfqln+CjgW2AR4b8M8ETPBicB3JZ1dj/cEvtAuDtdIOg34GkODDttfbZDly8BVks6px3sAX6mzaDc3yBOxWmTJXET0kqTtKDci76H0lVhBiwprtYLRq4C5wKaUzcS23bIkb0SsZpJ2BuZTZoYWtmz0KWm8fYq2/abOwwCSdmH5a3OZ7WsaZOjdkuoYbRkQRUSvSXqp7fNa5wCQdD6l78d1DC2pGdvZvsM8JwGH2L6rHm8GfLzVjVLEKJO0ie0lkjYf7+sdz0b3kqRjgNNsX9E4x2D/5EW2J1w2LWnz/NxiOrJkLiL67gpJnwCeW49blrp+gu2XNLjuRHYcDIYAbN9Z9xFFxKr7MqUH0bWsuPdE9XjrLsNI+hvbH5V0LOPshbH97i7zVNcBh0vaFjibMjjqfIaIfi6pjhGWAVFE9N0JwE2UMtcA+1PW+O/dIMsVkp5q+8YG1x7PrOE+G/XJdn6vRzwCtl9eP2/VOks1KKTQYsAxLtsnUfZRbk5pFvsRSXNsb9NxlNdSllQ/Cti442vHDJQlcxHRa30qdS3pZuBJwG2Uzc2irOVvVY73L4HDKBX5TBk0/qPtU1rkiZgJasGAfwPOsf2bHuR5ou3bx5x7hu1mPcckPRPYlzIoudn2Ho1y9GZJdYy2DIgiotckXQkcavuyerw7cLTt3Rpk2XK887bv6DrLgKTtgT+lDM4usn3z0NfSpT1iFUl6HuVm/2XA1cBpwLm2722U51rgFbZ/NpTv07af2iDLRyiz8z+kvC5nDy/bbZBnNnAE/VhSHSMsA6KI6DVJ84CTgRVKXdte3C7VaJB0ne2dW+eIGEWS1qE8bHgr8BLbmzTK8QzgM5QS1zsD/0Rp1PqTBlkOBM6i7Kdab3De9sKus9Q8Z1GWVJ9UT+0PzLPdYkl1jLCsNY+IXrN9AzBP0ib1eMnw1yUdUNe1x8paNpOMGFmSHkMZgOxLGYQ0+x1j+3uS3g1cANwLvND2/9cozoPAtykNoBcBuwJXUgaOLcy1vc/Q8VGSFjXKEiMsA6KIGAljB0JDDqHhzUrPZQlAxCqqTVCfBZwP/Atwse2HGuT4Biv+G96A0vvsC5Kw/YquMwHvBp4BXGX7+ZKeDHTeE27IMknzxyypXtYwT4yoDIgiYtRlFiQiVqcTgb+w/eCU37lmHd34+uO51/a9kpC0nu1baxPtVg4ETq57iaAuqW6YJ0ZUBkQRMeoyCzKxDBYjVt1C4LBaTvptkrYBtrN9bpchbF8y+LOkx1FmZgCutv3fXWYZ8lNJmwJfAy6UdCfw80ZZsqQ6VpsUVYiIkSbpettrVTPS2gNkQoNmhOnSHrHq6pK5a4G/tL1D3U90ZYtS/zXPa4CPARdTHnI8h1J588wWeYZyPY9S7OZ82/e3zDKRFJaJ6coMUUSMustbB2jgWsrMmIA5lGUiAjYFfgxsBenSHvEIzbW9r6T9AGwvk9RytvXvgWcMZoUkbQH8B6X/WDPDM1g9llnymJZZrQNERExG0mxJn5R0Tf34+NB6cWy/s2W+FmxvZXtr4FuU8ruPtf17wMuBr7ZNFzHy7q+zQgaQNJfSiLmVWWOWyP0PuX+briyDimnJP6iI6LsTgCXAa+rHEsqm5yhPjf99cFA7tj+vYZ6ImeAISoW5P5J0KnAR8DcN85wv6VuS3iDpDcA3gX+f4u9EkRmimJYsmYuIvkufiYn9StLhwJcoT0JfT3l6HBGPgKRZwGbA3pQeOwIOsf2rVplsHyppb2B+zfM522e3yjNi1sYl1fEIZEAUEX2XPhMT24/yNPtsyoBoYT0XEY+A7YckvdP26ZSZmL64HPgt5d/51Y2z9EZdPn0kpdAEwCXAAtt3w9q5pDoemVSZi4hek7QTpfHqCn0mbC9uFqpnJG1k+39b54iYCSR9gPLQ5TTgnsH5VkVK+lplrg8knQXcxPLm3PsD82zv3S5VjKIMiCKi1yStB7wKmEuponY3YNsLWubqA0nPBj4PbGR7jqR5wNttH9Q4WsTIknTbOKddC5l0TtINwAvHVpmzPa9Fnj6RtGhsOfTxzkVMJUvmIqLvzgHuAq4DftY2Su98Engx8HUoTQolPbdtpIjRZnur1hnGSJW5iWVJdawWGRBFRN89wfZLWofoK9s/GdMi5cFWWSJmAknrAwdRihgYuBQ4zva9jSKdL+lbwFfq8b6kytzAO4CThlox3Akc0DBPjKgMiCKi766Q9FTbN7YO0kM/qcvmLOnRwLuBWxpnihh1JwNLgWPr8X7AKcCrW4RJlblJ3QJ8lBWXVO8JZI9prJIMiCKi7+YDb6jr+u+j3BDY9o5tY/XCgcAxwOOBnwIXAAc3TRQx+rYbsz/nO3UfT0tXUGZ/HwK+1zhLn2RJdawWGRBFRN+9tHWAPpK0DvAp269rnSVihrle0q62rwKQ9Cwa9rOR9Bbgg8C3KQ+EjpW0wPYJrTL1SJZUx2qRKnMRESOq7ivYw/b9rbNEzBSSbgG2A35cT82hLM16iAaz05K+Dzzb9v/U498DrrC9XZc5+kjS54Bjs6Q6fleZIYqIGF23A5dL+jor9kv5RLNEEaNv0hkHSZvZvrOrMJTlsEuHjpcCP+nw+n2WJdWxWmRAFBExun5eP2YBGzfOEjEj2L5jsq9Lug7YeU3nkPS++sefAd+VdA6l6t0rgavX9PVHRJZUx2qRAVFExIiyfVTrDBFrIU39LavF4CHHD+vHwDkdXb/3phq8RkxX9hBFRIwYSZ+y/R5J36A8MV6B7Vc0iBWxVpB0ne01PkM0XZKOtf2u1jkiRllmiCIiRs8p9fPRTVNERB/s3jpAxKjLgCgiYsTYvrZ+vqR1loiZQtJWtm+bzreu8TAR0akMiCIiRlStrDTekrmtG8SJGHVnArtIusj2Cyb5vsm+FhEjKAOiiIjR9fShP68PvBrYvFGWiFE3S9IRwLZDFd4eNihnb/vXnSebXGasIn5Hs1oHiIiIR8b2/wx9/Mz2p4A/bZ0rYkS9FriX8rB443E+mpM0S9ImY04f0yRMxAySKnMRESNK0nClq1mUGaN32J7XKFLEyJP0Utvntc4xIOnLwIHAg8C1wGzgE7Y/1jRYxAySAVFExIiS9J2hwweA24GjbX+/TaKI0SdpNnAE8Nx66hJgge27G+VZZHsnSa8DdgHeD1xre8cWeSJmouwhiogYUbaf3zpDxAx0AnAT8Jp6vD9wIrB3ozzrSloX2BP4tO3fSsrT7IjVKAOiiIgRNd7G72GDTeARsUrm2t5n6PgoSYtahQGOp8z+3gAslLQlsKRhnogZJ0UVIiJG19OBdwCPrx8HAtvTo03gESNomaT5gwNJuwPLWoWx/X9sP972n7u4A8jscMRqlD1EEREjStIFwD62l9bjjYEzbL+kbbKI0SVpHnAypXgBwJ3AAbYXN8rzwfHO217QdZaImSpL5iIiRtcc4P6h4/uBJ7aJEjEz2L4BmDcob217heVpkg6wfVKHke4Z+vP6wMuBWzq8fsSMlxmiiIgRJenvKRu/zwYM7AWcbvufmgaLmMEkXWd756m/c41dfz3g67Zf3CpDxEyTAVFExAirvYieUw8X2r6+ZZ6ImU7S9baf1vD6mwFX296mVYaImSZL5iIiRtsGwBLbJ0raQtJWtm9rHSpiBuv0SbKkG4euuQ6wBZD9QxGrUQZEEREjStIRlEpz21H6pKwLfAnYvWWuiBlOHV/v5UN/fgD4pe0HOs4QMaOl7HZExOjaC3gFddO17Z+TctsRa9rlXV6sltneFNiD8m9++y6vH7E2yIAoImJ03e+yEdQAkjZsnCdi5EmaLemTkq6pHx+XNCjBje13dpznEOBU4Pfrx6mS3tVlhoiZLkUVIiJGkCQBH6A0ZH0h8GHgTcCXbR/bMlvEKJN0FnATMCitvT8wz/bejfIsBnazfU893hC40vaOLfJEzETZQxQRMYJsW9KewPuBJZR9RB+0fWHTYBGjb67tfYaOj5K0qFUYyp6lB4eOH6T7fUwRM1oGRBERo+tK4C7bh7YOEjGDLJM03/ZlAJJ2B5Y1zHMi8F1JZ9fjPYEvtIsTMfNkyVxExIiSdDOwLXAHQ93ss5Qm4pGTtBNludxg39CdwAG2FzfMtDMwnzIzlH5jEatZBkQRESNK0pbjna9VqSLiEZC0HvAqYC6lutvdlFWqnfb+kbSJ7SWSNh/v67Z/3WWeiJksS+YiIkZUBj4Ra8Q5wF3AdcDPGub4MqUH0bWs2AxW9XjrFqEiZqLMEEVERERUkm6yvUPrHBHRnfQhioiIiFjuCklPbR1iQNI5kvaTtEHrLBEzVWaIIiIiIqparORJwG3AfdQlaq2KlUh6HrAv8DLgauA04Fzb97bIEzETZUAUERERUfW1WImkdYA/Bd4KvMT2Ji3zRMwkKaoQERERUbUe+IxH0mOAPSgzRTtTyoJHxGqSGaKIiIiInpJ0GvAs4HzgdOBi2w+1TRUxs2RAFBEREdFTkl4CXGj7wdZZImaqVJmLiIiI6K+FwGGSPgcgaRtJL2+cKWJGyYAoIiIior9OBO4Hnl2Pfwp8qF2ciJknA6KIiIiI/ppr+6PAbwFsL6OUAo+I1SQDooiIiIj+ur9WmTOApLmU/kgRsZqk7HZEREREfx1BqTD3R5JOBXYH3tA0UcQMkypzERERET0kaRbwKuAiYFfKUrmrbP+qabCIGSYDooiIiIiekrTQ9nNb54iYyTIgioiIiOgpSR8AlgGnAfcMztv+dbNQETNMBkQRERERPSXptnFO2/bWnYeJmKEyIIqIiIiIiLVWqsxFRERE9JSk9YGDgPmU0tuXAsfZvrdpsIgZJDNEERERET0l6XRgKfClemo/YDPbr26XKmJmyYAoIiIioqck3WB73lTnIuKRm9U6QERERERM6HpJuw4OJD0LuLxhnogZJzNEERERET0l6RZgO+DH9dQc4BbgIUq1uR1bZYuYKTIgioiIiOgpSVtO8S1LbN/ZSZiIGSoDooiIiIgRJek62zu3zhExyrKHKCIiImJ0qXWAiFGXAVFERETE6MpSn4jfUQZEERERERGx1sqAKCIiIqJnJG013W9do0Ei1gIZEEVERET0z5kAki6a4vte0EGWiBntUa0DRERERMRKZkk6AthW0vvGftH2J+rnX3eeLGKGyQxRRERERP+8FriX8vB643E+ImI1SR+iiIiIiJ6S9FLb57XOETGTZUAUERER0VOSZgNHAM+tpy4BFti+u12qiJklS+YiIiIi+usEYCnwmvqxBDixaaKIGSYzRBERERE9JWmR7Z2mOhcRj1xmiCIiIiL6a5mk+YMDSbsDyxrmiZhxMkMUERER0VOS5gEnA7PrqTuBA2wvbpcqYmbJgCgiIiKi5yRtAmB7yZjzB9g+qU2qiJkhA6KIiIiIESXpOts7t84RMcqyhygiIiJidKl1gIhRlwFRRERExOjKUp+I31EGRBERERGjKzNEEb+jDIgiIiIiRtflrQNEjLoUVYiIiIjoKUmzgSOB59RTlwALbN/dLFTEDJMZooiIiIj+OgFYArymfiwBTmyaKGKGyQxRRERERE9JWmR7p6nORcQjlxmiiIiIiP5aJmn+4EDS7sCyhnkiZpzMEEVERET0lKSdgJOA2fXUncABthc3CxUxw2RAFBEREdFTktYDXgXMBTYF7gZse0HLXBEzyaNaB4iIiIiICZ0D3AVcB/ysbZSImSkzRBERERE9Jekm2zu0zhExk6WoQkRERER/XSHpqa1DRMxkmSGKiIiI6ClJNwNPAm4D7gNE2UO0Y9NgETNIBkQRERERPSVpy/HO276j6ywRM1UGRBERERERsdbKHqKIiIiIiFhrZUAUERERERFrrQyIIiIiIiJirZUBUURERERErLUyIIqIiIiIiLXW/w/1H5G0CnbE4AAAAABJRU5ErkJggg==\n",
      "text/plain": [
       "<Figure size 864x504 with 2 Axes>"
      ]
     },
     "metadata": {
      "needs_background": "light"
     },
     "output_type": "display_data"
    }
   ],
   "source": [
    "plt.figure(figsize=(12, 7))\n",
    "sns.heatmap(data.corr(), annot=True, fmt=\".2f\")\n",
    "plt.show()"
   ]
  },
  {
   "cell_type": "markdown",
   "id": "dc2c8617",
   "metadata": {
    "id": "brave-hamilton"
   },
   "source": [
    "* There's a **positive correlation between the number of customers (adults and children) and the average price per room**. This makes sense as more the number of customers more rooms they will require thus increasing the cost.\n",
    "* There's a **negative correlation between average room price and repeated guests**. The hotel might be giving some loyalty benefits to the customers.\n",
    "* **Repeated guests have a positive correlation with the number of previous bookings canceled and previous bookings not canceled.** This implies that repeated customers are also likely to cancel their bookings.  \n",
    "* There's a positive correlation between lead time and the number of weeknights a customer is planning to stay in the hotel.\n",
    "* There's a **positive correlation between booking status and lead time**, indicating higher the lead time higher are the chances of cancellation.\n",
    "* There's a negative correlation between the number of special requests from the customer and the booking status, indicating **if a customer has made some special requests the chances of cancellation might decrease**"
   ]
  },
  {
   "cell_type": "markdown",
   "id": "71666c67",
   "metadata": {},
   "source": [
    "**Now that we have explored our data, let's prepare it for modeling.**"
   ]
  },
  {
   "cell_type": "markdown",
   "id": "2bf7b15e",
   "metadata": {},
   "source": [
    "## Preparing data for modeling"
   ]
  },
  {
   "cell_type": "markdown",
   "id": "36af02cd",
   "metadata": {},
   "source": [
    "- Models cannot take non-numeric inputs. So, we will first create dummy variables for all the categorical variables.\n",
    "- We will then split the data into train and test sets."
   ]
  },
  {
   "cell_type": "markdown",
   "id": "7ce8cb42",
   "metadata": {},
   "source": [
    "#### Question 3: \n",
    "\n",
    "- **Drop the target variable from the original data and store it in a separate dataframe `X` (1 Mark)**\n",
    "- **Store the target variable in a separate series `Y` (1 Mark)**"
   ]
  },
  {
   "cell_type": "code",
   "execution_count": 61,
   "id": "8a05d133",
   "metadata": {},
   "outputs": [],
   "source": [
    "#Remove the blanks and complete the below code\n",
    "Y= [\"booking_status\"]\n",
    "Y = data[\"booking_status\"]\n",
    "X = data.drop([\"booking_status\"], axis = 1)"
   ]
  },
  {
   "cell_type": "code",
   "execution_count": 62,
   "id": "e699fd40",
   "metadata": {},
   "outputs": [
    {
     "data": {
      "text/html": [
       "<div>\n",
       "<style scoped>\n",
       "    .dataframe tbody tr th:only-of-type {\n",
       "        vertical-align: middle;\n",
       "    }\n",
       "\n",
       "    .dataframe tbody tr th {\n",
       "        vertical-align: top;\n",
       "    }\n",
       "\n",
       "    .dataframe thead th {\n",
       "        text-align: right;\n",
       "    }\n",
       "</style>\n",
       "<table border=\"1\" class=\"dataframe\">\n",
       "  <thead>\n",
       "    <tr style=\"text-align: right;\">\n",
       "      <th></th>\n",
       "      <th>no_of_adults</th>\n",
       "      <th>no_of_children</th>\n",
       "      <th>no_of_weekend_nights</th>\n",
       "      <th>no_of_week_nights</th>\n",
       "      <th>type_of_meal_plan</th>\n",
       "      <th>required_car_parking_space</th>\n",
       "      <th>room_type_reserved</th>\n",
       "      <th>lead_time</th>\n",
       "      <th>arrival_year</th>\n",
       "      <th>arrival_month</th>\n",
       "      <th>arrival_date</th>\n",
       "      <th>market_segment_type</th>\n",
       "      <th>repeated_guest</th>\n",
       "      <th>no_of_previous_cancellations</th>\n",
       "      <th>no_of_previous_bookings_not_canceled</th>\n",
       "      <th>avg_price_per_room</th>\n",
       "      <th>no_of_special_requests</th>\n",
       "    </tr>\n",
       "  </thead>\n",
       "  <tbody>\n",
       "    <tr>\n",
       "      <th>0</th>\n",
       "      <td>2</td>\n",
       "      <td>0</td>\n",
       "      <td>1</td>\n",
       "      <td>2</td>\n",
       "      <td>Meal Plan 1</td>\n",
       "      <td>0</td>\n",
       "      <td>Room_Type 1</td>\n",
       "      <td>224</td>\n",
       "      <td>2017</td>\n",
       "      <td>10</td>\n",
       "      <td>2</td>\n",
       "      <td>Offline</td>\n",
       "      <td>0</td>\n",
       "      <td>0</td>\n",
       "      <td>0</td>\n",
       "      <td>65.00</td>\n",
       "      <td>0</td>\n",
       "    </tr>\n",
       "    <tr>\n",
       "      <th>1</th>\n",
       "      <td>2</td>\n",
       "      <td>0</td>\n",
       "      <td>2</td>\n",
       "      <td>3</td>\n",
       "      <td>Not Selected</td>\n",
       "      <td>0</td>\n",
       "      <td>Room_Type 1</td>\n",
       "      <td>5</td>\n",
       "      <td>2018</td>\n",
       "      <td>11</td>\n",
       "      <td>6</td>\n",
       "      <td>Online</td>\n",
       "      <td>0</td>\n",
       "      <td>0</td>\n",
       "      <td>0</td>\n",
       "      <td>106.68</td>\n",
       "      <td>1</td>\n",
       "    </tr>\n",
       "    <tr>\n",
       "      <th>2</th>\n",
       "      <td>1</td>\n",
       "      <td>0</td>\n",
       "      <td>2</td>\n",
       "      <td>1</td>\n",
       "      <td>Meal Plan 1</td>\n",
       "      <td>0</td>\n",
       "      <td>Room_Type 1</td>\n",
       "      <td>1</td>\n",
       "      <td>2018</td>\n",
       "      <td>2</td>\n",
       "      <td>28</td>\n",
       "      <td>Online</td>\n",
       "      <td>0</td>\n",
       "      <td>0</td>\n",
       "      <td>0</td>\n",
       "      <td>60.00</td>\n",
       "      <td>0</td>\n",
       "    </tr>\n",
       "    <tr>\n",
       "      <th>3</th>\n",
       "      <td>2</td>\n",
       "      <td>0</td>\n",
       "      <td>0</td>\n",
       "      <td>2</td>\n",
       "      <td>Meal Plan 1</td>\n",
       "      <td>0</td>\n",
       "      <td>Room_Type 1</td>\n",
       "      <td>211</td>\n",
       "      <td>2018</td>\n",
       "      <td>5</td>\n",
       "      <td>20</td>\n",
       "      <td>Online</td>\n",
       "      <td>0</td>\n",
       "      <td>0</td>\n",
       "      <td>0</td>\n",
       "      <td>100.00</td>\n",
       "      <td>0</td>\n",
       "    </tr>\n",
       "    <tr>\n",
       "      <th>4</th>\n",
       "      <td>2</td>\n",
       "      <td>0</td>\n",
       "      <td>1</td>\n",
       "      <td>1</td>\n",
       "      <td>Not Selected</td>\n",
       "      <td>0</td>\n",
       "      <td>Room_Type 1</td>\n",
       "      <td>48</td>\n",
       "      <td>2018</td>\n",
       "      <td>4</td>\n",
       "      <td>11</td>\n",
       "      <td>Online</td>\n",
       "      <td>0</td>\n",
       "      <td>0</td>\n",
       "      <td>0</td>\n",
       "      <td>94.50</td>\n",
       "      <td>0</td>\n",
       "    </tr>\n",
       "    <tr>\n",
       "      <th>...</th>\n",
       "      <td>...</td>\n",
       "      <td>...</td>\n",
       "      <td>...</td>\n",
       "      <td>...</td>\n",
       "      <td>...</td>\n",
       "      <td>...</td>\n",
       "      <td>...</td>\n",
       "      <td>...</td>\n",
       "      <td>...</td>\n",
       "      <td>...</td>\n",
       "      <td>...</td>\n",
       "      <td>...</td>\n",
       "      <td>...</td>\n",
       "      <td>...</td>\n",
       "      <td>...</td>\n",
       "      <td>...</td>\n",
       "      <td>...</td>\n",
       "    </tr>\n",
       "    <tr>\n",
       "      <th>36270</th>\n",
       "      <td>3</td>\n",
       "      <td>0</td>\n",
       "      <td>2</td>\n",
       "      <td>6</td>\n",
       "      <td>Meal Plan 1</td>\n",
       "      <td>0</td>\n",
       "      <td>Room_Type 4</td>\n",
       "      <td>85</td>\n",
       "      <td>2018</td>\n",
       "      <td>8</td>\n",
       "      <td>3</td>\n",
       "      <td>Online</td>\n",
       "      <td>0</td>\n",
       "      <td>0</td>\n",
       "      <td>0</td>\n",
       "      <td>167.80</td>\n",
       "      <td>1</td>\n",
       "    </tr>\n",
       "    <tr>\n",
       "      <th>36271</th>\n",
       "      <td>2</td>\n",
       "      <td>0</td>\n",
       "      <td>1</td>\n",
       "      <td>3</td>\n",
       "      <td>Meal Plan 1</td>\n",
       "      <td>0</td>\n",
       "      <td>Room_Type 1</td>\n",
       "      <td>228</td>\n",
       "      <td>2018</td>\n",
       "      <td>10</td>\n",
       "      <td>17</td>\n",
       "      <td>Online</td>\n",
       "      <td>0</td>\n",
       "      <td>0</td>\n",
       "      <td>0</td>\n",
       "      <td>90.95</td>\n",
       "      <td>2</td>\n",
       "    </tr>\n",
       "    <tr>\n",
       "      <th>36272</th>\n",
       "      <td>2</td>\n",
       "      <td>0</td>\n",
       "      <td>2</td>\n",
       "      <td>6</td>\n",
       "      <td>Meal Plan 1</td>\n",
       "      <td>0</td>\n",
       "      <td>Room_Type 1</td>\n",
       "      <td>148</td>\n",
       "      <td>2018</td>\n",
       "      <td>7</td>\n",
       "      <td>1</td>\n",
       "      <td>Online</td>\n",
       "      <td>0</td>\n",
       "      <td>0</td>\n",
       "      <td>0</td>\n",
       "      <td>98.39</td>\n",
       "      <td>2</td>\n",
       "    </tr>\n",
       "    <tr>\n",
       "      <th>36273</th>\n",
       "      <td>2</td>\n",
       "      <td>0</td>\n",
       "      <td>0</td>\n",
       "      <td>3</td>\n",
       "      <td>Not Selected</td>\n",
       "      <td>0</td>\n",
       "      <td>Room_Type 1</td>\n",
       "      <td>63</td>\n",
       "      <td>2018</td>\n",
       "      <td>4</td>\n",
       "      <td>21</td>\n",
       "      <td>Online</td>\n",
       "      <td>0</td>\n",
       "      <td>0</td>\n",
       "      <td>0</td>\n",
       "      <td>94.50</td>\n",
       "      <td>0</td>\n",
       "    </tr>\n",
       "    <tr>\n",
       "      <th>36274</th>\n",
       "      <td>2</td>\n",
       "      <td>0</td>\n",
       "      <td>1</td>\n",
       "      <td>2</td>\n",
       "      <td>Meal Plan 1</td>\n",
       "      <td>0</td>\n",
       "      <td>Room_Type 1</td>\n",
       "      <td>207</td>\n",
       "      <td>2018</td>\n",
       "      <td>12</td>\n",
       "      <td>30</td>\n",
       "      <td>Offline</td>\n",
       "      <td>0</td>\n",
       "      <td>0</td>\n",
       "      <td>0</td>\n",
       "      <td>161.67</td>\n",
       "      <td>0</td>\n",
       "    </tr>\n",
       "  </tbody>\n",
       "</table>\n",
       "<p>36275 rows × 17 columns</p>\n",
       "</div>"
      ],
      "text/plain": [
       "       no_of_adults  no_of_children  no_of_weekend_nights  no_of_week_nights  \\\n",
       "0                 2               0                     1                  2   \n",
       "1                 2               0                     2                  3   \n",
       "2                 1               0                     2                  1   \n",
       "3                 2               0                     0                  2   \n",
       "4                 2               0                     1                  1   \n",
       "...             ...             ...                   ...                ...   \n",
       "36270             3               0                     2                  6   \n",
       "36271             2               0                     1                  3   \n",
       "36272             2               0                     2                  6   \n",
       "36273             2               0                     0                  3   \n",
       "36274             2               0                     1                  2   \n",
       "\n",
       "      type_of_meal_plan  required_car_parking_space room_type_reserved  \\\n",
       "0           Meal Plan 1                           0        Room_Type 1   \n",
       "1          Not Selected                           0        Room_Type 1   \n",
       "2           Meal Plan 1                           0        Room_Type 1   \n",
       "3           Meal Plan 1                           0        Room_Type 1   \n",
       "4          Not Selected                           0        Room_Type 1   \n",
       "...                 ...                         ...                ...   \n",
       "36270       Meal Plan 1                           0        Room_Type 4   \n",
       "36271       Meal Plan 1                           0        Room_Type 1   \n",
       "36272       Meal Plan 1                           0        Room_Type 1   \n",
       "36273      Not Selected                           0        Room_Type 1   \n",
       "36274       Meal Plan 1                           0        Room_Type 1   \n",
       "\n",
       "       lead_time  arrival_year  arrival_month  arrival_date  \\\n",
       "0            224          2017             10             2   \n",
       "1              5          2018             11             6   \n",
       "2              1          2018              2            28   \n",
       "3            211          2018              5            20   \n",
       "4             48          2018              4            11   \n",
       "...          ...           ...            ...           ...   \n",
       "36270         85          2018              8             3   \n",
       "36271        228          2018             10            17   \n",
       "36272        148          2018              7             1   \n",
       "36273         63          2018              4            21   \n",
       "36274        207          2018             12            30   \n",
       "\n",
       "      market_segment_type  repeated_guest  no_of_previous_cancellations  \\\n",
       "0                 Offline               0                             0   \n",
       "1                  Online               0                             0   \n",
       "2                  Online               0                             0   \n",
       "3                  Online               0                             0   \n",
       "4                  Online               0                             0   \n",
       "...                   ...             ...                           ...   \n",
       "36270              Online               0                             0   \n",
       "36271              Online               0                             0   \n",
       "36272              Online               0                             0   \n",
       "36273              Online               0                             0   \n",
       "36274             Offline               0                             0   \n",
       "\n",
       "       no_of_previous_bookings_not_canceled  avg_price_per_room  \\\n",
       "0                                         0               65.00   \n",
       "1                                         0              106.68   \n",
       "2                                         0               60.00   \n",
       "3                                         0              100.00   \n",
       "4                                         0               94.50   \n",
       "...                                     ...                 ...   \n",
       "36270                                     0              167.80   \n",
       "36271                                     0               90.95   \n",
       "36272                                     0               98.39   \n",
       "36273                                     0               94.50   \n",
       "36274                                     0              161.67   \n",
       "\n",
       "       no_of_special_requests  \n",
       "0                           0  \n",
       "1                           1  \n",
       "2                           0  \n",
       "3                           0  \n",
       "4                           0  \n",
       "...                       ...  \n",
       "36270                       1  \n",
       "36271                       2  \n",
       "36272                       2  \n",
       "36273                       0  \n",
       "36274                       0  \n",
       "\n",
       "[36275 rows x 17 columns]"
      ]
     },
     "execution_count": 62,
     "metadata": {},
     "output_type": "execute_result"
    }
   ],
   "source": [
    "X"
   ]
  },
  {
   "cell_type": "code",
   "execution_count": 63,
   "id": "4f69e271",
   "metadata": {},
   "outputs": [
    {
     "data": {
      "text/plain": [
       "0        0\n",
       "1        0\n",
       "2        1\n",
       "3        1\n",
       "4        1\n",
       "        ..\n",
       "36270    0\n",
       "36271    1\n",
       "36272    0\n",
       "36273    1\n",
       "36274    0\n",
       "Name: booking_status, Length: 36275, dtype: int64"
      ]
     },
     "execution_count": 63,
     "metadata": {},
     "output_type": "execute_result"
    }
   ],
   "source": [
    "Y"
   ]
  },
  {
   "cell_type": "code",
   "execution_count": 64,
   "id": "5a9bd65b",
   "metadata": {},
   "outputs": [
    {
     "data": {
      "text/html": [
       "<div>\n",
       "<style scoped>\n",
       "    .dataframe tbody tr th:only-of-type {\n",
       "        vertical-align: middle;\n",
       "    }\n",
       "\n",
       "    .dataframe tbody tr th {\n",
       "        vertical-align: top;\n",
       "    }\n",
       "\n",
       "    .dataframe thead th {\n",
       "        text-align: right;\n",
       "    }\n",
       "</style>\n",
       "<table border=\"1\" class=\"dataframe\">\n",
       "  <thead>\n",
       "    <tr style=\"text-align: right;\">\n",
       "      <th></th>\n",
       "      <th>no_of_adults</th>\n",
       "      <th>no_of_children</th>\n",
       "      <th>no_of_weekend_nights</th>\n",
       "      <th>no_of_week_nights</th>\n",
       "      <th>required_car_parking_space</th>\n",
       "      <th>lead_time</th>\n",
       "      <th>arrival_year</th>\n",
       "      <th>arrival_month</th>\n",
       "      <th>arrival_date</th>\n",
       "      <th>repeated_guest</th>\n",
       "      <th>...</th>\n",
       "      <th>room_type_reserved_Room_Type 2</th>\n",
       "      <th>room_type_reserved_Room_Type 3</th>\n",
       "      <th>room_type_reserved_Room_Type 4</th>\n",
       "      <th>room_type_reserved_Room_Type 5</th>\n",
       "      <th>room_type_reserved_Room_Type 6</th>\n",
       "      <th>room_type_reserved_Room_Type 7</th>\n",
       "      <th>market_segment_type_Complementary</th>\n",
       "      <th>market_segment_type_Corporate</th>\n",
       "      <th>market_segment_type_Offline</th>\n",
       "      <th>market_segment_type_Online</th>\n",
       "    </tr>\n",
       "  </thead>\n",
       "  <tbody>\n",
       "    <tr>\n",
       "      <th>0</th>\n",
       "      <td>2</td>\n",
       "      <td>0</td>\n",
       "      <td>1</td>\n",
       "      <td>2</td>\n",
       "      <td>0</td>\n",
       "      <td>224</td>\n",
       "      <td>2017</td>\n",
       "      <td>10</td>\n",
       "      <td>2</td>\n",
       "      <td>0</td>\n",
       "      <td>...</td>\n",
       "      <td>0</td>\n",
       "      <td>0</td>\n",
       "      <td>0</td>\n",
       "      <td>0</td>\n",
       "      <td>0</td>\n",
       "      <td>0</td>\n",
       "      <td>0</td>\n",
       "      <td>0</td>\n",
       "      <td>1</td>\n",
       "      <td>0</td>\n",
       "    </tr>\n",
       "    <tr>\n",
       "      <th>1</th>\n",
       "      <td>2</td>\n",
       "      <td>0</td>\n",
       "      <td>2</td>\n",
       "      <td>3</td>\n",
       "      <td>0</td>\n",
       "      <td>5</td>\n",
       "      <td>2018</td>\n",
       "      <td>11</td>\n",
       "      <td>6</td>\n",
       "      <td>0</td>\n",
       "      <td>...</td>\n",
       "      <td>0</td>\n",
       "      <td>0</td>\n",
       "      <td>0</td>\n",
       "      <td>0</td>\n",
       "      <td>0</td>\n",
       "      <td>0</td>\n",
       "      <td>0</td>\n",
       "      <td>0</td>\n",
       "      <td>0</td>\n",
       "      <td>1</td>\n",
       "    </tr>\n",
       "    <tr>\n",
       "      <th>2</th>\n",
       "      <td>1</td>\n",
       "      <td>0</td>\n",
       "      <td>2</td>\n",
       "      <td>1</td>\n",
       "      <td>0</td>\n",
       "      <td>1</td>\n",
       "      <td>2018</td>\n",
       "      <td>2</td>\n",
       "      <td>28</td>\n",
       "      <td>0</td>\n",
       "      <td>...</td>\n",
       "      <td>0</td>\n",
       "      <td>0</td>\n",
       "      <td>0</td>\n",
       "      <td>0</td>\n",
       "      <td>0</td>\n",
       "      <td>0</td>\n",
       "      <td>0</td>\n",
       "      <td>0</td>\n",
       "      <td>0</td>\n",
       "      <td>1</td>\n",
       "    </tr>\n",
       "    <tr>\n",
       "      <th>3</th>\n",
       "      <td>2</td>\n",
       "      <td>0</td>\n",
       "      <td>0</td>\n",
       "      <td>2</td>\n",
       "      <td>0</td>\n",
       "      <td>211</td>\n",
       "      <td>2018</td>\n",
       "      <td>5</td>\n",
       "      <td>20</td>\n",
       "      <td>0</td>\n",
       "      <td>...</td>\n",
       "      <td>0</td>\n",
       "      <td>0</td>\n",
       "      <td>0</td>\n",
       "      <td>0</td>\n",
       "      <td>0</td>\n",
       "      <td>0</td>\n",
       "      <td>0</td>\n",
       "      <td>0</td>\n",
       "      <td>0</td>\n",
       "      <td>1</td>\n",
       "    </tr>\n",
       "    <tr>\n",
       "      <th>4</th>\n",
       "      <td>2</td>\n",
       "      <td>0</td>\n",
       "      <td>1</td>\n",
       "      <td>1</td>\n",
       "      <td>0</td>\n",
       "      <td>48</td>\n",
       "      <td>2018</td>\n",
       "      <td>4</td>\n",
       "      <td>11</td>\n",
       "      <td>0</td>\n",
       "      <td>...</td>\n",
       "      <td>0</td>\n",
       "      <td>0</td>\n",
       "      <td>0</td>\n",
       "      <td>0</td>\n",
       "      <td>0</td>\n",
       "      <td>0</td>\n",
       "      <td>0</td>\n",
       "      <td>0</td>\n",
       "      <td>0</td>\n",
       "      <td>1</td>\n",
       "    </tr>\n",
       "    <tr>\n",
       "      <th>...</th>\n",
       "      <td>...</td>\n",
       "      <td>...</td>\n",
       "      <td>...</td>\n",
       "      <td>...</td>\n",
       "      <td>...</td>\n",
       "      <td>...</td>\n",
       "      <td>...</td>\n",
       "      <td>...</td>\n",
       "      <td>...</td>\n",
       "      <td>...</td>\n",
       "      <td>...</td>\n",
       "      <td>...</td>\n",
       "      <td>...</td>\n",
       "      <td>...</td>\n",
       "      <td>...</td>\n",
       "      <td>...</td>\n",
       "      <td>...</td>\n",
       "      <td>...</td>\n",
       "      <td>...</td>\n",
       "      <td>...</td>\n",
       "      <td>...</td>\n",
       "    </tr>\n",
       "    <tr>\n",
       "      <th>36270</th>\n",
       "      <td>3</td>\n",
       "      <td>0</td>\n",
       "      <td>2</td>\n",
       "      <td>6</td>\n",
       "      <td>0</td>\n",
       "      <td>85</td>\n",
       "      <td>2018</td>\n",
       "      <td>8</td>\n",
       "      <td>3</td>\n",
       "      <td>0</td>\n",
       "      <td>...</td>\n",
       "      <td>0</td>\n",
       "      <td>0</td>\n",
       "      <td>1</td>\n",
       "      <td>0</td>\n",
       "      <td>0</td>\n",
       "      <td>0</td>\n",
       "      <td>0</td>\n",
       "      <td>0</td>\n",
       "      <td>0</td>\n",
       "      <td>1</td>\n",
       "    </tr>\n",
       "    <tr>\n",
       "      <th>36271</th>\n",
       "      <td>2</td>\n",
       "      <td>0</td>\n",
       "      <td>1</td>\n",
       "      <td>3</td>\n",
       "      <td>0</td>\n",
       "      <td>228</td>\n",
       "      <td>2018</td>\n",
       "      <td>10</td>\n",
       "      <td>17</td>\n",
       "      <td>0</td>\n",
       "      <td>...</td>\n",
       "      <td>0</td>\n",
       "      <td>0</td>\n",
       "      <td>0</td>\n",
       "      <td>0</td>\n",
       "      <td>0</td>\n",
       "      <td>0</td>\n",
       "      <td>0</td>\n",
       "      <td>0</td>\n",
       "      <td>0</td>\n",
       "      <td>1</td>\n",
       "    </tr>\n",
       "    <tr>\n",
       "      <th>36272</th>\n",
       "      <td>2</td>\n",
       "      <td>0</td>\n",
       "      <td>2</td>\n",
       "      <td>6</td>\n",
       "      <td>0</td>\n",
       "      <td>148</td>\n",
       "      <td>2018</td>\n",
       "      <td>7</td>\n",
       "      <td>1</td>\n",
       "      <td>0</td>\n",
       "      <td>...</td>\n",
       "      <td>0</td>\n",
       "      <td>0</td>\n",
       "      <td>0</td>\n",
       "      <td>0</td>\n",
       "      <td>0</td>\n",
       "      <td>0</td>\n",
       "      <td>0</td>\n",
       "      <td>0</td>\n",
       "      <td>0</td>\n",
       "      <td>1</td>\n",
       "    </tr>\n",
       "    <tr>\n",
       "      <th>36273</th>\n",
       "      <td>2</td>\n",
       "      <td>0</td>\n",
       "      <td>0</td>\n",
       "      <td>3</td>\n",
       "      <td>0</td>\n",
       "      <td>63</td>\n",
       "      <td>2018</td>\n",
       "      <td>4</td>\n",
       "      <td>21</td>\n",
       "      <td>0</td>\n",
       "      <td>...</td>\n",
       "      <td>0</td>\n",
       "      <td>0</td>\n",
       "      <td>0</td>\n",
       "      <td>0</td>\n",
       "      <td>0</td>\n",
       "      <td>0</td>\n",
       "      <td>0</td>\n",
       "      <td>0</td>\n",
       "      <td>0</td>\n",
       "      <td>1</td>\n",
       "    </tr>\n",
       "    <tr>\n",
       "      <th>36274</th>\n",
       "      <td>2</td>\n",
       "      <td>0</td>\n",
       "      <td>1</td>\n",
       "      <td>2</td>\n",
       "      <td>0</td>\n",
       "      <td>207</td>\n",
       "      <td>2018</td>\n",
       "      <td>12</td>\n",
       "      <td>30</td>\n",
       "      <td>0</td>\n",
       "      <td>...</td>\n",
       "      <td>0</td>\n",
       "      <td>0</td>\n",
       "      <td>0</td>\n",
       "      <td>0</td>\n",
       "      <td>0</td>\n",
       "      <td>0</td>\n",
       "      <td>0</td>\n",
       "      <td>0</td>\n",
       "      <td>1</td>\n",
       "      <td>0</td>\n",
       "    </tr>\n",
       "  </tbody>\n",
       "</table>\n",
       "<p>36275 rows × 27 columns</p>\n",
       "</div>"
      ],
      "text/plain": [
       "       no_of_adults  no_of_children  no_of_weekend_nights  no_of_week_nights  \\\n",
       "0                 2               0                     1                  2   \n",
       "1                 2               0                     2                  3   \n",
       "2                 1               0                     2                  1   \n",
       "3                 2               0                     0                  2   \n",
       "4                 2               0                     1                  1   \n",
       "...             ...             ...                   ...                ...   \n",
       "36270             3               0                     2                  6   \n",
       "36271             2               0                     1                  3   \n",
       "36272             2               0                     2                  6   \n",
       "36273             2               0                     0                  3   \n",
       "36274             2               0                     1                  2   \n",
       "\n",
       "       required_car_parking_space  lead_time  arrival_year  arrival_month  \\\n",
       "0                               0        224          2017             10   \n",
       "1                               0          5          2018             11   \n",
       "2                               0          1          2018              2   \n",
       "3                               0        211          2018              5   \n",
       "4                               0         48          2018              4   \n",
       "...                           ...        ...           ...            ...   \n",
       "36270                           0         85          2018              8   \n",
       "36271                           0        228          2018             10   \n",
       "36272                           0        148          2018              7   \n",
       "36273                           0         63          2018              4   \n",
       "36274                           0        207          2018             12   \n",
       "\n",
       "       arrival_date  repeated_guest  ...  room_type_reserved_Room_Type 2  \\\n",
       "0                 2               0  ...                               0   \n",
       "1                 6               0  ...                               0   \n",
       "2                28               0  ...                               0   \n",
       "3                20               0  ...                               0   \n",
       "4                11               0  ...                               0   \n",
       "...             ...             ...  ...                             ...   \n",
       "36270             3               0  ...                               0   \n",
       "36271            17               0  ...                               0   \n",
       "36272             1               0  ...                               0   \n",
       "36273            21               0  ...                               0   \n",
       "36274            30               0  ...                               0   \n",
       "\n",
       "       room_type_reserved_Room_Type 3  room_type_reserved_Room_Type 4  \\\n",
       "0                                   0                               0   \n",
       "1                                   0                               0   \n",
       "2                                   0                               0   \n",
       "3                                   0                               0   \n",
       "4                                   0                               0   \n",
       "...                               ...                             ...   \n",
       "36270                               0                               1   \n",
       "36271                               0                               0   \n",
       "36272                               0                               0   \n",
       "36273                               0                               0   \n",
       "36274                               0                               0   \n",
       "\n",
       "       room_type_reserved_Room_Type 5  room_type_reserved_Room_Type 6  \\\n",
       "0                                   0                               0   \n",
       "1                                   0                               0   \n",
       "2                                   0                               0   \n",
       "3                                   0                               0   \n",
       "4                                   0                               0   \n",
       "...                               ...                             ...   \n",
       "36270                               0                               0   \n",
       "36271                               0                               0   \n",
       "36272                               0                               0   \n",
       "36273                               0                               0   \n",
       "36274                               0                               0   \n",
       "\n",
       "       room_type_reserved_Room_Type 7  market_segment_type_Complementary  \\\n",
       "0                                   0                                  0   \n",
       "1                                   0                                  0   \n",
       "2                                   0                                  0   \n",
       "3                                   0                                  0   \n",
       "4                                   0                                  0   \n",
       "...                               ...                                ...   \n",
       "36270                               0                                  0   \n",
       "36271                               0                                  0   \n",
       "36272                               0                                  0   \n",
       "36273                               0                                  0   \n",
       "36274                               0                                  0   \n",
       "\n",
       "       market_segment_type_Corporate  market_segment_type_Offline  \\\n",
       "0                                  0                            1   \n",
       "1                                  0                            0   \n",
       "2                                  0                            0   \n",
       "3                                  0                            0   \n",
       "4                                  0                            0   \n",
       "...                              ...                          ...   \n",
       "36270                              0                            0   \n",
       "36271                              0                            0   \n",
       "36272                              0                            0   \n",
       "36273                              0                            0   \n",
       "36274                              0                            1   \n",
       "\n",
       "       market_segment_type_Online  \n",
       "0                               0  \n",
       "1                               1  \n",
       "2                               1  \n",
       "3                               1  \n",
       "4                               1  \n",
       "...                           ...  \n",
       "36270                           1  \n",
       "36271                           1  \n",
       "36272                           1  \n",
       "36273                           1  \n",
       "36274                           0  \n",
       "\n",
       "[36275 rows x 27 columns]"
      ]
     },
     "execution_count": 64,
     "metadata": {},
     "output_type": "execute_result"
    }
   ],
   "source": [
    "#Creating dummy variables \n",
    "#drop_first=True is used to avoid redundant variables\n",
    "X = pd.get_dummies(X, drop_first=True)\n",
    "X"
   ]
  },
  {
   "cell_type": "code",
   "execution_count": 65,
   "id": "6188e71c",
   "metadata": {},
   "outputs": [
    {
     "data": {
      "text/plain": [
       "no_of_adults                               0.269065\n",
       "no_of_children                             0.155757\n",
       "no_of_weekend_nights                       0.758020\n",
       "no_of_week_nights                          1.990653\n",
       "required_car_parking_space                 0.030026\n",
       "lead_time                               7384.105259\n",
       "arrival_year                               0.147330\n",
       "arrival_month                              9.424252\n",
       "arrival_date                              76.395420\n",
       "repeated_guest                             0.024981\n",
       "no_of_previous_cancellations               0.135668\n",
       "no_of_previous_bookings_not_canceled       3.077115\n",
       "avg_price_per_room                      1226.172918\n",
       "no_of_special_requests                     0.618167\n",
       "type_of_meal_plan_Meal Plan 2              0.082811\n",
       "type_of_meal_plan_Meal Plan 3              0.000138\n",
       "type_of_meal_plan_Not Selected             0.121424\n",
       "room_type_reserved_Room_Type 2             0.018713\n",
       "room_type_reserved_Room_Type 3             0.000193\n",
       "room_type_reserved_Room_Type 4             0.139098\n",
       "room_type_reserved_Room_Type 5             0.007252\n",
       "room_type_reserved_Room_Type 6             0.025921\n",
       "room_type_reserved_Room_Type 7             0.004337\n",
       "market_segment_type_Complementary          0.010663\n",
       "market_segment_type_Corporate              0.052513\n",
       "market_segment_type_Offline                0.206001\n",
       "market_segment_type_Online                 0.230422\n",
       "dtype: float64"
      ]
     },
     "execution_count": 65,
     "metadata": {},
     "output_type": "execute_result"
    }
   ],
   "source": [
    "X.var()"
   ]
  },
  {
   "cell_type": "code",
   "execution_count": 66,
   "id": "7da2b461",
   "metadata": {},
   "outputs": [],
   "source": [
    "#Splitting the data into train and test sets\n",
    "X_train,X_test,y_train,y_test=train_test_split(X, Y, test_size=0.30, random_state=1)"
   ]
  },
  {
   "cell_type": "markdown",
   "id": "02cdeb70",
   "metadata": {},
   "source": [
    "## Building Classification Models"
   ]
  },
  {
   "cell_type": "markdown",
   "id": "42f0edd4",
   "metadata": {},
   "source": [
    "**Before training the model, let's choose the appropriate model evaluation criterion as per the problem on hand.**\n",
    "\n",
    "### Model evaluation criterion\n",
    "\n",
    "#### Model can make wrong predictions as:\n",
    "\n",
    "1. Predicting a customer will not cancel their booking but in reality, the customer will cancel their booking.\n",
    "2. Predicting a customer will cancel their booking but in reality, the customer will not cancel their booking. \n",
    "\n",
    "#### Which case is more important? \n",
    "* Both the cases are important as:\n",
    "\n",
    "* If we predict that a booking will not be canceled and the booking gets canceled then the hotel will lose resources and will have to bear additional costs of unsold rooms. The hotel might also have to bear an additional cost of advertising the room again on different distribution channels.\n",
    "\n",
    "* If we predict that a booking will get canceled and the booking doesn't get canceled the hotel might not be able to provide satisfactory services to the customer by assuming that this booking will be canceled. This might damage the brand equity. \n",
    "\n",
    "\n",
    "#### How to reduce the losses?\n",
    "\n",
    "* Hotel would want `F1 Score` to be maximized, greater the F1 score higher are the chances of minimizing False Negatives and False Positives. "
   ]
  },
  {
   "cell_type": "markdown",
   "id": "2819a52f",
   "metadata": {
    "id": "ruled-appointment"
   },
   "source": [
    "**Also, let's create a function to calculate and print the classification report and confusion matrix so that we don't have to rewrite the same code repeatedly for each model.**"
   ]
  },
  {
   "cell_type": "code",
   "execution_count": 67,
   "id": "bf53af3e",
   "metadata": {},
   "outputs": [],
   "source": [
    "#function to print classification report and get confusion matrix in a proper format\n",
    "\n",
    "def metrics_score(actual, predicted):\n",
    "    print(classification_report(actual, predicted))\n",
    "    cm = confusion_matrix(actual, predicted)\n",
    "    plt.figure(figsize=(8,5))\n",
    "    sns.heatmap(cm, annot=True,  fmt='.2f', xticklabels=['Not Canceled', 'Canceled'], yticklabels=['Not Canceled', 'Canceled'])\n",
    "    plt.ylabel('Actual')\n",
    "    plt.xlabel('Predicted')\n",
    "    plt.show()"
   ]
  },
  {
   "cell_type": "markdown",
   "id": "0a1be840",
   "metadata": {
    "id": "mysterious-sight"
   },
   "source": [
    "### Logistic Regression"
   ]
  },
  {
   "cell_type": "markdown",
   "id": "c95c1e0f",
   "metadata": {},
   "source": [
    "#### Question 4: Fit the logistic regression model on the train dataset using random_state=1 (2 Marks)"
   ]
  },
  {
   "cell_type": "code",
   "execution_count": 68,
   "id": "25cab3d7",
   "metadata": {
    "id": "plastic-logistics",
    "outputId": "472afe97-48ae-43c9-f971-52280fabb39d"
   },
   "outputs": [
    {
     "data": {
      "text/plain": [
       "LogisticRegression()"
      ]
     },
     "execution_count": 68,
     "metadata": {},
     "output_type": "execute_result"
    }
   ],
   "source": [
    "#define logistic regression model \n",
    "log_reg= LogisticRegression() #write your code here\n",
    "\n",
    "#fit the model\n",
    "#write you code here\n",
    "log_reg.fit(X_train,y_train)"
   ]
  },
  {
   "cell_type": "markdown",
   "id": "20289cbc",
   "metadata": {},
   "source": [
    "**Let's check the coefficient of each dependent variable in the data**"
   ]
  },
  {
   "cell_type": "markdown",
   "id": "c31d47ec",
   "metadata": {},
   "source": [
    "#### Question 5: Write your observations on the below coefficients obtained from the logistic regression model (3 Marks)"
   ]
  },
  {
   "cell_type": "code",
   "execution_count": 69,
   "id": "5e6d85eb",
   "metadata": {
    "id": "coordinate-superintendent",
    "outputId": "bd508087-3ace-4664-da2b-90ed282fb66d"
   },
   "outputs": [
    {
     "data": {
      "text/plain": [
       "market_segment_type_Online              0.623611\n",
       "type_of_meal_plan_Not Selected          0.321371\n",
       "no_of_weekend_nights                    0.180896\n",
       "avg_price_per_room                      0.019738\n",
       "lead_time                               0.015403\n",
       "no_of_adults                            0.011358\n",
       "no_of_week_nights                       0.006464\n",
       "arrival_date                            0.001394\n",
       "type_of_meal_plan_Meal Plan 3           0.000400\n",
       "room_type_reserved_Room_Type 3          0.000341\n",
       "arrival_year                           -0.001734\n",
       "room_type_reserved_Room_Type 2         -0.004282\n",
       "market_segment_type_Complementary      -0.008776\n",
       "room_type_reserved_Room_Type 5         -0.011121\n",
       "room_type_reserved_Room_Type 7         -0.017806\n",
       "no_of_previous_cancellations           -0.024664\n",
       "market_segment_type_Corporate          -0.031256\n",
       "room_type_reserved_Room_Type 4         -0.032722\n",
       "repeated_guest                         -0.043385\n",
       "room_type_reserved_Room_Type 6         -0.045565\n",
       "no_of_children                         -0.053813\n",
       "arrival_month                          -0.057372\n",
       "type_of_meal_plan_Meal Plan 2          -0.094236\n",
       "required_car_parking_space             -0.138991\n",
       "no_of_previous_bookings_not_canceled   -0.212218\n",
       "market_segment_type_Offline            -0.597823\n",
       "no_of_special_requests                 -1.549427\n",
       "dtype: float64"
      ]
     },
     "execution_count": 69,
     "metadata": {},
     "output_type": "execute_result"
    }
   ],
   "source": [
    "pd.Series(log_reg.coef_[0], index=X_train.columns).sort_values(ascending=False)"
   ]
  },
  {
   "cell_type": "markdown",
   "id": "9a8e352a",
   "metadata": {},
   "source": [
    "**Observations:\n",
    "\n",
    "Features which positively affect on the attrition rate are:\n",
    "\n",
    "market_segment_type_Online              \n",
    "type_of_meal_plan_Not Selected          \n",
    "no_of_weekend_nights                   \n",
    "avg_price_per_room                      \n",
    "lead_time                              \n",
    "no_of_adults                           \n",
    "no_of_week_nights                       \n",
    "arrival_date                            \n",
    "type_of_meal_plan_Meal Plan 3          \n",
    "room_type_reserved_Room_Type 3\n",
    "\n",
    "Features which negatively affect on the attrition rate are:\n",
    "\n",
    "arrival_year                           \n",
    "room_type_reserved_Room_Type 2         \n",
    "market_segment_type_Complementary      \n",
    "room_type_reserved_Room_Type 5         \n",
    "room_type_reserved_Room_Type 7         \n",
    "no_of_previous_cancellations           \n",
    "market_segment_type_Corporate          \n",
    "room_type_reserved_Room_Type 4         \n",
    "repeated_guest                         \n",
    "room_type_reserved_Room_Type 6         \n",
    "no_of_children                        \n",
    "arrival_month                          \n",
    "type_of_meal_plan_Meal Plan 2          \n",
    "required_car_parking_space             \n",
    "no_of_previous_bookings_not_canceled  \n",
    "market_segment_type_Offline            \n",
    "no_of_special_requests       \n",
    "\n",
    "1. Based on the model, market_segment_type is the most important feature in detecting whether an booking would be cancelled.\n",
    "2. This model also suggests that cancelation is dependent on if the booking has selected a meal plan. \n",
    "3. Number of previous bookings not canceled and booking made Offline, as well as number of special requests features being negatively correlated with cancellation implies that if a customer booked offline and previous bookings not canceled, has made some special requests the chances of cancellation might decrease. \n",
    "**"
   ]
  },
  {
   "cell_type": "markdown",
   "id": "cf2bdc13",
   "metadata": {},
   "source": [
    "#### Question 6: Write your interpretations of the odds calculated from the logistic regression model coefficients (3 Marks)"
   ]
  },
  {
   "cell_type": "code",
   "execution_count": 70,
   "id": "5d00ecab",
   "metadata": {},
   "outputs": [
    {
     "data": {
      "text/html": [
       "<div>\n",
       "<style scoped>\n",
       "    .dataframe tbody tr th:only-of-type {\n",
       "        vertical-align: middle;\n",
       "    }\n",
       "\n",
       "    .dataframe tbody tr th {\n",
       "        vertical-align: top;\n",
       "    }\n",
       "\n",
       "    .dataframe thead th {\n",
       "        text-align: right;\n",
       "    }\n",
       "</style>\n",
       "<table border=\"1\" class=\"dataframe\">\n",
       "  <thead>\n",
       "    <tr style=\"text-align: right;\">\n",
       "      <th></th>\n",
       "      <th>odds</th>\n",
       "    </tr>\n",
       "  </thead>\n",
       "  <tbody>\n",
       "    <tr>\n",
       "      <th>market_segment_type_Online</th>\n",
       "      <td>1.865653</td>\n",
       "    </tr>\n",
       "    <tr>\n",
       "      <th>type_of_meal_plan_Not Selected</th>\n",
       "      <td>1.379017</td>\n",
       "    </tr>\n",
       "    <tr>\n",
       "      <th>no_of_weekend_nights</th>\n",
       "      <td>1.198290</td>\n",
       "    </tr>\n",
       "    <tr>\n",
       "      <th>avg_price_per_room</th>\n",
       "      <td>1.019934</td>\n",
       "    </tr>\n",
       "    <tr>\n",
       "      <th>lead_time</th>\n",
       "      <td>1.015522</td>\n",
       "    </tr>\n",
       "    <tr>\n",
       "      <th>no_of_adults</th>\n",
       "      <td>1.011423</td>\n",
       "    </tr>\n",
       "    <tr>\n",
       "      <th>no_of_week_nights</th>\n",
       "      <td>1.006485</td>\n",
       "    </tr>\n",
       "    <tr>\n",
       "      <th>arrival_date</th>\n",
       "      <td>1.001395</td>\n",
       "    </tr>\n",
       "    <tr>\n",
       "      <th>type_of_meal_plan_Meal Plan 3</th>\n",
       "      <td>1.000400</td>\n",
       "    </tr>\n",
       "    <tr>\n",
       "      <th>room_type_reserved_Room_Type 3</th>\n",
       "      <td>1.000341</td>\n",
       "    </tr>\n",
       "    <tr>\n",
       "      <th>arrival_year</th>\n",
       "      <td>0.998268</td>\n",
       "    </tr>\n",
       "    <tr>\n",
       "      <th>room_type_reserved_Room_Type 2</th>\n",
       "      <td>0.995727</td>\n",
       "    </tr>\n",
       "    <tr>\n",
       "      <th>market_segment_type_Complementary</th>\n",
       "      <td>0.991262</td>\n",
       "    </tr>\n",
       "    <tr>\n",
       "      <th>room_type_reserved_Room_Type 5</th>\n",
       "      <td>0.988940</td>\n",
       "    </tr>\n",
       "    <tr>\n",
       "      <th>room_type_reserved_Room_Type 7</th>\n",
       "      <td>0.982351</td>\n",
       "    </tr>\n",
       "    <tr>\n",
       "      <th>no_of_previous_cancellations</th>\n",
       "      <td>0.975637</td>\n",
       "    </tr>\n",
       "    <tr>\n",
       "      <th>market_segment_type_Corporate</th>\n",
       "      <td>0.969227</td>\n",
       "    </tr>\n",
       "    <tr>\n",
       "      <th>room_type_reserved_Room_Type 4</th>\n",
       "      <td>0.967807</td>\n",
       "    </tr>\n",
       "    <tr>\n",
       "      <th>repeated_guest</th>\n",
       "      <td>0.957543</td>\n",
       "    </tr>\n",
       "    <tr>\n",
       "      <th>room_type_reserved_Room_Type 6</th>\n",
       "      <td>0.955457</td>\n",
       "    </tr>\n",
       "    <tr>\n",
       "      <th>no_of_children</th>\n",
       "      <td>0.947609</td>\n",
       "    </tr>\n",
       "    <tr>\n",
       "      <th>arrival_month</th>\n",
       "      <td>0.944243</td>\n",
       "    </tr>\n",
       "    <tr>\n",
       "      <th>type_of_meal_plan_Meal Plan 2</th>\n",
       "      <td>0.910068</td>\n",
       "    </tr>\n",
       "    <tr>\n",
       "      <th>required_car_parking_space</th>\n",
       "      <td>0.870236</td>\n",
       "    </tr>\n",
       "    <tr>\n",
       "      <th>no_of_previous_bookings_not_canceled</th>\n",
       "      <td>0.808789</td>\n",
       "    </tr>\n",
       "    <tr>\n",
       "      <th>market_segment_type_Offline</th>\n",
       "      <td>0.550008</td>\n",
       "    </tr>\n",
       "    <tr>\n",
       "      <th>no_of_special_requests</th>\n",
       "      <td>0.212370</td>\n",
       "    </tr>\n",
       "  </tbody>\n",
       "</table>\n",
       "</div>"
      ],
      "text/plain": [
       "                                          odds\n",
       "market_segment_type_Online            1.865653\n",
       "type_of_meal_plan_Not Selected        1.379017\n",
       "no_of_weekend_nights                  1.198290\n",
       "avg_price_per_room                    1.019934\n",
       "lead_time                             1.015522\n",
       "no_of_adults                          1.011423\n",
       "no_of_week_nights                     1.006485\n",
       "arrival_date                          1.001395\n",
       "type_of_meal_plan_Meal Plan 3         1.000400\n",
       "room_type_reserved_Room_Type 3        1.000341\n",
       "arrival_year                          0.998268\n",
       "room_type_reserved_Room_Type 2        0.995727\n",
       "market_segment_type_Complementary     0.991262\n",
       "room_type_reserved_Room_Type 5        0.988940\n",
       "room_type_reserved_Room_Type 7        0.982351\n",
       "no_of_previous_cancellations          0.975637\n",
       "market_segment_type_Corporate         0.969227\n",
       "room_type_reserved_Room_Type 4        0.967807\n",
       "repeated_guest                        0.957543\n",
       "room_type_reserved_Room_Type 6        0.955457\n",
       "no_of_children                        0.947609\n",
       "arrival_month                         0.944243\n",
       "type_of_meal_plan_Meal Plan 2         0.910068\n",
       "required_car_parking_space            0.870236\n",
       "no_of_previous_bookings_not_canceled  0.808789\n",
       "market_segment_type_Offline           0.550008\n",
       "no_of_special_requests                0.212370"
      ]
     },
     "execution_count": 70,
     "metadata": {},
     "output_type": "execute_result"
    }
   ],
   "source": [
    "odds = np.exp(log_reg.coef_[0]) #finding the odds\n",
    "\n",
    "# adding the odds to a dataframe and sorting the values\n",
    "pd.DataFrame(odds, X_train.columns, columns=['odds']).sort_values(by='odds', ascending=False) "
   ]
  },
  {
   "cell_type": "markdown",
   "id": "7562447d",
   "metadata": {},
   "source": [
    "**Observations:\n",
    "\n",
    "1. The odds of booking cancelation from booking online is almost 4 times the odds of booking offline. \n",
    "2. The odds of booking cancelation from a reservation without selecting a meal plan is around 30% more the odds of selecting meal plan 2 and 3.\n",
    "3. The odds of Room Type 3 reservation cancelation is silghtly higher than the odds of other room types.\n",
    "\n",
    "**"
   ]
  },
  {
   "cell_type": "markdown",
   "id": "e43f1ff2",
   "metadata": {},
   "source": [
    "**Now, let's check the performance of the model on the training set**"
   ]
  },
  {
   "cell_type": "markdown",
   "id": "82e85e50",
   "metadata": {},
   "source": [
    "#### Question 7: Check the performance on the training data and write your observations from the classification report and confusion matrix for the training set (3 Marks)"
   ]
  },
  {
   "cell_type": "code",
   "execution_count": 71,
   "id": "1eca7eba",
   "metadata": {},
   "outputs": [
    {
     "name": "stdout",
     "output_type": "stream",
     "text": [
      "              precision    recall  f1-score   support\n",
      "\n",
      "           0       0.82      0.89      0.86     17029\n",
      "           1       0.74      0.61      0.67      8363\n",
      "\n",
      "    accuracy                           0.80     25392\n",
      "   macro avg       0.78      0.75      0.76     25392\n",
      "weighted avg       0.80      0.80      0.79     25392\n",
      "\n"
     ]
    },
    {
     "data": {
      "image/png": "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\n",
      "text/plain": [
       "<Figure size 576x360 with 2 Axes>"
      ]
     },
     "metadata": {
      "needs_background": "light"
     },
     "output_type": "display_data"
    }
   ],
   "source": [
    "# Checking performance on the training data\n",
    "\n",
    "y_pred_train = log_reg.predict(X_train)\n",
    "metrics_score(y_train, y_pred_train)\n"
   ]
  },
  {
   "cell_type": "markdown",
   "id": "a8c59a77",
   "metadata": {},
   "source": [
    "**Reading confusion matrix (clockwise):**\n",
    "\n",
    "- **True Positive**: Predicting the customer will not cancel the booking and the customer does not cancel the booking\n",
    "- **False Negative**: Predicting the customer will cancel the booking but the customer does not cancel the booking\n",
    "- **True Negative**: Predicting the customer will cancel the booking and the customer cancels the booking\n",
    "- **False Positive**: Predicting the customer will not cancel the booking but the customer cancels the booking"
   ]
  },
  {
   "cell_type": "markdown",
   "id": "d64332ff",
   "metadata": {},
   "source": [
    "**Observations:\n",
    "\n",
    "\n",
    "Correctly classified: 80%\n",
    "Canceled bookings correctly classified: 82%\n",
    "Not canceled bookings correctly classified: 74%\n",
    "Bookings predicted canceled that are actually canceled: 89%\n",
    "Bookings predicted not canceled that are actually not canceled: 61%\n",
    "\n",
    "Looking at the confusion matrix, we see that there are 1081 bookings that our model predicted to be canceled that were not actually canceled. This means that in ~7% of the cases, a guest may arrive and the hotel may not be ready for them or the hotel may risk overbooking if they were looking for a replacement guest.\n",
    "In addition, there are 3269 bookings that our model predicted to be not canceled that were in fact canceled. This means that in ~13% of cases, the hotel may be allocating their resources on the wrong reservations (getting a room ready that doesn't need to be or missing an opportunity to look for a replacement guest).\n",
    "\n",
    "We are getting an accuracy of around 80% on train dataset; The average recall and precision for the model are good. \n",
    "\n",
    "The recall for class 1 is quite low, which implies that this model will not perform well in differentiating out the bookings which have a high chance of cancelling. \n",
    "\n",
    "The logistic regression model does not provide predictive power as high as we would like: A recall of ~0.80 suggests that there is a 20% (1 - 0.8) chance that the model will predict that a booking is going to cancel even though it would not, and the hotel might not be able to provide satisfactory services to the customer by assuming that this booking will be canceled . \n",
    "\n",
    "\n",
    "\n",
    "**"
   ]
  },
  {
   "cell_type": "markdown",
   "id": "076af391",
   "metadata": {},
   "source": [
    "**Precision-Recall Curve for Logistic Regression**"
   ]
  },
  {
   "cell_type": "code",
   "execution_count": 72,
   "id": "72a16d37",
   "metadata": {},
   "outputs": [
    {
     "data": {
      "image/png": "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\n",
      "text/plain": [
       "<Figure size 720x504 with 1 Axes>"
      ]
     },
     "metadata": {
      "needs_background": "light"
     },
     "output_type": "display_data"
    }
   ],
   "source": [
    "y_scores=log_reg.predict_proba(X_train) #predict_proba gives the probability of each observation belonging to each class\n",
    "\n",
    "\n",
    "precisions, recalls, thresholds = precision_recall_curve(y_train, y_scores[:,1])\n",
    "\n",
    "#Plot values of precisions, recalls, and thresholds\n",
    "plt.figure(figsize=(10,7))\n",
    "plt.plot(thresholds, precisions[:-1], 'b--', label='precision')\n",
    "plt.plot(thresholds, recalls[:-1], 'g--', label = 'recall')\n",
    "plt.xlabel('Threshold')\n",
    "plt.legend(loc='upper left')\n",
    "plt.ylim([0,1])\n",
    "plt.show()"
   ]
  },
  {
   "cell_type": "markdown",
   "id": "118f0bfd",
   "metadata": {},
   "source": [
    "**Observations:**\n",
    "- We can see that **precision and recall are balanced for the threshold of about 0.4.**\n",
    "- Let's try to calculate the exact threshold where precision and recall are equal."
   ]
  },
  {
   "cell_type": "code",
   "execution_count": 73,
   "id": "2655ba22",
   "metadata": {},
   "outputs": [],
   "source": [
    "#calculating the exact threshold where precision and recall are equal.\n",
    "for i in np.arange(len(thresholds)):\n",
    "    if precisions[i]==recalls[i]:\n",
    "        print(thresholds[i])\n",
    "  "
   ]
  },
  {
   "cell_type": "markdown",
   "id": "23fc7b97",
   "metadata": {},
   "source": [
    "- The threshold of 0.42 would give a balanced precision and recall."
   ]
  },
  {
   "cell_type": "markdown",
   "id": "8a132149",
   "metadata": {},
   "source": [
    "#### Question 8: Compare the performance of the model on training and testing sets after changing the threshold (2 Marks)"
   ]
  },
  {
   "cell_type": "code",
   "execution_count": 64,
   "id": "4ada6c71",
   "metadata": {},
   "outputs": [
    {
     "name": "stdout",
     "output_type": "stream",
     "text": [
      "              precision    recall  f1-score   support\n",
      "\n",
      "           0       0.84      0.84      0.84     17029\n",
      "           1       0.68      0.68      0.68      8363\n",
      "\n",
      "    accuracy                           0.79     25392\n",
      "   macro avg       0.76      0.76      0.76     25392\n",
      "weighted avg       0.79      0.79      0.79     25392\n",
      "\n"
     ]
    },
    {
     "data": {
      "image/png": "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\n",
      "text/plain": [
       "<Figure size 576x360 with 2 Axes>"
      ]
     },
     "metadata": {
      "needs_background": "light"
     },
     "output_type": "display_data"
    }
   ],
   "source": [
    "optimal_threshold1 = 0.42\n",
    "metrics_score(y_train, y_scores[:,1]>optimal_threshold1)"
   ]
  },
  {
   "cell_type": "markdown",
   "id": "564a77b1",
   "metadata": {},
   "source": [
    "**Let's check the performance of the model on the test data**"
   ]
  },
  {
   "cell_type": "code",
   "execution_count": 36,
   "id": "2070f2ac",
   "metadata": {},
   "outputs": [
    {
     "name": "stdout",
     "output_type": "stream",
     "text": [
      "              precision    recall  f1-score   support\n",
      "\n",
      "           0       0.85      0.85      0.85      7361\n",
      "           1       0.68      0.68      0.68      3522\n",
      "\n",
      "    accuracy                           0.79     10883\n",
      "   macro avg       0.77      0.77      0.77     10883\n",
      "weighted avg       0.79      0.79      0.79     10883\n",
      "\n"
     ]
    },
    {
     "data": {
      "image/png": "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\n",
      "text/plain": [
       "<Figure size 576x360 with 2 Axes>"
      ]
     },
     "metadata": {
      "needs_background": "light"
     },
     "output_type": "display_data"
    }
   ],
   "source": [
    "#Checking performance on the testing data\n",
    "y_pred_test = log_reg.predict_proba(X_test)\n",
    "metrics_score(y_test, y_pred_test[:,1]>optimal_threshold1)"
   ]
  },
  {
   "cell_type": "markdown",
   "id": "6bddc8da",
   "metadata": {},
   "source": [
    "**Observations:\n",
    "\n",
    "We are getting an accuracy of around 84% on train and test dataset.\n",
    "However, the recall for this model is only around 59% for class 1 on train and 66% on test.\n",
    "As the recall is low, this model will not perform well in differentiating out those bookings which have a high chance of canceling.\n",
    "\n",
    "As we can see from the Confusion Matrix, this model fails to identify the many bookings that are at risk of cancelling. \n",
    "\n",
    "\n",
    "**"
   ]
  },
  {
   "cell_type": "markdown",
   "id": "67770fb2",
   "metadata": {},
   "source": [
    "### K - Nearest Neighbors (KNN)"
   ]
  },
  {
   "cell_type": "markdown",
   "id": "f41bd0f4",
   "metadata": {
    "id": "-UbHz9RuDPzc"
   },
   "source": [
    "- KNN is a distance based algorithm and all distance based algorithms are affected by the scale of the data.\n",
    "- We will scale the attributes (dataframe X defined above) before building the KNN model.\n",
    "- Then We need to identify the value of K to be used in KNN. We will use **GridSearchCV** to find the optimal value of K along with other hyperparameters."
   ]
  },
  {
   "cell_type": "code",
   "execution_count": 37,
   "id": "c67866b5",
   "metadata": {
    "id": "vbm0fsfIDPzk"
   },
   "outputs": [],
   "source": [
    "# scaling the data\n",
    "scaler=StandardScaler()\n",
    "X_train_scaled=pd.DataFrame(scaler.fit_transform(X_train), columns=X_train.columns)  #fit_transform the training data\n",
    "X_test_scaled=pd.DataFrame(scaler.transform(X_test), columns=X_test.columns) #transform the testing data"
   ]
  },
  {
   "cell_type": "markdown",
   "id": "58ac1205",
   "metadata": {},
   "source": [
    "### Using GridSearchCV for find the value of K and hyperparameter tuning"
   ]
  },
  {
   "cell_type": "markdown",
   "id": "a87298a3",
   "metadata": {},
   "source": [
    "**Points to note:**\n",
    "\n",
    "* Hyperparameter tuning is tricky in the sense that there is no direct way to calculate how a change in the hyperparameter value will reduce the loss of your model, so we usually resort to experimentation.\n",
    "* **Grid search** is a tuning technique that attempts to compute the optimum values of hyperparameters. \n",
    "* Grid search is an exhaustive search of values that tries many iterations to compute the optimum values of hyperparameters. So, **it might take up to 30 minutes for the code to run depending on the number of values and hyperparameters passed.**  \n",
    "* The hyperparameters that we are tuning are:\n",
    "\n",
    "    - **n_neighbors**: Number of neighbors to use.\n",
    "\n",
    "    - **weights={'uniform', 'distance'}**\n",
    "        - uniform : uniform weights. All points in each neighborhood are weighted equally.\n",
    "        - distance : weight points by the inverse of their distance. In this case, closer neighbors of a query point will have a greater influence than neighbors that are further away.\n",
    "\n",
    "    - **p**: When p = 1, this is equivalent to using Manhattan_distance (L1), and Euclidean_distance (L2) is used for p = 2."
   ]
  },
  {
   "cell_type": "code",
   "execution_count": 38,
   "id": "80029eb8",
   "metadata": {},
   "outputs": [
    {
     "name": "stdout",
     "output_type": "stream",
     "text": [
      "KNeighborsClassifier(n_neighbors=14, p=1, weights='distance')\n"
     ]
    }
   ],
   "source": [
    "knn = KNeighborsClassifier()\n",
    "\n",
    "params_knn = {'n_neighbors':np.arange(2,20,2), 'weights':['uniform','distance'], 'p':[1,2]}\n",
    "\n",
    "grid_knn = GridSearchCV(estimator=knn, param_grid=params_knn, scoring='f1', cv=10)\n",
    "\n",
    "model_knn=grid_knn.fit(X_train_scaled,y_train)\n",
    "\n",
    "knn_estimator = model_knn.best_estimator_\n",
    "print(knn_estimator)"
   ]
  },
  {
   "cell_type": "markdown",
   "id": "b3d19a5b",
   "metadata": {},
   "source": [
    "#### Question 9: \n",
    "\n",
    "- **Fit the KNN model on the scaled training data using the optimal values of hyperparameters obtained from GridSearchCV (1 mark)**\n",
    "- **Check the performance of the model on the scaled training and testing sets (2 Marks)**\n",
    "- **Compare the performance and write your observations (1 Marks)**"
   ]
  },
  {
   "cell_type": "code",
   "execution_count": 91,
   "id": "64940cec",
   "metadata": {},
   "outputs": [
    {
     "data": {
      "text/plain": [
       "KNeighborsClassifier(n_neighbors=14, p=1, weights='distance')"
      ]
     },
     "execution_count": 91,
     "metadata": {},
     "output_type": "execute_result"
    }
   ],
   "source": [
    "#Fit the KNN model on the scaled training data\n",
    "knn_estimator.fit(X_train_scaled, y_train)"
   ]
  },
  {
   "cell_type": "code",
   "execution_count": 92,
   "id": "1146aa1b",
   "metadata": {},
   "outputs": [
    {
     "name": "stdout",
     "output_type": "stream",
     "text": [
      "              precision    recall  f1-score   support\n",
      "\n",
      "           0       0.99      1.00      1.00     17029\n",
      "           1       1.00      0.99      0.99      8363\n",
      "\n",
      "    accuracy                           0.99     25392\n",
      "   macro avg       0.99      0.99      0.99     25392\n",
      "weighted avg       0.99      0.99      0.99     25392\n",
      "\n"
     ]
    },
    {
     "data": {
      "image/png": "iVBORw0KGgoAAAANSUhEUgAAAd0AAAE9CAYAAABOebjsAAAAOXRFWHRTb2Z0d2FyZQBNYXRwbG90bGliIHZlcnNpb24zLjMuNCwgaHR0cHM6Ly9tYXRwbG90bGliLm9yZy8QVMy6AAAACXBIWXMAAAsTAAALEwEAmpwYAAAv3ElEQVR4nO3deZwU1bnG8d/DIAgqm4BsRlAxbnEFL8YN44ZGAY0LuS4kekM0JBoTo/HGXE3UxD3RqBhcgRgFdzSiKLgmbigqglFRjI6sigtuIMx7/6gabIaelalu236++dRnut+qU6faNPPOOXXqHEUEZmZmlr0Wxb4AMzOzcuGka2ZmViBOumZmZgXipGtmZlYgTrpmZmYF4qRrZmZWIC2LfQG1+eLdN/wsk5W8Nj12K/YlmDWL5cveUVbnbsrv+7U6b5zZ9WTJLV0zM7MC+cq2dM3MrExUrSj2FRSMk66ZmRVXVBX7CgrGSdfMzIqryknXzMysIMItXTMzswJxS9fMzKxA3NI1MzMrEI9eNjMzKxC3dM3MzArE93TNzMwKo5xGL3saSDMzK66qqsZv9ZB0naSFkl6qEf+ZpFckzZR0QU78dEmz03375cR3lDQj3XeZJKXx1pLGp/GnJPVuyEd10jUzs+KKqsZv9bsBGJQbkLQnMATYJiK2Ai5K41sCw4Ct0jJXSqpIi40CRgB90636nMcB70fEpsCfgPMbclFOumZmVlxVKxq/1SMiHgUW1wifAJwXEUvTYxam8SHAzRGxNCLmALOBnSR1B9pFxBMREcBYYGhOmTHp61uBvapbwXVx0jUzs+LKpqWbz2bAbml38COS+qfxnsDbOcdVprGe6eua8VXKRMRy4ENg/fouwAOpzMysuJowelnSCJJu32qjI2J0PcVaAh2BAUB/YIKkjYF8LdSoI049++q8ADMzs+JpQss1TbD1JdmaKoHb067ipyVVAZ3T+IY5x/UC5qbxXnni5JSplNQSaM/q3dmrcfeymZmVizuB7wBI2gxoBbwLTASGpSOS+5AMmHo6IuYBSyQNSO/XHgPclZ5rIjA8fX0oMDVN5nVyS9fMzIorg8kxJN0EDAQ6S6oEzgSuA65LHyNaBgxPE+VMSROAWcByYGREVI/WOoFkJHQbYFK6AVwLjJM0m6SFO6xB19WAxFwUX7z7xlfzwswaoU2P3Yp9CWbNYvmyd+odmdtUn79wb6N/36+97QGZXU+W3NI1M7PiKqMZqZx0zcysuDz3spmZWYG4pWtmZlYgXk/XzMysQNzSNTMzKxDf0zUzMysQt3TNzMwKxC1dMzOzAnHSNTMzK4wvZ1z8+nPSNTOz4nJL18zMrEA8kMrMzKxA3NI1MzMrkDJq6XoRezMzswJxS9fMzIrL3ctmZmYFUkbdy066ZmZWXG7pmpmZFYiTrpmZWYG4e9nMzKxA3NI1MzMrELd0zczMCqSMWrqeHMPMzIorqhq/1UPSdZIWSnopz75TJIWkzjmx0yXNlvSKpP1y4jtKmpHuu0yS0nhrSePT+FOSejfkozrpmplZcVVVNX6r3w3AoJpBSRsC+wBv5cS2BIYBW6VlrpRUke4eBYwA+qZb9TmPA96PiE2BPwHnN+SinHTNzKy4Mki6EfEosDjPrj8BpwKRExsC3BwRSyNiDjAb2ElSd6BdRDwREQGMBYbmlBmTvr4V2Ku6FVwXJ10zMyuuiMZvTSBpMPBORLxQY1dP4O2c95VprGf6umZ8lTIRsRz4EFi/vmvwQCozMyuuJgykkjSCpNu32uiIGF3H8W2B3wD75tudJxZ1xOsqUycnXTMzK64mJN00wdaaZPPYBOgDvJD2AvcCnpO0E0kLdsOcY3sBc9N4rzxxcspUSmoJtCd/d/Yq3L1sZmbFlcHo5dWqiJgREV0jondE9CZJmjtExHxgIjAsHZHch2TA1NMRMQ9YImlAer/2GOCu9JQTgeHp60OBqel93zq5pWtmZsWVwXO6km4CBgKdJVUCZ0bEtfmOjYiZkiYAs4DlwMiIWJHuPoFkJHQbYFK6AVwLjJM0m6SFO6wh1+Wka2ZmXzsR8f169veu8f5c4Nw8x00Dts4T/xw4rLHX5aRrZmbF1cTRyKXISdfMzIqrjKaBdNI1M7PictI1MzMrEK8yZGZmVhhR5Xu6ZmZmheHuZTMzswJx97KZmVmBuHvZzMysQNy9bGZmViBOuvZVcsYfLuHRfz5Np44duPNvVwHwy9/+kTffSpZ5XPLxx6y37rrcNuYKAK4eO57b77mfihYtOP3kE9jlv3YEYOa/X+OMcy/h86VL2W3n/pz+8+ORxJibb+e2u++joqKCTh3ac/b/nkyPbhusdh21lV+2bBmnn30xs155jQ7t23HR70+nZ/fVy5vVp1evHtxw3aVs0K0LVVVVXHPNjfzl8mv5+42j2GyzTQDo0L4dH3z4Ef36r75C2377DuSSS35PRYsWXHf9TVxwYfJvomPHDtx04yg22mhD/vOftxn238fzwQcfFvSzWR3KaEYqrzJUAoYesA9XXXLOKrGLzz6d28ZcwW1jrmCfgbuy9x7fBuD1Of9h0pRHuOtvV3HVJedw9kWXs2JFMm/32Rddzpmnnci946/lrcq5PP7kNAC26LsJ46+9jDvGjmKfPXfl4iuuy3sdtZW//Z7JtFtvXSZNuI6jjxjKJVfmL29Wn+XLl/OrU3/Ht7YZyC67HsQJJ/yALbboy38feQL9+u9Lv/77cscd93LnnfeuVrZFixZcdum5HHjQUXxr2z054oihbLFFXwBOO3UkUx96nC222pWpDz3OaaeOLPRHs7pUVTV+K1FOuiWg33bfon279fLuiwjum/ooB+wzEICpjz3J/nvtQatWrejVoxvf6NWDGS+/yqJ3F/PJJ5+y3dZbIInBg/Zi6mNPALDTjtvSZu21Adh2q81ZsOjd1eqpq/zUx55gyAF7A7DvwN146tnnacAKV2armT9/IdOffwmAjz/+hH//+zV69ui2yjGHHnoQN4+/a7WyO/Xfntdff5M5c97iiy++YMKEuxh80H4AHHTQfowddwsAY8fdwuDBgzL+JNYoVdH4rUQ1e/eypCVArf9FIqJdc9dZzp594SXW79iRjTbsCcDCRe+xzdabr9y/QdfOLFz0Li0rKtiga+cv4106s2DRe6ud7/a7J7PbgH6rxRcserfW8gsXvUe3dF/LlhWsu05bPvjwIzp2aN88H9LK0kYb9WK7bbfmqaenr4zttut/sWDhImbPnrPa8T16duPtyrkr31e+M4+d+m8PJP8O5s9fCCSJvWuX9TO+emsUPzLUdBGxHoCk3wPzgXGAgCOB/M01a7J7H3iYA/bZY+X7yPP3jlD+uFZ9f/f9U5n571e54YoLVju2rvL5WrWqeXKzRlhnnbZMGH81vzjlTJYs+Xhl/IgjhjI+TysX8n/n3ONSIkq45dpYWXYv7xcRV0bEkoj4KCJGAd+rq4CkEZKmSZp2zdibMry0r4fly1fw4CP/YtBeu6+MbdClM/MXLFr5fsHCd+nSZX26denCgoVfdhsvWPQuXTt/+df+E89MZ/SYm/nLBWfRqlWr1eqqq/wGXTszP923fPkKPv7k01q7w83q07JlS24ZfzU33XQHd945aWW8oqKCg4fuz4RbJuYt907lPDbs1WPl+149uzNv3gIg+XfQrVtXALp168rCPL08VjxRVdXorVRlmXRXSDpSUoWkFpKOBFbUVSAiRkdEv4jo9z/H1Ln+sAFPTpvOxhv1olvXLitje+46gElTHmHZsmVUzp3PW5Vz+dYWm9Glcyfatm3DCy+9TEQw8b4p7LnrAABefnU2v7vgMi4//0zW79ghb111ld9z1wHcde+DAEx++DH+a8dt3dK1Jrt69MW8/O/Z/PnS0avE995rN155ZTbvvDMvb7lnpj3Pppv2oXfvDVlrrbU4/PAh3H3PZADuuXsyxxydrDd+zNGHcffd92f7IcxqkWXS/W/gcGBBuh2WxqyRfnXmeRz545N5861K9hp6FLelvzAmPfgI++89cJVjN914I/b7zm4MPvLHHP+LM/jNL35CRUUFAL895aeced6l7H/4sWzYozu77dwfgIuvuJZPP/ucX5zxB743fCQ/PfWslef73vAvR3nWVv6QA/fjw48+Yv/Dj2XszXfw8+N/mOF/Dfs62+Xb/Tn6qEPZc89vM+2ZyUx7ZjL7D/oOAIcfPmS1AVTdu2/A3XeNBWDFihWc9PMzuPcff+elFx/m1lvvZtasVwE4/8Ir2Huv3Xl55uPsvdfunH/BFYX9YFa3MhpIpa/qPY8v3n3jq3lhZo3Qpsduxb4Es2axfNk7mXVffXLOUY3+fb/OGX8rye60zFq6kjaTNEXSS+n7bSSdkVV9ZmZWosqopZtl9/LVwOnAFwAR8SIwLMP6zMysFJXR5BhZTgPZNiKerjGgZnmG9ZmZWSkq4ZZrY2WZdN+VtAnpRBmSDgXyDzs0M7PyVUaTY2TZvTwS+CuwuaR3gJ8DJ2RYn5mZlaIM7ulKuk7SwupxRWnsQkn/lvSipDskdcjZd7qk2ZJekbRfTnxHSTPSfZcp7b6V1FrS+DT+lKTeDfmomSXdiHgjIvYGugCbR8SuEfFmVvWZmVlpymhyjBuAmpNsPwBsHRHbAK+SjDtC0pYkY462SstcKakiLTMKGAH0Tbfqcx4HvB8RmwJ/As5vyEVlMffyL2qJAxARlzR3nWZmVsIyuKcbEY/WbH1GxOSct08Ch6avhwA3R8RSYI6k2cBOkt4E2kXEEwCSxgJDgUlpmbPS8rcCl0tS1PMcbhb3dD3/n5mZNVxxBlIdC4xPX/ckScLVKtPYF+nrmvHqMm8DRMRySR8C6wOrL9OWI4sFD37X3Oc0M7OvsSYMpJI0gqTbt9roiBhd2/E1yv6G5GmaG6tD+a6qjnhdZeqU2ehlSZuR9IVvEBFbS9oGGBwR59RT1MzMykkTWrppgm1Qks0laThwILBXTldwJbBhzmG9gLlpvFeeeG6ZSkktgfbA4vrq9+QYZmZWVFEVjd6aQtIg4DSSBuCnObsmAsPSEcl9SAZMPR0R84Alkgako5aPAe7KKTM8fX0oMLW++7ngyTHMzKzYMrinK+kmYCDQWVIlcCZJQ7A18ECam56MiOMjYqakCcAskjw1MiKqV8U7gWQkdBuSAVTV601eC4xLB10tpoGNSk+OYWZmxZXBtI4RkW992GvrOP5c4Nw88WnA1nnin5OsntcoWSbdkST97dWTY8wBjsqwPjMzK0WeBnLNRcQbwN6S1gFaRMSSrOoyM7MSVkZJN8ul/f4gqUNEfBIRSyR1lOSRy2ZmVrayHL28f0R8UP0mIt4HDsiwPjMzK0ER0eitVGV5T7dCUut0Wi0ktSEZNWZmZvalMupezjLp/g2YIul6khHMxwJjMqzPzMxKkZPumouICyTNAPYimS7r7Ii4P6v6zMysNDV1sotSlGVLl4jIfZDYzMxsdWWUdLMcvXyIpNckfSjpI0lLJH2UVX1mZlaiqpqwlagsW7oXAAdFxMsZ1mFmZiXO3cvNY4ETrpmZ1ctJt1lMkzQeuBNYWh2MiNszrNPMzEpNCXcXN1aWSbcd8Cmwb04sACddMzNbyd3LzSAifpjVuc3M7GvELd01J2lt4DhgK2Dt6nhEHJtVnWZmVnrKqaWb5dzL44BuwH7AI0AvwCsNmZnZqsrokaEsk+6mEfFb4JOIGAN8F/hWhvWZmVkJiqrGb6Uqy4FUX6Q/P5C0NTAf6J1hfWZmVopKOIk2VpZJd7SkjsAZwERgXeD/MqzPzMxKUCm3XBsry9HL16QvHwU2zqoeMzOzUtHsSVfSL4API+LaGvGfARUR8efmrtPMzEqYW7pr5Fhghzzx0cAzwJ8zqNPMzEqUu5fXTETEsjzBpZKUQX1mZlbCyinpZvLIkKQNGhIzMzPL4pEhSddJWijppZxYJ0kPpMvOPpAO9q3ed7qk2ZJekbRfTnxHSTPSfZdVNx4ltZY0Po0/Jal3Qz5rFkn3QuAfkvaQtF66DQTuBi7KoD4zMytlocZv9bsBGFQj9mtgSkT0Baak75G0JTCMZAbFQcCVkirSMqOAEUDfdKs+53HA+xGxKfAn4PyGXFSzdy9HxFhJi4DfA1uTLHIwEzgzIiY1d31mZlbasuhejohH87Q+hwAD09djgIeB09L4zRGxFJgjaTawk6Q3gXYR8QSApLHAUGBSWuas9Fy3ApdLUkTUOadlJo8MpcnVCdbMzOoVVQUb7rNBRMwDiIh5krqm8Z7AkznHVaaxL9LXNePVZd5Oz7Vc0ofA+sC7dV1AltNAmpmZ1asp93QljZA0LWcbsQaXkC/rRx3xusrUKcsZqczMzOoVDbtHW6NMjCZ5FLUxFkjqnrZyuwML03glsGHOcb2AuWm8V554bplKSS2B9sDi+i4gs5aupD4NiZmZWXkr4IIHE4Hh6evhwF058WHpiOQ+JAOmnk67opdIGpCOWj6mRpnqcx0KTK3vfi5k29K9jdUnybgV2DHDOs3MrMRkcU9X0k0kg6Y6S6oEzgTOAyZIOg54CzgMICJmSpoAzAKWAyMjYkV6qhNIRkK3IRmrVD1e6VpgXDroajHJ6Od6ZTEN5OYkw67bSzokZ1c7chazNzMzA6i/fdiUc8b3a9m1Vy3Hnwucmyc+jeRJnJrxz0mTdmNk0dL9JnAg0AE4KCe+BPhRBvWZmVkJK+Do5aLL4jndu4C7JO1c/WyTmZlZbcop6Wb5yNDbku5Ip+FaIOk2Sb3qL2ZmZuUkovFbqcoy6V5PMrqrB8lDxHenMTMzs5WiSo3eSlWWSbdrRFwfEcvT7QagS4b1mZmZfaVlmXQXSTpKUkW6HQW8l2F9ZmZWgiLU6K1U1TqQStJfqGNKq4g4sZ5zHwtcTrL6QgD/SmNmZmYrldN6unWNXp62JieOiLeAwWtyDjMz+/qrKuGWa2PVmnQjYkxTTijp/+rYHRFxdlPOa2ZmX0+l3F3cWPU+pyupC8l6g1uSM6NURHynliKf5ImtQ7Lg7/qAk66Zma1UyqORG6shk2PcCIwHvgscTzLB86LaDo6Ii6tfS1oPOAn4IXAzcHFt5czMrDyV8nO3jdWQ0cvrR8S1wBcR8UhEHAsMqKuApE6SzgFeJEnsO0TEaRGxsK5yZmZWfsrpOd2GtHS/SH/Ok/RdkrUEa51ZStKFwCEk6xx+KyI+XuOrNDOzry0PpFrVOZLaA78E/kKyWtDJdRz/S2ApcAbwm2QJQgBEMpCqXdMv18zMvm48kCpHRNyTvvwQ2LMBx2c54YaZmX3NlNM93YaMXr6ePJNkpPd2zczM1oi7l1d1T87rtYGDSe7rmpmZrTF3L+eIiNty30u6CXgwsysyM7Oy4u7luvUFvtHcF1JT2x67ZV2FWeYe6bRzsS/B7CvP3cs5JC1h1Xu680lmqDIzM1tj7l7OERHrFeJCzMysPJVTS7fex3skTWlIzMzMzOpW13q6awNtgc6SOpJMbgHJ5Bg9CnBtZmZWBspoHFWdLd0fA88Cm6c/q7e7gCuyvzQzMysHVaFGbw0h6WRJMyW9JOkmSWunawM8IOm19GfHnONPlzRb0iuS9suJ7yhpRrrvMuVMtdhYtSbdiLg0IvoAp0TExhHRJ922jYjLm1qhmZlZrgg1equPpJ7AiUC/iNgaqACGAb8GpkREX2BK+h5JW6b7twIGAVdKqkhPNwoYQfL0Tt90f5M0ZMrGKkkdcj5IR0k/aWqFZmZmuaqasDVQS6CNpJYkt0vnAkOAMen+McDQ9PUQ4OaIWBoRc4DZwE6SugPtIuKJiAhgbE6ZRmtI0v1RRHxQ/SYi3gd+1NQKzczMcgVq9FbvOSPeAS4C3gLmAR9GxGRgg4iYlx4zD+iaFukJvJ1ziso01jN9XTPeJA1Jui1y+6/T5narplZoZmaWqyoav0kaIWlazjYi95zpvdohQB+Swb/rSDqqjsvIl8mjjniTNGRGqvuBCZKuSis6HpjU1ArNzMxyVTWg5VpTRIwmWbe9NnsDcyJiEYCk24FvAwskdY+IeWnX8cL0+Epgw5zyvUi6oytZdQ356niTNKSlexrJzeYTgJHAi0CbplZoZmaWK4vuZZJu5QGS2qa9tXsBLwMTgeHpMcNJnsghjQ+T1FpSH5IBU0+nXdBLJA1Iz3NMTplGa8iMVFWSngQ2Bo4AOgG31V3KzMysYRoxMKrBIuIpSbcCzwHLgekkLeN1SXpvjyNJzIelx8+UNAGYlR4/MiJWpKc7AbiBpME5iTXo7a1rcozNSIZPfx94DxifXli9C9mbmZk1VANbro0/b8SZwJk1wktJWr35jj8XODdPfBqwdXNcU10t3X8DjwEHRcRsSB40bo5KzczMqmXR0v2qquue7vdIVhR6SNLVkvYi/yguMzOzJsvwOd2vnLpmpLojIo4gmQbyYeBkYANJoyTtW6DrMzOzr7mMBlJ9JdU7ejkiPomIGyPiQJKh0s+TTptlZma2pqrU+K1UNeQ53ZUiYjHw13QzMzNbY015TrdUNSrpmpmZNTcv7WdmZmbNzi1dMzMrqlIejdxYTrpmZlZUVU1fE77kOOmamVlRldM9XSddMzMrKncvm5mZFUgpP3fbWE66ZmZWVH5O18zMrEB8T9fMzKxA3L1sZmZWIB5IZWZmViDuXjYzMysQdy+bmZkViLuXzczMCsRJ18zMrEDC3ctmZmaF4ZaumZlZgZRT0vUi9mZmVlTRhK0hJHWQdKukf0t6WdLOkjpJekDSa+nPjjnHny5ptqRXJO2XE99R0ox032VS09cidNI1M7Ovq0uB+yJic2Bb4GXg18CUiOgLTEnfI2lLYBiwFTAIuFJSRXqeUcAIoG+6DWrqBTnpmplZUVWp8Vt9JLUDdgeuBYiIZRHxATAEGJMeNgYYmr4eAtwcEUsjYg4wG9hJUnegXUQ8EREBjM0p02hOumZmVlRVTdgaYGNgEXC9pOmSrpG0DrBBRMwDSH92TY/vCbydU74yjfVMX9eMN4mTrpmZFVVTkq6kEZKm5Wwjapy2JbADMCoitgc+Ie1KrkW+9nPUEW8Sj142M7OiakoGi4jRwOg6DqkEKiPiqfT9rSRJd4Gk7hExL+06Xphz/IY55XsBc9N4rzzxJnFL18zMiiqLe7oRMR94W9I309BewCxgIjA8jQ0H7kpfTwSGSWotqQ/JgKmn0y7oJZIGpKOWj8kp02hu6ZqZWVFl+Jzuz4AbJbUC3gB+SNLYnCDpOOAt4DCAiJgpaQJJYl4OjIyIFel5TgBuANoAk9KtSZx0zcysqLJa2i8ingf65dm1Vy3Hnwucmyc+Ddi6Oa7JSdfMzIqqqoxW1HXSNTOzoiqnaSCddM3MrKjKp53rpGtmZkXmlq6ZmVmBNOQRoK8LJ10zMysqD6QyMzMrkPJJuU66ZmZWZL6na2ZmViDl1L3suZfNzMwKxC1dMzMrqvJp5zrpmplZkfmerpmZWYGU0z1dJ10zMyuq8km5TrpmZlZk7l42MzMrkCijtq6TrpmZFZVbumZmZgVSTgOpPDlGCbt69MW8U/kC06dPWRk7749nMGPGIzz37APccss1tG/fDoBOnTrywORbeH/xq1z653NqPWfHjh2YdO9NzJr5OJPuvYkOHdqv3HfqqT/l5VmP89JLj7LPPntk98GsLPQYcSDbP/Intnv4EjYb9XPUei16/9/RbP/YpWw39WI2v+5XVLRru0qZVj07M+D1cfQ4YTAALdq0You/nc72j13K9o/8iY1+c2St9fX82cHs8MRf2OHxS+kwcNuV8XW22ZjtHrqYHZ74C33OOTabD2t1iiZspcpJt4SNGTuBAw9c9ZfMg1MeZbvtvsMOO+7Da6+9wWmn/RSAzz//nLPOuoDTTju7znOeeupIpj70OFtutStTH3qcU08dCcAWW/TliMOHsO123+HAA4/kL5f9gRYt/PWxpmnVrRPd/2d/XtjvNJ4f+AtU0YIuQ3fhg0deZPrAk3n+O7/kszfm0evEQ1Yp1+d3P+D9qc+vEps7aiLTdzuJ5/f+Fev135wO39l+tfrabNaLLkN3YfoeJzPzv89l4/N+BOn3d5Pzf8Trp/yV53b+GW027p63vGWrimj0Vqr8W7OEPf74Uyx+/4NVYg8++CgrVqwA4KmnnqNXz+4AfPrpZ/zzX8/w+edL6zznQQftx7hxtwAwbtwtDB48aGV8/IS7WLZsGW+++Tavv/4mO/X3LydrOlVU0GLtVlDRghZtWrNs/vt88MgLsCK5w7fk2Vdp3X39lcd3GtSfpW8t4NNX3l4Zq/psGR/+cyYA8cVyPpnxxiplVpbdrz+L7vwnsWw5S99ayOdz5rPe9puyVtcOVKzbliXPvgrAwgkPs/6g/ll+bMujqglbqcrknq6kX9S1PyIuyaJeW9UPfjCMW26Z2KgyG3TtzPz5CwGYP38hXbskv8B69ujGU08/t/K4d96ZR4+e3ZrvYq2sLJu/mHdGTaTfs6Oo+nwZHzz8YpJwc2zw/e/w7l3/BKBF29b0/OlQZh5+Nj1/MjjvOSvataXTvv2Ye/U/VtvXununlYkVYNm892jVvROxfAXL5r2XE19MqzxJ27JVTqOXs2rprpdu/YATgJ7pdjywZUZ1Wo5f//pEli9fzt//fnuznE/SarGI8vmHYs2rov06dBrUn2k7jeSZbUfQom1runxvt5X7e510CLF8BYtuewyAb/zqCOaOvoeqTz+v5YQt+OZVJzP3mntZ+tbC1ffn+f4SAXnC+HtdcG7prqGI+B2ApMnADhGxJH1/FnBLbeUkjQBGALSoaE+LFutkcXlfe0cffRjfPWBv9t3v8EaXXbDwXbp168r8+Qvp1q0rCxclrYDKd+bRq1ePlcf17NmdeXMXNNs1W3npsPs2LH1rIcvf+wiA9+59ivX6f5NFtz1Gl8P3oOM+OzLzsN+tPH7d7fuy/oED6P3bo2nZbh2iqoqqpcuYf919AGx60fF89sY85uVp5QIsnfserXp0Xvm+Vff1WTb//SSe07Jt1b0Ty+YvzuIjWx2ybOlKqgCmAe9ExIGSOgHjgd7Am8DhEfF+euzpwHHACuDEiLg/je8I3AC0Ae4FToomtjqyvqf7DWBZzvtlJB80r4gYHRH9IqKfE27T7LvvQE455SccfMgP+OyzWloFdbjn7skcffRhQJK87777/iR+z2SOOHwIrVq1onfvDdl00z48/cz0Zr12Kx9LK99lvR03o0WbVgB02O1bfPbaO3TYczt6/XQoLw8/n6rPvvzV8dLQ3/Js/5/wbP+fMPfqf1B52R0rE+43ThtGxXptmfPb62utb/HkZ+gydBfUqiWtv9GVNht3Z8n02Xyx8ANWfPIZ6+7QF4Cuhw9k8f3PZPjJLZ+MW7onAS/nvP81MCUi+gJT0vdI2hIYBmwFDAKuTBM2wCiSBmHfdBvUuEv4UtbP6Y4DnpZ0B8ko74OBsRnXWTbGjbuCPXbfmc6dOzHnjWn8/vcXceqpP6V169bcN+lmIBlMNfKnvwbgtVefpF27dWnVqhWDBw/igO9+n5dffo2/XnUho0eP49nnXuSCC6/gpr9fxQ9/8H3efvsdhn3/xwDMmvUqt9x6Ny++8BDLV6zgxJN+Q1VVKXfyWDF9PP013r3nCbadfCGxYgWfzJjD/HEPsP0jf6JFq7XYavxvk+OefY3XTxtd63lade/EhicfyqevVrLtAxcAMP+6+1jw9yl02rcf6263CW9dMJ7PXqnk3Yn/YvtH/wzLV/D66ddA+v1947Sr2fTSkbRYuxUfTJ3O+1P8x2ShVWXUpS+pF/Bd4FygeqzREGBg+noM8DBwWhq/OSKWAnMkzQZ2kvQm0C4inkjPORYYCkxq0jVlfV9O0g5A9c2aRyOiQd/otVr19I0VK3kPd9q52Jdg1ix2mX9rvjvgzeLojQ5p9O/7cf+5vd7rkXQr8EeSMUanpN3LH0REh5xj3o+IjpIuB56MiL+l8WtJEuubwHkRsXca3w04LSIObOw1Q2EeGWoLfBQRlwKVkvoUoE4zMysRTZkcQ9IISdNythG555R0ILAwIp5t4GXkHVZXR7xJMu1elnQmyQjmbwLXA2sBfwN2ybJeMzMrHU2Z7CIiRgO133tI8sxgSQcAawPtJP0NWCCpe0TMk9QdqB7uXglsmFO+FzA3jffKE2+SrFu6BwODgU8AImIuSTPfzMwMSEYvN/Z/9Z4z4vSI6BURvUkGSE2NiKOAicDw9LDhwF3p64nAMEmt0x7ZvsDTETEPWCJpgJJnJ4/JKdNoWQ+kWhYRISkAJHlIspmZraLAQzLPAyZIOg54CzgMICJmSpoAzAKWAyMjYkVa5gS+fGRoEk0cRAXZJ90Jkv4KdJD0I+BY4OqM6zQzsxKS9VzKEfEwyShlIuI9YK9ajjuXZKRzzfg0YOvmuJZMk25EXCRpH+Ajkvu6/xcRD2RZp5mZlZZymgYy8/V00yTrRGtmZnmV0xP/WS14sIT8Q6oFRES0y6JeMzMrPeU0j3tWcy97hLKZmTVIKa+P21iZT44haVdJP0xfd/bkGGZmlsurDDWTPJNjtMKTY5iZWQ4PpGo+BwPbA89BMjmGJHc9m5nZSuXUvezJMczMrKjKaSBV1vd0a06O8SCeHMPMzHL4nm4z8eQYZmZWH9/TbSbpSOXHqhOtpDaSekfEm1nWa2ZmpaOc7ulm3b18C6v2BKxIY2ZmZmUn64FULSNiWfWbiFgmqVXGdZqZWQnxQKrms0jS4Oo3koYA72Zcp5mZlZAqotFbqcq6pXs8cKOky0nmXX6bZAFgMzMzwAOpmk1EvA4MkLQuoIhYkmV9ZmZWeqrKqHs569HLrYHvAb2BlpIAiIjfZ1mvmZmVjvJJudl3L98FfAg8CyzNuC4zMytBpXyPtrGyTrq9ImJQxnWYmVkJK6ekm/Xo5X9J+lbGdZiZWQmLiEZvpSrrlu6uwA8kzSHpXhYQEbFNxvWamVmJKKeWbtZJd/+Mz29mZiXOjww1k4j4D4CkrsDaWdZlZmalqZS7ixsr03u6kgZLeg2YAzwCvAlMyrJOMzMrLVnMSCVpQ0kPSXpZ0kxJJ6XxTpIekPRa+rNjTpnTJc2W9Iqk/XLiO0qake67TNXPvzZB1gOpzgYGAK9GRB9gL+CfGddpZmYlJKOBVMuBX0bEFiR5aKSkLYFfA1Mioi8wJX1Pum8YsBUwCLhSUkV6rlHACKBvujX5qZysk+4XEfEe0EJSi4h4CNgu4zrNzKyEZNHSjYh5EfFc+noJ8DLQExgCjEkPGwMMTV8PAW6OiKURMQeYDewkqTvQLiKeiCTbj80p02hZD6T6IJ0C8lGSOZgXkvz1YWZmBmQ/kEpSb2B74Clgg4iYB0liTsccQZKQn8wpVpnGvkhf14w3SSZJV9KmwAYkfzl8BpwMHAlsBPwsizrNzKw0NWXuZUkjSLp8q42OiNF5jlsXuA34eUR8VMft2Hw7oo54k2TVvfxnYElEfBIRVRGxPCLGAPcCZ2VUp5mZlYmIGB0R/XK2fAl3LZKEe2NE3J6GF6RdxqQ/F6bxSmDDnOK9gLlpvFeeeJNklXR7R8SLNYMRMY1k8QMzMzMg6V5u7P/qk44wvhZ4OSIuydk1ERievh5OskZAdXyYpNaS+pAMmHo67YpeImlAes5jcso0Wlb3dOt6JrdNRnWamVkJymhpv12Ao4EZkp5PY/8LnAdMkHQc8BZwGEBEzJQ0AZhFMvZoZESsSMudANxAkr8msQaPvmaVdJ+R9KOIuDo3mH7IZzOq08zMSlAWA6ki4nHy34+F5PHVfGXOBc7NE58GbN0c15VV0v05cIekI/kyyfYDWgEHZ1SnmZmVIC9iv4YiYgHwbUl78uVfB/+IiKlZ1GdmZqXLcy83k3QyjIeyrMPMzEqbW7pmZmYF4paumZlZgURUFfsSCsZJ18zMisqL2JuZmRVIOa2n66RrZmZF5ZaumZlZgbila2ZmViB+ZMjMzKxA/MiQmZlZgbh72czMrEA8kMrMzKxAyqmlm9Ui9mZmZlaDW7pmZlZUHr1sZmZWIOXUveyka2ZmReWBVGZmZgXilq6ZmVmB+J6umZlZgXhGKjMzswJxS9fMzKxAfE/XzMysQNy9bGZmViBu6ZqZmRWIk66ZmVmBlE/KBZXTXxi2KkkjImJ0sa/DbE35u2ylwqsMlbcRxb4As2bi77KVBCddMzOzAnHSNTMzKxAn3fLme2D2deHvspUED6QyMzMrELd0zczMCsRJt4gkhaSLc96fIumsesoMlbRlHfuPkfSSpJmSZkk6pRkvua7rOquxdUn6OKvrsa8mSd0k3Szp9fT7ea+kzQpQb6O+a035Pps1hJNucS0FDpHUuRFlhgJ5k66k/YGfA/tGxFbADsCHa3iNZs1CkoA7gIcjYpOI2BL4X2CD4l6ZWeE46RbXcpIBICfX3CFpI0lTJL2Y/vyGpG8Dg4ELJT0vaZMaxU4HTomIuQAR8XlEXJ2e70eSnpH0gqTbJLVN4zdIukzSvyS9IenQnGs4VdKMtMx5aWwTSfdJelbSY5I2z3PteY+R1EfSE+l1nN0c/wGtpOwJfBERV1UHIuJ5YHr6HX8u/b4NAZDUW9LLkq5Oe24mS2qT7ttU0oPpd/O56n8Lkn6Vfr9elPS7fBdR2zGSfiPpFUkPAt/M7j+DlbWI8FakDfgYaAe8CbQHTgHOSvfdDQxPXx8L3Jm+vgE4tJbzLQba17Jv/ZzX5wA/yznfLSR/gG0JzE7j+wP/Atqm7zulP6cAfdPX/wVMTV+fRZLw6zpmInBM+nok8HGx/z/wVrgNOBH4U554S6Bd+rozMBsQ0JvkD9Pt0n0TgKPS108BB6ev1wbaAvuS/BGr9Pt8D7B7eszH6c+8xwA7AjPS87RLr+GUYv838/b12zz3cpFFxEeSxpL8QvosZ9fOwCHp63HABWtY1daSzgE6AOsC9+fsuzMiqoBZkqq7+vYGro+IT9PrXCxpXeDbwC1JTyEArXMrqeeYXYDv5Xym89fwM9nXg4A/SNodqAJ68mWX85xIWsMAzwK9Ja0H9IyIOyDp0QGQtC9JUp2eHr8u0Bd4NKeu2o5ZD7ij+vsuaWIzf0YzwAsefFX8GXgOuL6OYxrybNdMkr/Yp+bZdwMwNCJekPQDYGDOvqU5r5Xzs2adLYAPImK7Oq6hvmP8jFr5mgkcmid+JNAF2DEivpD0JknrFVb9bq4A2vDld7QmAX+MiL/WcQ15j5H0c/zdtALwPd2vgIhYTNJ1dlxO+F/AsPT1kcDj6eslJH+V5/NH4AJJ3QAktZZ0YrpvPWCepLXS89VnMnBszr3fThHxETBH0mFpTJK2rfFZ6jrmnzU+k5WXqUBrST+qDkjqD2wELEwT7p7p+1ql37FKSUPTc7ROv6f3k3xn103jPSV1rVG8tmMeBQ6W1CZtSR/UDJ/XbDVOul8dF5Pcz6p2IvBDSS8CRwMnpfGbgV9Jml5zIFVE3AtcATwoaSZJd1x1b8ZvSe6DPQD8u76LiYj7SO7BTpP0PMn9ZkiS5XGSXiBpuQzJU7y2Y04CRkp6huQetpWRiAjgYGAfJY8MzSQZC3Av0E/SNJLvTr3fT5J/Eyem/z7+BXSLiMnA34EnJM0AbqXGH6i1HRMRzwHjgeeB24DH1vDjmuXlGanMzMwKxC1dMzOzAnHSNTMzKxAnXTMzswJx0jUzMysQJ10zM7MCcdI1AyStSOezfknSLdXPJzfxXDdUz2Et6RrVvSrUQCVzaje2jjfVuIUyzOwrwEnXLPFZRGwXEVsDy4Djc3dKqmjKSSPifyJiVh2HDCSZNtPMyoCTrtnqHgM2TVuhD0n6OzBDUoWkC3NWqPkxrJx163Il68P+A1g5C5KkhyX1S18PSlfEeSFdVac3SXI/OW1l7yapi5JVoJ5Jt13Ssuunq+xMl/RXap8K0cy+wjz3slkOSS1JVli6Lw3tBGwdEXMkjQA+jIj+kloD/5Q0GdieZCm4b5FM1D8LuK7GebsAV5OsejMnnVZzsaSrSFbAuSg97u8kK/E8LukbJNMWbgGcCTweEb+X9F1gRKb/IcwsE066Zok26XSXkLR0ryXp9n06Iuak8X2BbfTlmsPtSVao2R24KSJWAHMl5VtwYgDwaPW50vm289kb2DJnhaZ26VzAu5OuOhUR/5D0ftM+ppkVk5OuWeKzmisjpYnvk9wQyTrE99c47gDqX6Em36pN+bQAdo6I3GUeq6/Fc7aalTjf0zVruPuBE9KVmpC0maR1SFaoGZbe8+0O7Jmn7BPAHpL6pGU7pfGaq0ZNBn5a/UbSdunLR0lXZpK0P9CxuT6UmRWOk65Zw11Dcr/2OUkvAX8l6S26A3gNmAGMAh6pWTAiFpHch709XX1pfLrrbpIl5Z6XtBvJ6lL90oFas/hyFPXvgN0lPUfSzf1WRp/RzDLkVYbMzMwKxC1dMzOzAnHSNTMzKxAnXTMzswJx0jUzMysQJ10zM7MCcdI1MzMrECddMzOzAnHSNTMzK5D/B5eFNt7K3WcRAAAAAElFTkSuQmCC\n",
      "text/plain": [
       "<Figure size 576x360 with 2 Axes>"
      ]
     },
     "metadata": {
      "needs_background": "light"
     },
     "output_type": "display_data"
    }
   ],
   "source": [
    "#Make predictions on the scaled training data and check the performance (using metrics_score function)\n",
    "\n",
    "y_pred_train_knn_estimator = knn_estimator.predict(X_train_scaled)\n",
    "metrics_score(y_train, y_pred_train_knn_estimator)\n"
   ]
  },
  {
   "cell_type": "code",
   "execution_count": 94,
   "id": "35110c51",
   "metadata": {},
   "outputs": [
    {
     "name": "stdout",
     "output_type": "stream",
     "text": [
      "              precision    recall  f1-score   support\n",
      "\n",
      "           0       0.90      0.92      0.91      7361\n",
      "           1       0.82      0.78      0.80      3522\n",
      "\n",
      "    accuracy                           0.87     10883\n",
      "   macro avg       0.86      0.85      0.85     10883\n",
      "weighted avg       0.87      0.87      0.87     10883\n",
      "\n"
     ]
    },
    {
     "data": {
      "image/png": "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\n",
      "text/plain": [
       "<Figure size 576x360 with 2 Axes>"
      ]
     },
     "metadata": {
      "needs_background": "light"
     },
     "output_type": "display_data"
    }
   ],
   "source": [
    "#Make predictions on the scaled testing data and check the performance (using metrics_score function)\n",
    "y_pred_test_knn_estimator = knn_estimator.predict(X_test_scaled)\n",
    "metrics_score(y_test, y_pred_test_knn_estimator)"
   ]
  },
  {
   "cell_type": "markdown",
   "id": "6cc71440",
   "metadata": {},
   "source": [
    "**Observations:\n",
    "\n",
    "1. This model seems to be overfitting but the results have significantly improved in comparison to previous models.\n",
    "2. Test recall and precision have greatly increased by tuning the KNN classifier.\n",
    "3. This appears to be a high-performing model that the hotel can use to help predict the cancelations. There is about an 78% chance that the model will detect a booking which is likely to be canceled, and the hotel can formulate profitable policies for cancellations and refunds\n",
    "\n",
    "**"
   ]
  },
  {
   "cell_type": "markdown",
   "id": "d158b451",
   "metadata": {},
   "source": [
    "#### Question 10: Write the conclusion on the key factors that are driving the approval of loan and write your recommendations to the business on how can they minimize the number of cancellations. \n",
    "\n",
    "\n",
    "\n",
    "(5 Marks)"
   ]
  },
  {
   "cell_type": "markdown",
   "id": "7cfc801d",
   "metadata": {},
   "source": [
    "### Conclusion:\n",
    "\n",
    "Our interpretative logistic regression model revealed that market segment and type of meal plan are the two features influencing cancellation prediction the most. Our analysis also pointed at the importance of lead time, number of special requests, and room type."
   ]
  },
  {
   "cell_type": "markdown",
   "id": "0a6cbefb",
   "metadata": {
    "id": "virgin-polls"
   },
   "source": [
    "### Recommendations:\n",
    "\n",
    "1. Restrict online booking to Non-refundable and Offer credit for Corporate bookings and charge % penalty for cancellation. \n",
    "2. Offer Room upgrade to build repeat and loyal customers since the cancellation among them is very less. \n",
    "3. Offer an additional day stay for free or as a package to delight customer\n",
    "4. Hotels can take into account the total number of special requests to reduce the possibility of cancellations. They can do so by improving their customer service, such as being able to cater to most of the customers’ special requests.\n",
    "5. Looking into the lead time can help to reduce hotel cancellations. Hotels can consider changing their cancellation conditions, through setting a maximum advance booking restriction. For instance, guests can only book rooms at most 2 months in advance, hence reducing high lead times and a reduction in the number of cancellations. However, it is important to note that setting such restrictions could have possible negative consequences on the hotel’s sales and bottom line.\n"
   ]
  }
 ],
 "metadata": {
  "colab": {
   "name": "Solution Notebook - Project_SLC_DSBA_StarHotels.ipynb",
   "provenance": []
  },
  "kernelspec": {
   "display_name": "Python 3",
   "language": "python",
   "name": "python3"
  },
  "language_info": {
   "codemirror_mode": {
    "name": "ipython",
    "version": 3
   },
   "file_extension": ".py",
   "mimetype": "text/x-python",
   "name": "python",
   "nbconvert_exporter": "python",
   "pygments_lexer": "ipython3",
   "version": "3.8.8"
  }
 },
 "nbformat": 4,
 "nbformat_minor": 5
}
